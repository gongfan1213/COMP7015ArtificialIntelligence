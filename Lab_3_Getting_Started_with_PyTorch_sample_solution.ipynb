{
  "cells": [
    {
      "cell_type": "markdown",
      "metadata": {
        "id": "LKBHdr0CHLsQ"
      },
      "source": [
        "# COMP7015: Artificial Intelligence *(Semester 1, 2024/25)*\n",
        "\n",
        "# Lab 3: Getting Started with PyTorch\n",
        "\n",
        "In this lab session, we will learn the basic usage of PyTorch, including the basic data structure, operations, autograd, dataset usage, and how to train and evaluate a neural network.\n",
        "\n",
        "\n",
        "**Course Instructor: Dr. Kejing Yin (Department of Computer Science, Hong Kong Baptist University)**  \n",
        "**Lab Instructor: Mr. Kenny Cheng (Department of Computer Science, Hong Kong Baptist University)**\n",
        "\n",
        "*This lab sheet is prepared mainly by Mr. Zhenheng Tang and reviewed by Dr. Kejing Yin*\n",
        "\n",
        "*This work is licenced under MIT license.*\n",
        "\n",
        "> MIT License\n",
        ">\n",
        "> Copyright (c) 2024 Kejing Yin\n",
        ">\n",
        "> Permission is hereby granted, free of charge, to any person obtaining a copy\n",
        "> of this software and associated documentation files (the \"Software\"), to deal\n",
        "> in the Software without restriction, including without limitation the rights\n",
        "> to use, copy, modify, merge, publish, distribute, sublicense, and/or sell\n",
        "> copies of the Software, and to permit persons to whom the Software is\n",
        "> furnished to do so, subject to the following conditions:\n",
        ">\n",
        "> The above copyright notice and this permission notice shall be included in all\n",
        "> copies or substantial portions of the Software.\n",
        ">\n",
        "> THE SOFTWARE IS PROVIDED \"AS IS\", WITHOUT WARRANTY OF ANY KIND, EXPRESS OR\n",
        "> IMPLIED, INCLUDING BUT NOT LIMITED TO THE WARRANTIES OF MERCHANTABILITY,\n",
        "> FITNESS FOR A PARTICULAR PURPOSE AND NONINFRINGEMENT. IN NO EVENT SHALL THE\n",
        "> AUTHORS OR COPYRIGHT HOLDERS BE LIABLE FOR ANY CLAIM, DAMAGES OR OTHER\n",
        "> LIABILITY, WHETHER IN AN ACTION OF CONTRACT, TORT OR OTHERWISE, ARISING FROM,\n",
        "> OUT OF OR IN CONNECTION WITH THE SOFTWARE OR THE USE OR OTHER DEALINGS IN THE\n",
        "> SOFTWARE.\n",
        "\n",
        "\n",
        "### Contents\n",
        " - Pytorch installation\n",
        " - Pytorch Basics: Tensors\n",
        " - Pytorch Basics: Operations\n",
        " - Pytorch Basics: Autograd\n",
        " - Pytorch Basics: Loading Data\n",
        " - Implement a neural network\n",
        " - Train a neural network\n",
        " - Exercises"
      ]
    },
    {
      "cell_type": "markdown",
      "metadata": {
        "id": "rMeT2UvhHLsR"
      },
      "source": [
        "# 1. Pytorch installation\n",
        "\n",
        "Go to [pytorch.org](https://pytorch.org/), click `Get Started`. Choose the version based on your platform and hardware.\n",
        "\n",
        "<div>\n",
        "    <img width=\"70%\" src=\"images/pytorch_install.png\"/>\n",
        "</div>\n",
        "\n",
        "\n",
        "\n",
        "\n",
        "You can go to the documents of Pytroch for learning and searching to use https://pytorch.org/docs/stable/index.html.\n",
        "Remember to select the Pytorch version that you are using.\n",
        "![image.png](attachment:image.png)"
      ]
    },
    {
      "cell_type": "markdown",
      "metadata": {
        "id": "eu10uihjHLsS"
      },
      "source": [
        "# 2. Basics Data Structure in PyTorch: Tensors"
      ]
    },
    {
      "cell_type": "markdown",
      "metadata": {
        "id": "j0pr8ek1HLsS"
      },
      "source": [
        "## 2.1 Define a tensor"
      ]
    },
    {
      "cell_type": "markdown",
      "metadata": {
        "id": "aJbXC3lGHLsS"
      },
      "source": [
        "A tensor is an algebraic object that describes a multilinear relationship between sets of algebraic objects related to a vector space. For example,\n",
        "\n",
        "```\n",
        "a = [-1.3898, -0.8810,  0.9381]\n",
        "```\n",
        "is a 1-dimension tensor.\n",
        "\n",
        "```\n",
        "b = [[ 0.4409,  0.0908,  0.3443],\n",
        "    [-2.5567,  0.5856,  0.6679],\n",
        "    [-0.3731, -1.5730, -0.3018]]\n",
        "```\n",
        "is a 2-dimension tensor.\n",
        "\n",
        "```\n",
        "c = [[[ 0.1598,  1.0833,  0.1790],\n",
        "     [-0.5615,  0.5017,  0.3886],\n",
        "     [-0.9337, -1.1095,  3.0006]],\n",
        "\n",
        "    [[ 0.6942,  2.0206,  0.3768],\n",
        "     [-1.6273,  0.3848, -0.8278],\n",
        "     [-0.0416, -0.0681,  1.1566]],\n",
        "\n",
        "    [[ 1.0659,  0.8645, -1.6157],\n",
        "     [-2.2146, -0.0929, -0.8264],\n",
        "     [-0.4171,  0.2408, -0.7310]]]\n",
        "```\n",
        "is a 3-dimension tensor.\n",
        "\n"
      ]
    },
    {
      "cell_type": "markdown",
      "metadata": {
        "id": "3vexI_bdHLsS"
      },
      "source": [
        "Let's look an example:\n",
        "\n",
        "Firtly, we should import pytorch into our environment."
      ]
    },
    {
      "cell_type": "code",
      "execution_count": 1,
      "metadata": {
        "id": "OtfzYCI2HLsS"
      },
      "outputs": [],
      "source": [
        "import numpy as np\n",
        "import torch"
      ]
    },
    {
      "cell_type": "code",
      "execution_count": 2,
      "metadata": {
        "id": "4vgByP_SHLsT"
      },
      "outputs": [],
      "source": [
        "a = torch.tensor([-1.3898, -0.8810,  0.9381])\n",
        "\n",
        "b = torch.tensor([[ 0.4409,  0.0908,  0.3443],\n",
        "                  [-2.5567,  0.5856,  0.6679],\n",
        "                  [-0.3731, -1.5730, -0.3018]])\n",
        "\n",
        "c = torch.tensor([[[ 0.1598,  1.0833,  0.1790],\n",
        "                   [-0.5615,  0.5017,  0.3886],\n",
        "                   [-0.9337, -1.1095,  3.0006]],\n",
        "\n",
        "                  [[ 0.6942,  2.0206,  0.3768],\n",
        "                   [-1.6273,  0.3848, -0.8278],\n",
        "                   [-0.0416, -0.0681,  1.1566]],\n",
        "\n",
        "                  [[ 1.0659,  0.8645, -1.6157],\n",
        "                   [-2.2146, -0.0929, -0.8264],\n",
        "                   [-0.4171,  0.2408, -0.7310]]])"
      ]
    },
    {
      "cell_type": "markdown",
      "metadata": {
        "id": "r900ZPFvHLsT"
      },
      "source": [
        "## 2.2 Size/shape of a tensor"
      ]
    },
    {
      "cell_type": "markdown",
      "metadata": {
        "id": "iP06q42sHLsT"
      },
      "source": [
        "We can check dimentions of these tensors by:"
      ]
    },
    {
      "cell_type": "code",
      "execution_count": 3,
      "metadata": {
        "colab": {
          "base_uri": "https://localhost:8080/"
        },
        "id": "CZ5i5nUVHLsT",
        "outputId": "dbf2cb40-72ed-44dc-dfbf-6f2d955d683e"
      },
      "outputs": [
        {
          "output_type": "stream",
          "name": "stdout",
          "text": [
            "1 2 3\n"
          ]
        }
      ],
      "source": [
        "print(a.dim(), b.dim(), c.dim())"
      ]
    },
    {
      "cell_type": "markdown",
      "metadata": {
        "id": "U-9eCZG1HLsU"
      },
      "source": [
        "We can check the shapes of these tensors by:"
      ]
    },
    {
      "cell_type": "code",
      "execution_count": 4,
      "metadata": {
        "colab": {
          "base_uri": "https://localhost:8080/"
        },
        "id": "dE-LBZRhHLsU",
        "outputId": "a1d88797-64db-4317-b7d8-57bc3b328536"
      },
      "outputs": [
        {
          "output_type": "stream",
          "name": "stdout",
          "text": [
            "torch.Size([3]) torch.Size([3, 3]) torch.Size([3, 3, 3])\n"
          ]
        }
      ],
      "source": [
        "print(a.shape, b.shape, c.shape)"
      ]
    },
    {
      "cell_type": "markdown",
      "metadata": {
        "id": "SQjPt-kvHLsX"
      },
      "source": [
        "## 2.3 Device"
      ]
    },
    {
      "cell_type": "markdown",
      "metadata": {
        "id": "tQTAixcuHLsX"
      },
      "source": [
        "Tensors may be stored in CPU memory or GPU memory.\n",
        "\n",
        "You can check and move tensors by following codes:"
      ]
    },
    {
      "cell_type": "code",
      "execution_count": 5,
      "metadata": {
        "colab": {
          "base_uri": "https://localhost:8080/"
        },
        "id": "gJcxMTB-HLsX",
        "outputId": "e8a70dd5-c344-4775-c4e1-3434f926e4b8"
      },
      "outputs": [
        {
          "output_type": "execute_result",
          "data": {
            "text/plain": [
              "device(type='cpu')"
            ]
          },
          "metadata": {},
          "execution_count": 5
        }
      ],
      "source": [
        "a.device"
      ]
    },
    {
      "cell_type": "markdown",
      "metadata": {
        "id": "v5NMS93cHLsX"
      },
      "source": [
        "Now, we can see tensor ```a``` is stored in CPU memory. **This will work only if you have the CUDA version of pytorch installed.**\n",
        "\n",
        "Let's move it into GPU memory:"
      ]
    },
    {
      "cell_type": "code",
      "execution_count": 6,
      "metadata": {
        "id": "pHGqOnUcHLsX"
      },
      "outputs": [],
      "source": [
        "a = a.to(\"cuda:0\")"
      ]
    },
    {
      "cell_type": "code",
      "execution_count": 7,
      "metadata": {
        "colab": {
          "base_uri": "https://localhost:8080/"
        },
        "id": "qmAdtRP3HLsX",
        "outputId": "ba8dbec6-cb01-4a5d-beda-8a777a7c6f0e"
      },
      "outputs": [
        {
          "output_type": "execute_result",
          "data": {
            "text/plain": [
              "device(type='cuda', index=0)"
            ]
          },
          "metadata": {},
          "execution_count": 7
        }
      ],
      "source": [
        "a.device"
      ]
    },
    {
      "cell_type": "markdown",
      "metadata": {
        "id": "vihQnmZjHLsX"
      },
      "source": [
        "The data in a tensor may have different data types, like the different data types of python and numpy.\n",
        "We can check data type of tensors by:"
      ]
    },
    {
      "cell_type": "code",
      "execution_count": 8,
      "metadata": {
        "colab": {
          "base_uri": "https://localhost:8080/",
          "height": 35
        },
        "id": "tzuT8GO1HLsX",
        "outputId": "37b2f124-d156-42a9-e81f-a5aacf4a8aed"
      },
      "outputs": [
        {
          "output_type": "execute_result",
          "data": {
            "text/plain": [
              "'torch.cuda.FloatTensor'"
            ],
            "application/vnd.google.colaboratory.intrinsic+json": {
              "type": "string"
            }
          },
          "metadata": {},
          "execution_count": 8
        }
      ],
      "source": [
        "a.type()"
      ]
    },
    {
      "cell_type": "markdown",
      "metadata": {
        "id": "WgfVyw7SHLsX"
      },
      "source": [
        "## 2.4 Type of a tensor"
      ]
    },
    {
      "cell_type": "markdown",
      "metadata": {
        "id": "VctbEa52HLsX"
      },
      "source": [
        "https://pytorch.org/docs/stable/tensors.html"
      ]
    },
    {
      "cell_type": "markdown",
      "metadata": {
        "id": "0GfkuE8qHLsX"
      },
      "source": [
        "Now, we change the datatype of a :"
      ]
    },
    {
      "cell_type": "code",
      "execution_count": 9,
      "metadata": {
        "colab": {
          "base_uri": "https://localhost:8080/"
        },
        "id": "ckuJYXITHLsX",
        "outputId": "972c0447-ff77-4144-f80c-a0e4d5f6526a"
      },
      "outputs": [
        {
          "output_type": "stream",
          "name": "stdout",
          "text": [
            "torch.cuda.LongTensor\n"
          ]
        }
      ],
      "source": [
        "a = a.long()\n",
        "print(a.type())"
      ]
    },
    {
      "cell_type": "code",
      "execution_count": 10,
      "metadata": {
        "colab": {
          "base_uri": "https://localhost:8080/"
        },
        "id": "NmrQVCEWHLsX",
        "outputId": "6b3eb330-7e4c-49d8-a934-24dab0a841b6"
      },
      "outputs": [
        {
          "output_type": "stream",
          "name": "stdout",
          "text": [
            "torch.cuda.HalfTensor\n"
          ]
        }
      ],
      "source": [
        "a = a.half()\n",
        "print(a.type())"
      ]
    },
    {
      "cell_type": "code",
      "execution_count": 11,
      "metadata": {
        "colab": {
          "base_uri": "https://localhost:8080/"
        },
        "id": "KIbIWVLLHLsX",
        "outputId": "4c89f9db-929e-4daa-d884-0a38d9771336"
      },
      "outputs": [
        {
          "output_type": "stream",
          "name": "stdout",
          "text": [
            "torch.cuda.IntTensor\n"
          ]
        }
      ],
      "source": [
        "a = a.int()\n",
        "print(a.type())"
      ]
    },
    {
      "cell_type": "code",
      "execution_count": 12,
      "metadata": {
        "colab": {
          "base_uri": "https://localhost:8080/"
        },
        "id": "BP6pd331HLsY",
        "outputId": "177014c2-34e8-4ef2-a303-5adfeda7c208"
      },
      "outputs": [
        {
          "output_type": "stream",
          "name": "stdout",
          "text": [
            "torch.cuda.ShortTensor\n"
          ]
        }
      ],
      "source": [
        "a = a.short()\n",
        "print(a.type())"
      ]
    },
    {
      "cell_type": "code",
      "execution_count": 13,
      "metadata": {
        "colab": {
          "base_uri": "https://localhost:8080/"
        },
        "id": "D0DBFUrbHLsY",
        "outputId": "338e6fbb-20a0-4b43-e1d4-0f662c4f444a"
      },
      "outputs": [
        {
          "output_type": "stream",
          "name": "stdout",
          "text": [
            "torch.cuda.DoubleTensor\n"
          ]
        }
      ],
      "source": [
        "a = a.double()\n",
        "print(a.type())"
      ]
    },
    {
      "cell_type": "markdown",
      "metadata": {
        "id": "9_it3vbdHLsY"
      },
      "source": [
        "You need to take care of data types. The inconsistent data type may cause error when training neural networks."
      ]
    },
    {
      "cell_type": "markdown",
      "metadata": {
        "id": "ormGnfBdHLsY"
      },
      "source": [
        "There are a few handy functions to generate random tensors / tensors with constant values."
      ]
    },
    {
      "cell_type": "code",
      "execution_count": 14,
      "metadata": {
        "colab": {
          "base_uri": "https://localhost:8080/"
        },
        "id": "OfIvotf6HLsY",
        "outputId": "423790c6-4f1a-4681-ffde-ff308588a2ab"
      },
      "outputs": [
        {
          "output_type": "stream",
          "name": "stdout",
          "text": [
            "tensor([[[-0.8319,  0.0593,  0.2909],\n",
            "         [ 0.2267, -1.8111,  0.5026],\n",
            "         [-2.0015,  1.3053,  1.0075]],\n",
            "\n",
            "        [[ 0.2905,  0.8590,  0.5774],\n",
            "         [-1.0151,  1.1284, -0.1816],\n",
            "         [-0.8843,  1.1338, -1.5419]],\n",
            "\n",
            "        [[-0.0125, -1.4786, -0.8912],\n",
            "         [-1.3708,  0.2389,  0.6448],\n",
            "         [ 1.1406, -1.1185,  1.0439]]])\n"
          ]
        }
      ],
      "source": [
        "a = torch.randn([3,3, 3])\n",
        "print(a)"
      ]
    },
    {
      "cell_type": "code",
      "execution_count": 15,
      "metadata": {
        "colab": {
          "base_uri": "https://localhost:8080/"
        },
        "id": "HduiM93xHLsY",
        "outputId": "bc3662a3-a39b-4041-ca55-22128dd7865f"
      },
      "outputs": [
        {
          "output_type": "stream",
          "name": "stdout",
          "text": [
            "tensor([[[1., 1., 1.],\n",
            "         [1., 1., 1.],\n",
            "         [1., 1., 1.]],\n",
            "\n",
            "        [[1., 1., 1.],\n",
            "         [1., 1., 1.],\n",
            "         [1., 1., 1.]],\n",
            "\n",
            "        [[1., 1., 1.],\n",
            "         [1., 1., 1.],\n",
            "         [1., 1., 1.]]])\n"
          ]
        }
      ],
      "source": [
        "a = torch.ones([3,3, 3])\n",
        "print(a)"
      ]
    },
    {
      "cell_type": "code",
      "execution_count": 16,
      "metadata": {
        "colab": {
          "base_uri": "https://localhost:8080/"
        },
        "id": "WbPk1-92HLsY",
        "outputId": "83871ae5-3a76-4e8f-b5d6-767016f3a9bd"
      },
      "outputs": [
        {
          "output_type": "stream",
          "name": "stdout",
          "text": [
            "tensor([[[0., 0., 0.],\n",
            "         [0., 0., 0.],\n",
            "         [0., 0., 0.]],\n",
            "\n",
            "        [[0., 0., 0.],\n",
            "         [0., 0., 0.],\n",
            "         [0., 0., 0.]],\n",
            "\n",
            "        [[0., 0., 0.],\n",
            "         [0., 0., 0.],\n",
            "         [0., 0., 0.]]])\n"
          ]
        }
      ],
      "source": [
        "a = torch.zeros([3,3, 3])\n",
        "print(a)"
      ]
    },
    {
      "cell_type": "markdown",
      "metadata": {
        "id": "rQgO_eJ_HLsY"
      },
      "source": [
        "## 2.5 Basic Operations in PyTorch\n",
        "\n",
        "Pytorch supports using the normal math calculations of python, including\n",
        "```\n",
        "+, -, *, /, %, **\n",
        "```\n"
      ]
    },
    {
      "cell_type": "code",
      "execution_count": 17,
      "metadata": {
        "id": "AMTCNjAjHLsY"
      },
      "outputs": [],
      "source": [
        "# https://pytorch.org/docs/stable/generated/torch.rand.html\n",
        "# Returns a tensor filled with random numbers from a uniform distribution on the interval [0, 1)\n",
        "a = torch.rand(3)"
      ]
    },
    {
      "cell_type": "code",
      "execution_count": 18,
      "metadata": {
        "colab": {
          "base_uri": "https://localhost:8080/"
        },
        "id": "Ax2M3m-6HLsY",
        "outputId": "3c198673-185a-428b-8e51-44196847839d"
      },
      "outputs": [
        {
          "output_type": "stream",
          "name": "stdout",
          "text": [
            "tensor([0.4660, 0.3507, 0.0124])\n",
            "tensor([1.4660, 1.3507, 1.0124])\n",
            "tensor([-0.5340, -0.6493, -0.9876])\n",
            "tensor([1.3980, 1.0522, 0.0373])\n",
            "tensor([0.1553, 0.1169, 0.0041])\n",
            "tensor([0.4660, 0.3507, 0.0124])\n",
            "tensor([1.0121e-01, 4.3142e-02, 1.9286e-06])\n"
          ]
        }
      ],
      "source": [
        "print(a)\n",
        "print(a + 1)\n",
        "print(a - 1)\n",
        "print(a * 3)\n",
        "print(a / 3)\n",
        "print(a % 1)\n",
        "print(a ** 3)"
      ]
    },
    {
      "cell_type": "markdown",
      "metadata": {
        "id": "u76B5ItAHLsY"
      },
      "source": [
        "For higher-dimension tensor operations, pytorch provides the following functions:"
      ]
    },
    {
      "cell_type": "code",
      "execution_count": 19,
      "metadata": {
        "id": "pqI0DpvBHLsY"
      },
      "outputs": [],
      "source": [
        "a = torch.rand([2,3])\n",
        "b = torch.rand([2,3])"
      ]
    },
    {
      "cell_type": "code",
      "execution_count": 20,
      "metadata": {
        "colab": {
          "base_uri": "https://localhost:8080/"
        },
        "id": "-Ny8ljgYHLsZ",
        "outputId": "ec4d6313-9433-40c1-8423-8f2fdae35163"
      },
      "outputs": [
        {
          "output_type": "stream",
          "name": "stdout",
          "text": [
            "tensor([[0.2120, 0.5407, 0.2742],\n",
            "        [0.7322, 0.5993, 0.7537]])\n",
            "\n",
            "tensor([[0.4641, 0.8881, 0.9217],\n",
            "        [0.1033, 0.3907, 0.0576]])\n"
          ]
        }
      ],
      "source": [
        "print(a)\n",
        "print()\n",
        "print(b)"
      ]
    },
    {
      "cell_type": "code",
      "execution_count": 21,
      "metadata": {
        "scrolled": true,
        "colab": {
          "base_uri": "https://localhost:8080/"
        },
        "id": "PxD0SO0tHLsZ",
        "outputId": "0c07fd94-f0f8-492b-b5da-d47d5bfaa27e"
      },
      "outputs": [
        {
          "output_type": "stream",
          "name": "stdout",
          "text": [
            "a + b =\n",
            "tensor([[0.6761, 1.4288, 1.1959],\n",
            "        [0.8355, 0.9900, 0.8113]])\n",
            "\n",
            "a * b =\n",
            "tensor([[0.0984, 0.4802, 0.2527],\n",
            "        [0.0756, 0.2341, 0.0434]])\n",
            "\n",
            "a / b =\n",
            "tensor([[ 0.4567,  0.6088,  0.2975],\n",
            "        [ 7.0908,  1.5340, 13.0932]])\n",
            "\n"
          ]
        }
      ],
      "source": [
        "print('a + b =')\n",
        "print(a + b)\n",
        "print()\n",
        "\n",
        "print('a * b =')\n",
        "print(a * b)\n",
        "print()\n",
        "\n",
        "print('a / b =')\n",
        "print(a / b)\n",
        "print()"
      ]
    },
    {
      "cell_type": "markdown",
      "metadata": {
        "id": "9565poUhHLsZ"
      },
      "source": [
        "```torch.transpose(input, dim0, dim1)``` returns a tensor that is a transposed version of input. The given dimensions dim0 and dim1 are swapped.\n",
        "\n",
        "https://pytorch.org/docs/stable/generated/torch.transpose.html"
      ]
    },
    {
      "cell_type": "code",
      "execution_count": 22,
      "metadata": {
        "colab": {
          "base_uri": "https://localhost:8080/"
        },
        "id": "Rse8WMU4HLsZ",
        "outputId": "211bc5bc-a2d0-49bf-d182-8fb8db412293"
      },
      "outputs": [
        {
          "output_type": "stream",
          "name": "stdout",
          "text": [
            "tensor([[0.4641, 0.8881, 0.9217],\n",
            "        [0.1033, 0.3907, 0.0576]])\n",
            "\n",
            "tensor([[0.4641, 0.1033],\n",
            "        [0.8881, 0.3907],\n",
            "        [0.9217, 0.0576]])\n"
          ]
        }
      ],
      "source": [
        "print(b)\n",
        "print()\n",
        "\n",
        "print(torch.transpose(b, 1, 0))"
      ]
    },
    {
      "cell_type": "code",
      "execution_count": 23,
      "metadata": {
        "colab": {
          "base_uri": "https://localhost:8080/"
        },
        "id": "EucTlPE6HLsZ",
        "outputId": "98113806-339e-4f51-ca16-348c86886b14"
      },
      "outputs": [
        {
          "output_type": "stream",
          "name": "stdout",
          "text": [
            "tensor([[0.4641, 0.1033],\n",
            "        [0.8881, 0.3907],\n",
            "        [0.9217, 0.0576]])\n"
          ]
        }
      ],
      "source": [
        "# this is equivalent to:\n",
        "print(b.transpose(1, 0))"
      ]
    },
    {
      "cell_type": "code",
      "execution_count": 24,
      "metadata": {
        "colab": {
          "base_uri": "https://localhost:8080/"
        },
        "id": "UyMaMDTrHLsa",
        "outputId": "59f7351c-4e7e-45b0-e31d-c26232aef222"
      },
      "outputs": [
        {
          "output_type": "stream",
          "name": "stdout",
          "text": [
            "tensor([[[1, 1],\n",
            "         [1, 1]],\n",
            "\n",
            "        [[2, 2],\n",
            "         [2, 2]]])\n"
          ]
        }
      ],
      "source": [
        "c = torch.tensor([[[1, 1], [1, 1]], [[2, 2], [2, 2]]])\n",
        "print(c)"
      ]
    },
    {
      "cell_type": "code",
      "execution_count": 25,
      "metadata": {
        "colab": {
          "base_uri": "https://localhost:8080/"
        },
        "id": "HTvEn_BDHLsa",
        "outputId": "dc569f51-c4a9-41e8-da80-67f4b03cb74e"
      },
      "outputs": [
        {
          "output_type": "execute_result",
          "data": {
            "text/plain": [
              "tensor([[[1, 1],\n",
              "         [2, 2]],\n",
              "\n",
              "        [[1, 1],\n",
              "         [2, 2]]])"
            ]
          },
          "metadata": {},
          "execution_count": 25
        }
      ],
      "source": [
        "c.transpose(1, 0)"
      ]
    },
    {
      "cell_type": "code",
      "execution_count": 26,
      "metadata": {
        "colab": {
          "base_uri": "https://localhost:8080/"
        },
        "id": "2BZ6YKt9HLsa",
        "outputId": "b90dfb7f-48b5-40d5-845b-f28fbe19b23b"
      },
      "outputs": [
        {
          "output_type": "execute_result",
          "data": {
            "text/plain": [
              "tensor([[[1, 2],\n",
              "         [1, 2]],\n",
              "\n",
              "        [[1, 2],\n",
              "         [1, 2]]])"
            ]
          },
          "metadata": {},
          "execution_count": 26
        }
      ],
      "source": [
        "c.transpose(2, 0)"
      ]
    },
    {
      "cell_type": "markdown",
      "metadata": {
        "id": "_dys4BSnHLsa"
      },
      "source": [
        "## 2.6 Matrix Multiplication in PyTorch"
      ]
    },
    {
      "cell_type": "markdown",
      "metadata": {
        "id": "FlSzeZe9HLsa"
      },
      "source": [
        "The operation `*` is element-wise multiplication:"
      ]
    },
    {
      "cell_type": "code",
      "execution_count": 27,
      "metadata": {
        "id": "tFdgEPI_HLsa"
      },
      "outputs": [],
      "source": [
        "x = torch.tensor([[1, 2], [3, 4]], dtype=torch.float)\n",
        "y = torch.tensor([[5, 6], [7, 8]], dtype=torch.float)"
      ]
    },
    {
      "cell_type": "code",
      "execution_count": 28,
      "metadata": {
        "colab": {
          "base_uri": "https://localhost:8080/"
        },
        "id": "xOB42JQCHLsa",
        "outputId": "432ca598-024c-4c38-aa35-9845911b5099"
      },
      "outputs": [
        {
          "output_type": "stream",
          "name": "stdout",
          "text": [
            "tensor([[ 5., 12.],\n",
            "        [21., 32.]])\n"
          ]
        }
      ],
      "source": [
        "print(x * y)"
      ]
    },
    {
      "cell_type": "markdown",
      "metadata": {
        "id": "UmCyU61_HLsa"
      },
      "source": [
        "For matrix multiplication, you need `matmul`, which returns the matrix product of two tensors.\n",
        "\n",
        "See https://pytorch.org/docs/stable/generated/torch.matmul.html"
      ]
    },
    {
      "cell_type": "code",
      "execution_count": 29,
      "metadata": {
        "colab": {
          "base_uri": "https://localhost:8080/"
        },
        "id": "UT0QS_BLHLsa",
        "outputId": "c381032c-ad46-48e5-8094-fff25b423348"
      },
      "outputs": [
        {
          "output_type": "execute_result",
          "data": {
            "text/plain": [
              "tensor([[19., 22.],\n",
              "        [43., 50.]])"
            ]
          },
          "metadata": {},
          "execution_count": 29
        }
      ],
      "source": [
        "x.matmul(y)"
      ]
    },
    {
      "cell_type": "code",
      "execution_count": 30,
      "metadata": {
        "colab": {
          "base_uri": "https://localhost:8080/"
        },
        "id": "Vg59JzPcHLsa",
        "outputId": "d3bccd3d-c7d5-46f4-8ac1-5862b4a121c2"
      },
      "outputs": [
        {
          "output_type": "execute_result",
          "data": {
            "text/plain": [
              "tensor([[19., 22.],\n",
              "        [43., 50.]])"
            ]
          },
          "metadata": {},
          "execution_count": 30
        }
      ],
      "source": [
        "# a handy operator: @\n",
        "x @ y"
      ]
    },
    {
      "cell_type": "markdown",
      "metadata": {
        "id": "XBnDctAoHLsa"
      },
      "source": [
        "### *Try it out!*"
      ]
    },
    {
      "cell_type": "code",
      "execution_count": 31,
      "metadata": {
        "id": "HDkVQWDIHLsa"
      },
      "outputs": [],
      "source": [
        "# Try it out!\n",
        "# Define a tensor t1 which has the shape (3, 4) and a constant value of 8.\n",
        "# Generate a random tensor t2 which has the shape of (3, 4)\n"
      ]
    },
    {
      "cell_type": "code",
      "execution_count": 32,
      "metadata": {
        "id": "faeg0ivVHLsb"
      },
      "outputs": [],
      "source": [
        "# What is t1 and t2?\n"
      ]
    },
    {
      "cell_type": "code",
      "execution_count": 33,
      "metadata": {
        "id": "J88PReq0HLsb"
      },
      "outputs": [],
      "source": [
        "# Get another tensor t3 by doing the element-wise multiplication between t1 and t2\n",
        "# What is the size of t3?\n"
      ]
    },
    {
      "cell_type": "code",
      "execution_count": 34,
      "metadata": {
        "id": "K4WOrIOuHLsb"
      },
      "outputs": [],
      "source": [
        "# Get another tensor t4 by doing the matrix product between t1 and the transpose of t2\n",
        "# What is the size of t4?\n"
      ]
    },
    {
      "cell_type": "markdown",
      "metadata": {
        "id": "7qCoGPv7HLsb"
      },
      "source": [
        "## 2.7 Reshape"
      ]
    },
    {
      "cell_type": "markdown",
      "metadata": {
        "id": "ZbI9LCcgHLsb"
      },
      "source": [
        "You can use `reshape` to re-shape tensors:"
      ]
    },
    {
      "cell_type": "code",
      "execution_count": 35,
      "metadata": {
        "colab": {
          "base_uri": "https://localhost:8080/"
        },
        "id": "r2c3bncTHLsb",
        "outputId": "1a611628-a306-4be0-9073-33bb3344eaee"
      },
      "outputs": [
        {
          "output_type": "stream",
          "name": "stdout",
          "text": [
            "tensor([[0.4415, 0.7703, 0.7092],\n",
            "        [0.8571, 0.6731, 0.0472]])\n",
            "\n",
            "tensor([[0.4415],\n",
            "        [0.7703],\n",
            "        [0.7092],\n",
            "        [0.8571],\n",
            "        [0.6731],\n",
            "        [0.0472]])\n",
            "\n",
            "tensor([[0.4415],\n",
            "        [0.7703],\n",
            "        [0.7092],\n",
            "        [0.8571],\n",
            "        [0.6731],\n",
            "        [0.0472]])\n",
            "\n",
            "tensor([0.4415, 0.7703, 0.7092, 0.8571, 0.6731, 0.0472])\n"
          ]
        }
      ],
      "source": [
        "x = torch.rand(2, 3)\n",
        "print(x)\n",
        "print()\n",
        "\n",
        "print(x.reshape(6, 1))\n",
        "print()\n",
        "\n",
        "print(x.view(6, 1))\n",
        "print()\n",
        "\n",
        "print(x.view(6))"
      ]
    },
    {
      "cell_type": "code",
      "execution_count": 36,
      "metadata": {
        "colab": {
          "base_uri": "https://localhost:8080/"
        },
        "id": "lroZ1UaoHLsb",
        "outputId": "8f3eb73e-ee84-46f2-b707-186f74b5e880"
      },
      "outputs": [
        {
          "output_type": "stream",
          "name": "stdout",
          "text": [
            "tensor([0.4415, 0.7703, 0.7092, 0.8571, 0.6731, 0.0472])\n",
            "\n",
            "tensor([[0.4415, 0.7703],\n",
            "        [0.7092, 0.8571],\n",
            "        [0.6731, 0.0472]])\n"
          ]
        }
      ],
      "source": [
        "# We can use \"-1\" to let Pytorch automatically inferred the shape of that dimension\n",
        "print(x.view(-1))  # 1-d\n",
        "print()\n",
        "print(x.view(3, -1)) # 2-d with the second dim automatically inferred"
      ]
    },
    {
      "cell_type": "code",
      "execution_count": 37,
      "metadata": {
        "colab": {
          "base_uri": "https://localhost:8080/",
          "height": 144
        },
        "id": "zwF5mXQDHLsb",
        "outputId": "7b8aa962-3ee8-44c6-c39b-0178984d9db1"
      },
      "outputs": [
        {
          "output_type": "error",
          "ename": "RuntimeError",
          "evalue": "shape '[4, -1]' is invalid for input of size 6",
          "traceback": [
            "\u001b[0;31m---------------------------------------------------------------------------\u001b[0m",
            "\u001b[0;31mRuntimeError\u001b[0m                              Traceback (most recent call last)",
            "\u001b[0;32m<ipython-input-37-edaf446bc087>\u001b[0m in \u001b[0;36m<cell line: 1>\u001b[0;34m()\u001b[0m\n\u001b[0;32m----> 1\u001b[0;31m \u001b[0mx\u001b[0m\u001b[0;34m.\u001b[0m\u001b[0mview\u001b[0m\u001b[0;34m(\u001b[0m\u001b[0;36m4\u001b[0m\u001b[0;34m,\u001b[0m \u001b[0;34m-\u001b[0m\u001b[0;36m1\u001b[0m\u001b[0;34m)\u001b[0m  \u001b[0;31m# cannot be reshaped to such size\u001b[0m\u001b[0;34m\u001b[0m\u001b[0;34m\u001b[0m\u001b[0m\n\u001b[0m",
            "\u001b[0;31mRuntimeError\u001b[0m: shape '[4, -1]' is invalid for input of size 6"
          ]
        }
      ],
      "source": [
        "x.view(4, -1)  # cannot be reshaped to such size"
      ]
    },
    {
      "cell_type": "markdown",
      "metadata": {
        "id": "QY6dPd-5HLsb"
      },
      "source": [
        "# 2. Pytorch Basics: Autograd\n",
        "\n",
        "Pytorch implemented the automatica gradient derivation for users to obtain the gradients without heavy coding.\n",
        "The usage is very simple.\n",
        "\n",
        "You should firstly define tensors with `requires_grad=True`. Then, you can conduct math operations on them, saving results into a new variable. Then use `.backward()` of this new variable. you can obtain the gradients on the all variables that have joined the computation. Let's look at some examples:\n"
      ]
    },
    {
      "cell_type": "code",
      "execution_count": 38,
      "metadata": {
        "colab": {
          "base_uri": "https://localhost:8080/",
          "height": 329
        },
        "id": "AI7G53cWHLsb",
        "outputId": "290f15f6-493a-47aa-a9b3-846fd7c00a50"
      },
      "outputs": [
        {
          "output_type": "error",
          "ename": "RuntimeError",
          "evalue": "element 0 of tensors does not require grad and does not have a grad_fn",
          "traceback": [
            "\u001b[0;31m---------------------------------------------------------------------------\u001b[0m",
            "\u001b[0;31mRuntimeError\u001b[0m                              Traceback (most recent call last)",
            "\u001b[0;32m<ipython-input-38-5c87534380af>\u001b[0m in \u001b[0;36m<cell line: 4>\u001b[0;34m()\u001b[0m\n\u001b[1;32m      2\u001b[0m \u001b[0mb\u001b[0m \u001b[0;34m=\u001b[0m \u001b[0mtorch\u001b[0m\u001b[0;34m.\u001b[0m\u001b[0mrand\u001b[0m\u001b[0;34m(\u001b[0m\u001b[0;36m2\u001b[0m\u001b[0;34m)\u001b[0m\u001b[0;34m\u001b[0m\u001b[0;34m\u001b[0m\u001b[0m\n\u001b[1;32m      3\u001b[0m \u001b[0mc\u001b[0m \u001b[0;34m=\u001b[0m \u001b[0;34m(\u001b[0m\u001b[0ma\u001b[0m \u001b[0;34m+\u001b[0m \u001b[0mb\u001b[0m\u001b[0;34m)\u001b[0m\u001b[0;34m.\u001b[0m\u001b[0msum\u001b[0m\u001b[0;34m(\u001b[0m\u001b[0;34m)\u001b[0m\u001b[0;34m\u001b[0m\u001b[0;34m\u001b[0m\u001b[0m\n\u001b[0;32m----> 4\u001b[0;31m \u001b[0mc\u001b[0m\u001b[0;34m.\u001b[0m\u001b[0mbackward\u001b[0m\u001b[0;34m(\u001b[0m\u001b[0;34m)\u001b[0m  \u001b[0;31m# This will raise an error, which is expected.\u001b[0m\u001b[0;34m\u001b[0m\u001b[0;34m\u001b[0m\u001b[0m\n\u001b[0m",
            "\u001b[0;32m/usr/local/lib/python3.10/dist-packages/torch/_tensor.py\u001b[0m in \u001b[0;36mbackward\u001b[0;34m(self, gradient, retain_graph, create_graph, inputs)\u001b[0m\n\u001b[1;32m    579\u001b[0m                 \u001b[0minputs\u001b[0m\u001b[0;34m=\u001b[0m\u001b[0minputs\u001b[0m\u001b[0;34m,\u001b[0m\u001b[0;34m\u001b[0m\u001b[0;34m\u001b[0m\u001b[0m\n\u001b[1;32m    580\u001b[0m             )\n\u001b[0;32m--> 581\u001b[0;31m         torch.autograd.backward(\n\u001b[0m\u001b[1;32m    582\u001b[0m             \u001b[0mself\u001b[0m\u001b[0;34m,\u001b[0m \u001b[0mgradient\u001b[0m\u001b[0;34m,\u001b[0m \u001b[0mretain_graph\u001b[0m\u001b[0;34m,\u001b[0m \u001b[0mcreate_graph\u001b[0m\u001b[0;34m,\u001b[0m \u001b[0minputs\u001b[0m\u001b[0;34m=\u001b[0m\u001b[0minputs\u001b[0m\u001b[0;34m\u001b[0m\u001b[0;34m\u001b[0m\u001b[0m\n\u001b[1;32m    583\u001b[0m         )\n",
            "\u001b[0;32m/usr/local/lib/python3.10/dist-packages/torch/autograd/__init__.py\u001b[0m in \u001b[0;36mbackward\u001b[0;34m(tensors, grad_tensors, retain_graph, create_graph, grad_variables, inputs)\u001b[0m\n\u001b[1;32m    345\u001b[0m     \u001b[0;31m# some Python versions print out the first line of a multi-line function\u001b[0m\u001b[0;34m\u001b[0m\u001b[0;34m\u001b[0m\u001b[0m\n\u001b[1;32m    346\u001b[0m     \u001b[0;31m# calls in the traceback and some print out the last line\u001b[0m\u001b[0;34m\u001b[0m\u001b[0;34m\u001b[0m\u001b[0m\n\u001b[0;32m--> 347\u001b[0;31m     _engine_run_backward(\n\u001b[0m\u001b[1;32m    348\u001b[0m         \u001b[0mtensors\u001b[0m\u001b[0;34m,\u001b[0m\u001b[0;34m\u001b[0m\u001b[0;34m\u001b[0m\u001b[0m\n\u001b[1;32m    349\u001b[0m         \u001b[0mgrad_tensors_\u001b[0m\u001b[0;34m,\u001b[0m\u001b[0;34m\u001b[0m\u001b[0;34m\u001b[0m\u001b[0m\n",
            "\u001b[0;32m/usr/local/lib/python3.10/dist-packages/torch/autograd/graph.py\u001b[0m in \u001b[0;36m_engine_run_backward\u001b[0;34m(t_outputs, *args, **kwargs)\u001b[0m\n\u001b[1;32m    823\u001b[0m         \u001b[0munregister_hooks\u001b[0m \u001b[0;34m=\u001b[0m \u001b[0m_register_logging_hooks_on_whole_graph\u001b[0m\u001b[0;34m(\u001b[0m\u001b[0mt_outputs\u001b[0m\u001b[0;34m)\u001b[0m\u001b[0;34m\u001b[0m\u001b[0;34m\u001b[0m\u001b[0m\n\u001b[1;32m    824\u001b[0m     \u001b[0;32mtry\u001b[0m\u001b[0;34m:\u001b[0m\u001b[0;34m\u001b[0m\u001b[0;34m\u001b[0m\u001b[0m\n\u001b[0;32m--> 825\u001b[0;31m         return Variable._execution_engine.run_backward(  # Calls into the C++ engine to run the backward pass\n\u001b[0m\u001b[1;32m    826\u001b[0m             \u001b[0mt_outputs\u001b[0m\u001b[0;34m,\u001b[0m \u001b[0;34m*\u001b[0m\u001b[0margs\u001b[0m\u001b[0;34m,\u001b[0m \u001b[0;34m**\u001b[0m\u001b[0mkwargs\u001b[0m\u001b[0;34m\u001b[0m\u001b[0;34m\u001b[0m\u001b[0m\n\u001b[1;32m    827\u001b[0m         )  # Calls into the C++ engine to run the backward pass\n",
            "\u001b[0;31mRuntimeError\u001b[0m: element 0 of tensors does not require grad and does not have a grad_fn"
          ]
        }
      ],
      "source": [
        "a = torch.rand(2)\n",
        "b = torch.rand(2)\n",
        "c = (a + b).sum()\n",
        "c.backward()  # This will raise an error, which is expected."
      ]
    },
    {
      "cell_type": "markdown",
      "metadata": {
        "id": "L-2-pQ67HLsb"
      },
      "source": [
        "Now, pytorch outputs an error. Because we did not identified the `requires_grad=True`."
      ]
    },
    {
      "cell_type": "code",
      "execution_count": 39,
      "metadata": {
        "id": "V3j2OA8bHLsb"
      },
      "outputs": [],
      "source": [
        "a = torch.randn(2, requires_grad=True)\n",
        "b = torch.randn(2, requires_grad=True)"
      ]
    },
    {
      "cell_type": "markdown",
      "metadata": {
        "id": "OJUlvy-xHLsb"
      },
      "source": [
        "The attribute `grad` will accumulate the gradients of tensors."
      ]
    },
    {
      "cell_type": "code",
      "execution_count": 40,
      "metadata": {
        "colab": {
          "base_uri": "https://localhost:8080/"
        },
        "id": "hpCB5J0tHLsb",
        "outputId": "46309af3-d334-4de8-ea4c-d75c0cf249d1"
      },
      "outputs": [
        {
          "output_type": "stream",
          "name": "stdout",
          "text": [
            "None\n",
            "None\n"
          ]
        }
      ],
      "source": [
        "# We did not perform any operations yet, so their gradients are just None\n",
        "print(a.grad)\n",
        "print(b.grad)"
      ]
    },
    {
      "cell_type": "code",
      "execution_count": 41,
      "metadata": {
        "id": "9IuTVczOHLsc"
      },
      "outputs": [],
      "source": [
        "# let's do some operations that generates a number (but also a tensor object with size of (1))\n",
        "c = (a + b).sum()"
      ]
    },
    {
      "cell_type": "code",
      "execution_count": 42,
      "metadata": {
        "colab": {
          "base_uri": "https://localhost:8080/"
        },
        "id": "Z_8kRMWWHLsc",
        "outputId": "3066ee8b-733c-46af-a565-fa9da6219b82"
      },
      "outputs": [
        {
          "output_type": "stream",
          "name": "stdout",
          "text": [
            "None\n",
            "None\n"
          ]
        }
      ],
      "source": [
        "print(a.grad)\n",
        "print(b.grad)  # gradient is still zero"
      ]
    },
    {
      "cell_type": "code",
      "execution_count": 43,
      "metadata": {
        "id": "q0pQdq-vHLsc"
      },
      "outputs": [],
      "source": [
        "# We need to ask Pytorch to compute graidents for us by doing backward computations.\n",
        "# See https://pytorch.org/docs/stable/generated/torch.Tensor.backward.html\n",
        "c.backward()"
      ]
    },
    {
      "cell_type": "markdown",
      "metadata": {
        "id": "LcHivrk9HLsc"
      },
      "source": [
        "Now, Pytorch successfully derive the gradients of `sum(a + b)`. Let's check the gradient values for each variable:"
      ]
    },
    {
      "cell_type": "code",
      "execution_count": 44,
      "metadata": {
        "colab": {
          "base_uri": "https://localhost:8080/"
        },
        "id": "S68vxHsFHLsc",
        "outputId": "1e616b27-f8dc-4ac9-ef58-48e704d92605"
      },
      "outputs": [
        {
          "output_type": "stream",
          "name": "stdout",
          "text": [
            "tensor([1., 1.])\n",
            "tensor([1., 1.])\n"
          ]
        }
      ],
      "source": [
        "print(a.grad)\n",
        "print(b.grad)"
      ]
    },
    {
      "cell_type": "code",
      "execution_count": 45,
      "metadata": {
        "colab": {
          "base_uri": "https://localhost:8080/"
        },
        "id": "CP-dpbqDHLsc",
        "outputId": "f81d8f78-5a36-47a1-bd94-6a0ca6cf3966"
      },
      "outputs": [
        {
          "output_type": "stream",
          "name": "stderr",
          "text": [
            "<ipython-input-45-b6202d86c596>:1: UserWarning: The .grad attribute of a Tensor that is not a leaf Tensor is being accessed. Its .grad attribute won't be populated during autograd.backward(). If you indeed want the .grad field to be populated for a non-leaf Tensor, use .retain_grad() on the non-leaf Tensor. If you access the non-leaf Tensor by mistake, make sure you access the leaf Tensor instead. See github.com/pytorch/pytorch/pull/30531 for more informations. (Triggered internally at aten/src/ATen/core/TensorBody.h:489.)\n",
            "  c.grad  # c is not a *leaf node* in the computational graph, no gradient will be computed.\n"
          ]
        }
      ],
      "source": [
        "c.grad  # c is not a *leaf node* in the computational graph, no gradient will be computed."
      ]
    },
    {
      "cell_type": "code",
      "execution_count": 45,
      "metadata": {
        "id": "QXz8gi7YHLsc"
      },
      "outputs": [],
      "source": []
    },
    {
      "cell_type": "markdown",
      "metadata": {
        "id": "BGX9_dIaHLsc"
      },
      "source": [
        "Let's look a more complex example:"
      ]
    },
    {
      "cell_type": "code",
      "execution_count": 46,
      "metadata": {
        "id": "5WIdntsSHLsc"
      },
      "outputs": [],
      "source": [
        "a = torch.randn(2, requires_grad=True)\n",
        "b = torch.randn(2)\n",
        "c = a * b\n",
        "d = torch.randn(2, requires_grad=True)\n",
        "e = (c + d).sum()\n",
        "e.backward()"
      ]
    },
    {
      "cell_type": "code",
      "execution_count": 47,
      "metadata": {
        "colab": {
          "base_uri": "https://localhost:8080/"
        },
        "id": "if1yy1wvHLsc",
        "outputId": "1f7e7a17-eee5-4bde-e3b7-8e5b08f2a704"
      },
      "outputs": [
        {
          "output_type": "stream",
          "name": "stdout",
          "text": [
            "tensor([1.3679, 0.3096])\n",
            "None\n",
            "None\n",
            "tensor([1., 1.])\n"
          ]
        },
        {
          "output_type": "stream",
          "name": "stderr",
          "text": [
            "<ipython-input-47-21adcc0814ca>:3: UserWarning: The .grad attribute of a Tensor that is not a leaf Tensor is being accessed. Its .grad attribute won't be populated during autograd.backward(). If you indeed want the .grad field to be populated for a non-leaf Tensor, use .retain_grad() on the non-leaf Tensor. If you access the non-leaf Tensor by mistake, make sure you access the leaf Tensor instead. See github.com/pytorch/pytorch/pull/30531 for more informations. (Triggered internally at aten/src/ATen/core/TensorBody.h:489.)\n",
            "  print(c.grad)\n"
          ]
        }
      ],
      "source": [
        "print(a.grad)\n",
        "print(b.grad)\n",
        "print(c.grad)\n",
        "print(d.grad)"
      ]
    },
    {
      "cell_type": "markdown",
      "metadata": {
        "id": "c2Gc6S43HLsc"
      },
      "source": [
        "In the above code, we can see that gradients of c is None. Because c is only an intermediate variable that stores the value of `a*b`. This is called non-leaf nodes in the Pytorch autograd graph. If you are interested in this, you can refer to the following websites to learn more:\n",
        "https://pytorch.org/tutorials/beginner/blitz/autograd_tutorial.html\n",
        "https://pytorch.org/docs/stable/notes/autograd.html#:~:text=Autograd%20is%20reverse%20automatic%20differentiation,roots%20are%20the%20output%20tensors.\n",
        "https://pytorch.org/tutorials/beginner/introyt/autogradyt_tutorial.html"
      ]
    },
    {
      "cell_type": "markdown",
      "metadata": {
        "id": "w7-x6L4qHLsc"
      },
      "source": [
        "**Note: gradient is accumulated**"
      ]
    },
    {
      "cell_type": "code",
      "execution_count": 48,
      "metadata": {
        "colab": {
          "base_uri": "https://localhost:8080/"
        },
        "id": "suCbuU86HLsc",
        "outputId": "a3589403-d7ec-442b-ef03-7b98361e0b53"
      },
      "outputs": [
        {
          "output_type": "stream",
          "name": "stdout",
          "text": [
            "tensor([ 0.8714, -1.3551], requires_grad=True)\n",
            "tensor([1.3679, 0.3096])\n"
          ]
        }
      ],
      "source": [
        "print(a)\n",
        "print(a.grad)"
      ]
    },
    {
      "cell_type": "code",
      "execution_count": 49,
      "metadata": {
        "id": "acQy1oozHLsc"
      },
      "outputs": [],
      "source": [
        "x = a.sum()\n",
        "x.backward()  # should be [1, 1]"
      ]
    },
    {
      "cell_type": "code",
      "execution_count": 50,
      "metadata": {
        "colab": {
          "base_uri": "https://localhost:8080/"
        },
        "id": "YVZxn0SXHLsc",
        "outputId": "2707a754-e8d6-4757-d926-636cd1161373"
      },
      "outputs": [
        {
          "output_type": "stream",
          "name": "stdout",
          "text": [
            "tensor([2.3679, 1.3096])\n"
          ]
        }
      ],
      "source": [
        "print(a.grad)  # not as expected: gardients will not automatically reset to zero. It gets accumulated."
      ]
    },
    {
      "cell_type": "code",
      "execution_count": 51,
      "metadata": {
        "colab": {
          "base_uri": "https://localhost:8080/"
        },
        "id": "syXXI5RuHLsc",
        "outputId": "453c3d00-3914-4ed3-9ce2-36fc18bdb910"
      },
      "outputs": [
        {
          "output_type": "stream",
          "name": "stdout",
          "text": [
            "tensor([1., 1.])\n"
          ]
        }
      ],
      "source": [
        "# reset gradient\n",
        "a.grad = None\n",
        "\n",
        "x = a.sum()\n",
        "x.backward()  # should be [1, 1]\n",
        "\n",
        "print(a.grad)"
      ]
    },
    {
      "cell_type": "markdown",
      "metadata": {
        "id": "GtIvfotYHLsd"
      },
      "source": [
        "# 3. Pytorch Basics: Loading Data"
      ]
    },
    {
      "cell_type": "code",
      "execution_count": 52,
      "metadata": {
        "id": "5w5t_U0ZHLsd"
      },
      "outputs": [],
      "source": [
        "import torchvision"
      ]
    },
    {
      "cell_type": "markdown",
      "metadata": {
        "id": "tDtFZdEmHLsd"
      },
      "source": [
        "The following code will automatically download MNIST from Pytorch, if the path you give does not has a MNIST dataset."
      ]
    },
    {
      "cell_type": "code",
      "execution_count": 53,
      "metadata": {
        "scrolled": true,
        "colab": {
          "base_uri": "https://localhost:8080/"
        },
        "id": "0Kk3AOQ3HLsd",
        "outputId": "ed78f138-9dca-4b18-c10f-843ffd17c111"
      },
      "outputs": [
        {
          "output_type": "stream",
          "name": "stdout",
          "text": [
            "Downloading http://yann.lecun.com/exdb/mnist/train-images-idx3-ubyte.gz\n",
            "Failed to download (trying next):\n",
            "HTTP Error 403: Forbidden\n",
            "\n",
            "Downloading https://ossci-datasets.s3.amazonaws.com/mnist/train-images-idx3-ubyte.gz\n",
            "Downloading https://ossci-datasets.s3.amazonaws.com/mnist/train-images-idx3-ubyte.gz to ./MNIST/raw/train-images-idx3-ubyte.gz\n"
          ]
        },
        {
          "output_type": "stream",
          "name": "stderr",
          "text": [
            "100%|██████████| 9.91M/9.91M [00:00<00:00, 15.9MB/s]\n"
          ]
        },
        {
          "output_type": "stream",
          "name": "stdout",
          "text": [
            "Extracting ./MNIST/raw/train-images-idx3-ubyte.gz to ./MNIST/raw\n",
            "\n",
            "Downloading http://yann.lecun.com/exdb/mnist/train-labels-idx1-ubyte.gz\n",
            "Failed to download (trying next):\n",
            "HTTP Error 403: Forbidden\n",
            "\n",
            "Downloading https://ossci-datasets.s3.amazonaws.com/mnist/train-labels-idx1-ubyte.gz\n",
            "Downloading https://ossci-datasets.s3.amazonaws.com/mnist/train-labels-idx1-ubyte.gz to ./MNIST/raw/train-labels-idx1-ubyte.gz\n"
          ]
        },
        {
          "output_type": "stream",
          "name": "stderr",
          "text": [
            "100%|██████████| 28.9k/28.9k [00:00<00:00, 481kB/s]\n"
          ]
        },
        {
          "output_type": "stream",
          "name": "stdout",
          "text": [
            "Extracting ./MNIST/raw/train-labels-idx1-ubyte.gz to ./MNIST/raw\n",
            "\n",
            "Downloading http://yann.lecun.com/exdb/mnist/t10k-images-idx3-ubyte.gz\n",
            "Failed to download (trying next):\n",
            "HTTP Error 403: Forbidden\n",
            "\n",
            "Downloading https://ossci-datasets.s3.amazonaws.com/mnist/t10k-images-idx3-ubyte.gz\n",
            "Downloading https://ossci-datasets.s3.amazonaws.com/mnist/t10k-images-idx3-ubyte.gz to ./MNIST/raw/t10k-images-idx3-ubyte.gz\n"
          ]
        },
        {
          "output_type": "stream",
          "name": "stderr",
          "text": [
            "100%|██████████| 1.65M/1.65M [00:00<00:00, 4.36MB/s]\n"
          ]
        },
        {
          "output_type": "stream",
          "name": "stdout",
          "text": [
            "Extracting ./MNIST/raw/t10k-images-idx3-ubyte.gz to ./MNIST/raw\n",
            "\n",
            "Downloading http://yann.lecun.com/exdb/mnist/t10k-labels-idx1-ubyte.gz\n",
            "Failed to download (trying next):\n",
            "HTTP Error 403: Forbidden\n",
            "\n",
            "Downloading https://ossci-datasets.s3.amazonaws.com/mnist/t10k-labels-idx1-ubyte.gz\n",
            "Downloading https://ossci-datasets.s3.amazonaws.com/mnist/t10k-labels-idx1-ubyte.gz to ./MNIST/raw/t10k-labels-idx1-ubyte.gz\n"
          ]
        },
        {
          "output_type": "stream",
          "name": "stderr",
          "text": [
            "100%|██████████| 4.54k/4.54k [00:00<00:00, 5.29MB/s]"
          ]
        },
        {
          "output_type": "stream",
          "name": "stdout",
          "text": [
            "Extracting ./MNIST/raw/t10k-labels-idx1-ubyte.gz to ./MNIST/raw\n",
            "\n"
          ]
        },
        {
          "output_type": "stream",
          "name": "stderr",
          "text": [
            "\n"
          ]
        },
        {
          "output_type": "execute_result",
          "data": {
            "text/plain": [
              "Dataset MNIST\n",
              "    Number of datapoints: 60000\n",
              "    Root location: ./\n",
              "    Split: Train"
            ]
          },
          "metadata": {},
          "execution_count": 53
        }
      ],
      "source": [
        "torchvision.datasets.MNIST('./', train=True, download=True)"
      ]
    },
    {
      "cell_type": "markdown",
      "metadata": {
        "id": "UF97nzBbHLsd"
      },
      "source": [
        "Now, the dataset has been downloaded. Thus, the downloading will not be repeated."
      ]
    },
    {
      "cell_type": "code",
      "execution_count": 54,
      "metadata": {
        "id": "OXimHVR1HLsd"
      },
      "outputs": [],
      "source": [
        "mnist = torchvision.datasets.MNIST('./', train=True, download=True)"
      ]
    },
    {
      "cell_type": "markdown",
      "metadata": {
        "id": "6YCu0koPHLsd"
      },
      "source": [
        "Let's take a look at some images in it:"
      ]
    },
    {
      "cell_type": "code",
      "execution_count": 55,
      "metadata": {
        "id": "aUP_wMv-HLsd"
      },
      "outputs": [],
      "source": [
        "from matplotlib import pyplot as plt"
      ]
    },
    {
      "cell_type": "code",
      "execution_count": 56,
      "metadata": {
        "scrolled": true,
        "colab": {
          "base_uri": "https://localhost:8080/",
          "height": 135
        },
        "id": "GohlOSYoHLsd",
        "outputId": "8cdff801-f012-4d96-950b-769793b62181"
      },
      "outputs": [
        {
          "output_type": "display_data",
          "data": {
            "text/plain": [
              "<Figure size 1500x200 with 10 Axes>"
            ],
            "image/png": "[encoded data removed]"
          },
          "metadata": {}
        }
      ],
      "source": [
        "plt.figure(figsize=(15, 2))\n",
        "for i in range(10):\n",
        "    plt.subplot(1,10,i+1)\n",
        "    plt.imshow(mnist[i][0], cmap='gray')\n",
        "    plt.axis('off')\n",
        "\n",
        "plt.show()"
      ]
    },
    {
      "cell_type": "markdown",
      "metadata": {
        "id": "m4bd7D-0HLsd"
      },
      "source": [
        "Firstly, import the data package of Pytorch"
      ]
    },
    {
      "cell_type": "markdown",
      "metadata": {
        "id": "MR3vruOCHLsd"
      },
      "source": [
        "Pytorch has already provided some Image Classification datasets. Many machine learning papers use them into experiments to test their models and algorithms. Let's load one example, MNIST dataset.\n",
        "\n",
        "You can find the introductions of MNIST dataset here:\n",
        "http://yann.lecun.com/exdb/mnist/\n",
        "\n",
        "https://en.wikipedia.org/wiki/MNIST_database\n",
        "\n",
        "https://pytorch.org/vision/main/generated/torchvision.datasets.MNIST.html"
      ]
    },
    {
      "cell_type": "markdown",
      "metadata": {
        "id": "5qihodXHHLsd"
      },
      "source": [
        "In the above example, we get the image by `mnist[i][0]`, because `mnist[i]` returns a tuple: `(image, label)`. The `label` represents the label of `image`."
      ]
    },
    {
      "cell_type": "code",
      "execution_count": 57,
      "metadata": {
        "colab": {
          "base_uri": "https://localhost:8080/"
        },
        "id": "F2Fxm4GEHLsd",
        "outputId": "84c0a2c8-303b-46e3-b9d5-22e2080a82db"
      },
      "outputs": [
        {
          "output_type": "stream",
          "name": "stdout",
          "text": [
            "5\n",
            "0\n",
            "4\n",
            "1\n",
            "9\n"
          ]
        }
      ],
      "source": [
        "for i in range(5):\n",
        "    print(mnist[i][1])"
      ]
    },
    {
      "cell_type": "markdown",
      "metadata": {
        "id": "2UqrG4KPHLsd"
      },
      "source": [
        "Usually, we need to transform the `Image` type into the tensor for training neural network. Pytorch provides the `transforms` for such a transform. And we can use it to conduct some preprocess procedures."
      ]
    },
    {
      "cell_type": "code",
      "execution_count": 58,
      "metadata": {
        "id": "TpIi6WmBHLsd"
      },
      "outputs": [],
      "source": [
        "import torchvision.transforms as transforms"
      ]
    },
    {
      "cell_type": "code",
      "execution_count": 59,
      "metadata": {
        "id": "rx7XO63dHLsd"
      },
      "outputs": [],
      "source": [
        "MNIST_MEAN = (0.1307,)\n",
        "MNIST_STD = (0.3081,)\n",
        "\n",
        "image_size = 28\n",
        "train_transform = transforms.Compose([\n",
        "    transforms.ToTensor(),\n",
        "    transforms.Normalize(mean=MNIST_MEAN , std=MNIST_STD)\n",
        "    ])"
      ]
    },
    {
      "cell_type": "markdown",
      "metadata": {
        "id": "qEqy1oD6HLse"
      },
      "source": [
        "The above code firstly transform the images into tensors of Pytorch. And then, it normalize the tensors following the mean and std as provided. Let's reload the datasets."
      ]
    },
    {
      "cell_type": "code",
      "execution_count": 60,
      "metadata": {
        "id": "GeQzffGVHLse"
      },
      "outputs": [],
      "source": [
        "mnist = torchvision.datasets.MNIST('./', transform=train_transform, train=True, download=True)"
      ]
    },
    {
      "cell_type": "code",
      "execution_count": 61,
      "metadata": {
        "colab": {
          "base_uri": "https://localhost:8080/"
        },
        "id": "arTHutIAHLse",
        "outputId": "9de7dce2-4131-406f-fcaf-462308eda98d"
      },
      "outputs": [
        {
          "output_type": "stream",
          "name": "stdout",
          "text": [
            "<class 'torch.Tensor'> torch.Size([1, 28, 28]) 5\n",
            "<class 'torch.Tensor'> torch.Size([1, 28, 28]) 0\n",
            "<class 'torch.Tensor'> torch.Size([1, 28, 28]) 4\n",
            "<class 'torch.Tensor'> torch.Size([1, 28, 28]) 1\n",
            "<class 'torch.Tensor'> torch.Size([1, 28, 28]) 9\n"
          ]
        }
      ],
      "source": [
        "for i in range(5):\n",
        "    print(type(mnist[i][0]), mnist[i][0].shape, mnist[i][1])"
      ]
    },
    {
      "cell_type": "markdown",
      "metadata": {
        "id": "evsV9oQcHLse"
      },
      "source": [
        "Now, it gives us the `tensor, label` pairs. Let's use the Pytorch dataloader to wrap the dataset. Pytorch dataloader provides some functions to let users more quickly load datas, or randomly perturbe data."
      ]
    },
    {
      "cell_type": "code",
      "execution_count": 62,
      "metadata": {
        "id": "G5l_rGE7HLse"
      },
      "outputs": [],
      "source": []
    },
    {
      "cell_type": "code",
      "execution_count": 63,
      "metadata": {
        "colab": {
          "base_uri": "https://localhost:8080/"
        },
        "id": "S7JJ1rU5HLse",
        "outputId": "960dccb9-f9ed-4f87-a32c-d202d78da3ce"
      },
      "outputs": [
        {
          "output_type": "stream",
          "name": "stdout",
          "text": [
            "<class 'torch.Tensor'> torch.Size([128, 1, 28, 28]) tensor([3, 0, 1, 4, 9, 8, 2, 5, 5, 5, 6, 3, 2, 1, 4, 6, 9, 8, 0, 3, 8, 9, 1, 1,\n",
            "        3, 6, 4, 8, 1, 4, 5, 2, 3, 7, 5, 7, 4, 2, 2, 3, 5, 0, 2, 4, 0, 5, 7, 5,\n",
            "        7, 6, 0, 2, 9, 6, 7, 4, 9, 4, 3, 2, 5, 0, 1, 0, 6, 9, 3, 3, 4, 6, 9, 0,\n",
            "        0, 9, 4, 0, 7, 2, 9, 7, 9, 9, 7, 8, 2, 5, 5, 1, 7, 4, 3, 8, 6, 2, 9, 4,\n",
            "        2, 6, 0, 9, 0, 6, 5, 9, 8, 1, 7, 7, 6, 2, 0, 7, 1, 6, 2, 5, 8, 6, 3, 1,\n",
            "        4, 8, 1, 0, 7, 6, 6, 2])\n",
            "<class 'torch.Tensor'> torch.Size([128, 1, 28, 28]) tensor([6, 1, 5, 7, 3, 0, 6, 7, 1, 6, 3, 5, 4, 9, 5, 8, 3, 0, 0, 9, 8, 7, 8, 2,\n",
            "        2, 1, 2, 8, 1, 9, 5, 0, 4, 5, 4, 9, 5, 8, 6, 5, 9, 9, 5, 7, 1, 0, 1, 0,\n",
            "        3, 3, 5, 0, 8, 0, 3, 3, 5, 0, 6, 3, 2, 4, 2, 2, 5, 8, 6, 0, 4, 9, 7, 6,\n",
            "        3, 1, 1, 9, 3, 3, 3, 3, 8, 6, 3, 0, 9, 0, 1, 4, 2, 8, 7, 9, 3, 8, 6, 1,\n",
            "        2, 5, 3, 9, 2, 3, 5, 3, 1, 1, 6, 2, 5, 4, 3, 2, 2, 7, 8, 5, 5, 3, 2, 4,\n",
            "        9, 0, 0, 2, 1, 5, 1, 8])\n",
            "<class 'torch.Tensor'> torch.Size([128, 1, 28, 28]) tensor([8, 2, 5, 2, 1, 8, 0, 9, 9, 5, 7, 7, 1, 9, 1, 0, 6, 3, 7, 1, 0, 7, 3, 6,\n",
            "        1, 8, 4, 6, 3, 3, 4, 1, 7, 6, 6, 4, 3, 5, 5, 7, 3, 9, 4, 2, 4, 4, 1, 6,\n",
            "        2, 0, 4, 1, 2, 0, 0, 6, 6, 3, 2, 4, 9, 9, 7, 7, 0, 1, 9, 9, 3, 0, 4, 0,\n",
            "        9, 9, 8, 0, 5, 0, 1, 6, 7, 5, 4, 4, 5, 1, 3, 4, 2, 0, 9, 1, 7, 6, 4, 2,\n",
            "        3, 9, 1, 5, 9, 7, 3, 2, 5, 2, 2, 3, 0, 4, 0, 2, 1, 3, 9, 7, 3, 4, 1, 4,\n",
            "        3, 3, 3, 7, 4, 8, 6, 6])\n",
            "<class 'torch.Tensor'> torch.Size([128, 1, 28, 28]) tensor([4, 9, 0, 0, 9, 7, 7, 5, 7, 7, 2, 1, 3, 0, 7, 9, 1, 8, 8, 3, 1, 9, 7, 7,\n",
            "        2, 4, 6, 9, 4, 9, 4, 9, 8, 4, 1, 1, 7, 8, 9, 5, 5, 8, 1, 7, 2, 8, 1, 5,\n",
            "        8, 4, 4, 0, 5, 3, 7, 5, 5, 4, 6, 7, 3, 2, 3, 6, 9, 1, 4, 6, 9, 1, 0, 5,\n",
            "        2, 5, 3, 9, 0, 0, 4, 9, 5, 4, 9, 7, 7, 8, 7, 0, 9, 6, 8, 7, 8, 8, 7, 2,\n",
            "        3, 7, 8, 5, 7, 2, 2, 2, 0, 4, 9, 8, 8, 9, 5, 5, 8, 3, 8, 3, 3, 7, 7, 5,\n",
            "        6, 4, 8, 6, 0, 2, 5, 2])\n",
            "<class 'torch.Tensor'> torch.Size([128, 1, 28, 28]) tensor([6, 8, 8, 3, 9, 4, 1, 1, 4, 7, 1, 9, 7, 1, 4, 4, 3, 5, 3, 1, 0, 5, 2, 0,\n",
            "        5, 7, 0, 5, 7, 7, 0, 5, 3, 6, 3, 3, 6, 8, 3, 0, 1, 4, 1, 0, 6, 2, 7, 1,\n",
            "        2, 9, 7, 4, 8, 1, 9, 3, 8, 6, 0, 9, 2, 0, 5, 2, 1, 9, 0, 9, 4, 4, 1, 0,\n",
            "        0, 1, 2, 2, 2, 3, 7, 4, 2, 2, 0, 2, 6, 8, 5, 5, 7, 9, 1, 6, 1, 3, 9, 1,\n",
            "        1, 9, 1, 7, 7, 9, 3, 4, 0, 3, 6, 2, 8, 0, 7, 7, 4, 5, 4, 5, 6, 1, 4, 6,\n",
            "        8, 0, 9, 8, 5, 3, 6, 1])\n",
            "<class 'torch.Tensor'> torch.Size([128, 1, 28, 28]) tensor([8, 7, 5, 8, 4, 2, 7, 6, 4, 9, 5, 5, 4, 5, 6, 2, 1, 7, 2, 0, 2, 4, 5, 2,\n",
            "        1, 7, 7, 0, 9, 9, 3, 6, 3, 3, 8, 6, 6, 0, 4, 6, 5, 9, 3, 3, 0, 4, 1, 2,\n",
            "        3, 2, 9, 6, 1, 3, 1, 4, 9, 7, 6, 9, 7, 9, 1, 1, 6, 7, 0, 7, 6, 1, 5, 8,\n",
            "        7, 9, 1, 2, 3, 6, 1, 2, 1, 6, 3, 0, 4, 0, 8, 9, 3, 4, 3, 6, 5, 9, 8, 4,\n",
            "        8, 7, 5, 3, 5, 2, 4, 2, 7, 1, 8, 8, 8, 1, 0, 1, 0, 7, 5, 2, 2, 8, 3, 5,\n",
            "        8, 0, 5, 6, 3, 7, 9, 6])\n",
            "<class 'torch.Tensor'> torch.Size([128, 1, 28, 28]) tensor([3, 0, 9, 4, 4, 5, 6, 9, 3, 1, 3, 9, 3, 7, 1, 1, 6, 7, 9, 2, 9, 8, 7, 8,\n",
            "        5, 5, 4, 4, 2, 3, 2, 1, 1, 8, 1, 5, 7, 7, 1, 2, 4, 5, 6, 0, 3, 6, 8, 0,\n",
            "        4, 3, 2, 2, 1, 4, 8, 4, 2, 8, 9, 7, 4, 4, 2, 9, 1, 4, 5, 7, 8, 5, 9, 9,\n",
            "        4, 1, 4, 1, 8, 8, 5, 2, 8, 3, 2, 7, 5, 1, 9, 3, 2, 7, 5, 7, 9, 0, 9, 5,\n",
            "        2, 0, 7, 1, 0, 7, 1, 4, 1, 2, 7, 1, 5, 1, 5, 6, 5, 8, 9, 7, 5, 6, 3, 6,\n",
            "        1, 7, 5, 6, 6, 1, 8, 5])\n",
            "<class 'torch.Tensor'> torch.Size([128, 1, 28, 28]) tensor([7, 3, 3, 5, 0, 6, 9, 8, 8, 2, 6, 8, 8, 1, 2, 3, 1, 8, 1, 5, 0, 5, 1, 7,\n",
            "        1, 8, 5, 6, 7, 1, 3, 8, 2, 1, 8, 7, 4, 4, 7, 0, 9, 5, 2, 8, 5, 0, 5, 4,\n",
            "        3, 5, 5, 5, 2, 2, 5, 6, 0, 2, 7, 6, 2, 9, 1, 6, 6, 8, 0, 0, 1, 5, 2, 9,\n",
            "        9, 1, 5, 0, 6, 1, 0, 8, 4, 8, 6, 0, 8, 4, 2, 9, 4, 8, 8, 2, 6, 8, 1, 9,\n",
            "        3, 2, 8, 2, 4, 1, 2, 7, 9, 6, 2, 5, 8, 9, 7, 5, 1, 1, 1, 9, 7, 6, 8, 9,\n",
            "        7, 6, 8, 6, 4, 9, 2, 4])\n",
            "<class 'torch.Tensor'> torch.Size([128, 1, 28, 28]) tensor([7, 9, 3, 3, 2, 9, 9, 1, 6, 8, 3, 0, 7, 4, 5, 7, 5, 8, 7, 1, 0, 8, 3, 9,\n",
            "        8, 4, 6, 4, 8, 2, 1, 4, 2, 5, 1, 3, 1, 7, 2, 6, 4, 5, 3, 4, 4, 3, 4, 9,\n",
            "        7, 6, 1, 0, 1, 1, 8, 2, 3, 6, 2, 8, 1, 9, 6, 8, 1, 7, 3, 3, 5, 6, 8, 4,\n",
            "        4, 2, 8, 5, 4, 2, 0, 9, 9, 1, 0, 0, 5, 1, 8, 5, 1, 9, 3, 1, 4, 2, 4, 1,\n",
            "        8, 7, 4, 2, 3, 7, 9, 8, 8, 4, 1, 4, 3, 3, 7, 6, 5, 7, 9, 3, 2, 7, 0, 4,\n",
            "        0, 6, 0, 1, 7, 4, 7, 2])\n",
            "<class 'torch.Tensor'> torch.Size([128, 1, 28, 28]) tensor([0, 0, 2, 4, 5, 5, 3, 0, 7, 0, 0, 4, 5, 2, 5, 7, 4, 7, 6, 1, 3, 2, 8, 5,\n",
            "        6, 6, 3, 4, 2, 9, 4, 2, 0, 5, 7, 7, 5, 3, 1, 5, 0, 0, 5, 4, 2, 4, 7, 6,\n",
            "        1, 1, 4, 8, 7, 4, 2, 6, 2, 2, 5, 8, 1, 0, 2, 2, 4, 9, 1, 2, 8, 1, 7, 6,\n",
            "        4, 2, 1, 9, 7, 3, 1, 3, 6, 4, 3, 6, 5, 1, 6, 5, 0, 0, 7, 4, 2, 0, 2, 6,\n",
            "        4, 4, 1, 2, 2, 1, 5, 1, 6, 8, 7, 9, 0, 7, 4, 5, 2, 3, 5, 9, 8, 9, 8, 9,\n",
            "        0, 2, 4, 1, 3, 4, 8, 1])\n",
            "<class 'torch.Tensor'> torch.Size([128, 1, 28, 28]) tensor([4, 3, 7, 0, 2, 0, 5, 9, 2, 5, 3, 3, 5, 2, 4, 2, 3, 5, 2, 1, 4, 2, 3, 5,\n",
            "        9, 1, 6, 4, 1, 0, 9, 6, 9, 4, 3, 5, 1, 4, 1, 0, 8, 0, 0, 4, 1, 0, 2, 7,\n",
            "        4, 0, 4, 4, 9, 8, 0, 7, 5, 6, 0, 6, 9, 7, 2, 6, 6, 3, 6, 2, 0, 8, 7, 0,\n",
            "        3, 6, 0, 9, 4, 3, 8, 9, 9, 9, 7, 1, 1, 4, 1, 6, 7, 7, 3, 0, 6, 7, 2, 0,\n",
            "        1, 7, 5, 3, 1, 0, 3, 3, 0, 9, 7, 0, 2, 3, 8, 3, 7, 9, 6, 4, 0, 4, 7, 8,\n",
            "        0, 2, 4, 4, 6, 9, 4, 5])\n",
            "<class 'torch.Tensor'> torch.Size([128, 1, 28, 28]) tensor([8, 5, 3, 4, 6, 1, 7, 6, 4, 8, 5, 8, 9, 0, 5, 1, 0, 3, 7, 3, 1, 4, 5, 8,\n",
            "        9, 7, 8, 3, 2, 6, 2, 9, 2, 9, 2, 6, 2, 8, 4, 8, 2, 2, 8, 4, 2, 4, 5, 2,\n",
            "        0, 4, 0, 2, 9, 4, 6, 3, 4, 2, 5, 1, 2, 4, 8, 6, 7, 1, 3, 1, 3, 9, 3, 8,\n",
            "        3, 3, 1, 2, 1, 4, 6, 5, 4, 4, 6, 2, 8, 0, 5, 9, 3, 7, 0, 4, 0, 2, 4, 1,\n",
            "        4, 9, 0, 1, 2, 4, 6, 8, 7, 0, 3, 0, 7, 3, 4, 3, 3, 9, 1, 8, 3, 9, 7, 7,\n",
            "        3, 4, 4, 7, 7, 2, 2, 5])\n",
            "<class 'torch.Tensor'> torch.Size([128, 1, 28, 28]) tensor([5, 5, 2, 8, 5, 0, 5, 2, 0, 3, 0, 3, 4, 4, 3, 9, 8, 0, 6, 2, 2, 2, 8, 8,\n",
            "        0, 4, 3, 9, 4, 7, 8, 7, 9, 8, 8, 4, 2, 9, 1, 3, 1, 0, 0, 1, 3, 7, 6, 3,\n",
            "        9, 7, 1, 4, 6, 7, 1, 3, 9, 7, 2, 8, 3, 1, 4, 8, 8, 7, 6, 6, 5, 4, 3, 4,\n",
            "        4, 6, 1, 0, 1, 5, 6, 9, 9, 7, 8, 5, 9, 3, 3, 2, 9, 2, 4, 1, 5, 7, 6, 7,\n",
            "        7, 8, 0, 7, 3, 1, 0, 7, 1, 2, 3, 9, 0, 9, 8, 5, 1, 3, 4, 1, 5, 6, 5, 1,\n",
            "        4, 3, 2, 2, 3, 5, 6, 9])\n",
            "<class 'torch.Tensor'> torch.Size([128, 1, 28, 28]) tensor([4, 5, 5, 8, 3, 5, 4, 9, 0, 9, 9, 7, 5, 8, 4, 0, 3, 9, 7, 2, 7, 1, 0, 2,\n",
            "        9, 6, 4, 6, 6, 9, 1, 6, 2, 8, 4, 4, 9, 8, 1, 2, 9, 6, 4, 6, 5, 0, 9, 6,\n",
            "        9, 0, 8, 1, 7, 2, 0, 8, 4, 2, 1, 3, 4, 2, 0, 4, 7, 7, 2, 7, 8, 6, 8, 3,\n",
            "        3, 1, 7, 2, 4, 3, 9, 8, 5, 4, 8, 7, 1, 2, 3, 5, 8, 5, 0, 1, 6, 5, 3, 3,\n",
            "        3, 6, 4, 8, 2, 1, 0, 2, 4, 2, 2, 5, 6, 9, 8, 7, 3, 6, 1, 7, 0, 5, 7, 0,\n",
            "        3, 4, 0, 6, 9, 6, 5, 1])\n",
            "<class 'torch.Tensor'> torch.Size([128, 1, 28, 28]) tensor([1, 7, 9, 8, 8, 7, 1, 1, 0, 8, 5, 9, 9, 4, 8, 9, 3, 7, 5, 0, 6, 3, 0, 8,\n",
            "        7, 6, 4, 2, 1, 4, 8, 3, 1, 6, 9, 1, 9, 8, 7, 1, 4, 8, 6, 5, 7, 5, 8, 9,\n",
            "        3, 1, 8, 5, 8, 6, 3, 5, 0, 3, 9, 3, 0, 8, 0, 2, 5, 8, 8, 6, 7, 2, 1, 6,\n",
            "        2, 1, 0, 6, 9, 1, 1, 6, 6, 9, 4, 3, 3, 2, 2, 6, 6, 3, 4, 5, 8, 2, 5, 2,\n",
            "        0, 3, 3, 5, 4, 2, 6, 0, 2, 7, 9, 9, 1, 2, 6, 1, 8, 7, 1, 6, 4, 8, 9, 9,\n",
            "        3, 6, 3, 1, 0, 4, 8, 9])\n",
            "<class 'torch.Tensor'> torch.Size([128, 1, 28, 28]) tensor([9, 9, 5, 9, 1, 1, 2, 0, 3, 6, 3, 0, 2, 9, 7, 1, 3, 1, 9, 4, 4, 7, 9, 4,\n",
            "        1, 0, 2, 7, 6, 1, 8, 4, 4, 8, 1, 4, 4, 2, 1, 7, 4, 5, 5, 5, 3, 8, 6, 5,\n",
            "        7, 9, 4, 6, 8, 3, 0, 4, 3, 8, 8, 4, 9, 1, 7, 8, 6, 1, 1, 1, 9, 9, 9, 6,\n",
            "        2, 4, 6, 4, 4, 3, 5, 7, 3, 7, 6, 8, 8, 9, 1, 4, 7, 5, 3, 1, 3, 1, 2, 4,\n",
            "        6, 2, 4, 3, 3, 1, 0, 2, 3, 8, 4, 7, 4, 7, 5, 0, 1, 9, 6, 9, 8, 8, 3, 2,\n",
            "        3, 5, 1, 7, 5, 1, 8, 1])\n",
            "<class 'torch.Tensor'> torch.Size([128, 1, 28, 28]) tensor([9, 2, 3, 6, 5, 8, 0, 8, 0, 4, 6, 0, 2, 6, 7, 9, 4, 0, 3, 8, 7, 4, 8, 6,\n",
            "        4, 4, 9, 0, 5, 5, 1, 5, 0, 5, 3, 3, 8, 6, 1, 2, 5, 9, 1, 3, 0, 5, 8, 6,\n",
            "        3, 2, 2, 6, 8, 7, 8, 2, 3, 6, 2, 3, 7, 9, 2, 7, 2, 7, 2, 6, 3, 7, 1, 1,\n",
            "        6, 1, 5, 3, 1, 0, 1, 5, 5, 0, 7, 0, 7, 4, 7, 2, 7, 3, 5, 3, 8, 4, 3, 3,\n",
            "        3, 8, 4, 6, 1, 5, 6, 8, 4, 8, 5, 8, 0, 2, 2, 5, 6, 0, 1, 0, 3, 7, 1, 1,\n",
            "        2, 7, 1, 0, 7, 6, 0, 9])\n",
            "<class 'torch.Tensor'> torch.Size([128, 1, 28, 28]) tensor([2, 5, 2, 3, 5, 3, 2, 6, 8, 6, 7, 6, 3, 0, 3, 2, 4, 9, 5, 6, 0, 1, 5, 9,\n",
            "        5, 6, 4, 4, 5, 5, 6, 3, 3, 0, 7, 1, 4, 6, 6, 4, 2, 4, 3, 5, 0, 4, 1, 3,\n",
            "        2, 0, 4, 9, 0, 4, 0, 8, 3, 9, 4, 8, 5, 6, 3, 7, 2, 0, 2, 6, 0, 4, 5, 0,\n",
            "        1, 8, 3, 0, 7, 4, 5, 9, 3, 9, 1, 5, 6, 4, 6, 4, 2, 9, 9, 7, 4, 0, 8, 6,\n",
            "        0, 5, 8, 4, 0, 2, 3, 2, 8, 3, 5, 1, 2, 3, 7, 6, 9, 3, 0, 4, 3, 9, 9, 0,\n",
            "        0, 5, 2, 2, 8, 6, 4, 5])\n",
            "<class 'torch.Tensor'> torch.Size([128, 1, 28, 28]) tensor([6, 2, 1, 5, 7, 8, 7, 5, 2, 3, 6, 9, 7, 7, 7, 6, 0, 9, 9, 7, 4, 7, 7, 8,\n",
            "        8, 8, 1, 8, 1, 8, 9, 2, 1, 9, 9, 3, 1, 9, 1, 0, 0, 5, 3, 6, 6, 7, 5, 3,\n",
            "        4, 7, 1, 0, 9, 5, 9, 8, 4, 2, 3, 6, 3, 8, 9, 0, 2, 6, 0, 7, 9, 3, 9, 0,\n",
            "        7, 0, 7, 4, 5, 3, 5, 2, 3, 5, 6, 1, 5, 1, 3, 1, 1, 4, 1, 2, 3, 9, 1, 6,\n",
            "        0, 8, 8, 8, 0, 8, 3, 6, 3, 7, 1, 3, 7, 3, 6, 6, 6, 6, 2, 8, 1, 6, 9, 0,\n",
            "        1, 7, 7, 3, 3, 5, 3, 3])\n",
            "<class 'torch.Tensor'> torch.Size([128, 1, 28, 28]) tensor([9, 6, 0, 8, 6, 7, 6, 2, 3, 8, 5, 1, 9, 2, 7, 3, 7, 4, 4, 7, 5, 8, 1, 8,\n",
            "        3, 4, 1, 5, 7, 4, 4, 3, 0, 6, 2, 5, 8, 4, 5, 7, 0, 2, 9, 9, 9, 6, 2, 3,\n",
            "        4, 7, 1, 2, 2, 3, 1, 1, 0, 0, 9, 8, 2, 9, 5, 8, 9, 4, 2, 1, 7, 1, 9, 8,\n",
            "        0, 3, 1, 2, 3, 8, 0, 9, 6, 7, 0, 6, 0, 0, 2, 4, 2, 1, 7, 7, 7, 0, 9, 4,\n",
            "        1, 8, 5, 8, 7, 1, 1, 3, 5, 1, 8, 3, 6, 0, 9, 7, 7, 6, 0, 8, 5, 5, 4, 4,\n",
            "        6, 2, 2, 1, 2, 3, 3, 3])\n",
            "<class 'torch.Tensor'> torch.Size([128, 1, 28, 28]) tensor([8, 0, 1, 1, 7, 4, 9, 9, 9, 2, 4, 7, 2, 2, 2, 9, 5, 3, 2, 2, 6, 7, 7, 3,\n",
            "        6, 7, 2, 0, 3, 5, 3, 7, 0, 5, 4, 5, 2, 1, 6, 0, 7, 8, 7, 4, 3, 0, 0, 1,\n",
            "        8, 9, 2, 9, 5, 8, 6, 3, 6, 1, 6, 7, 3, 3, 8, 4, 5, 6, 3, 3, 2, 9, 1, 1,\n",
            "        0, 3, 7, 2, 4, 9, 3, 7, 7, 5, 7, 8, 3, 0, 0, 3, 9, 2, 9, 2, 4, 6, 7, 9,\n",
            "        5, 9, 1, 5, 6, 0, 3, 2, 2, 1, 0, 0, 5, 2, 4, 7, 6, 5, 8, 9, 2, 7, 3, 0,\n",
            "        2, 1, 0, 1, 3, 2, 1, 1])\n",
            "<class 'torch.Tensor'> torch.Size([128, 1, 28, 28]) tensor([0, 1, 4, 8, 8, 8, 6, 0, 7, 1, 7, 4, 2, 3, 8, 4, 8, 1, 2, 2, 8, 7, 3, 2,\n",
            "        1, 6, 8, 3, 3, 8, 1, 5, 0, 5, 5, 1, 5, 2, 8, 5, 2, 7, 3, 7, 8, 6, 9, 1,\n",
            "        5, 3, 2, 5, 3, 4, 8, 3, 8, 0, 8, 6, 0, 6, 0, 1, 8, 6, 6, 1, 4, 5, 9, 5,\n",
            "        5, 3, 6, 2, 1, 1, 5, 2, 6, 0, 7, 7, 7, 2, 1, 7, 3, 2, 7, 3, 8, 6, 1, 5,\n",
            "        6, 9, 9, 9, 5, 6, 8, 6, 7, 0, 0, 7, 2, 8, 2, 9, 2, 3, 0, 5, 1, 9, 9, 9,\n",
            "        0, 5, 6, 4, 4, 8, 9, 5])\n",
            "<class 'torch.Tensor'> torch.Size([128, 1, 28, 28]) tensor([0, 1, 1, 7, 2, 3, 3, 6, 7, 9, 4, 8, 9, 0, 5, 6, 4, 2, 6, 7, 7, 3, 9, 4,\n",
            "        2, 9, 5, 8, 6, 0, 3, 2, 5, 1, 9, 0, 0, 0, 0, 2, 6, 6, 7, 0, 2, 7, 5, 2,\n",
            "        9, 5, 2, 4, 4, 0, 9, 0, 3, 0, 2, 3, 5, 1, 3, 1, 6, 3, 3, 4, 5, 3, 7, 5,\n",
            "        8, 6, 3, 0, 7, 8, 1, 0, 6, 4, 2, 7, 3, 9, 6, 9, 2, 1, 9, 2, 7, 8, 8, 9,\n",
            "        8, 9, 3, 0, 1, 9, 5, 2, 4, 5, 3, 0, 1, 3, 6, 1, 3, 6, 5, 9, 1, 6, 4, 6,\n",
            "        0, 8, 9, 0, 8, 7, 1, 2])\n",
            "<class 'torch.Tensor'> torch.Size([128, 1, 28, 28]) tensor([9, 6, 7, 9, 4, 9, 8, 9, 9, 9, 7, 3, 5, 2, 6, 7, 4, 2, 2, 2, 3, 5, 8, 6,\n",
            "        5, 9, 1, 6, 5, 0, 9, 5, 2, 3, 8, 0, 7, 2, 2, 3, 0, 3, 0, 2, 3, 8, 7, 1,\n",
            "        4, 3, 6, 8, 5, 1, 2, 9, 3, 7, 4, 6, 3, 4, 9, 4, 9, 9, 6, 8, 3, 1, 3, 3,\n",
            "        4, 9, 6, 8, 6, 2, 2, 6, 8, 2, 1, 3, 4, 7, 1, 4, 4, 9, 1, 0, 6, 4, 3, 2,\n",
            "        7, 7, 7, 9, 3, 2, 2, 5, 2, 7, 4, 9, 7, 6, 8, 3, 6, 2, 9, 7, 6, 6, 9, 3,\n",
            "        4, 5, 7, 4, 3, 3, 0, 7])\n",
            "<class 'torch.Tensor'> torch.Size([128, 1, 28, 28]) tensor([8, 4, 4, 0, 9, 7, 6, 7, 9, 8, 5, 8, 2, 9, 0, 2, 6, 8, 0, 8, 7, 6, 0, 4,\n",
            "        5, 4, 5, 9, 7, 5, 7, 9, 4, 4, 6, 4, 0, 2, 5, 9, 0, 0, 9, 7, 0, 4, 8, 5,\n",
            "        2, 3, 0, 6, 7, 0, 5, 1, 0, 6, 9, 1, 9, 9, 9, 4, 6, 4, 2, 4, 6, 9, 7, 5,\n",
            "        0, 1, 6, 2, 7, 8, 0, 3, 4, 4, 4, 4, 0, 1, 0, 0, 6, 3, 7, 8, 0, 3, 8, 9,\n",
            "        2, 6, 0, 9, 0, 0, 2, 1, 6, 4, 4, 3, 0, 4, 8, 0, 9, 9, 4, 7, 4, 3, 3, 2,\n",
            "        7, 5, 5, 1, 5, 7, 2, 2])\n",
            "<class 'torch.Tensor'> torch.Size([128, 1, 28, 28]) tensor([5, 1, 4, 4, 8, 9, 0, 0, 3, 6, 3, 9, 3, 7, 8, 2, 9, 0, 6, 0, 1, 0, 8, 7,\n",
            "        5, 7, 5, 0, 0, 2, 3, 1, 8, 6, 1, 7, 1, 4, 0, 8, 6, 1, 5, 6, 9, 3, 2, 2,\n",
            "        2, 2, 9, 7, 6, 0, 7, 4, 2, 4, 3, 9, 6, 1, 2, 5, 4, 8, 0, 0, 5, 3, 0, 0,\n",
            "        1, 5, 9, 6, 7, 1, 9, 3, 3, 9, 3, 0, 1, 5, 7, 4, 0, 9, 2, 6, 7, 5, 4, 4,\n",
            "        4, 0, 1, 3, 5, 4, 6, 8, 9, 1, 5, 8, 3, 2, 1, 7, 1, 1, 7, 6, 6, 3, 3, 6,\n",
            "        3, 0, 6, 6, 5, 2, 6, 6])\n",
            "<class 'torch.Tensor'> torch.Size([128, 1, 28, 28]) tensor([9, 5, 3, 2, 5, 1, 0, 8, 6, 8, 2, 1, 7, 8, 2, 9, 2, 6, 8, 4, 2, 2, 4, 1,\n",
            "        5, 2, 9, 5, 3, 8, 6, 7, 1, 7, 1, 4, 8, 5, 2, 1, 3, 1, 2, 0, 4, 7, 6, 0,\n",
            "        5, 9, 6, 1, 6, 8, 5, 3, 1, 9, 0, 5, 5, 5, 3, 1, 6, 1, 4, 3, 4, 4, 3, 9,\n",
            "        8, 6, 9, 9, 0, 3, 1, 1, 7, 4, 9, 0, 5, 4, 9, 8, 1, 6, 2, 5, 0, 1, 3, 2,\n",
            "        4, 2, 5, 9, 0, 0, 8, 5, 7, 5, 1, 3, 4, 8, 3, 1, 9, 4, 4, 2, 6, 7, 4, 6,\n",
            "        3, 5, 0, 6, 3, 4, 9, 8])\n",
            "<class 'torch.Tensor'> torch.Size([128, 1, 28, 28]) tensor([6, 6, 3, 4, 8, 0, 3, 3, 7, 1, 8, 1, 5, 6, 9, 0, 8, 2, 3, 9, 2, 9, 0, 1,\n",
            "        2, 4, 4, 1, 6, 0, 0, 3, 6, 9, 6, 8, 5, 4, 4, 6, 0, 1, 7, 7, 5, 1, 8, 5,\n",
            "        8, 6, 5, 3, 5, 4, 8, 1, 3, 6, 3, 3, 1, 8, 8, 8, 3, 5, 8, 3, 3, 8, 6, 3,\n",
            "        4, 8, 9, 3, 7, 6, 7, 6, 1, 4, 5, 9, 4, 6, 2, 7, 5, 9, 7, 1, 5, 8, 6, 5,\n",
            "        8, 8, 0, 2, 8, 5, 1, 3, 1, 7, 9, 0, 4, 0, 8, 6, 8, 1, 8, 9, 1, 2, 7, 1,\n",
            "        8, 7, 0, 2, 4, 8, 7, 3])\n",
            "<class 'torch.Tensor'> torch.Size([128, 1, 28, 28]) tensor([2, 4, 3, 5, 7, 3, 3, 5, 6, 9, 6, 5, 2, 0, 2, 7, 3, 5, 5, 9, 6, 1, 6, 6,\n",
            "        5, 9, 7, 1, 8, 5, 4, 9, 7, 7, 3, 8, 4, 3, 9, 0, 1, 4, 6, 5, 0, 9, 7, 0,\n",
            "        3, 7, 3, 6, 5, 0, 3, 7, 4, 4, 7, 2, 5, 5, 6, 0, 9, 1, 3, 1, 8, 9, 3, 1,\n",
            "        2, 0, 9, 5, 9, 1, 1, 2, 1, 1, 6, 8, 1, 3, 4, 2, 6, 2, 7, 7, 8, 7, 9, 8,\n",
            "        3, 6, 4, 1, 4, 1, 5, 1, 6, 3, 0, 2, 3, 6, 6, 4, 1, 7, 7, 9, 8, 3, 1, 5,\n",
            "        2, 7, 0, 5, 7, 1, 2, 7])\n",
            "<class 'torch.Tensor'> torch.Size([128, 1, 28, 28]) tensor([4, 5, 2, 1, 9, 8, 4, 8, 2, 1, 3, 2, 6, 8, 0, 0, 4, 8, 9, 9, 4, 9, 6, 9,\n",
            "        0, 4, 1, 9, 4, 8, 3, 1, 9, 6, 7, 9, 6, 7, 3, 7, 2, 7, 8, 2, 1, 9, 4, 1,\n",
            "        9, 4, 4, 7, 6, 4, 3, 2, 7, 2, 3, 8, 6, 5, 7, 1, 7, 4, 6, 3, 8, 0, 4, 2,\n",
            "        1, 4, 1, 8, 6, 5, 2, 9, 1, 4, 6, 4, 9, 2, 4, 4, 7, 5, 3, 2, 0, 7, 7, 7,\n",
            "        2, 9, 1, 4, 7, 0, 8, 8, 8, 4, 5, 4, 1, 4, 6, 9, 0, 1, 1, 4, 8, 2, 1, 3,\n",
            "        7, 7, 4, 6, 7, 9, 1, 7])\n",
            "<class 'torch.Tensor'> torch.Size([128, 1, 28, 28]) tensor([8, 6, 2, 0, 1, 9, 3, 0, 1, 0, 6, 9, 0, 7, 1, 1, 9, 9, 7, 9, 4, 9, 9, 4,\n",
            "        7, 2, 7, 2, 6, 6, 8, 4, 9, 8, 3, 6, 6, 8, 8, 4, 1, 8, 5, 2, 4, 4, 7, 5,\n",
            "        1, 8, 7, 2, 5, 1, 5, 3, 5, 3, 9, 6, 5, 5, 0, 0, 8, 4, 1, 4, 4, 6, 7, 8,\n",
            "        4, 2, 3, 8, 6, 7, 5, 3, 9, 5, 3, 6, 6, 6, 5, 0, 0, 3, 6, 3, 3, 6, 9, 3,\n",
            "        0, 7, 2, 6, 4, 2, 3, 4, 6, 3, 5, 9, 1, 2, 5, 4, 1, 7, 4, 8, 1, 4, 3, 9,\n",
            "        6, 4, 4, 7, 2, 7, 3, 4])\n",
            "<class 'torch.Tensor'> torch.Size([128, 1, 28, 28]) tensor([0, 9, 8, 6, 2, 5, 6, 1, 6, 1, 0, 8, 7, 6, 4, 8, 4, 8, 2, 5, 1, 1, 2, 3,\n",
            "        7, 3, 5, 4, 9, 2, 3, 0, 9, 6, 0, 7, 4, 1, 4, 8, 5, 1, 7, 5, 6, 9, 6, 3,\n",
            "        3, 9, 7, 1, 9, 5, 4, 1, 3, 6, 8, 0, 0, 0, 1, 0, 9, 1, 0, 9, 3, 9, 6, 4,\n",
            "        8, 7, 3, 0, 5, 0, 6, 0, 5, 1, 1, 4, 5, 5, 3, 9, 9, 2, 6, 7, 4, 3, 2, 5,\n",
            "        4, 2, 3, 0, 0, 3, 8, 9, 6, 9, 9, 1, 1, 2, 2, 9, 3, 8, 3, 1, 7, 4, 5, 2,\n",
            "        8, 4, 3, 2, 8, 0, 2, 3])\n",
            "<class 'torch.Tensor'> torch.Size([128, 1, 28, 28]) tensor([7, 5, 8, 6, 4, 7, 7, 6, 7, 1, 7, 0, 9, 1, 7, 9, 6, 8, 7, 6, 7, 5, 7, 5,\n",
            "        6, 3, 4, 1, 1, 1, 5, 9, 4, 3, 2, 5, 7, 9, 9, 8, 9, 6, 4, 6, 7, 1, 9, 0,\n",
            "        3, 1, 5, 6, 9, 2, 8, 0, 8, 3, 8, 2, 1, 5, 5, 5, 8, 9, 8, 0, 4, 7, 9, 2,\n",
            "        1, 4, 1, 6, 1, 7, 1, 3, 3, 8, 1, 9, 0, 6, 2, 0, 4, 7, 0, 6, 0, 2, 7, 8,\n",
            "        3, 6, 5, 6, 2, 8, 2, 7, 5, 1, 8, 7, 9, 1, 6, 1, 8, 3, 7, 7, 3, 3, 0, 8,\n",
            "        2, 7, 9, 2, 9, 9, 7, 1])\n",
            "<class 'torch.Tensor'> torch.Size([128, 1, 28, 28]) tensor([6, 6, 3, 1, 8, 4, 7, 7, 5, 9, 1, 2, 2, 0, 2, 4, 7, 0, 6, 3, 5, 5, 4, 0,\n",
            "        2, 8, 0, 8, 7, 1, 3, 3, 8, 9, 7, 7, 4, 2, 1, 8, 8, 6, 7, 5, 9, 6, 6, 9,\n",
            "        3, 0, 2, 1, 7, 4, 8, 2, 6, 5, 4, 1, 0, 7, 8, 9, 0, 6, 7, 1, 2, 1, 1, 3,\n",
            "        8, 3, 7, 2, 7, 0, 8, 6, 1, 2, 3, 1, 5, 9, 9, 9, 2, 7, 8, 2, 2, 7, 9, 9,\n",
            "        5, 0, 5, 2, 2, 8, 7, 1, 4, 1, 4, 5, 3, 6, 0, 9, 2, 0, 5, 0, 3, 9, 7, 3,\n",
            "        3, 2, 1, 4, 0, 7, 5, 6])\n",
            "<class 'torch.Tensor'> torch.Size([128, 1, 28, 28]) tensor([3, 1, 4, 8, 4, 7, 9, 2, 8, 0, 9, 1, 7, 2, 7, 5, 7, 9, 5, 7, 4, 7, 3, 6,\n",
            "        6, 9, 1, 9, 0, 2, 7, 1, 7, 4, 9, 1, 8, 5, 5, 8, 3, 5, 0, 1, 7, 5, 0, 9,\n",
            "        4, 8, 3, 2, 4, 8, 9, 1, 0, 0, 7, 2, 6, 9, 3, 7, 9, 0, 3, 2, 9, 2, 0, 5,\n",
            "        6, 3, 7, 5, 6, 0, 2, 8, 2, 6, 8, 6, 1, 3, 4, 4, 0, 0, 3, 4, 7, 0, 6, 9,\n",
            "        9, 1, 4, 9, 2, 7, 7, 6, 1, 4, 7, 3, 3, 3, 8, 0, 9, 1, 5, 3, 2, 6, 7, 5,\n",
            "        6, 2, 6, 8, 2, 3, 8, 0])\n",
            "<class 'torch.Tensor'> torch.Size([128, 1, 28, 28]) tensor([0, 6, 4, 2, 6, 1, 1, 0, 2, 1, 9, 7, 8, 7, 0, 7, 4, 8, 1, 5, 7, 7, 4, 6,\n",
            "        4, 2, 2, 6, 5, 3, 5, 9, 0, 5, 9, 9, 9, 4, 0, 2, 7, 4, 8, 4, 4, 4, 0, 0,\n",
            "        0, 9, 5, 4, 5, 8, 7, 9, 1, 0, 3, 2, 0, 5, 3, 6, 1, 1, 3, 4, 5, 1, 5, 1,\n",
            "        3, 1, 5, 8, 9, 6, 2, 3, 9, 4, 4, 1, 1, 3, 3, 4, 4, 9, 1, 6, 6, 9, 1, 9,\n",
            "        0, 5, 1, 9, 2, 7, 8, 1, 2, 2, 5, 1, 2, 0, 3, 3, 9, 4, 7, 0, 4, 5, 0, 2,\n",
            "        0, 0, 1, 6, 3, 4, 3, 6])\n",
            "<class 'torch.Tensor'> torch.Size([128, 1, 28, 28]) tensor([5, 5, 1, 7, 4, 4, 7, 5, 1, 0, 0, 9, 2, 8, 7, 7, 5, 6, 5, 0, 3, 0, 9, 7,\n",
            "        4, 8, 2, 8, 1, 4, 4, 5, 7, 2, 6, 2, 3, 9, 7, 5, 8, 7, 2, 2, 1, 7, 4, 0,\n",
            "        8, 5, 0, 7, 5, 0, 9, 1, 4, 4, 5, 0, 5, 0, 6, 8, 4, 2, 6, 4, 9, 1, 3, 7,\n",
            "        8, 2, 9, 2, 7, 4, 5, 6, 4, 3, 3, 3, 6, 4, 1, 7, 9, 4, 2, 5, 4, 5, 1, 1,\n",
            "        8, 9, 2, 1, 7, 9, 6, 1, 6, 8, 8, 3, 3, 5, 8, 7, 1, 1, 7, 0, 7, 8, 9, 1,\n",
            "        7, 0, 6, 7, 2, 6, 2, 5])\n",
            "<class 'torch.Tensor'> torch.Size([128, 1, 28, 28]) tensor([3, 2, 1, 7, 0, 3, 4, 0, 4, 1, 8, 8, 8, 9, 7, 6, 7, 3, 2, 9, 4, 0, 9, 1,\n",
            "        0, 3, 0, 2, 9, 9, 7, 8, 0, 9, 9, 9, 0, 0, 3, 0, 8, 6, 1, 0, 2, 1, 9, 3,\n",
            "        4, 4, 8, 6, 8, 7, 8, 9, 1, 0, 7, 3, 7, 5, 9, 4, 6, 0, 4, 7, 5, 3, 6, 5,\n",
            "        9, 2, 4, 5, 4, 7, 2, 0, 5, 8, 6, 9, 0, 3, 3, 9, 4, 9, 6, 1, 3, 1, 1, 3,\n",
            "        9, 0, 4, 6, 3, 5, 1, 9, 8, 2, 0, 7, 9, 7, 9, 3, 7, 1, 3, 0, 6, 3, 3, 5,\n",
            "        5, 1, 6, 1, 8, 1, 3, 2])\n",
            "<class 'torch.Tensor'> torch.Size([128, 1, 28, 28]) tensor([6, 1, 4, 6, 5, 1, 8, 1, 7, 0, 1, 2, 0, 9, 7, 5, 3, 3, 1, 7, 0, 5, 4, 8,\n",
            "        7, 9, 2, 8, 6, 4, 6, 0, 1, 7, 0, 5, 2, 7, 4, 0, 2, 5, 1, 1, 2, 7, 6, 1,\n",
            "        5, 6, 3, 8, 3, 8, 7, 0, 6, 6, 3, 9, 1, 1, 8, 8, 5, 3, 4, 8, 4, 3, 8, 9,\n",
            "        8, 1, 7, 2, 4, 8, 7, 0, 7, 8, 9, 2, 3, 0, 1, 8, 8, 3, 9, 6, 9, 1, 7, 1,\n",
            "        5, 5, 4, 3, 8, 0, 7, 9, 6, 2, 5, 3, 6, 0, 4, 7, 3, 5, 7, 1, 5, 7, 7, 7,\n",
            "        0, 3, 9, 6, 5, 7, 2, 9])\n",
            "<class 'torch.Tensor'> torch.Size([128, 1, 28, 28]) tensor([4, 8, 2, 8, 0, 6, 1, 8, 5, 7, 6, 1, 7, 5, 0, 9, 2, 7, 2, 8, 1, 5, 2, 9,\n",
            "        1, 8, 6, 0, 3, 7, 0, 5, 2, 0, 5, 3, 3, 7, 9, 9, 1, 8, 6, 2, 6, 7, 2, 6,\n",
            "        5, 4, 3, 1, 7, 6, 3, 2, 7, 8, 1, 2, 5, 9, 3, 1, 7, 2, 7, 9, 3, 4, 8, 0,\n",
            "        3, 0, 3, 3, 9, 3, 3, 5, 0, 8, 9, 7, 8, 2, 6, 1, 1, 1, 8, 4, 4, 8, 0, 7,\n",
            "        8, 2, 0, 3, 9, 2, 2, 4, 7, 4, 2, 1, 4, 6, 5, 0, 8, 2, 1, 9, 3, 1, 1, 1,\n",
            "        1, 7, 9, 9, 9, 1, 1, 7])\n",
            "<class 'torch.Tensor'> torch.Size([128, 1, 28, 28]) tensor([4, 9, 7, 0, 0, 1, 6, 5, 5, 2, 3, 0, 3, 7, 7, 6, 3, 8, 5, 2, 2, 0, 2, 8,\n",
            "        1, 7, 8, 1, 3, 7, 6, 8, 2, 8, 6, 4, 2, 7, 9, 1, 1, 2, 4, 5, 8, 7, 2, 0,\n",
            "        9, 4, 3, 6, 0, 0, 5, 9, 0, 4, 9, 0, 0, 6, 0, 3, 8, 1, 4, 9, 5, 8, 6, 9,\n",
            "        2, 4, 3, 5, 8, 8, 9, 2, 7, 9, 3, 9, 2, 1, 6, 2, 9, 8, 3, 0, 0, 6, 1, 5,\n",
            "        7, 7, 0, 8, 2, 7, 2, 3, 4, 2, 2, 5, 3, 1, 2, 7, 9, 7, 4, 2, 4, 7, 9, 8,\n",
            "        3, 8, 3, 9, 7, 4, 9, 4])\n",
            "<class 'torch.Tensor'> torch.Size([128, 1, 28, 28]) tensor([3, 0, 3, 7, 2, 5, 0, 7, 1, 1, 8, 8, 5, 9, 7, 7, 1, 7, 0, 1, 7, 9, 0, 7,\n",
            "        3, 1, 8, 6, 2, 2, 0, 6, 5, 6, 5, 5, 1, 9, 2, 8, 7, 6, 3, 9, 1, 7, 6, 3,\n",
            "        1, 6, 4, 2, 9, 1, 1, 2, 5, 4, 8, 1, 3, 0, 4, 7, 6, 0, 7, 1, 5, 1, 1, 4,\n",
            "        4, 4, 5, 0, 6, 5, 0, 2, 3, 8, 6, 8, 3, 5, 7, 7, 3, 0, 0, 7, 8, 0, 6, 4,\n",
            "        1, 9, 0, 4, 5, 3, 9, 6, 3, 2, 4, 2, 4, 4, 6, 3, 3, 0, 4, 3, 9, 3, 2, 4,\n",
            "        4, 7, 7, 2, 4, 7, 9, 1])\n",
            "<class 'torch.Tensor'> torch.Size([128, 1, 28, 28]) tensor([6, 2, 1, 5, 4, 4, 4, 1, 4, 7, 6, 9, 7, 5, 7, 4, 4, 2, 3, 7, 5, 7, 0, 0,\n",
            "        3, 5, 5, 4, 8, 5, 9, 2, 0, 3, 5, 6, 3, 3, 4, 9, 8, 8, 1, 2, 5, 2, 9, 2,\n",
            "        6, 5, 6, 8, 2, 3, 1, 6, 5, 1, 6, 4, 2, 5, 4, 3, 4, 1, 5, 2, 0, 8, 2, 6,\n",
            "        4, 3, 2, 9, 3, 6, 0, 2, 4, 9, 0, 3, 6, 9, 7, 6, 7, 7, 6, 1, 7, 9, 0, 4,\n",
            "        5, 0, 6, 1, 1, 1, 6, 1, 3, 1, 2, 2, 0, 6, 9, 8, 0, 5, 9, 1, 5, 2, 5, 3,\n",
            "        8, 0, 6, 3, 8, 7, 3, 8])\n",
            "<class 'torch.Tensor'> torch.Size([128, 1, 28, 28]) tensor([4, 6, 4, 0, 7, 4, 2, 1, 2, 2, 9, 0, 7, 0, 7, 5, 9, 0, 4, 3, 8, 0, 5, 2,\n",
            "        7, 8, 9, 9, 0, 4, 1, 7, 4, 7, 0, 7, 6, 3, 8, 6, 1, 1, 5, 3, 1, 3, 9, 7,\n",
            "        5, 0, 7, 6, 1, 3, 2, 8, 7, 3, 6, 7, 8, 9, 1, 4, 7, 6, 5, 9, 8, 6, 3, 3,\n",
            "        7, 1, 7, 6, 3, 0, 4, 7, 8, 0, 8, 1, 8, 6, 0, 1, 6, 9, 5, 6, 4, 8, 3, 9,\n",
            "        0, 8, 1, 9, 5, 8, 5, 6, 4, 2, 1, 8, 3, 5, 7, 5, 2, 0, 7, 2, 1, 6, 9, 5,\n",
            "        6, 1, 9, 0, 7, 8, 5, 4])\n",
            "<class 'torch.Tensor'> torch.Size([128, 1, 28, 28]) tensor([0, 7, 0, 8, 4, 5, 7, 0, 4, 4, 0, 4, 5, 3, 4, 3, 7, 2, 6, 7, 1, 5, 4, 2,\n",
            "        6, 0, 3, 5, 0, 9, 3, 1, 1, 2, 9, 9, 2, 1, 3, 0, 3, 7, 1, 4, 0, 4, 8, 4,\n",
            "        9, 1, 8, 3, 2, 9, 4, 6, 5, 0, 0, 7, 0, 6, 2, 1, 6, 1, 1, 8, 2, 3, 0, 8,\n",
            "        0, 7, 9, 7, 4, 4, 9, 1, 9, 6, 7, 4, 4, 0, 7, 0, 0, 9, 3, 8, 3, 0, 1, 1,\n",
            "        6, 1, 9, 1, 0, 8, 3, 1, 7, 6, 1, 5, 1, 5, 2, 2, 6, 0, 8, 1, 3, 5, 7, 6,\n",
            "        5, 5, 9, 5, 2, 9, 9, 1])\n",
            "<class 'torch.Tensor'> torch.Size([128, 1, 28, 28]) tensor([6, 1, 4, 8, 0, 2, 1, 2, 2, 6, 7, 3, 9, 2, 8, 1, 0, 5, 1, 4, 1, 6, 9, 5,\n",
            "        7, 7, 7, 8, 3, 9, 9, 9, 1, 9, 1, 4, 6, 0, 2, 8, 0, 0, 3, 4, 6, 9, 1, 9,\n",
            "        6, 2, 9, 8, 5, 3, 4, 1, 7, 4, 7, 1, 3, 4, 7, 4, 7, 0, 9, 6, 4, 6, 3, 6,\n",
            "        6, 9, 0, 9, 1, 2, 7, 0, 8, 7, 8, 6, 0, 4, 0, 2, 4, 9, 8, 9, 8, 4, 1, 8,\n",
            "        3, 7, 6, 9, 7, 3, 7, 1, 9, 8, 4, 4, 4, 9, 3, 7, 9, 8, 0, 8, 0, 1, 8, 6,\n",
            "        0, 1, 3, 6, 6, 2, 8, 8])\n",
            "<class 'torch.Tensor'> torch.Size([128, 1, 28, 28]) tensor([0, 5, 2, 8, 5, 1, 8, 0, 5, 9, 8, 4, 3, 0, 5, 6, 8, 7, 3, 3, 3, 7, 7, 2,\n",
            "        1, 2, 2, 7, 0, 1, 9, 9, 2, 9, 4, 6, 8, 0, 2, 2, 7, 6, 1, 7, 8, 8, 5, 8,\n",
            "        2, 7, 2, 0, 9, 8, 7, 2, 3, 4, 0, 4, 4, 5, 5, 7, 7, 9, 8, 8, 7, 7, 7, 2,\n",
            "        2, 3, 4, 1, 3, 3, 8, 3, 7, 8, 8, 6, 5, 9, 0, 6, 7, 5, 1, 4, 6, 8, 8, 5,\n",
            "        0, 1, 0, 5, 1, 3, 2, 4, 7, 6, 7, 0, 2, 3, 9, 2, 1, 6, 7, 3, 9, 4, 8, 2,\n",
            "        0, 0, 4, 8, 6, 5, 1, 4])\n",
            "<class 'torch.Tensor'> torch.Size([128, 1, 28, 28]) tensor([4, 9, 3, 6, 9, 8, 0, 5, 0, 7, 4, 2, 8, 9, 2, 7, 2, 4, 9, 8, 0, 8, 5, 2,\n",
            "        2, 7, 1, 1, 2, 9, 5, 2, 7, 4, 4, 2, 4, 0, 3, 1, 6, 8, 2, 3, 3, 0, 3, 6,\n",
            "        8, 0, 0, 1, 6, 1, 6, 2, 8, 3, 8, 8, 9, 7, 4, 8, 1, 3, 3, 8, 8, 8, 2, 7,\n",
            "        4, 4, 2, 9, 7, 6, 4, 1, 9, 0, 3, 3, 0, 9, 1, 8, 4, 9, 6, 7, 8, 4, 0, 5,\n",
            "        9, 5, 0, 7, 8, 3, 8, 4, 1, 9, 1, 2, 0, 7, 8, 0, 6, 7, 6, 3, 5, 6, 1, 0,\n",
            "        8, 3, 9, 7, 0, 5, 7, 4])\n",
            "<class 'torch.Tensor'> torch.Size([128, 1, 28, 28]) tensor([4, 1, 4, 6, 0, 3, 7, 3, 0, 4, 7, 4, 4, 7, 2, 7, 9, 0, 8, 5, 4, 6, 0, 7,\n",
            "        9, 5, 8, 6, 1, 7, 0, 0, 5, 1, 7, 4, 4, 0, 9, 9, 1, 1, 1, 5, 8, 2, 9, 1,\n",
            "        0, 6, 4, 4, 7, 1, 6, 0, 2, 9, 6, 4, 0, 8, 4, 2, 3, 8, 0, 5, 2, 9, 9, 3,\n",
            "        6, 4, 8, 2, 6, 4, 8, 9, 3, 1, 9, 5, 1, 7, 5, 7, 1, 5, 1, 2, 8, 4, 0, 8,\n",
            "        5, 1, 2, 6, 0, 1, 4, 0, 4, 8, 1, 5, 4, 6, 4, 6, 7, 1, 6, 1, 5, 8, 6, 2,\n",
            "        8, 6, 2, 4, 0, 2, 5, 3])\n",
            "<class 'torch.Tensor'> torch.Size([128, 1, 28, 28]) tensor([7, 4, 4, 7, 1, 1, 7, 1, 0, 4, 3, 3, 5, 1, 7, 6, 4, 6, 1, 5, 7, 1, 2, 1,\n",
            "        6, 8, 0, 6, 8, 2, 4, 3, 1, 7, 2, 0, 4, 9, 6, 2, 5, 8, 3, 9, 5, 7, 0, 7,\n",
            "        3, 2, 9, 4, 0, 8, 5, 0, 4, 3, 4, 2, 7, 2, 0, 6, 3, 2, 5, 7, 0, 5, 7, 1,\n",
            "        6, 2, 8, 1, 8, 1, 9, 9, 1, 5, 2, 8, 4, 5, 1, 6, 3, 0, 5, 2, 5, 7, 2, 9,\n",
            "        1, 5, 4, 9, 6, 0, 9, 4, 3, 3, 6, 7, 0, 2, 9, 0, 1, 9, 6, 2, 8, 3, 3, 7,\n",
            "        5, 6, 4, 1, 2, 3, 5, 1])\n",
            "<class 'torch.Tensor'> torch.Size([128, 1, 28, 28]) tensor([1, 0, 6, 5, 4, 2, 1, 0, 8, 2, 7, 3, 2, 9, 1, 3, 5, 1, 5, 6, 2, 9, 0, 4,\n",
            "        0, 6, 9, 5, 0, 1, 3, 7, 2, 6, 1, 5, 3, 3, 2, 7, 5, 3, 4, 4, 4, 5, 2, 7,\n",
            "        6, 3, 5, 7, 6, 8, 1, 0, 7, 4, 2, 3, 9, 8, 2, 5, 9, 4, 2, 7, 5, 5, 1, 1,\n",
            "        6, 6, 6, 7, 4, 6, 7, 7, 1, 9, 5, 0, 2, 7, 2, 0, 8, 4, 7, 4, 9, 7, 9, 5,\n",
            "        1, 8, 3, 3, 6, 6, 3, 1, 7, 9, 9, 6, 3, 2, 4, 3, 0, 7, 9, 6, 5, 7, 0, 3,\n",
            "        3, 7, 7, 4, 9, 0, 9, 0])\n",
            "<class 'torch.Tensor'> torch.Size([128, 1, 28, 28]) tensor([3, 9, 7, 8, 2, 2, 5, 0, 7, 4, 8, 9, 6, 9, 1, 8, 1, 8, 2, 5, 6, 4, 7, 9,\n",
            "        7, 9, 0, 8, 6, 3, 7, 2, 4, 5, 5, 9, 1, 4, 7, 3, 7, 1, 2, 4, 4, 4, 1, 4,\n",
            "        7, 0, 1, 3, 6, 7, 9, 9, 8, 2, 8, 8, 6, 9, 1, 8, 2, 4, 5, 2, 6, 2, 3, 3,\n",
            "        6, 8, 4, 1, 2, 5, 6, 1, 7, 6, 2, 3, 7, 5, 1, 3, 4, 1, 0, 3, 9, 0, 1, 2,\n",
            "        9, 1, 6, 7, 1, 1, 6, 5, 9, 1, 2, 6, 3, 3, 0, 9, 8, 3, 7, 7, 3, 7, 7, 3,\n",
            "        3, 1, 1, 2, 1, 2, 3, 2])\n",
            "<class 'torch.Tensor'> torch.Size([128, 1, 28, 28]) tensor([4, 6, 6, 0, 4, 6, 7, 0, 0, 1, 9, 3, 0, 5, 3, 2, 6, 3, 1, 2, 8, 4, 7, 7,\n",
            "        1, 4, 3, 5, 9, 2, 9, 4, 4, 1, 0, 3, 2, 2, 6, 2, 7, 1, 9, 3, 0, 4, 8, 7,\n",
            "        6, 7, 4, 8, 8, 9, 2, 0, 2, 5, 9, 4, 6, 5, 0, 1, 3, 8, 5, 2, 2, 3, 0, 7,\n",
            "        4, 0, 4, 6, 0, 3, 7, 2, 8, 1, 2, 9, 9, 9, 9, 1, 5, 5, 3, 6, 0, 7, 6, 8,\n",
            "        7, 0, 2, 3, 7, 5, 3, 9, 7, 7, 2, 7, 5, 0, 9, 2, 7, 9, 7, 8, 8, 0, 1, 4,\n",
            "        1, 2, 1, 9, 8, 0, 6, 7])\n",
            "<class 'torch.Tensor'> torch.Size([128, 1, 28, 28]) tensor([6, 7, 3, 0, 2, 3, 4, 4, 0, 6, 8, 8, 3, 1, 7, 7, 1, 8, 7, 7, 2, 4, 2, 3,\n",
            "        3, 0, 3, 6, 7, 1, 3, 3, 4, 4, 9, 4, 3, 2, 2, 6, 4, 5, 4, 5, 2, 7, 6, 5,\n",
            "        4, 5, 6, 3, 4, 1, 1, 7, 7, 1, 6, 0, 0, 2, 2, 3, 5, 1, 4, 8, 1, 8, 8, 2,\n",
            "        9, 4, 7, 2, 2, 5, 1, 2, 5, 8, 7, 4, 3, 6, 8, 9, 9, 5, 8, 0, 9, 0, 7, 0,\n",
            "        5, 8, 7, 6, 8, 2, 0, 9, 7, 1, 7, 1, 3, 1, 2, 9, 4, 6, 8, 9, 1, 8, 9, 1,\n",
            "        5, 8, 1, 6, 1, 8, 4, 7])\n",
            "<class 'torch.Tensor'> torch.Size([128, 1, 28, 28]) tensor([1, 6, 3, 0, 1, 6, 4, 3, 0, 0, 2, 1, 8, 4, 2, 3, 6, 9, 5, 9, 4, 4, 2, 9,\n",
            "        2, 5, 1, 7, 1, 5, 3, 0, 0, 5, 1, 2, 8, 7, 6, 5, 6, 6, 0, 4, 9, 8, 9, 7,\n",
            "        1, 7, 5, 1, 8, 2, 2, 2, 2, 0, 7, 4, 1, 5, 6, 1, 9, 8, 9, 6, 5, 8, 3, 2,\n",
            "        4, 0, 3, 7, 2, 8, 2, 1, 2, 0, 2, 5, 7, 0, 0, 9, 7, 9, 9, 1, 6, 2, 8, 8,\n",
            "        3, 9, 5, 5, 5, 7, 0, 7, 8, 3, 7, 3, 6, 1, 6, 8, 0, 6, 1, 3, 2, 3, 7, 3,\n",
            "        7, 6, 0, 3, 8, 7, 0, 7])\n",
            "<class 'torch.Tensor'> torch.Size([128, 1, 28, 28]) tensor([6, 5, 2, 8, 1, 4, 1, 4, 9, 3, 1, 4, 7, 4, 6, 4, 4, 9, 3, 1, 6, 4, 2, 1,\n",
            "        7, 8, 2, 4, 5, 7, 0, 3, 0, 5, 5, 1, 4, 0, 3, 6, 6, 6, 6, 0, 7, 6, 1, 4,\n",
            "        1, 1, 9, 1, 1, 8, 1, 2, 4, 6, 5, 2, 9, 9, 9, 4, 7, 3, 8, 4, 3, 4, 1, 1,\n",
            "        9, 0, 2, 3, 8, 4, 3, 2, 8, 4, 9, 1, 3, 1, 1, 0, 2, 6, 7, 2, 4, 7, 9, 7,\n",
            "        8, 3, 0, 8, 0, 9, 8, 9, 0, 8, 3, 8, 0, 8, 7, 1, 3, 2, 7, 6, 8, 2, 1, 2,\n",
            "        5, 1, 1, 9, 9, 3, 2, 6])\n",
            "<class 'torch.Tensor'> torch.Size([128, 1, 28, 28]) tensor([5, 6, 8, 8, 1, 0, 8, 8, 2, 1, 1, 0, 4, 3, 9, 0, 3, 4, 9, 8, 0, 9, 4, 7,\n",
            "        6, 7, 5, 0, 7, 2, 6, 4, 0, 0, 8, 1, 8, 2, 9, 7, 5, 0, 3, 4, 7, 5, 9, 5,\n",
            "        6, 9, 8, 5, 0, 4, 4, 1, 2, 6, 7, 7, 8, 8, 7, 9, 2, 7, 3, 8, 1, 2, 9, 3,\n",
            "        8, 5, 7, 4, 1, 1, 1, 8, 0, 0, 3, 7, 7, 9, 7, 1, 3, 3, 7, 6, 9, 9, 2, 4,\n",
            "        7, 3, 4, 5, 5, 1, 0, 7, 7, 0, 3, 0, 9, 4, 4, 4, 5, 9, 7, 1, 5, 1, 7, 9,\n",
            "        1, 3, 8, 1, 8, 6, 1, 5])\n",
            "<class 'torch.Tensor'> torch.Size([128, 1, 28, 28]) tensor([6, 6, 1, 5, 8, 5, 0, 5, 6, 9, 0, 5, 7, 6, 5, 4, 9, 3, 3, 5, 7, 0, 2, 1,\n",
            "        5, 9, 0, 3, 7, 7, 5, 4, 7, 6, 0, 6, 2, 0, 7, 6, 9, 2, 5, 7, 0, 8, 7, 7,\n",
            "        6, 2, 4, 4, 4, 5, 9, 2, 6, 7, 3, 2, 9, 0, 0, 0, 5, 7, 8, 9, 3, 8, 3, 7,\n",
            "        2, 1, 3, 1, 6, 5, 5, 2, 9, 8, 0, 4, 2, 3, 0, 0, 2, 0, 6, 5, 7, 2, 4, 6,\n",
            "        0, 3, 6, 0, 1, 7, 0, 7, 3, 1, 9, 7, 1, 3, 4, 8, 6, 4, 7, 3, 6, 9, 1, 8,\n",
            "        9, 9, 4, 4, 2, 4, 7, 3])\n",
            "<class 'torch.Tensor'> torch.Size([128, 1, 28, 28]) tensor([6, 1, 9, 4, 5, 1, 9, 0, 4, 6, 7, 5, 2, 1, 1, 9, 9, 3, 3, 4, 4, 7, 2, 3,\n",
            "        6, 8, 3, 2, 3, 7, 4, 9, 9, 1, 3, 5, 6, 4, 2, 1, 9, 8, 5, 0, 3, 9, 1, 4,\n",
            "        3, 5, 9, 0, 6, 5, 8, 5, 0, 4, 0, 5, 8, 0, 2, 8, 6, 8, 7, 1, 7, 1, 8, 7,\n",
            "        5, 4, 3, 0, 2, 6, 5, 7, 6, 8, 5, 7, 1, 2, 9, 2, 1, 1, 1, 1, 1, 5, 7, 7,\n",
            "        1, 5, 4, 4, 7, 8, 5, 4, 3, 7, 2, 2, 7, 5, 4, 4, 9, 0, 2, 5, 8, 3, 2, 2,\n",
            "        7, 8, 0, 9, 2, 3, 3, 3])\n",
            "<class 'torch.Tensor'> torch.Size([128, 1, 28, 28]) tensor([4, 2, 6, 0, 1, 7, 4, 9, 6, 7, 7, 8, 8, 9, 4, 3, 8, 0, 3, 3, 6, 0, 2, 4,\n",
            "        4, 2, 6, 6, 6, 1, 0, 2, 0, 6, 7, 7, 9, 3, 5, 4, 8, 0, 4, 5, 3, 5, 5, 9,\n",
            "        0, 0, 2, 3, 6, 4, 1, 3, 7, 2, 6, 1, 5, 7, 1, 4, 8, 6, 7, 7, 9, 1, 0, 3,\n",
            "        0, 0, 7, 1, 3, 9, 0, 1, 6, 0, 2, 7, 0, 1, 5, 6, 9, 3, 1, 9, 7, 3, 2, 2,\n",
            "        6, 7, 3, 7, 6, 8, 2, 5, 9, 8, 6, 0, 3, 2, 8, 0, 7, 9, 6, 8, 3, 9, 3, 2,\n",
            "        1, 0, 9, 1, 9, 6, 7, 1])\n",
            "<class 'torch.Tensor'> torch.Size([128, 1, 28, 28]) tensor([6, 6, 4, 3, 6, 6, 0, 7, 5, 3, 4, 1, 9, 3, 1, 8, 8, 9, 7, 4, 7, 3, 8, 6,\n",
            "        5, 2, 5, 2, 8, 8, 5, 6, 4, 8, 5, 9, 0, 6, 9, 2, 0, 8, 6, 7, 9, 5, 8, 9,\n",
            "        0, 2, 6, 3, 8, 1, 1, 1, 4, 5, 9, 8, 7, 6, 8, 4, 6, 5, 2, 7, 3, 0, 2, 0,\n",
            "        3, 4, 0, 6, 0, 4, 4, 3, 8, 9, 2, 1, 1, 8, 1, 9, 1, 2, 7, 9, 5, 5, 7, 7,\n",
            "        1, 9, 1, 3, 5, 6, 7, 1, 0, 1, 6, 8, 6, 1, 0, 5, 0, 7, 9, 8, 1, 2, 0, 9,\n",
            "        2, 7, 8, 8, 9, 1, 8, 3])\n",
            "<class 'torch.Tensor'> torch.Size([128, 1, 28, 28]) tensor([1, 9, 5, 4, 0, 8, 3, 3, 0, 4, 0, 6, 5, 1, 3, 9, 6, 1, 7, 8, 8, 4, 8, 4,\n",
            "        2, 6, 4, 7, 7, 5, 3, 7, 4, 4, 2, 9, 1, 9, 9, 5, 8, 1, 5, 1, 3, 5, 7, 4,\n",
            "        6, 7, 1, 0, 7, 1, 1, 6, 3, 5, 0, 9, 8, 5, 1, 0, 8, 2, 6, 4, 9, 9, 9, 9,\n",
            "        8, 7, 6, 3, 2, 8, 1, 8, 3, 3, 0, 8, 4, 4, 1, 6, 5, 7, 4, 1, 1, 2, 9, 3,\n",
            "        0, 8, 5, 0, 8, 3, 4, 2, 7, 1, 5, 9, 9, 0, 7, 9, 7, 5, 3, 7, 6, 6, 2, 8,\n",
            "        4, 7, 1, 9, 2, 6, 0, 1])\n",
            "<class 'torch.Tensor'> torch.Size([128, 1, 28, 28]) tensor([8, 6, 3, 7, 3, 8, 9, 8, 5, 6, 8, 7, 5, 5, 6, 2, 6, 9, 7, 5, 0, 5, 5, 4,\n",
            "        0, 6, 5, 7, 3, 5, 1, 4, 0, 7, 2, 0, 4, 2, 3, 3, 8, 2, 7, 1, 0, 2, 1, 5,\n",
            "        2, 4, 5, 2, 9, 1, 1, 4, 5, 6, 3, 8, 9, 0, 9, 7, 7, 5, 1, 5, 9, 3, 5, 0,\n",
            "        7, 3, 4, 9, 7, 4, 9, 1, 6, 4, 8, 4, 6, 9, 8, 8, 9, 3, 3, 8, 2, 4, 7, 9,\n",
            "        9, 1, 4, 3, 7, 2, 7, 0, 1, 8, 9, 1, 7, 6, 2, 2, 4, 2, 4, 6, 2, 0, 5, 3,\n",
            "        3, 4, 1, 5, 1, 0, 6, 0])\n",
            "<class 'torch.Tensor'> torch.Size([128, 1, 28, 28]) tensor([4, 0, 5, 9, 0, 5, 9, 0, 6, 1, 7, 0, 2, 4, 1, 5, 0, 8, 3, 6, 8, 5, 7, 4,\n",
            "        6, 8, 0, 8, 7, 3, 5, 1, 8, 9, 1, 2, 3, 3, 3, 1, 8, 9, 1, 5, 5, 2, 7, 8,\n",
            "        4, 0, 6, 8, 2, 4, 4, 2, 4, 0, 5, 9, 6, 9, 4, 1, 1, 9, 7, 0, 5, 0, 0, 5,\n",
            "        9, 6, 3, 8, 6, 1, 5, 4, 9, 7, 9, 4, 0, 6, 3, 8, 6, 4, 9, 2, 5, 9, 2, 6,\n",
            "        6, 3, 8, 3, 2, 7, 3, 0, 3, 5, 6, 8, 9, 3, 7, 4, 0, 6, 4, 2, 3, 9, 4, 1,\n",
            "        6, 5, 0, 7, 3, 5, 0, 6])\n",
            "<class 'torch.Tensor'> torch.Size([128, 1, 28, 28]) tensor([4, 9, 0, 9, 5, 1, 2, 5, 6, 5, 9, 2, 4, 4, 6, 5, 6, 0, 1, 3, 1, 1, 7, 1,\n",
            "        4, 9, 4, 8, 5, 3, 5, 7, 2, 5, 9, 1, 2, 7, 9, 7, 7, 9, 1, 8, 5, 9, 0, 6,\n",
            "        6, 6, 1, 7, 2, 2, 9, 4, 5, 7, 1, 8, 5, 7, 9, 8, 9, 6, 7, 6, 0, 8, 6, 0,\n",
            "        0, 8, 5, 6, 7, 2, 7, 0, 7, 5, 8, 4, 5, 9, 2, 4, 2, 0, 0, 8, 7, 7, 7, 1,\n",
            "        7, 4, 6, 3, 3, 4, 7, 6, 1, 3, 1, 4, 8, 7, 9, 5, 5, 9, 9, 9, 4, 9, 4, 4,\n",
            "        0, 2, 3, 0, 8, 9, 0, 0])\n",
            "<class 'torch.Tensor'> torch.Size([128, 1, 28, 28]) tensor([5, 0, 6, 8, 1, 7, 0, 4, 1, 4, 1, 8, 3, 1, 0, 3, 2, 6, 0, 9, 8, 8, 8, 8,\n",
            "        7, 3, 0, 3, 1, 1, 1, 8, 8, 8, 7, 6, 3, 1, 9, 3, 5, 5, 6, 7, 7, 2, 0, 1,\n",
            "        3, 3, 6, 9, 2, 3, 8, 9, 3, 2, 6, 7, 6, 1, 6, 9, 5, 8, 8, 8, 0, 1, 6, 7,\n",
            "        4, 9, 2, 5, 8, 0, 4, 3, 8, 8, 0, 7, 0, 7, 8, 2, 0, 3, 9, 5, 4, 9, 2, 0,\n",
            "        5, 8, 4, 0, 6, 2, 4, 5, 5, 2, 8, 3, 6, 0, 5, 4, 4, 6, 4, 9, 7, 2, 4, 0,\n",
            "        3, 3, 0, 9, 2, 1, 7, 7])\n",
            "<class 'torch.Tensor'> torch.Size([128, 1, 28, 28]) tensor([4, 2, 8, 8, 1, 0, 9, 6, 8, 1, 6, 6, 0, 1, 0, 0, 9, 1, 8, 6, 8, 1, 7, 7,\n",
            "        6, 4, 0, 7, 3, 8, 0, 0, 4, 9, 9, 8, 1, 0, 5, 9, 3, 5, 5, 2, 8, 2, 0, 8,\n",
            "        3, 6, 0, 6, 6, 5, 3, 4, 7, 1, 0, 3, 3, 9, 6, 2, 9, 0, 3, 7, 5, 3, 2, 8,\n",
            "        9, 4, 3, 9, 9, 1, 7, 1, 3, 0, 4, 8, 2, 7, 0, 3, 0, 1, 2, 8, 2, 7, 2, 3,\n",
            "        1, 6, 7, 8, 0, 2, 2, 1, 5, 2, 5, 1, 5, 8, 6, 9, 1, 3, 1, 2, 0, 1, 9, 9,\n",
            "        1, 0, 0, 2, 7, 4, 5, 4])\n",
            "<class 'torch.Tensor'> torch.Size([128, 1, 28, 28]) tensor([0, 5, 3, 2, 0, 6, 2, 1, 6, 6, 9, 8, 2, 9, 3, 5, 9, 1, 3, 1, 2, 2, 8, 3,\n",
            "        1, 7, 4, 8, 6, 6, 8, 5, 5, 3, 7, 1, 4, 9, 1, 5, 4, 8, 4, 1, 1, 6, 6, 2,\n",
            "        6, 6, 6, 7, 2, 7, 8, 2, 3, 5, 8, 3, 2, 6, 1, 7, 8, 8, 5, 3, 3, 4, 3, 3,\n",
            "        9, 9, 4, 2, 7, 0, 8, 2, 8, 0, 7, 2, 1, 5, 4, 1, 2, 2, 3, 1, 1, 1, 1, 0,\n",
            "        0, 8, 6, 9, 4, 6, 1, 0, 5, 4, 7, 0, 1, 4, 7, 1, 2, 8, 8, 3, 2, 3, 1, 3,\n",
            "        4, 1, 7, 8, 4, 4, 3, 3])\n",
            "<class 'torch.Tensor'> torch.Size([128, 1, 28, 28]) tensor([7, 2, 6, 1, 6, 8, 2, 8, 1, 6, 2, 0, 5, 8, 8, 7, 1, 0, 3, 6, 6, 2, 3, 0,\n",
            "        1, 0, 8, 0, 0, 5, 6, 4, 8, 1, 8, 0, 5, 3, 2, 2, 0, 4, 6, 9, 7, 7, 1, 6,\n",
            "        7, 8, 1, 8, 9, 3, 6, 1, 1, 9, 9, 6, 9, 1, 7, 1, 2, 6, 3, 0, 8, 3, 4, 5,\n",
            "        6, 5, 4, 7, 2, 6, 9, 2, 1, 4, 7, 0, 9, 3, 5, 6, 8, 6, 2, 2, 8, 0, 3, 8,\n",
            "        6, 9, 5, 7, 0, 0, 8, 7, 5, 7, 2, 4, 1, 4, 4, 4, 7, 7, 8, 0, 6, 1, 5, 2,\n",
            "        0, 6, 2, 8, 5, 5, 0, 2])\n",
            "<class 'torch.Tensor'> torch.Size([128, 1, 28, 28]) tensor([6, 0, 2, 2, 5, 5, 7, 2, 8, 1, 7, 3, 9, 6, 3, 1, 5, 4, 4, 7, 6, 7, 0, 2,\n",
            "        8, 7, 4, 0, 7, 7, 9, 5, 3, 7, 6, 1, 2, 3, 8, 2, 9, 4, 6, 9, 0, 7, 1, 0,\n",
            "        0, 8, 0, 1, 2, 1, 5, 5, 6, 0, 3, 7, 8, 2, 1, 4, 0, 4, 3, 1, 7, 6, 1, 3,\n",
            "        9, 7, 6, 7, 2, 2, 1, 3, 5, 2, 4, 3, 1, 8, 8, 7, 8, 3, 6, 2, 9, 5, 4, 9,\n",
            "        7, 1, 0, 2, 2, 9, 4, 4, 1, 8, 0, 1, 7, 2, 2, 6, 8, 4, 2, 6, 7, 4, 7, 6,\n",
            "        2, 4, 4, 8, 3, 7, 9, 2])\n",
            "<class 'torch.Tensor'> torch.Size([128, 1, 28, 28]) tensor([6, 1, 6, 0, 7, 2, 6, 4, 1, 1, 0, 3, 3, 0, 0, 1, 1, 3, 9, 6, 0, 6, 2, 3,\n",
            "        8, 6, 9, 3, 0, 0, 7, 8, 8, 9, 9, 5, 5, 8, 3, 0, 5, 2, 7, 1, 0, 1, 1, 7,\n",
            "        2, 4, 4, 2, 2, 3, 1, 3, 9, 8, 0, 8, 1, 1, 5, 2, 6, 7, 6, 7, 8, 4, 6, 6,\n",
            "        2, 5, 1, 3, 0, 8, 2, 1, 4, 2, 2, 5, 7, 4, 3, 3, 3, 7, 2, 8, 2, 4, 6, 3,\n",
            "        6, 1, 2, 2, 1, 7, 0, 3, 8, 0, 4, 4, 6, 2, 0, 6, 8, 8, 2, 8, 2, 4, 8, 4,\n",
            "        2, 0, 4, 9, 0, 8, 6, 1])\n",
            "<class 'torch.Tensor'> torch.Size([128, 1, 28, 28]) tensor([2, 9, 2, 8, 7, 9, 3, 5, 7, 3, 5, 4, 3, 1, 5, 8, 0, 5, 6, 9, 5, 7, 4, 4,\n",
            "        0, 5, 8, 8, 8, 9, 8, 6, 8, 4, 8, 8, 7, 4, 8, 7, 9, 0, 0, 7, 5, 4, 1, 9,\n",
            "        8, 2, 3, 7, 9, 6, 3, 7, 9, 7, 4, 4, 5, 4, 8, 5, 6, 9, 3, 8, 0, 2, 2, 9,\n",
            "        7, 4, 7, 7, 3, 9, 3, 9, 4, 1, 7, 0, 4, 3, 3, 0, 8, 5, 9, 5, 6, 2, 5, 4,\n",
            "        4, 0, 4, 1, 6, 7, 2, 1, 2, 5, 3, 1, 9, 4, 9, 5, 5, 4, 5, 4, 7, 9, 4, 4,\n",
            "        2, 9, 7, 4, 5, 1, 7, 1])\n",
            "<class 'torch.Tensor'> torch.Size([128, 1, 28, 28]) tensor([6, 0, 2, 1, 4, 2, 4, 5, 9, 3, 2, 8, 5, 1, 2, 9, 0, 9, 3, 7, 1, 5, 0, 7,\n",
            "        1, 6, 7, 1, 2, 7, 4, 9, 3, 1, 3, 2, 6, 7, 6, 7, 4, 3, 8, 7, 2, 1, 5, 5,\n",
            "        2, 5, 2, 4, 5, 5, 1, 7, 4, 2, 7, 0, 1, 7, 6, 3, 7, 8, 0, 6, 2, 9, 1, 6,\n",
            "        9, 4, 4, 5, 8, 4, 3, 4, 3, 4, 6, 1, 1, 7, 5, 3, 2, 2, 8, 8, 1, 9, 9, 9,\n",
            "        1, 2, 2, 3, 0, 4, 9, 7, 0, 7, 9, 1, 0, 9, 1, 3, 5, 8, 6, 1, 3, 5, 5, 4,\n",
            "        4, 7, 2, 0, 1, 3, 9, 3])\n",
            "<class 'torch.Tensor'> torch.Size([128, 1, 28, 28]) tensor([3, 1, 4, 8, 7, 1, 2, 8, 2, 3, 9, 8, 1, 9, 1, 2, 7, 0, 2, 7, 5, 3, 2, 7,\n",
            "        8, 2, 2, 4, 6, 3, 7, 5, 3, 6, 6, 5, 2, 2, 8, 2, 9, 9, 1, 2, 0, 8, 2, 6,\n",
            "        1, 9, 6, 7, 2, 9, 8, 2, 1, 1, 9, 8, 7, 5, 9, 6, 8, 9, 8, 7, 9, 2, 4, 9,\n",
            "        5, 3, 3, 8, 3, 5, 8, 2, 3, 1, 1, 4, 0, 9, 3, 0, 4, 7, 4, 4, 6, 8, 2, 7,\n",
            "        0, 8, 4, 5, 3, 5, 0, 7, 2, 9, 9, 7, 5, 4, 1, 7, 9, 5, 1, 0, 9, 3, 9, 1,\n",
            "        3, 4, 4, 9, 1, 5, 1, 4])\n",
            "<class 'torch.Tensor'> torch.Size([128, 1, 28, 28]) tensor([5, 8, 5, 3, 4, 2, 1, 4, 1, 5, 2, 6, 5, 5, 3, 3, 8, 3, 3, 5, 1, 1, 9, 6,\n",
            "        6, 3, 1, 0, 2, 9, 0, 3, 8, 9, 8, 7, 4, 2, 2, 1, 3, 1, 3, 1, 9, 0, 2, 6,\n",
            "        8, 7, 5, 0, 0, 8, 7, 0, 8, 1, 1, 3, 2, 2, 7, 8, 1, 4, 5, 2, 9, 7, 8, 5,\n",
            "        2, 9, 7, 6, 8, 2, 2, 7, 6, 9, 6, 8, 3, 1, 1, 9, 9, 2, 5, 4, 9, 3, 6, 7,\n",
            "        6, 9, 3, 4, 2, 0, 3, 5, 7, 2, 1, 9, 3, 1, 3, 0, 4, 9, 8, 8, 4, 3, 9, 0,\n",
            "        6, 0, 5, 2, 9, 3, 3, 3])\n",
            "<class 'torch.Tensor'> torch.Size([128, 1, 28, 28]) tensor([9, 3, 7, 5, 3, 9, 2, 8, 4, 1, 1, 4, 3, 1, 1, 3, 8, 2, 8, 8, 0, 8, 0, 1,\n",
            "        8, 1, 2, 6, 1, 9, 4, 8, 6, 5, 2, 3, 3, 7, 3, 0, 2, 0, 0, 6, 4, 4, 4, 4,\n",
            "        4, 2, 9, 7, 7, 4, 6, 8, 1, 8, 9, 2, 3, 1, 2, 8, 2, 7, 0, 9, 1, 1, 7, 4,\n",
            "        8, 6, 8, 6, 8, 0, 2, 6, 6, 7, 1, 0, 2, 0, 9, 8, 8, 1, 1, 3, 5, 7, 3, 5,\n",
            "        1, 0, 3, 0, 5, 3, 2, 8, 5, 8, 8, 0, 1, 8, 7, 6, 1, 7, 2, 8, 4, 1, 4, 8,\n",
            "        7, 3, 7, 1, 1, 2, 7, 0])\n",
            "<class 'torch.Tensor'> torch.Size([128, 1, 28, 28]) tensor([3, 6, 5, 8, 5, 2, 4, 1, 1, 4, 4, 9, 0, 9, 2, 7, 1, 1, 5, 6, 6, 8, 8, 9,\n",
            "        4, 9, 0, 5, 9, 4, 0, 0, 9, 7, 7, 5, 1, 3, 8, 6, 8, 2, 9, 8, 0, 0, 4, 3,\n",
            "        1, 2, 6, 6, 9, 9, 0, 1, 4, 0, 1, 7, 4, 1, 9, 2, 2, 0, 0, 9, 3, 5, 0, 1,\n",
            "        4, 2, 1, 4, 7, 3, 4, 0, 6, 9, 5, 0, 6, 3, 6, 4, 5, 0, 6, 4, 9, 2, 6, 6,\n",
            "        2, 1, 6, 9, 0, 7, 1, 8, 8, 5, 8, 5, 0, 1, 4, 8, 7, 3, 7, 2, 3, 9, 1, 6,\n",
            "        0, 2, 4, 9, 4, 1, 6, 0])\n",
            "<class 'torch.Tensor'> torch.Size([128, 1, 28, 28]) tensor([0, 1, 1, 0, 6, 1, 4, 1, 0, 4, 6, 3, 8, 1, 9, 3, 1, 5, 8, 6, 7, 2, 4, 7,\n",
            "        2, 1, 0, 5, 1, 0, 3, 6, 5, 4, 9, 8, 4, 9, 4, 0, 2, 1, 6, 2, 6, 2, 9, 6,\n",
            "        9, 6, 8, 9, 4, 1, 2, 4, 7, 5, 0, 0, 7, 9, 7, 8, 6, 7, 3, 3, 0, 9, 3, 8,\n",
            "        9, 1, 0, 9, 7, 9, 0, 7, 1, 0, 7, 7, 1, 0, 8, 6, 6, 9, 5, 3, 9, 6, 2, 7,\n",
            "        5, 8, 1, 3, 8, 7, 1, 6, 6, 5, 3, 2, 5, 9, 6, 7, 7, 0, 7, 7, 3, 1, 7, 9,\n",
            "        0, 9, 8, 5, 8, 3, 0, 9])\n",
            "<class 'torch.Tensor'> torch.Size([128, 1, 28, 28]) tensor([2, 5, 0, 6, 8, 0, 7, 5, 7, 2, 4, 5, 4, 5, 1, 6, 2, 9, 2, 7, 0, 1, 4, 3,\n",
            "        7, 5, 3, 1, 4, 5, 3, 0, 4, 8, 1, 1, 2, 1, 4, 3, 7, 4, 3, 9, 4, 0, 4, 6,\n",
            "        4, 5, 4, 2, 1, 4, 1, 8, 5, 2, 8, 5, 4, 7, 2, 2, 6, 2, 1, 5, 8, 6, 0, 3,\n",
            "        3, 2, 1, 8, 3, 5, 2, 1, 0, 5, 7, 7, 7, 9, 6, 1, 8, 4, 3, 8, 7, 3, 1, 7,\n",
            "        7, 8, 9, 6, 0, 0, 5, 2, 9, 0, 9, 6, 9, 8, 2, 2, 0, 4, 7, 8, 9, 0, 7, 0,\n",
            "        2, 4, 3, 6, 4, 3, 0, 3])\n",
            "<class 'torch.Tensor'> torch.Size([128, 1, 28, 28]) tensor([5, 7, 8, 2, 2, 0, 9, 7, 4, 6, 2, 2, 8, 8, 1, 2, 9, 5, 5, 1, 9, 3, 7, 9,\n",
            "        2, 4, 6, 6, 8, 5, 6, 8, 4, 5, 0, 1, 5, 3, 3, 8, 7, 6, 8, 8, 7, 4, 7, 9,\n",
            "        7, 8, 9, 3, 2, 1, 2, 7, 9, 6, 7, 0, 1, 2, 6, 0, 8, 2, 2, 1, 9, 4, 1, 2,\n",
            "        0, 5, 5, 7, 9, 1, 3, 3, 0, 2, 6, 8, 6, 0, 1, 2, 2, 7, 9, 8, 7, 5, 4, 8,\n",
            "        6, 5, 5, 4, 0, 4, 0, 4, 4, 1, 7, 0, 7, 7, 0, 7, 3, 6, 6, 8, 5, 8, 0, 7,\n",
            "        8, 6, 1, 4, 9, 1, 9, 6])\n",
            "<class 'torch.Tensor'> torch.Size([128, 1, 28, 28]) tensor([2, 5, 9, 2, 8, 0, 1, 6, 0, 4, 2, 7, 1, 6, 9, 0, 4, 1, 8, 1, 3, 1, 6, 9,\n",
            "        1, 1, 2, 7, 9, 9, 8, 0, 2, 9, 9, 0, 0, 5, 2, 7, 2, 4, 2, 6, 8, 6, 2, 9,\n",
            "        0, 7, 6, 3, 5, 1, 2, 5, 3, 3, 9, 3, 5, 7, 2, 4, 3, 1, 9, 1, 8, 1, 0, 0,\n",
            "        3, 7, 7, 9, 6, 6, 1, 7, 6, 9, 7, 8, 1, 5, 1, 3, 2, 7, 7, 9, 6, 1, 8, 1,\n",
            "        7, 1, 2, 2, 5, 3, 9, 2, 4, 7, 4, 8, 1, 1, 9, 9, 6, 5, 2, 2, 1, 7, 5, 5,\n",
            "        9, 7, 8, 1, 6, 6, 6, 1])\n",
            "<class 'torch.Tensor'> torch.Size([128, 1, 28, 28]) tensor([9, 1, 7, 5, 7, 9, 3, 4, 0, 0, 1, 3, 5, 8, 1, 2, 6, 7, 1, 1, 7, 0, 0, 5,\n",
            "        8, 3, 8, 7, 0, 6, 8, 8, 9, 1, 0, 2, 4, 3, 9, 4, 1, 6, 4, 5, 0, 6, 6, 9,\n",
            "        2, 0, 9, 2, 4, 9, 0, 5, 7, 4, 1, 9, 7, 0, 3, 4, 9, 9, 2, 4, 1, 6, 6, 0,\n",
            "        3, 2, 0, 0, 9, 9, 3, 4, 9, 4, 4, 2, 9, 8, 5, 5, 4, 1, 4, 3, 2, 7, 1, 8,\n",
            "        8, 9, 4, 2, 5, 4, 6, 8, 2, 9, 5, 3, 1, 2, 7, 0, 3, 8, 7, 7, 3, 2, 0, 9,\n",
            "        8, 2, 7, 0, 0, 2, 9, 7])\n",
            "<class 'torch.Tensor'> torch.Size([128, 1, 28, 28]) tensor([9, 9, 9, 7, 4, 6, 9, 0, 8, 8, 6, 2, 1, 8, 1, 3, 3, 1, 9, 6, 2, 7, 0, 5,\n",
            "        5, 5, 2, 8, 9, 8, 6, 8, 4, 4, 8, 5, 0, 7, 1, 1, 8, 6, 5, 2, 1, 4, 9, 4,\n",
            "        9, 6, 4, 4, 2, 6, 5, 3, 9, 5, 7, 6, 3, 4, 2, 6, 8, 7, 0, 3, 4, 7, 6, 7,\n",
            "        1, 1, 4, 3, 8, 7, 7, 7, 1, 5, 1, 5, 9, 3, 0, 5, 2, 9, 8, 6, 7, 3, 2, 6,\n",
            "        0, 7, 9, 8, 9, 3, 6, 5, 5, 9, 6, 2, 4, 6, 3, 6, 5, 8, 1, 3, 5, 2, 8, 3,\n",
            "        6, 2, 9, 3, 6, 6, 3, 5])\n",
            "<class 'torch.Tensor'> torch.Size([128, 1, 28, 28]) tensor([3, 4, 2, 5, 7, 2, 6, 2, 8, 7, 1, 9, 7, 3, 1, 4, 0, 3, 1, 2, 1, 9, 6, 8,\n",
            "        2, 3, 1, 7, 2, 7, 9, 7, 3, 6, 0, 9, 8, 2, 0, 1, 5, 4, 2, 7, 2, 7, 7, 6,\n",
            "        6, 2, 0, 0, 5, 7, 5, 3, 3, 9, 8, 9, 6, 6, 5, 7, 5, 8, 3, 2, 8, 1, 6, 7,\n",
            "        5, 2, 2, 1, 0, 0, 8, 1, 4, 6, 7, 7, 3, 5, 3, 0, 0, 5, 4, 7, 6, 1, 6, 7,\n",
            "        6, 9, 6, 0, 2, 8, 9, 6, 7, 5, 0, 2, 3, 7, 6, 2, 4, 6, 1, 9, 9, 5, 0, 8,\n",
            "        1, 7, 5, 7, 4, 9, 2, 9])\n",
            "<class 'torch.Tensor'> torch.Size([128, 1, 28, 28]) tensor([7, 9, 4, 6, 9, 9, 5, 3, 7, 4, 1, 1, 5, 2, 5, 0, 9, 9, 4, 9, 4, 4, 0, 0,\n",
            "        6, 6, 0, 1, 4, 6, 8, 9, 3, 9, 9, 5, 0, 4, 3, 2, 1, 9, 2, 0, 5, 8, 6, 8,\n",
            "        2, 7, 8, 9, 4, 9, 7, 8, 7, 1, 0, 0, 8, 6, 3, 2, 7, 1, 7, 6, 9, 6, 9, 4,\n",
            "        9, 3, 5, 5, 1, 4, 5, 1, 1, 0, 0, 2, 6, 6, 6, 9, 8, 9, 6, 1, 1, 3, 2, 8,\n",
            "        6, 0, 0, 5, 6, 6, 5, 8, 9, 1, 8, 2, 2, 4, 8, 5, 5, 8, 7, 5, 3, 8, 2, 9,\n",
            "        3, 9, 0, 4, 7, 0, 4, 0])\n",
            "<class 'torch.Tensor'> torch.Size([128, 1, 28, 28]) tensor([0, 7, 1, 0, 3, 3, 6, 7, 9, 3, 2, 5, 5, 2, 5, 5, 8, 2, 7, 5, 2, 5, 9, 8,\n",
            "        7, 5, 5, 8, 8, 1, 3, 4, 5, 6, 2, 4, 6, 2, 1, 0, 4, 8, 0, 0, 9, 7, 0, 1,\n",
            "        8, 9, 7, 2, 3, 1, 2, 8, 7, 8, 9, 9, 7, 8, 2, 8, 0, 5, 0, 0, 0, 0, 9, 3,\n",
            "        3, 2, 9, 1, 8, 5, 0, 1, 5, 2, 5, 7, 8, 8, 8, 5, 1, 1, 4, 9, 3, 1, 8, 3,\n",
            "        0, 1, 2, 2, 3, 1, 1, 4, 7, 0, 1, 1, 8, 5, 7, 0, 7, 6, 7, 6, 6, 3, 5, 3,\n",
            "        3, 2, 9, 6, 1, 9, 7, 5])\n",
            "<class 'torch.Tensor'> torch.Size([128, 1, 28, 28]) tensor([2, 0, 1, 1, 7, 7, 9, 5, 1, 7, 8, 6, 1, 8, 6, 9, 7, 0, 0, 0, 1, 3, 8, 6,\n",
            "        9, 7, 1, 9, 5, 0, 7, 9, 2, 0, 3, 7, 8, 0, 3, 1, 5, 6, 9, 1, 9, 3, 2, 7,\n",
            "        0, 5, 4, 7, 6, 8, 5, 5, 5, 6, 5, 1, 6, 2, 3, 0, 6, 3, 5, 4, 4, 6, 8, 6,\n",
            "        4, 4, 3, 0, 3, 2, 0, 3, 2, 4, 6, 9, 1, 7, 0, 4, 7, 8, 3, 9, 8, 1, 8, 9,\n",
            "        4, 7, 1, 0, 3, 9, 8, 3, 9, 2, 1, 1, 4, 7, 4, 4, 6, 4, 6, 8, 3, 3, 6, 5,\n",
            "        5, 3, 7, 6, 6, 9, 4, 7])\n",
            "<class 'torch.Tensor'> torch.Size([128, 1, 28, 28]) tensor([2, 2, 2, 2, 3, 1, 2, 0, 2, 3, 7, 9, 6, 5, 8, 0, 3, 6, 8, 1, 9, 2, 3, 3,\n",
            "        9, 2, 8, 8, 1, 9, 1, 7, 0, 7, 7, 9, 8, 4, 7, 6, 3, 7, 0, 8, 6, 4, 7, 7,\n",
            "        3, 3, 9, 1, 1, 7, 3, 5, 2, 1, 1, 0, 7, 8, 0, 1, 4, 5, 9, 5, 5, 8, 5, 9,\n",
            "        1, 9, 6, 1, 3, 1, 8, 9, 5, 7, 8, 1, 3, 6, 7, 7, 1, 4, 0, 2, 9, 6, 0, 3,\n",
            "        2, 6, 8, 7, 1, 3, 8, 3, 0, 6, 3, 3, 4, 4, 8, 8, 2, 7, 7, 8, 1, 5, 2, 6,\n",
            "        8, 4, 7, 4, 6, 4, 3, 9])\n",
            "<class 'torch.Tensor'> torch.Size([128, 1, 28, 28]) tensor([3, 9, 1, 6, 6, 2, 7, 0, 8, 0, 7, 2, 9, 5, 0, 2, 9, 0, 0, 7, 4, 6, 2, 6,\n",
            "        3, 7, 8, 1, 4, 8, 2, 1, 2, 1, 1, 7, 3, 2, 5, 6, 9, 0, 5, 8, 0, 3, 0, 4,\n",
            "        3, 2, 4, 4, 1, 9, 4, 0, 4, 9, 4, 0, 6, 9, 6, 0, 1, 7, 8, 3, 8, 8, 4, 8,\n",
            "        8, 9, 6, 3, 7, 8, 9, 6, 4, 5, 9, 0, 4, 8, 2, 4, 5, 7, 6, 7, 6, 9, 5, 4,\n",
            "        8, 6, 6, 8, 3, 1, 8, 4, 4, 8, 1, 4, 9, 5, 7, 3, 6, 1, 0, 1, 6, 6, 7, 7,\n",
            "        9, 8, 0, 5, 6, 8, 7, 6])\n",
            "<class 'torch.Tensor'> torch.Size([128, 1, 28, 28]) tensor([8, 7, 0, 4, 4, 9, 1, 0, 1, 0, 1, 9, 2, 5, 2, 8, 2, 0, 4, 5, 9, 2, 4, 8,\n",
            "        7, 6, 7, 1, 3, 6, 0, 1, 8, 7, 7, 0, 6, 2, 9, 8, 8, 4, 7, 9, 6, 5, 9, 7,\n",
            "        2, 5, 2, 4, 1, 2, 1, 4, 4, 8, 1, 6, 9, 2, 5, 8, 5, 2, 8, 2, 1, 9, 1, 5,\n",
            "        6, 9, 5, 4, 6, 3, 8, 8, 8, 1, 3, 6, 5, 4, 9, 5, 7, 9, 0, 5, 6, 4, 3, 6,\n",
            "        2, 4, 4, 1, 7, 2, 0, 0, 1, 4, 8, 7, 1, 2, 3, 2, 9, 0, 2, 7, 1, 1, 8, 4,\n",
            "        1, 9, 7, 8, 9, 6, 4, 7])\n",
            "<class 'torch.Tensor'> torch.Size([128, 1, 28, 28]) tensor([8, 8, 8, 0, 7, 3, 4, 6, 3, 1, 4, 4, 2, 6, 4, 2, 1, 7, 9, 0, 1, 7, 7, 7,\n",
            "        1, 7, 4, 0, 3, 3, 1, 5, 2, 7, 5, 5, 4, 8, 0, 3, 1, 7, 8, 8, 7, 4, 0, 5,\n",
            "        1, 4, 9, 6, 8, 0, 4, 5, 6, 5, 9, 5, 6, 8, 2, 1, 8, 3, 3, 3, 3, 6, 3, 5,\n",
            "        0, 2, 5, 7, 9, 6, 5, 7, 4, 1, 2, 8, 3, 3, 4, 9, 0, 7, 1, 0, 5, 5, 4, 7,\n",
            "        1, 2, 7, 7, 0, 1, 8, 4, 3, 5, 7, 2, 1, 2, 9, 0, 0, 1, 9, 0, 5, 6, 4, 1,\n",
            "        6, 0, 7, 2, 3, 5, 6, 4])\n",
            "<class 'torch.Tensor'> torch.Size([128, 1, 28, 28]) tensor([8, 7, 9, 7, 1, 5, 7, 3, 7, 4, 5, 3, 4, 7, 4, 3, 4, 9, 6, 3, 4, 1, 0, 0,\n",
            "        5, 1, 2, 1, 3, 5, 1, 9, 9, 6, 9, 7, 1, 1, 5, 7, 7, 3, 6, 8, 6, 5, 0, 3,\n",
            "        4, 4, 0, 8, 2, 3, 4, 9, 1, 7, 3, 5, 3, 4, 9, 4, 5, 7, 4, 4, 9, 6, 5, 3,\n",
            "        0, 8, 4, 1, 0, 8, 4, 1, 3, 0, 7, 7, 9, 2, 1, 1, 1, 9, 8, 8, 2, 2, 6, 3,\n",
            "        2, 6, 2, 0, 3, 7, 6, 8, 9, 1, 2, 9, 9, 4, 1, 6, 9, 3, 4, 1, 8, 4, 8, 8,\n",
            "        3, 3, 0, 1, 8, 2, 5, 9])\n",
            "<class 'torch.Tensor'> torch.Size([128, 1, 28, 28]) tensor([4, 5, 7, 7, 6, 7, 8, 7, 8, 5, 8, 0, 9, 0, 0, 9, 1, 0, 8, 9, 5, 9, 1, 7,\n",
            "        1, 2, 5, 4, 3, 7, 9, 2, 7, 6, 6, 6, 9, 8, 9, 2, 1, 1, 1, 7, 6, 2, 6, 3,\n",
            "        4, 2, 7, 4, 5, 6, 5, 8, 2, 9, 2, 0, 7, 1, 4, 4, 3, 0, 2, 5, 9, 7, 1, 6,\n",
            "        0, 1, 1, 7, 4, 9, 6, 9, 8, 3, 2, 1, 0, 7, 7, 0, 8, 0, 9, 9, 6, 7, 3, 4,\n",
            "        2, 0, 5, 9, 1, 2, 9, 0, 5, 4, 3, 3, 1, 4, 8, 7, 4, 4, 8, 7, 6, 6, 0, 4,\n",
            "        0, 1, 3, 6, 8, 6, 8, 5])\n",
            "<class 'torch.Tensor'> torch.Size([128, 1, 28, 28]) tensor([3, 3, 1, 2, 8, 9, 8, 4, 8, 9, 2, 0, 6, 1, 4, 2, 8, 5, 0, 2, 5, 6, 2, 9,\n",
            "        3, 8, 4, 0, 8, 3, 5, 4, 2, 3, 6, 2, 5, 9, 3, 1, 3, 2, 7, 0, 8, 9, 8, 0,\n",
            "        4, 3, 2, 7, 1, 9, 6, 3, 0, 8, 1, 3, 9, 5, 0, 2, 0, 3, 8, 9, 8, 8, 4, 1,\n",
            "        2, 1, 9, 4, 3, 4, 1, 5, 1, 5, 9, 8, 8, 3, 5, 9, 4, 8, 6, 6, 9, 0, 1, 5,\n",
            "        7, 4, 7, 6, 1, 1, 6, 7, 5, 7, 6, 8, 0, 5, 2, 9, 3, 0, 9, 1, 2, 1, 9, 3,\n",
            "        7, 3, 9, 4, 9, 2, 0, 8])\n",
            "<class 'torch.Tensor'> torch.Size([128, 1, 28, 28]) tensor([6, 9, 9, 6, 0, 3, 2, 6, 7, 4, 3, 0, 8, 2, 0, 0, 7, 7, 6, 6, 5, 4, 6, 2,\n",
            "        9, 0, 4, 8, 5, 0, 2, 3, 1, 3, 2, 0, 0, 8, 5, 7, 8, 3, 3, 8, 4, 9, 5, 7,\n",
            "        3, 4, 7, 0, 4, 1, 9, 2, 1, 5, 8, 3, 9, 2, 8, 4, 5, 0, 8, 9, 2, 5, 9, 7,\n",
            "        2, 8, 9, 7, 6, 9, 3, 3, 5, 1, 3, 0, 4, 0, 8, 5, 6, 6, 5, 1, 9, 3, 7, 1,\n",
            "        8, 8, 7, 7, 4, 4, 2, 3, 3, 0, 1, 1, 5, 0, 3, 2, 6, 2, 2, 0, 6, 9, 4, 7,\n",
            "        8, 9, 7, 0, 8, 3, 3, 2])\n",
            "<class 'torch.Tensor'> torch.Size([128, 1, 28, 28]) tensor([2, 8, 2, 6, 8, 8, 2, 8, 6, 8, 6, 3, 4, 9, 4, 5, 8, 0, 7, 9, 9, 4, 4, 2,\n",
            "        3, 7, 7, 6, 4, 4, 5, 7, 0, 6, 7, 7, 2, 4, 2, 4, 2, 7, 0, 1, 7, 2, 7, 7,\n",
            "        6, 1, 1, 9, 3, 1, 6, 0, 1, 9, 9, 9, 8, 3, 4, 1, 3, 5, 5, 6, 3, 5, 0, 8,\n",
            "        0, 0, 7, 2, 1, 5, 4, 3, 9, 4, 5, 0, 9, 8, 0, 5, 2, 2, 4, 2, 5, 7, 1, 1,\n",
            "        9, 9, 8, 9, 9, 9, 7, 9, 4, 4, 1, 7, 0, 4, 9, 6, 6, 3, 0, 4, 5, 3, 1, 7,\n",
            "        8, 2, 5, 2, 3, 2, 9, 3])\n",
            "<class 'torch.Tensor'> torch.Size([128, 1, 28, 28]) tensor([5, 7, 7, 3, 9, 6, 6, 8, 4, 2, 7, 8, 3, 3, 4, 5, 6, 0, 1, 1, 9, 9, 0, 9,\n",
            "        7, 1, 5, 9, 7, 0, 0, 7, 7, 5, 7, 0, 6, 3, 0, 7, 7, 5, 9, 3, 4, 5, 9, 4,\n",
            "        4, 1, 4, 5, 5, 4, 7, 3, 3, 8, 4, 8, 6, 5, 4, 4, 1, 8, 9, 3, 1, 8, 7, 8,\n",
            "        1, 3, 7, 1, 1, 7, 3, 0, 4, 7, 6, 7, 5, 4, 4, 2, 5, 3, 1, 5, 9, 6, 9, 8,\n",
            "        5, 8, 9, 9, 1, 1, 3, 8, 6, 6, 0, 7, 1, 5, 4, 2, 9, 7, 3, 7, 1, 0, 1, 8,\n",
            "        0, 2, 5, 3, 7, 4, 5, 5])\n",
            "<class 'torch.Tensor'> torch.Size([128, 1, 28, 28]) tensor([4, 1, 5, 9, 7, 8, 5, 8, 8, 6, 6, 0, 2, 4, 5, 3, 4, 1, 6, 4, 0, 5, 2, 9,\n",
            "        0, 4, 8, 7, 5, 4, 2, 7, 2, 3, 5, 9, 9, 8, 7, 5, 3, 8, 9, 9, 0, 2, 6, 1,\n",
            "        5, 3, 7, 4, 0, 9, 8, 7, 4, 5, 1, 1, 7, 6, 2, 3, 3, 6, 7, 4, 7, 0, 2, 6,\n",
            "        6, 4, 0, 0, 4, 3, 8, 4, 8, 2, 5, 3, 8, 2, 9, 0, 0, 8, 8, 3, 6, 2, 9, 8,\n",
            "        9, 0, 4, 1, 0, 8, 9, 5, 4, 3, 7, 1, 8, 3, 7, 3, 9, 9, 3, 5, 7, 5, 6, 4,\n",
            "        2, 7, 9, 8, 4, 1, 2, 1])\n",
            "<class 'torch.Tensor'> torch.Size([128, 1, 28, 28]) tensor([9, 4, 4, 0, 7, 4, 1, 6, 6, 0, 3, 7, 3, 4, 2, 0, 7, 9, 5, 4, 7, 1, 8, 3,\n",
            "        0, 1, 7, 4, 9, 5, 4, 9, 5, 5, 5, 9, 6, 4, 5, 2, 5, 0, 5, 6, 9, 0, 2, 5,\n",
            "        2, 8, 4, 8, 2, 8, 2, 3, 0, 6, 2, 5, 7, 0, 1, 5, 9, 9, 4, 0, 4, 5, 5, 8,\n",
            "        5, 0, 0, 3, 7, 9, 1, 4, 5, 6, 0, 1, 9, 8, 5, 4, 0, 8, 7, 0, 4, 8, 7, 4,\n",
            "        0, 6, 6, 3, 2, 4, 2, 6, 5, 2, 6, 0, 5, 0, 7, 9, 5, 1, 1, 4, 9, 0, 5, 4,\n",
            "        0, 8, 2, 2, 6, 4, 4, 0])\n",
            "<class 'torch.Tensor'> torch.Size([128, 1, 28, 28]) tensor([4, 6, 8, 6, 7, 0, 5, 6, 0, 2, 1, 1, 0, 1, 2, 2, 7, 5, 1, 9, 7, 4, 8, 0,\n",
            "        0, 9, 7, 3, 9, 2, 6, 7, 4, 9, 9, 9, 7, 5, 8, 8, 5, 0, 6, 1, 2, 5, 0, 1,\n",
            "        8, 3, 2, 9, 5, 2, 2, 4, 9, 1, 6, 9, 6, 0, 7, 1, 1, 3, 5, 2, 1, 9, 0, 5,\n",
            "        1, 1, 1, 6, 8, 3, 6, 2, 1, 5, 8, 3, 1, 2, 2, 9, 8, 1, 6, 2, 0, 6, 8, 3,\n",
            "        3, 9, 9, 8, 7, 1, 3, 6, 7, 4, 1, 9, 9, 4, 4, 5, 6, 5, 3, 8, 6, 4, 1, 0,\n",
            "        0, 4, 1, 3, 9, 5, 9, 5])\n",
            "<class 'torch.Tensor'> torch.Size([128, 1, 28, 28]) tensor([9, 3, 1, 7, 3, 8, 7, 0, 3, 2, 3, 7, 8, 8, 6, 2, 4, 3, 4, 8, 9, 9, 6, 1,\n",
            "        6, 0, 9, 2, 6, 3, 3, 4, 3, 5, 3, 4, 4, 9, 6, 0, 6, 7, 6, 5, 8, 4, 7, 4,\n",
            "        9, 4, 0, 2, 9, 9, 3, 6, 7, 0, 2, 9, 0, 8, 8, 3, 1, 8, 7, 1, 9, 1, 1, 2,\n",
            "        3, 6, 5, 6, 4, 9, 1, 4, 0, 8, 4, 1, 6, 7, 6, 6, 1, 4, 9, 8, 3, 7, 5, 0,\n",
            "        7, 8, 7, 0, 1, 0, 3, 9, 0, 0, 1, 7, 6, 6, 6, 1, 9, 5, 7, 0, 5, 9, 8, 6,\n",
            "        0, 6, 7, 3, 5, 7, 9, 3])\n",
            "<class 'torch.Tensor'> torch.Size([128, 1, 28, 28]) tensor([1, 4, 2, 1, 3, 8, 1, 8, 2, 9, 9, 4, 5, 9, 1, 1, 2, 6, 0, 6, 4, 7, 2, 0,\n",
            "        9, 6, 2, 0, 6, 7, 7, 3, 5, 4, 6, 1, 1, 1, 4, 1, 2, 8, 1, 1, 9, 5, 3, 1,\n",
            "        8, 1, 0, 7, 8, 4, 7, 1, 7, 1, 2, 8, 2, 2, 9, 0, 7, 5, 2, 3, 5, 4, 2, 3,\n",
            "        0, 6, 4, 9, 3, 0, 5, 3, 2, 6, 7, 7, 6, 0, 8, 3, 0, 1, 8, 3, 2, 3, 1, 0,\n",
            "        2, 3, 1, 1, 6, 7, 3, 0, 7, 0, 2, 3, 1, 6, 1, 4, 0, 1, 5, 7, 0, 2, 6, 0,\n",
            "        1, 7, 8, 6, 4, 4, 3, 6])\n",
            "<class 'torch.Tensor'> torch.Size([128, 1, 28, 28]) tensor([8, 5, 1, 3, 0, 1, 5, 6, 0, 2, 4, 7, 4, 8, 8, 2, 1, 1, 7, 3, 9, 2, 5, 7,\n",
            "        3, 2, 6, 2, 6, 9, 4, 7, 6, 1, 5, 8, 8, 3, 3, 4, 2, 2, 6, 3, 9, 1, 5, 9,\n",
            "        8, 4, 3, 0, 1, 1, 5, 5, 7, 0, 0, 2, 2, 0, 1, 9, 8, 0, 7, 1, 8, 9, 1, 2,\n",
            "        0, 0, 6, 9, 8, 8, 7, 7, 2, 9, 5, 3, 3, 6, 7, 1, 2, 3, 6, 0, 1, 6, 3, 4,\n",
            "        1, 9, 3, 2, 2, 2, 3, 0, 7, 5, 2, 6, 4, 8, 4, 2, 8, 1, 7, 5, 4, 8, 4, 4,\n",
            "        6, 6, 8, 4, 1, 0, 9, 4])\n",
            "<class 'torch.Tensor'> torch.Size([128, 1, 28, 28]) tensor([7, 6, 2, 6, 0, 0, 0, 1, 6, 1, 1, 5, 7, 2, 7, 1, 4, 8, 5, 7, 1, 9, 0, 6,\n",
            "        4, 5, 1, 7, 3, 9, 6, 0, 2, 2, 9, 1, 8, 1, 8, 3, 9, 9, 1, 1, 0, 4, 4, 6,\n",
            "        0, 1, 4, 4, 8, 0, 0, 6, 5, 6, 6, 8, 4, 5, 4, 6, 2, 4, 9, 2, 4, 6, 5, 6,\n",
            "        9, 1, 2, 3, 8, 0, 4, 1, 2, 4, 0, 9, 3, 5, 8, 1, 0, 9, 9, 9, 5, 1, 2, 3,\n",
            "        2, 6, 7, 8, 4, 4, 9, 3, 4, 2, 5, 4, 5, 5, 1, 7, 2, 7, 6, 9, 0, 5, 1, 2,\n",
            "        4, 1, 9, 3, 1, 6, 3, 4])\n",
            "<class 'torch.Tensor'> torch.Size([128, 1, 28, 28]) tensor([4, 6, 7, 1, 1, 6, 4, 0, 0, 3, 0, 7, 5, 9, 7, 0, 5, 8, 4, 5, 0, 3, 2, 0,\n",
            "        4, 6, 3, 8, 5, 8, 2, 2, 8, 7, 0, 8, 5, 4, 4, 3, 6, 4, 3, 0, 4, 8, 4, 5,\n",
            "        2, 8, 6, 5, 9, 2, 8, 3, 7, 5, 2, 7, 8, 8, 3, 0, 9, 9, 6, 2, 7, 0, 1, 1,\n",
            "        0, 2, 5, 4, 4, 0, 2, 7, 5, 2, 8, 8, 7, 6, 1, 3, 2, 6, 6, 1, 8, 6, 1, 5,\n",
            "        6, 4, 0, 7, 2, 9, 9, 3, 9, 1, 6, 3, 4, 7, 2, 5, 0, 5, 5, 0, 0, 3, 6, 9,\n",
            "        1, 5, 3, 5, 2, 2, 1, 9])\n",
            "<class 'torch.Tensor'> torch.Size([128, 1, 28, 28]) tensor([6, 1, 3, 3, 5, 1, 9, 7, 3, 4, 3, 4, 3, 3, 9, 7, 5, 6, 1, 2, 7, 9, 9, 2,\n",
            "        0, 1, 0, 9, 0, 2, 5, 1, 7, 9, 3, 0, 5, 7, 2, 2, 9, 0, 2, 8, 5, 5, 3, 6,\n",
            "        3, 0, 1, 4, 0, 3, 0, 6, 7, 4, 5, 0, 9, 0, 9, 1, 8, 6, 3, 8, 4, 0, 7, 1,\n",
            "        1, 7, 5, 1, 2, 0, 5, 6, 1, 6, 3, 0, 6, 6, 6, 7, 5, 1, 1, 7, 7, 7, 5, 0,\n",
            "        9, 4, 4, 4, 9, 7, 3, 4, 9, 8, 9, 0, 9, 8, 2, 9, 8, 8, 0, 0, 8, 9, 9, 3,\n",
            "        1, 1, 7, 1, 1, 6, 4, 2])\n",
            "<class 'torch.Tensor'> torch.Size([128, 1, 28, 28]) tensor([4, 5, 9, 9, 0, 9, 2, 0, 6, 5, 7, 4, 5, 9, 3, 8, 8, 9, 1, 7, 0, 1, 4, 5,\n",
            "        6, 6, 8, 6, 4, 6, 1, 3, 3, 4, 6, 7, 7, 7, 8, 8, 1, 2, 9, 6, 4, 8, 0, 3,\n",
            "        7, 1, 5, 5, 7, 5, 1, 4, 7, 7, 7, 0, 1, 9, 2, 0, 9, 6, 6, 8, 2, 8, 8, 7,\n",
            "        9, 8, 5, 7, 1, 9, 3, 3, 8, 8, 9, 0, 5, 3, 0, 1, 0, 3, 7, 2, 5, 4, 8, 7,\n",
            "        0, 0, 1, 7, 9, 5, 6, 4, 0, 1, 1, 4, 5, 8, 9, 9, 7, 8, 9, 7, 9, 6, 3, 2,\n",
            "        3, 0, 5, 7, 7, 9, 7, 6])\n",
            "<class 'torch.Tensor'> torch.Size([128, 1, 28, 28]) tensor([0, 4, 4, 1, 1, 2, 5, 2, 8, 6, 7, 1, 8, 7, 9, 2, 2, 1, 7, 0, 0, 2, 3, 2,\n",
            "        6, 2, 6, 4, 8, 4, 1, 3, 5, 7, 1, 7, 9, 8, 8, 8, 2, 6, 0, 1, 5, 1, 9, 4,\n",
            "        0, 4, 4, 0, 3, 8, 6, 5, 0, 4, 6, 6, 7, 7, 6, 6, 6, 3, 8, 7, 3, 2, 2, 8,\n",
            "        2, 3, 2, 5, 6, 6, 0, 9, 4, 4, 0, 2, 9, 0, 1, 7, 2, 9, 1, 1, 6, 5, 6, 5,\n",
            "        6, 0, 9, 1, 9, 3, 4, 2, 9, 6, 7, 1, 6, 9, 7, 1, 8, 8, 7, 3, 6, 1, 5, 8,\n",
            "        7, 7, 7, 9, 0, 7, 4, 0])\n",
            "<class 'torch.Tensor'> torch.Size([128, 1, 28, 28]) tensor([2, 3, 4, 0, 6, 1, 9, 2, 6, 0, 3, 2, 7, 1, 1, 6, 1, 6, 8, 6, 1, 5, 9, 8,\n",
            "        4, 5, 3, 6, 8, 2, 9, 0, 4, 4, 7, 4, 9, 0, 0, 1, 4, 5, 4, 4, 9, 1, 2, 9,\n",
            "        3, 5, 1, 0, 2, 1, 7, 1, 8, 4, 2, 5, 3, 0, 4, 7, 3, 4, 4, 4, 1, 2, 5, 2,\n",
            "        6, 0, 7, 9, 4, 7, 9, 7, 0, 0, 2, 9, 3, 5, 9, 9, 4, 7, 6, 0, 7, 2, 1, 8,\n",
            "        5, 7, 4, 3, 1, 0, 8, 3, 9, 2, 4, 8, 3, 1, 7, 9, 6, 9, 5, 4, 4, 5, 4, 3,\n",
            "        1, 7, 3, 0, 8, 6, 2, 9])\n",
            "<class 'torch.Tensor'> torch.Size([128, 1, 28, 28]) tensor([5, 9, 3, 3, 4, 7, 7, 7, 1, 4, 2, 4, 5, 2, 4, 1, 1, 0, 3, 8, 0, 7, 5, 6,\n",
            "        9, 6, 0, 0, 0, 2, 5, 2, 4, 4, 3, 9, 8, 2, 9, 7, 2, 5, 5, 0, 8, 9, 6, 7,\n",
            "        5, 3, 5, 5, 9, 8, 5, 5, 2, 7, 6, 9, 8, 7, 0, 8, 5, 9, 0, 4, 3, 6, 0, 9,\n",
            "        8, 4, 8, 7, 5, 9, 9, 5, 7, 5, 1, 3, 1, 7, 9, 4, 1, 8, 5, 2, 5, 1, 3, 9,\n",
            "        7, 1, 4, 6, 4, 7, 9, 6, 1, 1, 6, 0, 1, 7, 1, 3, 9, 7, 7, 2, 6, 9, 4, 9,\n",
            "        8, 5, 9, 0, 5, 0, 9, 1])\n",
            "<class 'torch.Tensor'> torch.Size([128, 1, 28, 28]) tensor([5, 2, 0, 3, 0, 4, 5, 1, 9, 3, 9, 0, 8, 6, 6, 0, 1, 1, 5, 3, 1, 2, 3, 3,\n",
            "        4, 3, 5, 9, 7, 2, 6, 2, 9, 7, 6, 9, 2, 9, 2, 4, 3, 6, 5, 7, 3, 2, 3, 2,\n",
            "        1, 2, 2, 4, 2, 4, 9, 1, 1, 6, 2, 8, 4, 8, 9, 6, 1, 8, 3, 9, 6, 9, 2, 7,\n",
            "        8, 6, 3, 4, 6, 2, 8, 7, 3, 5, 1, 6, 8, 0, 6, 2, 7, 6, 1, 1, 6, 8, 7, 2,\n",
            "        4, 8, 2, 4, 5, 8, 5, 1, 6, 5, 0, 9, 1, 1, 9, 0, 7, 4, 1, 9, 2, 0, 8, 1,\n",
            "        4, 3, 6, 6, 2, 7, 2, 8])\n",
            "<class 'torch.Tensor'> torch.Size([128, 1, 28, 28]) tensor([4, 8, 7, 3, 3, 7, 5, 1, 0, 3, 0, 3, 9, 0, 6, 9, 9, 8, 0, 7, 4, 1, 3, 1,\n",
            "        7, 4, 2, 6, 6, 3, 2, 3, 5, 8, 7, 4, 7, 7, 3, 2, 8, 8, 8, 9, 1, 3, 0, 8,\n",
            "        5, 4, 1, 1, 7, 0, 3, 1, 6, 2, 6, 2, 9, 3, 6, 4, 5, 3, 3, 3, 5, 2, 0, 2,\n",
            "        5, 8, 9, 9, 9, 0, 7, 3, 7, 1, 1, 4, 0, 7, 0, 5, 2, 4, 4, 2, 5, 9, 1, 8,\n",
            "        7, 6, 8, 8, 1, 4, 1, 5, 6, 6, 8, 2, 9, 0, 2, 6, 5, 6, 7, 8, 8, 1, 3, 6,\n",
            "        0, 8, 1, 7, 3, 0, 9, 1])\n",
            "<class 'torch.Tensor'> torch.Size([128, 1, 28, 28]) tensor([4, 9, 3, 8, 3, 9, 4, 6, 3, 0, 2, 4, 4, 1, 4, 7, 1, 1, 2, 4, 5, 6, 6, 8,\n",
            "        1, 3, 0, 5, 3, 9, 1, 7, 2, 9, 2, 8, 3, 0, 5, 7, 7, 6, 2, 3, 6, 6, 1, 5,\n",
            "        2, 5, 4, 2, 3, 5, 7, 6, 6, 8, 8, 0, 9, 6, 7, 1, 1, 2, 1, 5, 8, 1, 4, 9,\n",
            "        9, 0, 9, 6, 8, 7, 4, 1, 3, 5, 6, 1, 7, 5, 3, 0, 1, 8, 3, 1, 7, 4, 9, 7,\n",
            "        6, 0, 8, 6, 2, 8, 6, 1, 9, 2, 7, 1, 4, 4, 5, 7, 9, 5, 2, 6, 9, 4, 7, 2,\n",
            "        0, 7, 2, 3, 0, 7, 8, 9])\n",
            "<class 'torch.Tensor'> torch.Size([128, 1, 28, 28]) tensor([0, 4, 9, 3, 4, 9, 0, 6, 1, 8, 1, 8, 0, 4, 8, 2, 2, 9, 8, 6, 4, 8, 6, 6,\n",
            "        5, 1, 8, 7, 7, 0, 1, 5, 3, 5, 2, 2, 9, 5, 5, 6, 9, 6, 7, 9, 5, 1, 1, 1,\n",
            "        3, 6, 8, 9, 3, 6, 7, 1, 8, 0, 8, 7, 1, 2, 6, 7, 7, 4, 1, 9, 5, 3, 1, 0,\n",
            "        8, 1, 7, 2, 6, 2, 5, 9, 2, 9, 9, 8, 7, 6, 3, 0, 5, 1, 9, 6, 8, 2, 9, 2,\n",
            "        6, 1, 5, 1, 4, 8, 6, 0, 6, 8, 9, 1, 2, 7, 5, 4, 0, 7, 9, 4, 9, 1, 1, 1,\n",
            "        3, 3, 0, 6, 9, 1, 8, 8])\n",
            "<class 'torch.Tensor'> torch.Size([128, 1, 28, 28]) tensor([1, 5, 8, 3, 5, 6, 5, 8, 3, 3, 5, 0, 1, 3, 5, 9, 7, 5, 1, 6, 8, 5, 3, 6,\n",
            "        4, 2, 7, 6, 9, 6, 6, 3, 8, 1, 5, 3, 3, 0, 2, 2, 2, 8, 6, 1, 1, 0, 4, 6,\n",
            "        1, 3, 0, 4, 6, 7, 5, 9, 3, 6, 0, 1, 0, 5, 0, 8, 2, 9, 2, 9, 7, 0, 5, 1,\n",
            "        1, 6, 0, 1, 4, 3, 6, 8, 3, 7, 1, 8, 9, 1, 3, 4, 4, 4, 2, 1, 3, 8, 9, 2,\n",
            "        3, 4, 8, 0, 2, 5, 2, 9, 8, 2, 4, 4, 1, 4, 4, 0, 6, 9, 9, 9, 4, 9, 6, 3,\n",
            "        3, 0, 2, 7, 1, 7, 9, 0])\n",
            "<class 'torch.Tensor'> torch.Size([128, 1, 28, 28]) tensor([5, 5, 2, 0, 7, 8, 7, 1, 0, 8, 9, 7, 3, 3, 2, 2, 1, 9, 7, 5, 2, 9, 3, 3,\n",
            "        9, 9, 6, 3, 5, 9, 7, 1, 7, 8, 5, 1, 9, 4, 4, 8, 1, 6, 1, 6, 6, 3, 1, 2,\n",
            "        3, 6, 0, 2, 9, 3, 0, 6, 4, 1, 2, 3, 4, 1, 2, 2, 6, 2, 4, 5, 8, 7, 4, 5,\n",
            "        5, 1, 6, 5, 5, 0, 4, 2, 4, 0, 7, 4, 5, 8, 6, 7, 1, 2, 1, 0, 2, 0, 4, 4,\n",
            "        9, 9, 9, 3, 3, 4, 0, 0, 2, 3, 3, 9, 3, 3, 9, 0, 7, 4, 4, 9, 9, 6, 2, 5,\n",
            "        8, 7, 7, 8, 6, 3, 1, 3])\n",
            "<class 'torch.Tensor'> torch.Size([128, 1, 28, 28]) tensor([3, 9, 4, 6, 1, 0, 2, 5, 6, 2, 3, 4, 3, 5, 2, 3, 7, 9, 5, 2, 6, 8, 3, 9,\n",
            "        8, 2, 4, 1, 3, 1, 3, 2, 8, 9, 1, 2, 0, 0, 1, 1, 4, 5, 7, 4, 3, 5, 9, 6,\n",
            "        6, 5, 3, 5, 6, 0, 1, 9, 6, 2, 7, 4, 6, 2, 8, 3, 8, 8, 8, 1, 3, 0, 6, 6,\n",
            "        4, 0, 1, 7, 7, 2, 9, 4, 3, 3, 4, 3, 5, 3, 7, 2, 5, 8, 3, 0, 3, 7, 8, 6,\n",
            "        9, 9, 6, 1, 9, 4, 5, 4, 4, 1, 4, 9, 6, 0, 2, 9, 8, 6, 5, 6, 0, 9, 1, 8,\n",
            "        4, 8, 3, 6, 9, 7, 0, 8])\n",
            "<class 'torch.Tensor'> torch.Size([128, 1, 28, 28]) tensor([8, 5, 2, 9, 8, 2, 4, 8, 4, 1, 2, 6, 2, 6, 0, 0, 1, 8, 4, 3, 0, 2, 1, 3,\n",
            "        9, 4, 1, 6, 8, 4, 3, 1, 6, 7, 2, 0, 6, 1, 3, 4, 2, 7, 9, 4, 6, 6, 2, 7,\n",
            "        3, 0, 1, 9, 4, 9, 2, 4, 6, 6, 3, 9, 8, 0, 4, 3, 0, 3, 3, 3, 7, 6, 8, 9,\n",
            "        3, 9, 8, 1, 2, 8, 0, 8, 1, 6, 8, 3, 8, 4, 0, 4, 4, 5, 7, 4, 1, 1, 8, 0,\n",
            "        2, 4, 7, 8, 6, 3, 8, 2, 3, 0, 9, 4, 9, 1, 6, 6, 5, 4, 1, 8, 1, 9, 8, 9,\n",
            "        1, 6, 6, 8, 0, 0, 1, 1])\n",
            "<class 'torch.Tensor'> torch.Size([128, 1, 28, 28]) tensor([7, 3, 3, 9, 3, 6, 7, 9, 4, 6, 0, 5, 3, 3, 4, 1, 7, 1, 7, 7, 6, 0, 9, 1,\n",
            "        4, 4, 6, 9, 3, 5, 6, 4, 9, 1, 5, 3, 6, 2, 0, 7, 7, 3, 8, 4, 7, 4, 2, 8,\n",
            "        3, 1, 2, 4, 4, 9, 7, 2, 8, 4, 3, 4, 7, 7, 8, 8, 2, 4, 1, 9, 5, 3, 0, 1,\n",
            "        1, 2, 5, 2, 5, 1, 2, 0, 5, 5, 1, 8, 9, 5, 0, 8, 4, 3, 9, 6, 8, 0, 0, 0,\n",
            "        7, 4, 2, 0, 9, 8, 6, 1, 0, 5, 3, 1, 4, 3, 2, 3, 1, 7, 3, 3, 4, 6, 7, 8,\n",
            "        9, 2, 5, 9, 5, 2, 0, 0])\n",
            "<class 'torch.Tensor'> torch.Size([128, 1, 28, 28]) tensor([1, 0, 4, 3, 1, 8, 9, 9, 4, 3, 0, 6, 0, 0, 8, 7, 9, 0, 5, 3, 4, 5, 4, 7,\n",
            "        5, 2, 5, 4, 2, 4, 8, 1, 5, 2, 1, 2, 1, 7, 2, 9, 7, 6, 2, 8, 7, 5, 6, 6,\n",
            "        2, 3, 7, 6, 3, 1, 6, 5, 7, 4, 7, 4, 8, 7, 0, 7, 9, 8, 6, 7, 5, 6, 6, 3,\n",
            "        2, 7, 4, 0, 3, 7, 8, 7, 9, 6, 0, 3, 6, 0, 7, 1, 5, 4, 7, 8, 5, 1, 1, 1,\n",
            "        6, 4, 6, 6, 2, 1, 2, 4, 0, 2, 7, 9, 1, 1, 6, 2, 7, 9, 5, 3, 5, 9, 9, 8,\n",
            "        7, 4, 5, 0, 8, 3, 7, 6])\n",
            "<class 'torch.Tensor'> torch.Size([128, 1, 28, 28]) tensor([9, 1, 3, 1, 4, 4, 1, 2, 8, 6, 8, 1, 0, 4, 6, 5, 7, 5, 4, 5, 1, 6, 7, 2,\n",
            "        4, 9, 1, 4, 6, 2, 1, 2, 2, 8, 9, 9, 3, 5, 3, 1, 8, 3, 6, 3, 3, 5, 6, 5,\n",
            "        2, 7, 6, 2, 7, 6, 3, 0, 3, 7, 4, 1, 9, 3, 3, 2, 2, 7, 0, 6, 2, 9, 6, 2,\n",
            "        1, 5, 5, 0, 9, 2, 1, 2, 6, 4, 1, 6, 5, 6, 9, 1, 8, 8, 7, 3, 0, 9, 1, 1,\n",
            "        5, 7, 9, 7, 7, 7, 7, 0, 7, 3, 8, 0, 7, 1, 4, 8, 0, 3, 1, 9, 3, 3, 3, 3,\n",
            "        7, 9, 4, 4, 4, 9, 4, 4])\n",
            "<class 'torch.Tensor'> torch.Size([128, 1, 28, 28]) tensor([1, 6, 1, 5, 8, 3, 5, 9, 7, 9, 3, 5, 3, 4, 3, 3, 1, 2, 9, 9, 3, 0, 8, 8,\n",
            "        9, 9, 5, 1, 3, 4, 1, 7, 2, 6, 3, 5, 3, 3, 3, 4, 3, 1, 3, 7, 4, 9, 4, 0,\n",
            "        7, 3, 8, 9, 6, 7, 0, 0, 5, 3, 3, 1, 9, 4, 3, 1, 2, 1, 7, 4, 6, 6, 5, 9,\n",
            "        8, 3, 0, 3, 7, 4, 2, 4, 1, 8, 9, 7, 0, 9, 1, 9, 5, 1, 0, 6, 5, 7, 2, 7,\n",
            "        1, 0, 5, 5, 0, 4, 3, 4, 0, 9, 2, 3, 2, 2, 9, 4, 7, 8, 4, 3, 0, 1, 3, 7,\n",
            "        7, 1, 7, 7, 4, 2, 5, 6])\n",
            "<class 'torch.Tensor'> torch.Size([128, 1, 28, 28]) tensor([3, 1, 3, 3, 6, 2, 5, 6, 5, 5, 3, 8, 1, 0, 8, 3, 2, 5, 8, 5, 7, 7, 9, 6,\n",
            "        0, 3, 5, 5, 7, 6, 2, 9, 1, 2, 2, 2, 5, 2, 5, 0, 1, 4, 5, 1, 8, 3, 3, 1,\n",
            "        4, 9, 6, 5, 9, 7, 0, 7, 4, 1, 9, 4, 1, 1, 9, 6, 3, 0, 2, 5, 8, 3, 0, 5,\n",
            "        7, 6, 0, 8, 3, 7, 3, 2, 3, 7, 9, 5, 5, 9, 9, 8, 5, 5, 2, 6, 5, 1, 1, 5,\n",
            "        8, 9, 3, 3, 0, 5, 4, 9, 8, 0, 8, 8, 1, 2, 6, 4, 9, 9, 7, 8, 4, 3, 2, 5,\n",
            "        1, 8, 7, 7, 5, 7, 1, 3])\n",
            "<class 'torch.Tensor'> torch.Size([128, 1, 28, 28]) tensor([2, 1, 4, 1, 4, 3, 9, 7, 8, 2, 2, 7, 2, 4, 0, 4, 9, 7, 9, 3, 5, 1, 9, 7,\n",
            "        2, 8, 9, 5, 4, 5, 5, 1, 3, 6, 8, 8, 3, 8, 9, 7, 6, 3, 3, 2, 2, 7, 6, 0,\n",
            "        2, 0, 3, 2, 3, 0, 9, 8, 7, 5, 8, 2, 2, 4, 9, 6, 0, 4, 1, 9, 0, 9, 0, 5,\n",
            "        8, 2, 6, 1, 1, 9, 9, 7, 3, 5, 7, 2, 1, 6, 3, 0, 4, 0, 3, 5, 8, 3, 3, 1,\n",
            "        7, 2, 1, 4, 1, 0, 3, 7, 2, 6, 4, 1, 0, 6, 5, 2, 2, 8, 5, 7, 7, 3, 7, 3,\n",
            "        2, 5, 7, 0, 0, 7, 5, 3])\n",
            "<class 'torch.Tensor'> torch.Size([128, 1, 28, 28]) tensor([8, 6, 6, 4, 9, 0, 8, 2, 6, 6, 8, 2, 1, 7, 1, 4, 8, 5, 5, 1, 2, 6, 5, 5,\n",
            "        9, 4, 8, 4, 7, 8, 9, 8, 1, 4, 4, 8, 8, 1, 0, 9, 2, 7, 3, 2, 7, 7, 9, 1,\n",
            "        9, 5, 7, 9, 4, 2, 0, 9, 1, 0, 9, 9, 4, 8, 9, 8, 6, 7, 4, 6, 2, 3, 4, 8,\n",
            "        2, 2, 7, 4, 5, 8, 3, 8, 4, 6, 1, 6, 6, 0, 5, 1, 0, 4, 3, 3, 5, 0, 8, 2,\n",
            "        1, 8, 1, 2, 9, 0, 1, 8, 6, 2, 4, 7, 8, 6, 9, 2, 4, 4, 2, 9, 2, 1, 7, 7,\n",
            "        2, 4, 3, 9, 4, 3, 9, 1])\n",
            "<class 'torch.Tensor'> torch.Size([128, 1, 28, 28]) tensor([1, 2, 1, 1, 6, 6, 8, 3, 0, 0, 4, 6, 7, 2, 1, 9, 7, 0, 4, 0, 1, 6, 9, 1,\n",
            "        5, 6, 9, 5, 2, 6, 1, 3, 7, 8, 9, 7, 1, 1, 7, 8, 5, 1, 1, 3, 1, 8, 0, 9,\n",
            "        2, 4, 8, 4, 7, 3, 8, 1, 0, 3, 5, 5, 9, 2, 7, 3, 5, 2, 0, 4, 2, 1, 1, 7,\n",
            "        0, 3, 8, 2, 5, 0, 7, 8, 6, 3, 9, 6, 7, 0, 2, 3, 4, 6, 3, 9, 1, 3, 2, 1,\n",
            "        1, 6, 7, 7, 1, 9, 1, 9, 1, 4, 2, 9, 1, 2, 0, 4, 2, 1, 9, 2, 9, 3, 9, 4,\n",
            "        6, 6, 1, 4, 2, 4, 2, 2])\n",
            "<class 'torch.Tensor'> torch.Size([128, 1, 28, 28]) tensor([4, 0, 4, 0, 6, 7, 1, 2, 3, 1, 7, 3, 8, 7, 4, 9, 6, 5, 1, 1, 8, 9, 8, 1,\n",
            "        6, 6, 4, 1, 7, 3, 2, 9, 0, 0, 1, 6, 3, 1, 4, 1, 3, 6, 9, 1, 9, 9, 1, 7,\n",
            "        0, 4, 6, 5, 0, 3, 7, 9, 6, 3, 4, 9, 2, 4, 4, 1, 2, 8, 6, 6, 7, 6, 7, 1,\n",
            "        3, 7, 3, 9, 4, 6, 9, 8, 4, 4, 8, 4, 1, 5, 3, 3, 7, 1, 3, 5, 9, 0, 1, 1,\n",
            "        0, 1, 3, 4, 0, 5, 1, 7, 1, 5, 5, 9, 0, 1, 1, 2, 6, 3, 5, 2, 3, 9, 6, 7,\n",
            "        7, 9, 3, 8, 2, 0, 2, 8])\n",
            "<class 'torch.Tensor'> torch.Size([128, 1, 28, 28]) tensor([4, 8, 5, 3, 2, 1, 9, 2, 3, 0, 0, 9, 5, 5, 3, 5, 0, 2, 9, 4, 4, 4, 4, 6,\n",
            "        5, 9, 3, 3, 7, 7, 1, 2, 2, 2, 1, 9, 6, 9, 1, 6, 2, 7, 0, 7, 8, 3, 3, 3,\n",
            "        8, 8, 9, 6, 5, 7, 8, 9, 1, 1, 4, 5, 0, 1, 0, 1, 3, 0, 3, 8, 0, 8, 8, 4,\n",
            "        7, 1, 3, 1, 3, 3, 3, 9, 1, 3, 0, 2, 9, 3, 7, 2, 2, 3, 3, 5, 6, 5, 3, 7,\n",
            "        0, 7, 0, 9, 2, 1, 9, 5, 7, 2, 5, 9, 4, 5, 6, 1, 1, 9, 4, 1, 6, 5, 4, 2,\n",
            "        0, 3, 4, 6, 3, 3, 5, 3])\n",
            "<class 'torch.Tensor'> torch.Size([128, 1, 28, 28]) tensor([7, 4, 6, 7, 2, 6, 5, 9, 3, 5, 1, 5, 1, 9, 5, 1, 4, 5, 1, 6, 8, 8, 7, 6,\n",
            "        5, 1, 9, 8, 6, 7, 9, 2, 0, 9, 9, 2, 0, 2, 3, 7, 7, 6, 6, 7, 5, 6, 9, 0,\n",
            "        5, 0, 1, 6, 6, 3, 7, 3, 2, 7, 6, 4, 4, 2, 9, 9, 2, 7, 0, 0, 0, 7, 4, 9,\n",
            "        4, 0, 6, 5, 3, 3, 4, 4, 0, 5, 1, 8, 4, 8, 6, 5, 4, 2, 3, 7, 2, 5, 5, 8,\n",
            "        7, 0, 5, 3, 7, 0, 5, 6, 0, 5, 7, 1, 2, 9, 1, 5, 3, 1, 2, 3, 3, 6, 0, 7,\n",
            "        7, 8, 4, 2, 5, 6, 2, 7])\n",
            "<class 'torch.Tensor'> torch.Size([128, 1, 28, 28]) tensor([5, 7, 1, 6, 3, 1, 0, 9, 1, 3, 3, 0, 7, 5, 3, 8, 0, 7, 3, 0, 4, 3, 2, 1,\n",
            "        2, 1, 6, 4, 9, 4, 2, 7, 4, 7, 2, 0, 6, 5, 7, 7, 0, 1, 9, 2, 9, 4, 5, 4,\n",
            "        4, 6, 5, 2, 4, 5, 4, 4, 4, 1, 8, 7, 9, 4, 5, 1, 3, 1, 4, 4, 6, 5, 3, 6,\n",
            "        9, 5, 1, 7, 1, 8, 9, 7, 1, 3, 7, 0, 0, 6, 2, 3, 1, 1, 7, 9, 4, 2, 0, 3,\n",
            "        0, 2, 0, 3, 1, 6, 9, 6, 7, 3, 6, 6, 6, 0, 9, 1, 8, 3, 5, 7, 7, 5, 1, 2,\n",
            "        3, 1, 1, 2, 3, 4, 8, 7])\n",
            "<class 'torch.Tensor'> torch.Size([128, 1, 28, 28]) tensor([8, 7, 2, 1, 1, 6, 9, 5, 2, 6, 3, 7, 3, 0, 9, 1, 3, 2, 7, 6, 2, 8, 9, 8,\n",
            "        5, 4, 1, 6, 3, 6, 8, 0, 2, 0, 5, 8, 3, 3, 0, 7, 7, 1, 3, 0, 2, 9, 0, 1,\n",
            "        8, 8, 4, 6, 2, 9, 6, 2, 3, 6, 7, 0, 0, 6, 9, 7, 6, 2, 3, 7, 3, 7, 1, 8,\n",
            "        0, 5, 7, 8, 1, 9, 8, 4, 0, 1, 6, 0, 6, 5, 3, 4, 3, 6, 5, 7, 3, 4, 8, 5,\n",
            "        7, 6, 9, 0, 8, 3, 7, 9, 9, 0, 7, 6, 9, 4, 7, 4, 9, 5, 0, 3, 1, 1, 8, 1,\n",
            "        3, 2, 8, 6, 4, 3, 4, 1])\n",
            "<class 'torch.Tensor'> torch.Size([128, 1, 28, 28]) tensor([8, 7, 2, 1, 4, 0, 8, 1, 6, 7, 6, 2, 6, 2, 5, 9, 6, 9, 9, 2, 4, 5, 8, 8,\n",
            "        0, 5, 7, 9, 6, 3, 7, 4, 5, 6, 8, 3, 8, 6, 2, 4, 5, 6, 7, 5, 1, 5, 1, 9,\n",
            "        8, 9, 5, 7, 0, 2, 3, 1, 3, 7, 7, 9, 2, 8, 6, 5, 2, 0, 1, 0, 6, 9, 3, 1,\n",
            "        4, 9, 4, 8, 4, 1, 3, 6, 9, 7, 3, 6, 3, 4, 1, 2, 5, 5, 5, 5, 3, 2, 0, 8,\n",
            "        2, 4, 0, 6, 6, 4, 8, 1, 1, 9, 4, 6, 0, 3, 0, 2, 1, 2, 3, 2, 3, 5, 5, 5,\n",
            "        3, 9, 7, 0, 5, 7, 5, 1])\n",
            "<class 'torch.Tensor'> torch.Size([128, 1, 28, 28]) tensor([3, 3, 3, 9, 2, 7, 7, 5, 4, 2, 5, 9, 1, 1, 0, 2, 6, 3, 3, 1, 6, 5, 8, 6,\n",
            "        1, 3, 5, 1, 2, 8, 2, 3, 0, 7, 7, 8, 8, 8, 2, 4, 8, 7, 5, 8, 9, 8, 0, 7,\n",
            "        1, 5, 1, 1, 7, 7, 2, 1, 1, 6, 6, 2, 9, 6, 4, 7, 8, 8, 7, 1, 6, 0, 0, 3,\n",
            "        8, 4, 1, 4, 1, 2, 3, 1, 4, 5, 7, 9, 6, 7, 8, 9, 1, 8, 7, 6, 2, 2, 8, 3,\n",
            "        4, 8, 7, 8, 8, 6, 3, 2, 9, 4, 3, 7, 1, 9, 5, 7, 1, 6, 7, 2, 8, 4, 1, 7,\n",
            "        7, 6, 8, 4, 1, 3, 9, 9])\n",
            "<class 'torch.Tensor'> torch.Size([128, 1, 28, 28]) tensor([4, 1, 2, 0, 3, 0, 9, 4, 9, 0, 1, 1, 4, 3, 3, 2, 4, 8, 5, 5, 0, 0, 4, 2,\n",
            "        7, 3, 6, 2, 8, 4, 3, 2, 8, 6, 6, 7, 1, 1, 2, 1, 5, 1, 5, 4, 3, 5, 3, 5,\n",
            "        6, 7, 3, 4, 7, 3, 6, 1, 1, 1, 6, 1, 8, 2, 1, 1, 5, 3, 8, 9, 9, 8, 8, 4,\n",
            "        5, 7, 0, 4, 6, 0, 8, 2, 7, 8, 2, 3, 1, 2, 8, 8, 8, 8, 5, 2, 3, 9, 3, 7,\n",
            "        4, 8, 5, 1, 4, 5, 7, 0, 2, 1, 1, 9, 1, 9, 4, 9, 2, 9, 2, 4, 8, 2, 6, 3,\n",
            "        4, 5, 6, 5, 2, 0, 9, 8])\n",
            "<class 'torch.Tensor'> torch.Size([128, 1, 28, 28]) tensor([7, 0, 1, 0, 4, 3, 7, 9, 2, 9, 7, 0, 3, 5, 6, 2, 9, 8, 0, 6, 5, 8, 1, 8,\n",
            "        5, 2, 9, 7, 1, 3, 5, 7, 7, 6, 4, 6, 1, 7, 5, 4, 2, 1, 1, 2, 3, 4, 8, 1,\n",
            "        9, 2, 2, 0, 6, 0, 3, 4, 0, 8, 6, 4, 5, 4, 7, 1, 1, 1, 1, 8, 6, 7, 5, 2,\n",
            "        8, 5, 2, 5, 5, 3, 9, 8, 2, 0, 1, 1, 5, 7, 2, 1, 9, 4, 8, 0, 8, 7, 9, 9,\n",
            "        4, 6, 4, 7, 7, 7, 0, 4, 7, 2, 9, 9, 2, 6, 1, 5, 7, 6, 6, 0, 3, 4, 7, 8,\n",
            "        1, 8, 9, 6, 9, 9, 3, 8])\n",
            "<class 'torch.Tensor'> torch.Size([128, 1, 28, 28]) tensor([1, 3, 4, 8, 8, 4, 5, 0, 9, 7, 2, 1, 7, 1, 1, 7, 3, 3, 8, 6, 9, 2, 7, 4,\n",
            "        9, 7, 0, 3, 5, 7, 1, 6, 3, 0, 8, 0, 2, 8, 4, 6, 7, 0, 3, 1, 5, 2, 0, 7,\n",
            "        0, 0, 2, 1, 1, 0, 7, 7, 3, 1, 4, 9, 2, 9, 8, 9, 6, 0, 3, 0, 7, 2, 7, 6,\n",
            "        0, 6, 9, 8, 5, 7, 7, 5, 4, 8, 2, 4, 3, 9, 3, 7, 9, 4, 2, 8, 8, 2, 1, 6,\n",
            "        6, 5, 6, 7, 8, 9, 1, 5, 0, 3, 9, 7, 0, 1, 7, 7, 9, 5, 0, 1, 8, 6, 6, 2,\n",
            "        5, 3, 2, 4, 3, 4, 4, 4])\n",
            "<class 'torch.Tensor'> torch.Size([128, 1, 28, 28]) tensor([6, 1, 8, 7, 9, 8, 7, 7, 0, 8, 6, 7, 7, 4, 3, 1, 0, 7, 2, 9, 2, 4, 8, 5,\n",
            "        7, 8, 8, 7, 9, 6, 4, 2, 0, 1, 3, 1, 7, 4, 3, 8, 5, 9, 9, 4, 6, 1, 0, 6,\n",
            "        0, 9, 0, 7, 1, 0, 3, 4, 2, 8, 5, 7, 7, 3, 5, 3, 1, 8, 1, 0, 4, 0, 8, 4,\n",
            "        6, 4, 9, 7, 2, 2, 5, 0, 0, 2, 6, 0, 1, 8, 4, 3, 6, 4, 9, 9, 2, 4, 7, 6,\n",
            "        6, 8, 9, 6, 6, 6, 8, 5, 7, 6, 8, 2, 6, 7, 2, 0, 8, 2, 1, 6, 9, 8, 1, 6,\n",
            "        5, 5, 3, 1, 8, 9, 4, 4])\n",
            "<class 'torch.Tensor'> torch.Size([128, 1, 28, 28]) tensor([1, 4, 7, 8, 2, 9, 8, 6, 9, 6, 9, 3, 0, 2, 1, 8, 9, 1, 1, 9, 5, 7, 0, 5,\n",
            "        2, 3, 1, 8, 7, 2, 6, 4, 9, 7, 7, 3, 2, 1, 7, 8, 7, 4, 9, 8, 4, 5, 1, 6,\n",
            "        2, 9, 8, 6, 4, 0, 8, 2, 6, 0, 5, 1, 6, 4, 5, 1, 4, 0, 4, 3, 3, 4, 4, 1,\n",
            "        5, 8, 5, 8, 7, 8, 5, 2, 4, 0, 5, 4, 4, 7, 2, 1, 5, 8, 7, 9, 9, 3, 5, 5,\n",
            "        4, 2, 2, 6, 5, 1, 2, 8, 7, 4, 9, 5, 0, 9, 7, 5, 8, 3, 7, 4, 3, 0, 9, 8,\n",
            "        0, 3, 3, 2, 0, 4, 9, 7])\n",
            "<class 'torch.Tensor'> torch.Size([128, 1, 28, 28]) tensor([0, 2, 4, 4, 1, 9, 6, 0, 8, 5, 8, 3, 9, 3, 5, 9, 9, 5, 6, 2, 5, 7, 4, 0,\n",
            "        1, 8, 0, 6, 0, 3, 9, 4, 1, 8, 9, 0, 7, 8, 9, 9, 6, 1, 6, 6, 7, 2, 0, 3,\n",
            "        5, 4, 9, 4, 3, 5, 1, 6, 3, 8, 4, 5, 2, 4, 9, 1, 2, 4, 9, 7, 8, 3, 8, 8,\n",
            "        8, 7, 9, 4, 9, 5, 5, 3, 4, 5, 1, 5, 5, 5, 4, 2, 5, 6, 3, 2, 0, 8, 4, 0,\n",
            "        8, 8, 5, 8, 9, 0, 1, 8, 4, 6, 1, 3, 8, 4, 1, 1, 7, 1, 6, 8, 6, 5, 6, 0,\n",
            "        2, 8, 4, 4, 1, 4, 9, 1])\n",
            "<class 'torch.Tensor'> torch.Size([128, 1, 28, 28]) tensor([8, 2, 0, 2, 5, 6, 9, 0, 1, 5, 1, 3, 0, 2, 5, 8, 6, 3, 2, 0, 7, 7, 6, 0,\n",
            "        2, 6, 6, 6, 9, 1, 4, 0, 8, 1, 0, 6, 0, 5, 5, 4, 9, 2, 3, 1, 9, 4, 0, 3,\n",
            "        2, 7, 6, 1, 3, 3, 2, 1, 5, 1, 3, 2, 9, 5, 0, 5, 1, 1, 1, 8, 7, 3, 4, 9,\n",
            "        2, 2, 3, 5, 0, 1, 6, 1, 5, 4, 5, 4, 6, 1, 8, 3, 2, 3, 9, 1, 4, 9, 6, 1,\n",
            "        1, 9, 6, 8, 1, 8, 7, 5, 1, 7, 4, 0, 3, 5, 3, 9, 1, 8, 2, 8, 3, 1, 8, 6,\n",
            "        8, 5, 1, 3, 5, 2, 1, 5])\n",
            "<class 'torch.Tensor'> torch.Size([128, 1, 28, 28]) tensor([1, 7, 4, 6, 1, 5, 7, 0, 3, 0, 4, 4, 7, 4, 7, 5, 2, 9, 4, 8, 5, 2, 2, 1,\n",
            "        7, 7, 2, 2, 4, 5, 1, 2, 4, 4, 4, 1, 3, 7, 5, 2, 8, 5, 1, 2, 3, 3, 5, 8,\n",
            "        2, 3, 2, 6, 0, 8, 1, 0, 7, 6, 5, 7, 9, 7, 5, 7, 2, 6, 1, 8, 1, 6, 7, 9,\n",
            "        5, 1, 9, 8, 5, 6, 2, 9, 8, 3, 6, 7, 9, 2, 7, 2, 3, 6, 1, 4, 5, 9, 7, 9,\n",
            "        4, 8, 7, 7, 9, 0, 0, 2, 7, 2, 0, 5, 1, 3, 2, 6, 5, 7, 8, 9, 8, 9, 1, 8,\n",
            "        5, 0, 5, 6, 9, 2, 0, 6])\n",
            "<class 'torch.Tensor'> torch.Size([128, 1, 28, 28]) tensor([1, 8, 6, 4, 1, 0, 0, 7, 3, 2, 6, 2, 1, 1, 5, 4, 4, 7, 4, 0, 6, 4, 3, 9,\n",
            "        5, 1, 5, 5, 8, 2, 4, 2, 9, 4, 4, 8, 3, 1, 3, 5, 9, 5, 8, 1, 9, 4, 0, 3,\n",
            "        6, 0, 7, 8, 8, 8, 5, 3, 6, 7, 2, 1, 8, 4, 1, 7, 9, 5, 7, 5, 2, 7, 5, 3,\n",
            "        5, 1, 0, 4, 6, 5, 0, 9, 8, 8, 7, 9, 0, 0, 8, 4, 2, 2, 9, 7, 4, 8, 1, 7,\n",
            "        6, 0, 3, 3, 5, 2, 1, 2, 9, 6, 0, 0, 7, 9, 4, 4, 7, 7, 1, 2, 8, 2, 0, 3,\n",
            "        3, 0, 0, 5, 1, 1, 3, 1])\n",
            "<class 'torch.Tensor'> torch.Size([128, 1, 28, 28]) tensor([4, 7, 2, 8, 8, 1, 4, 4, 4, 7, 5, 5, 5, 7, 8, 6, 3, 5, 1, 3, 6, 5, 5, 5,\n",
            "        7, 4, 7, 9, 2, 1, 9, 6, 9, 8, 4, 0, 0, 9, 1, 8, 5, 3, 7, 4, 2, 3, 4, 8,\n",
            "        9, 7, 5, 6, 0, 2, 0, 2, 7, 6, 0, 5, 9, 7, 1, 4, 9, 4, 1, 1, 7, 5, 0, 8,\n",
            "        5, 6, 4, 9, 6, 7, 9, 8, 3, 3, 5, 1, 7, 3, 1, 7, 2, 2, 7, 1, 0, 2, 9, 1,\n",
            "        6, 6, 0, 2, 0, 4, 0, 9, 3, 7, 1, 2, 8, 4, 9, 8, 7, 9, 9, 4, 9, 7, 7, 4,\n",
            "        1, 3, 5, 9, 3, 9, 0, 0])\n",
            "<class 'torch.Tensor'> torch.Size([128, 1, 28, 28]) tensor([1, 0, 0, 3, 9, 7, 2, 4, 7, 9, 8, 6, 9, 9, 0, 3, 2, 5, 3, 1, 2, 7, 1, 6,\n",
            "        1, 9, 2, 0, 2, 8, 1, 7, 9, 5, 1, 1, 4, 0, 4, 7, 1, 5, 8, 4, 0, 0, 0, 8,\n",
            "        3, 9, 1, 0, 3, 9, 0, 3, 6, 9, 9, 2, 7, 3, 3, 8, 0, 7, 9, 4, 1, 0, 9, 7,\n",
            "        1, 8, 1, 7, 7, 1, 6, 3, 7, 2, 4, 1, 8, 1, 4, 9, 6, 4, 4, 0, 4, 1, 1, 3,\n",
            "        3, 4, 8, 3, 3, 6, 3, 8, 4, 9, 3, 5, 8, 3, 0, 7, 0, 8, 9, 4, 8, 8, 1, 3,\n",
            "        4, 9, 1, 6, 3, 0, 9, 6])\n",
            "<class 'torch.Tensor'> torch.Size([128, 1, 28, 28]) tensor([9, 3, 1, 7, 2, 8, 0, 7, 4, 1, 3, 4, 0, 2, 2, 4, 7, 3, 7, 4, 6, 8, 9, 9,\n",
            "        6, 2, 8, 3, 5, 7, 6, 6, 7, 8, 9, 3, 2, 9, 6, 4, 9, 1, 8, 6, 1, 1, 3, 8,\n",
            "        0, 3, 3, 2, 7, 0, 6, 9, 2, 7, 3, 7, 3, 4, 0, 5, 2, 9, 4, 7, 7, 9, 7, 0,\n",
            "        4, 0, 2, 0, 8, 3, 3, 6, 5, 8, 0, 1, 8, 4, 6, 9, 3, 5, 0, 3, 8, 6, 8, 9,\n",
            "        4, 4, 9, 3, 8, 5, 6, 1, 6, 5, 3, 3, 9, 7, 0, 4, 1, 6, 4, 1, 0, 6, 5, 4,\n",
            "        1, 1, 4, 3, 6, 9, 8, 7])\n",
            "<class 'torch.Tensor'> torch.Size([128, 1, 28, 28]) tensor([2, 9, 8, 3, 9, 3, 5, 8, 8, 0, 8, 8, 0, 7, 1, 0, 5, 5, 9, 9, 4, 1, 3, 8,\n",
            "        6, 3, 5, 0, 4, 1, 8, 5, 0, 2, 5, 3, 7, 5, 5, 7, 1, 8, 4, 0, 6, 6, 6, 1,\n",
            "        1, 1, 6, 8, 0, 7, 8, 4, 6, 7, 2, 5, 8, 1, 2, 1, 1, 0, 3, 0, 8, 3, 6, 4,\n",
            "        7, 8, 8, 3, 7, 0, 2, 7, 2, 7, 9, 5, 3, 8, 4, 3, 9, 9, 0, 2, 6, 0, 4, 1,\n",
            "        2, 7, 1, 5, 9, 4, 1, 6, 1, 6, 9, 8, 0, 9, 3, 3, 9, 9, 6, 0, 8, 1, 2, 5,\n",
            "        7, 5, 9, 6, 5, 6, 2, 2])\n",
            "<class 'torch.Tensor'> torch.Size([128, 1, 28, 28]) tensor([7, 5, 0, 0, 5, 4, 3, 3, 5, 1, 7, 6, 8, 0, 5, 2, 4, 4, 2, 8, 8, 1, 6, 5,\n",
            "        9, 8, 3, 5, 1, 1, 0, 2, 0, 6, 5, 2, 7, 2, 1, 9, 7, 8, 8, 5, 7, 1, 5, 8,\n",
            "        1, 6, 7, 8, 3, 9, 9, 8, 9, 4, 2, 3, 9, 9, 6, 5, 2, 9, 9, 1, 8, 7, 4, 5,\n",
            "        2, 6, 7, 8, 6, 5, 6, 4, 0, 8, 4, 2, 9, 1, 2, 4, 2, 2, 5, 5, 5, 6, 3, 0,\n",
            "        4, 3, 8, 9, 5, 8, 0, 1, 6, 3, 0, 4, 6, 5, 4, 2, 3, 7, 1, 6, 7, 7, 2, 2,\n",
            "        7, 0, 4, 4, 3, 0, 2, 4])\n",
            "<class 'torch.Tensor'> torch.Size([128, 1, 28, 28]) tensor([3, 2, 3, 6, 0, 4, 5, 4, 1, 1, 3, 4, 3, 7, 3, 8, 1, 2, 3, 8, 3, 9, 0, 5,\n",
            "        2, 6, 5, 7, 7, 8, 1, 0, 9, 7, 5, 9, 9, 5, 7, 9, 7, 2, 8, 5, 8, 8, 2, 3,\n",
            "        9, 0, 7, 2, 6, 6, 4, 6, 8, 8, 8, 8, 4, 6, 7, 7, 7, 8, 2, 4, 5, 2, 4, 3,\n",
            "        1, 3, 0, 9, 5, 6, 9, 2, 1, 9, 4, 1, 6, 9, 6, 3, 6, 9, 9, 8, 0, 1, 0, 0,\n",
            "        6, 5, 8, 5, 5, 2, 5, 2, 4, 7, 7, 2, 8, 1, 3, 6, 9, 1, 0, 2, 3, 0, 9, 5,\n",
            "        7, 6, 5, 9, 4, 6, 5, 1])\n",
            "<class 'torch.Tensor'> torch.Size([128, 1, 28, 28]) tensor([1, 4, 1, 4, 8, 0, 9, 4, 5, 3, 1, 4, 2, 2, 3, 0, 2, 6, 3, 7, 8, 5, 4, 1,\n",
            "        2, 8, 9, 7, 1, 1, 3, 2, 6, 6, 7, 7, 0, 8, 4, 3, 8, 9, 2, 9, 5, 4, 4, 5,\n",
            "        3, 7, 7, 2, 6, 8, 2, 5, 9, 7, 9, 3, 3, 4, 4, 6, 2, 4, 8, 4, 3, 9, 4, 2,\n",
            "        1, 4, 0, 0, 1, 8, 9, 8, 0, 6, 4, 1, 9, 0, 7, 3, 7, 8, 5, 2, 5, 0, 1, 6,\n",
            "        7, 0, 7, 6, 6, 5, 3, 5, 6, 7, 8, 3, 3, 2, 4, 9, 7, 4, 6, 3, 1, 2, 1, 0,\n",
            "        7, 7, 8, 4, 2, 7, 7, 6])\n",
            "<class 'torch.Tensor'> torch.Size([128, 1, 28, 28]) tensor([6, 0, 9, 5, 6, 2, 8, 0, 9, 1, 1, 1, 5, 1, 0, 2, 1, 3, 2, 4, 9, 6, 0, 8,\n",
            "        0, 0, 5, 2, 4, 6, 0, 2, 4, 8, 6, 6, 0, 9, 5, 7, 9, 2, 9, 1, 5, 5, 6, 3,\n",
            "        3, 9, 5, 4, 8, 8, 3, 0, 2, 3, 5, 1, 2, 2, 5, 3, 0, 7, 2, 4, 8, 8, 1, 1,\n",
            "        9, 8, 1, 8, 0, 7, 9, 7, 6, 6, 6, 1, 9, 0, 8, 6, 1, 7, 4, 7, 1, 4, 3, 2,\n",
            "        2, 6, 3, 1, 5, 0, 2, 9, 7, 7, 8, 0, 7, 3, 2, 4, 7, 7, 0, 8, 6, 3, 9, 9,\n",
            "        6, 4, 2, 4, 7, 2, 1, 1])\n",
            "<class 'torch.Tensor'> torch.Size([128, 1, 28, 28]) tensor([0, 2, 0, 8, 2, 5, 4, 7, 5, 3, 6, 5, 3, 3, 1, 8, 3, 4, 7, 0, 6, 4, 1, 3,\n",
            "        4, 8, 8, 4, 4, 4, 4, 9, 6, 5, 0, 5, 8, 7, 0, 2, 4, 8, 1, 7, 6, 0, 0, 4,\n",
            "        6, 8, 4, 9, 3, 5, 0, 0, 0, 3, 7, 6, 1, 2, 8, 6, 0, 1, 1, 6, 6, 4, 3, 3,\n",
            "        8, 1, 3, 1, 3, 3, 7, 6, 4, 7, 4, 0, 9, 5, 1, 0, 5, 3, 2, 8, 0, 3, 0, 4,\n",
            "        7, 3, 5, 9, 9, 2, 0, 8, 0, 5, 9, 7, 9, 9, 2, 6, 0, 7, 7, 5, 8, 8, 1, 9,\n",
            "        9, 0, 1, 0, 6, 7, 4, 1])\n",
            "<class 'torch.Tensor'> torch.Size([128, 1, 28, 28]) tensor([1, 5, 9, 9, 2, 8, 8, 3, 1, 2, 7, 0, 9, 1, 1, 2, 7, 5, 4, 5, 5, 3, 1, 8,\n",
            "        1, 4, 1, 1, 4, 1, 9, 8, 8, 9, 6, 8, 2, 0, 1, 5, 9, 7, 7, 7, 9, 0, 0, 0,\n",
            "        4, 4, 0, 7, 1, 6, 6, 3, 6, 2, 2, 6, 1, 2, 4, 2, 2, 9, 3, 7, 6, 7, 2, 3,\n",
            "        9, 6, 3, 5, 1, 4, 1, 3, 2, 7, 2, 2, 0, 5, 2, 3, 2, 2, 5, 9, 3, 0, 1, 4,\n",
            "        1, 4, 0, 5, 1, 9, 2, 5, 6, 6, 4, 2, 0, 2, 6, 5, 1, 6, 6, 1, 5, 3, 8, 5,\n",
            "        5, 7, 6, 8, 2, 7, 3, 3])\n",
            "<class 'torch.Tensor'> torch.Size([128, 1, 28, 28]) tensor([6, 3, 4, 1, 9, 3, 8, 6, 2, 0, 0, 1, 4, 2, 2, 6, 0, 9, 4, 4, 9, 5, 1, 1,\n",
            "        4, 9, 8, 9, 7, 2, 5, 9, 9, 5, 5, 0, 1, 2, 0, 7, 9, 2, 6, 4, 7, 3, 0, 8,\n",
            "        9, 3, 0, 9, 6, 7, 9, 4, 8, 1, 0, 8, 5, 3, 2, 4, 6, 4, 4, 8, 5, 6, 4, 7,\n",
            "        1, 2, 2, 7, 5, 1, 4, 4, 3, 6, 8, 9, 9, 9, 0, 7, 5, 8, 4, 3, 9, 9, 3, 4,\n",
            "        3, 7, 2, 5, 5, 5, 3, 7, 3, 6, 0, 1, 7, 0, 8, 8, 9, 2, 8, 5, 9, 1, 3, 3,\n",
            "        1, 0, 1, 2, 7, 4, 2, 0])\n",
            "<class 'torch.Tensor'> torch.Size([128, 1, 28, 28]) tensor([3, 0, 5, 3, 2, 7, 1, 9, 2, 0, 7, 5, 8, 0, 7, 0, 5, 4, 3, 6, 6, 6, 0, 9,\n",
            "        2, 1, 2, 3, 1, 3, 1, 7, 6, 6, 2, 6, 0, 8, 3, 7, 9, 6, 4, 2, 4, 2, 9, 6,\n",
            "        6, 0, 0, 9, 6, 1, 9, 6, 0, 6, 8, 7, 3, 8, 7, 1, 0, 1, 3, 8, 6, 5, 8, 4,\n",
            "        5, 7, 0, 0, 1, 3, 7, 8, 5, 2, 5, 5, 1, 2, 2, 1, 3, 6, 2, 3, 5, 0, 9, 0,\n",
            "        8, 7, 5, 3, 6, 4, 7, 4, 9, 6, 8, 7, 3, 5, 1, 0, 9, 2, 5, 7, 1, 5, 8, 4,\n",
            "        8, 4, 6, 6, 0, 5, 5, 5])\n",
            "<class 'torch.Tensor'> torch.Size([128, 1, 28, 28]) tensor([2, 3, 3, 3, 2, 7, 4, 9, 7, 2, 7, 9, 6, 3, 5, 4, 5, 0, 9, 6, 7, 5, 7, 4,\n",
            "        4, 6, 4, 5, 0, 2, 4, 3, 4, 3, 6, 8, 2, 2, 9, 1, 3, 1, 8, 0, 1, 7, 2, 9,\n",
            "        1, 5, 5, 2, 0, 1, 9, 6, 5, 9, 1, 6, 0, 9, 1, 9, 8, 0, 1, 9, 0, 8, 5, 4,\n",
            "        4, 1, 9, 9, 7, 3, 2, 8, 4, 0, 1, 4, 1, 8, 8, 4, 6, 3, 8, 4, 9, 6, 3, 7,\n",
            "        3, 5, 5, 5, 8, 1, 4, 3, 1, 2, 9, 8, 6, 9, 9, 3, 8, 8, 4, 4, 1, 3, 8, 2,\n",
            "        3, 4, 6, 0, 7, 1, 2, 4])\n",
            "<class 'torch.Tensor'> torch.Size([128, 1, 28, 28]) tensor([8, 4, 9, 2, 5, 9, 8, 7, 2, 6, 1, 9, 1, 4, 0, 5, 0, 6, 1, 6, 9, 8, 5, 1,\n",
            "        0, 5, 0, 6, 1, 1, 9, 7, 3, 8, 5, 3, 6, 2, 3, 5, 9, 5, 9, 1, 7, 4, 3, 6,\n",
            "        1, 6, 7, 9, 3, 9, 6, 6, 1, 7, 3, 5, 6, 9, 4, 5, 2, 3, 0, 5, 1, 9, 0, 4,\n",
            "        6, 5, 4, 7, 0, 1, 4, 2, 3, 2, 7, 9, 2, 3, 6, 6, 5, 7, 8, 1, 2, 9, 6, 6,\n",
            "        3, 2, 0, 6, 6, 8, 2, 9, 4, 5, 3, 1, 9, 8, 6, 9, 2, 3, 6, 4, 0, 6, 4, 2,\n",
            "        0, 7, 6, 2, 0, 7, 8, 9])\n",
            "<class 'torch.Tensor'> torch.Size([128, 1, 28, 28]) tensor([2, 0, 5, 5, 6, 2, 4, 4, 6, 7, 5, 0, 7, 8, 8, 1, 0, 9, 2, 6, 7, 6, 5, 7,\n",
            "        2, 6, 9, 4, 8, 5, 3, 4, 0, 4, 6, 4, 9, 7, 6, 0, 3, 2, 7, 9, 3, 2, 8, 2,\n",
            "        8, 4, 1, 8, 4, 0, 1, 6, 9, 1, 0, 1, 0, 7, 8, 7, 4, 0, 7, 5, 0, 2, 2, 6,\n",
            "        7, 3, 3, 6, 9, 6, 4, 8, 4, 9, 3, 8, 0, 3, 8, 1, 8, 7, 2, 7, 7, 6, 6, 8,\n",
            "        9, 4, 4, 7, 1, 8, 9, 2, 6, 2, 8, 9, 8, 8, 1, 5, 4, 8, 3, 4, 2, 0, 9, 4,\n",
            "        6, 8, 0, 6, 7, 6, 4, 8])\n",
            "<class 'torch.Tensor'> torch.Size([128, 1, 28, 28]) tensor([6, 7, 2, 8, 5, 4, 2, 0, 2, 1, 1, 8, 6, 0, 2, 4, 8, 6, 0, 6, 7, 2, 4, 6,\n",
            "        9, 7, 7, 9, 1, 4, 2, 2, 8, 3, 1, 8, 6, 1, 8, 7, 7, 9, 6, 3, 9, 1, 6, 8,\n",
            "        4, 7, 6, 1, 8, 9, 3, 8, 8, 1, 9, 7, 7, 4, 6, 7, 0, 5, 9, 3, 2, 9, 8, 3,\n",
            "        3, 6, 3, 2, 3, 0, 8, 8, 6, 7, 4, 5, 4, 5, 1, 8, 9, 5, 9, 5, 5, 4, 8, 8,\n",
            "        2, 4, 8, 6, 3, 3, 5, 3, 6, 1, 1, 1, 7, 5, 3, 0, 5, 9, 3, 0, 9, 7, 0, 9,\n",
            "        8, 0, 0, 8, 0, 0, 4, 2])\n",
            "<class 'torch.Tensor'> torch.Size([128, 1, 28, 28]) tensor([8, 9, 8, 7, 1, 5, 8, 2, 4, 2, 0, 4, 1, 4, 4, 8, 5, 6, 7, 5, 9, 1, 3, 7,\n",
            "        8, 4, 1, 1, 4, 6, 3, 9, 7, 3, 1, 2, 6, 1, 5, 8, 9, 8, 0, 7, 2, 2, 5, 5,\n",
            "        8, 0, 3, 8, 5, 0, 8, 5, 1, 5, 1, 3, 1, 7, 0, 5, 5, 2, 3, 6, 2, 1, 6, 9,\n",
            "        3, 6, 4, 3, 9, 9, 0, 1, 2, 8, 4, 0, 0, 3, 0, 9, 4, 0, 4, 5, 4, 6, 6, 6,\n",
            "        5, 7, 8, 9, 0, 8, 9, 5, 5, 7, 5, 8, 7, 0, 7, 9, 8, 4, 3, 3, 1, 5, 1, 8,\n",
            "        3, 8, 6, 0, 6, 2, 3, 1])\n",
            "<class 'torch.Tensor'> torch.Size([128, 1, 28, 28]) tensor([1, 8, 2, 2, 2, 8, 6, 1, 3, 9, 5, 3, 5, 4, 7, 0, 5, 6, 6, 1, 5, 1, 2, 3,\n",
            "        9, 6, 9, 8, 7, 4, 5, 2, 4, 7, 5, 8, 9, 5, 8, 5, 6, 6, 4, 4, 3, 1, 3, 2,\n",
            "        0, 9, 6, 9, 2, 0, 0, 1, 0, 7, 7, 4, 5, 2, 9, 3, 7, 4, 8, 1, 4, 2, 2, 9,\n",
            "        2, 5, 7, 4, 2, 8, 1, 8, 9, 7, 1, 8, 3, 6, 2, 1, 6, 7, 3, 8, 7, 1, 3, 8,\n",
            "        0, 3, 6, 5, 7, 1, 8, 9, 4, 7, 7, 7, 9, 3, 4, 8, 9, 3, 8, 0, 4, 2, 1, 5,\n",
            "        3, 6, 7, 7, 2, 2, 3, 6])\n",
            "<class 'torch.Tensor'> torch.Size([128, 1, 28, 28]) tensor([6, 9, 7, 6, 3, 3, 5, 1, 4, 2, 9, 1, 6, 1, 2, 0, 2, 2, 8, 2, 7, 7, 2, 7,\n",
            "        5, 1, 5, 0, 2, 8, 2, 2, 8, 4, 3, 7, 8, 8, 5, 7, 6, 0, 5, 6, 1, 1, 2, 8,\n",
            "        8, 1, 5, 7, 4, 9, 8, 5, 7, 0, 3, 7, 5, 8, 9, 7, 6, 5, 8, 8, 6, 3, 3, 5,\n",
            "        8, 6, 0, 8, 6, 0, 8, 5, 4, 4, 1, 6, 0, 9, 1, 8, 6, 5, 5, 1, 4, 1, 0, 2,\n",
            "        5, 9, 8, 0, 9, 6, 1, 6, 7, 8, 0, 9, 8, 7, 7, 0, 0, 1, 6, 2, 7, 7, 4, 8,\n",
            "        9, 6, 9, 2, 7, 1, 0, 0])\n",
            "<class 'torch.Tensor'> torch.Size([128, 1, 28, 28]) tensor([7, 6, 6, 4, 7, 1, 3, 2, 8, 4, 6, 5, 8, 7, 3, 4, 0, 6, 9, 0, 6, 8, 6, 6,\n",
            "        1, 2, 2, 4, 1, 9, 6, 0, 4, 4, 3, 0, 2, 0, 9, 6, 1, 9, 2, 4, 8, 3, 6, 2,\n",
            "        6, 9, 5, 3, 0, 7, 2, 4, 1, 1, 9, 1, 7, 6, 8, 9, 7, 6, 3, 0, 3, 8, 7, 7,\n",
            "        8, 8, 5, 9, 9, 7, 4, 3, 8, 9, 4, 2, 8, 1, 0, 5, 1, 3, 0, 1, 7, 2, 1, 3,\n",
            "        4, 4, 1, 9, 5, 4, 1, 1, 7, 9, 2, 3, 6, 5, 5, 2, 4, 4, 8, 1, 0, 5, 5, 5,\n",
            "        2, 1, 9, 6, 6, 9, 6, 0])\n",
            "<class 'torch.Tensor'> torch.Size([128, 1, 28, 28]) tensor([7, 3, 3, 6, 6, 7, 2, 9, 3, 4, 4, 9, 3, 1, 8, 9, 0, 7, 9, 7, 7, 2, 7, 0,\n",
            "        6, 7, 2, 8, 2, 5, 2, 0, 9, 4, 5, 6, 6, 9, 2, 9, 5, 1, 5, 9, 6, 1, 3, 6,\n",
            "        8, 7, 4, 3, 8, 5, 4, 1, 1, 4, 3, 9, 8, 6, 5, 7, 8, 7, 7, 0, 0, 3, 9, 8,\n",
            "        2, 6, 7, 8, 9, 5, 2, 0, 7, 8, 6, 8, 3, 1, 3, 6, 2, 7, 8, 8, 2, 0, 1, 2,\n",
            "        8, 9, 3, 6, 7, 2, 7, 1, 1, 8, 5, 4, 6, 0, 6, 0, 2, 1, 3, 3, 1, 3, 2, 0,\n",
            "        9, 3, 2, 0, 4, 4, 7, 1])\n",
            "<class 'torch.Tensor'> torch.Size([128, 1, 28, 28]) tensor([6, 6, 1, 0, 7, 8, 5, 6, 8, 2, 0, 3, 2, 6, 8, 2, 2, 8, 1, 1, 2, 7, 1, 9,\n",
            "        7, 1, 6, 8, 4, 5, 5, 2, 9, 0, 0, 8, 0, 5, 3, 1, 5, 9, 8, 5, 8, 1, 9, 3,\n",
            "        3, 1, 0, 2, 7, 3, 4, 1, 3, 2, 7, 5, 2, 0, 4, 0, 3, 1, 1, 4, 8, 9, 2, 0,\n",
            "        9, 8, 4, 6, 2, 6, 1, 8, 9, 9, 8, 8, 2, 4, 6, 7, 3, 5, 0, 0, 6, 7, 1, 7,\n",
            "        1, 0, 2, 5, 6, 7, 2, 2, 3, 0, 5, 7, 1, 8, 1, 5, 4, 2, 0, 3, 8, 4, 7, 4,\n",
            "        2, 2, 4, 3, 7, 0, 3, 6])\n",
            "<class 'torch.Tensor'> torch.Size([128, 1, 28, 28]) tensor([7, 1, 6, 9, 1, 0, 9, 5, 4, 3, 7, 6, 7, 5, 1, 4, 0, 9, 9, 0, 5, 3, 0, 6,\n",
            "        1, 2, 5, 6, 8, 4, 7, 1, 0, 3, 4, 7, 6, 3, 2, 0, 7, 6, 0, 4, 7, 4, 2, 3,\n",
            "        2, 6, 1, 9, 1, 8, 4, 4, 1, 4, 1, 2, 2, 0, 5, 5, 5, 8, 3, 0, 4, 1, 3, 7,\n",
            "        2, 7, 9, 5, 6, 2, 5, 8, 1, 8, 6, 3, 9, 2, 2, 6, 3, 8, 0, 4, 3, 5, 2, 6,\n",
            "        6, 3, 8, 2, 4, 9, 2, 9, 2, 6, 8, 1, 4, 0, 0, 0, 2, 2, 7, 2, 5, 8, 9, 7,\n",
            "        4, 2, 8, 1, 0, 7, 3, 7])\n",
            "<class 'torch.Tensor'> torch.Size([128, 1, 28, 28]) tensor([9, 3, 1, 6, 8, 5, 3, 2, 5, 7, 8, 2, 0, 9, 8, 6, 0, 5, 5, 4, 8, 1, 9, 7,\n",
            "        5, 3, 1, 0, 7, 3, 2, 2, 7, 0, 3, 0, 1, 1, 0, 0, 5, 3, 7, 9, 4, 2, 9, 6,\n",
            "        8, 3, 9, 3, 6, 9, 4, 8, 2, 7, 6, 8, 8, 8, 4, 2, 2, 9, 4, 7, 1, 0, 0, 9,\n",
            "        3, 9, 6, 2, 7, 1, 3, 6, 6, 7, 4, 3, 4, 0, 9, 0, 7, 0, 0, 4, 0, 0, 1, 3,\n",
            "        9, 0, 7, 7, 3, 6, 8, 8, 7, 7, 5, 0, 0, 3, 9, 5, 8, 3, 3, 1, 3, 3, 8, 6,\n",
            "        3, 1, 1, 0, 3, 1, 2, 0])\n",
            "<class 'torch.Tensor'> torch.Size([128, 1, 28, 28]) tensor([9, 5, 9, 6, 0, 8, 9, 2, 2, 2, 2, 7, 8, 2, 1, 9, 4, 6, 6, 9, 4, 8, 9, 9,\n",
            "        9, 8, 9, 0, 0, 1, 5, 7, 3, 9, 0, 0, 7, 1, 9, 1, 2, 1, 6, 8, 2, 2, 1, 2,\n",
            "        4, 7, 8, 3, 2, 3, 1, 0, 1, 5, 2, 8, 7, 1, 3, 9, 4, 4, 8, 7, 5, 7, 6, 4,\n",
            "        8, 9, 3, 9, 4, 9, 2, 7, 6, 5, 2, 3, 0, 1, 0, 5, 7, 8, 1, 8, 3, 7, 1, 3,\n",
            "        8, 6, 5, 3, 1, 1, 1, 7, 3, 8, 6, 3, 2, 8, 6, 2, 8, 4, 1, 1, 7, 5, 6, 0,\n",
            "        6, 3, 0, 8, 3, 6, 8, 7])\n",
            "<class 'torch.Tensor'> torch.Size([128, 1, 28, 28]) tensor([5, 2, 1, 6, 9, 7, 5, 3, 9, 5, 3, 0, 6, 0, 9, 9, 9, 9, 3, 6, 0, 4, 3, 0,\n",
            "        0, 5, 1, 1, 8, 3, 9, 2, 4, 7, 9, 8, 3, 1, 6, 8, 4, 8, 2, 9, 2, 3, 0, 7,\n",
            "        4, 9, 0, 9, 2, 3, 8, 4, 1, 1, 8, 8, 1, 2, 1, 4, 4, 2, 6, 3, 3, 0, 6, 3,\n",
            "        9, 8, 4, 9, 6, 3, 2, 4, 6, 2, 0, 8, 1, 3, 6, 6, 2, 5, 7, 5, 1, 4, 1, 9,\n",
            "        3, 8, 1, 4, 6, 0, 2, 2, 6, 3, 6, 3, 4, 5, 0, 4, 7, 3, 8, 3, 6, 6, 7, 9,\n",
            "        7, 0, 5, 4, 1, 2, 3, 7])\n",
            "<class 'torch.Tensor'> torch.Size([128, 1, 28, 28]) tensor([8, 1, 6, 7, 8, 8, 9, 6, 6, 8, 0, 6, 6, 4, 2, 1, 1, 0, 6, 9, 9, 4, 0, 9,\n",
            "        1, 6, 7, 8, 0, 4, 9, 3, 8, 7, 6, 2, 4, 5, 5, 5, 2, 9, 3, 6, 6, 8, 3, 5,\n",
            "        8, 0, 3, 6, 8, 7, 1, 0, 2, 8, 9, 4, 0, 1, 8, 2, 3, 1, 8, 7, 5, 8, 4, 1,\n",
            "        4, 1, 2, 2, 5, 5, 7, 6, 7, 5, 4, 0, 1, 6, 3, 1, 6, 4, 1, 3, 0, 3, 6, 2,\n",
            "        3, 1, 4, 4, 6, 3, 1, 0, 9, 0, 4, 8, 8, 0, 1, 6, 9, 3, 7, 9, 1, 4, 5, 5,\n",
            "        4, 3, 9, 1, 2, 3, 4, 1])\n",
            "<class 'torch.Tensor'> torch.Size([128, 1, 28, 28]) tensor([2, 2, 1, 9, 4, 4, 1, 2, 7, 6, 1, 2, 4, 7, 8, 9, 3, 7, 1, 5, 4, 6, 8, 4,\n",
            "        8, 5, 8, 9, 1, 2, 9, 2, 7, 7, 7, 4, 8, 8, 7, 3, 0, 1, 2, 7, 0, 6, 1, 3,\n",
            "        0, 3, 8, 0, 1, 4, 4, 7, 9, 9, 9, 6, 9, 5, 2, 3, 4, 2, 8, 0, 3, 7, 6, 5,\n",
            "        6, 7, 4, 5, 1, 7, 1, 3, 0, 4, 6, 8, 3, 8, 7, 1, 0, 9, 1, 2, 4, 2, 1, 0,\n",
            "        6, 6, 5, 8, 6, 2, 2, 0, 3, 9, 0, 7, 0, 8, 6, 2, 1, 0, 7, 5, 7, 9, 2, 4,\n",
            "        2, 4, 2, 3, 2, 1, 2, 3])\n",
            "<class 'torch.Tensor'> torch.Size([128, 1, 28, 28]) tensor([1, 1, 3, 5, 7, 2, 4, 5, 2, 6, 6, 4, 3, 8, 6, 8, 1, 0, 0, 5, 8, 9, 5, 3,\n",
            "        5, 4, 9, 2, 1, 7, 1, 4, 6, 6, 4, 4, 4, 0, 7, 4, 7, 0, 2, 5, 6, 5, 3, 3,\n",
            "        2, 6, 6, 6, 0, 5, 8, 4, 6, 8, 2, 9, 8, 9, 8, 8, 2, 7, 2, 8, 4, 5, 8, 1,\n",
            "        2, 8, 1, 8, 8, 0, 3, 1, 5, 7, 9, 3, 4, 4, 6, 2, 3, 0, 0, 4, 6, 2, 7, 3,\n",
            "        4, 1, 4, 3, 1, 6, 3, 7, 5, 3, 8, 2, 3, 8, 2, 6, 3, 8, 2, 3, 8, 2, 2, 0,\n",
            "        7, 9, 7, 6, 0, 2, 3, 3])\n",
            "<class 'torch.Tensor'> torch.Size([128, 1, 28, 28]) tensor([1, 0, 7, 7, 0, 7, 9, 7, 4, 3, 2, 4, 3, 2, 3, 5, 7, 8, 7, 2, 4, 6, 5, 1,\n",
            "        5, 0, 9, 0, 6, 4, 3, 6, 2, 0, 9, 0, 8, 1, 9, 6, 7, 1, 4, 6, 1, 4, 5, 5,\n",
            "        6, 8, 8, 6, 7, 7, 2, 8, 8, 9, 7, 4, 1, 7, 3, 0, 8, 8, 1, 1, 4, 1, 1, 3,\n",
            "        5, 7, 0, 1, 3, 1, 2, 9, 2, 8, 9, 5, 6, 8, 2, 6, 9, 6, 1, 7, 1, 4, 3, 0,\n",
            "        9, 6, 6, 2, 6, 9, 2, 8, 7, 4, 4, 2, 6, 2, 9, 4, 1, 6, 6, 7, 9, 3, 1, 6,\n",
            "        1, 9, 7, 5, 0, 1, 4, 1])\n",
            "<class 'torch.Tensor'> torch.Size([128, 1, 28, 28]) tensor([9, 8, 1, 4, 5, 0, 1, 6, 0, 7, 6, 4, 9, 4, 0, 2, 9, 0, 1, 9, 1, 9, 1, 3,\n",
            "        8, 4, 8, 7, 4, 1, 9, 0, 8, 0, 6, 1, 2, 3, 0, 1, 5, 2, 0, 1, 0, 3, 6, 4,\n",
            "        3, 4, 2, 0, 2, 3, 1, 1, 0, 3, 1, 9, 4, 8, 9, 8, 1, 5, 7, 9, 9, 1, 1, 3,\n",
            "        7, 0, 0, 5, 4, 9, 6, 7, 1, 0, 0, 1, 4, 7, 9, 4, 5, 3, 8, 6, 3, 7, 6, 3,\n",
            "        0, 7, 2, 5, 2, 0, 2, 0, 4, 6, 7, 1, 6, 8, 0, 8, 9, 5, 7, 4, 1, 9, 1, 9,\n",
            "        7, 3, 1, 2, 8, 6, 7, 2])\n",
            "<class 'torch.Tensor'> torch.Size([128, 1, 28, 28]) tensor([8, 8, 3, 4, 2, 7, 6, 1, 2, 3, 4, 6, 0, 1, 5, 3, 2, 6, 1, 2, 2, 1, 1, 7,\n",
            "        5, 3, 8, 9, 3, 9, 8, 6, 4, 8, 4, 5, 5, 4, 8, 1, 4, 9, 9, 6, 2, 6, 4, 9,\n",
            "        7, 1, 1, 6, 0, 7, 0, 9, 0, 7, 5, 8, 9, 3, 4, 9, 3, 6, 4, 1, 9, 0, 9, 5,\n",
            "        7, 2, 7, 0, 5, 2, 0, 5, 2, 4, 1, 6, 1, 5, 6, 2, 4, 5, 2, 3, 4, 6, 3, 1,\n",
            "        2, 2, 1, 5, 4, 1, 4, 6, 8, 6, 1, 7, 0, 3, 5, 7, 0, 3, 6, 8, 9, 6, 0, 5,\n",
            "        9, 4, 8, 1, 7, 0, 6, 7])\n",
            "<class 'torch.Tensor'> torch.Size([128, 1, 28, 28]) tensor([8, 3, 7, 7, 4, 1, 3, 4, 8, 1, 2, 1, 4, 3, 5, 9, 7, 9, 1, 2, 5, 1, 2, 4,\n",
            "        9, 6, 3, 8, 3, 2, 8, 5, 6, 9, 7, 8, 1, 9, 4, 2, 7, 0, 1, 7, 5, 7, 3, 3,\n",
            "        2, 3, 5, 1, 7, 5, 5, 6, 4, 2, 3, 3, 1, 0, 9, 1, 1, 4, 4, 3, 3, 4, 5, 6,\n",
            "        4, 0, 1, 7, 2, 7, 6, 8, 1, 2, 0, 1, 3, 1, 1, 6, 1, 5, 2, 3, 1, 3, 4, 8,\n",
            "        5, 0, 1, 1, 9, 6, 1, 3, 1, 1, 7, 8, 0, 5, 2, 7, 9, 4, 8, 0, 8, 7, 2, 1,\n",
            "        3, 9, 2, 4, 1, 8, 6, 0])\n",
            "<class 'torch.Tensor'> torch.Size([128, 1, 28, 28]) tensor([0, 4, 7, 2, 5, 9, 5, 7, 4, 9, 0, 5, 4, 1, 4, 7, 9, 7, 3, 5, 3, 2, 5, 8,\n",
            "        9, 0, 6, 0, 8, 0, 7, 7, 7, 8, 0, 5, 1, 3, 6, 0, 3, 1, 5, 4, 1, 8, 2, 3,\n",
            "        1, 6, 3, 0, 1, 7, 8, 8, 1, 7, 9, 3, 6, 3, 1, 0, 4, 1, 1, 4, 1, 1, 8, 4,\n",
            "        1, 5, 7, 0, 9, 2, 5, 3, 1, 0, 2, 4, 1, 5, 8, 7, 8, 4, 5, 4, 6, 8, 4, 5,\n",
            "        8, 8, 4, 8, 4, 3, 9, 4, 4, 6, 1, 9, 5, 9, 4, 3, 1, 6, 0, 5, 1, 6, 5, 7,\n",
            "        2, 2, 4, 7, 6, 9, 7, 5])\n",
            "<class 'torch.Tensor'> torch.Size([128, 1, 28, 28]) tensor([2, 5, 1, 3, 8, 2, 1, 3, 7, 7, 8, 9, 3, 6, 8, 6, 6, 9, 6, 3, 1, 2, 8, 1,\n",
            "        9, 8, 6, 7, 1, 4, 8, 7, 6, 3, 8, 7, 0, 1, 6, 0, 8, 5, 0, 4, 7, 1, 2, 6,\n",
            "        7, 9, 9, 3, 7, 2, 6, 2, 8, 8, 0, 2, 0, 8, 6, 2, 3, 9, 6, 4, 5, 4, 1, 9,\n",
            "        3, 4, 1, 1, 3, 2, 2, 4, 2, 1, 5, 6, 7, 9, 5, 2, 3, 0, 8, 4, 5, 8, 3, 3,\n",
            "        1, 6, 6, 2, 3, 9, 9, 7, 0, 6, 8, 8, 5, 9, 1, 1, 6, 4, 8, 8, 9, 5, 0, 1,\n",
            "        3, 8, 5, 3, 4, 1, 5, 1])\n",
            "<class 'torch.Tensor'> torch.Size([128, 1, 28, 28]) tensor([3, 0, 2, 3, 6, 7, 6, 1, 0, 8, 3, 2, 3, 8, 5, 1, 9, 1, 1, 9, 9, 6, 1, 5,\n",
            "        5, 7, 4, 6, 9, 4, 8, 7, 8, 1, 2, 4, 9, 2, 4, 4, 1, 8, 7, 9, 2, 4, 6, 4,\n",
            "        1, 5, 5, 1, 5, 5, 2, 5, 9, 2, 1, 4, 1, 5, 9, 9, 0, 5, 1, 5, 0, 2, 6, 7,\n",
            "        7, 4, 3, 4, 0, 3, 6, 6, 4, 7, 7, 8, 0, 1, 0, 2, 2, 8, 0, 2, 3, 5, 5, 6,\n",
            "        5, 8, 8, 3, 5, 5, 8, 4, 0, 5, 1, 7, 1, 7, 1, 0, 6, 6, 7, 0, 6, 9, 1, 8,\n",
            "        3, 9, 3, 3, 3, 5, 9, 3])\n",
            "<class 'torch.Tensor'> torch.Size([128, 1, 28, 28]) tensor([0, 1, 6, 8, 8, 2, 7, 3, 8, 4, 7, 7, 6, 6, 3, 9, 6, 2, 4, 9, 7, 6, 6, 1,\n",
            "        2, 9, 8, 9, 9, 4, 9, 6, 1, 3, 4, 4, 5, 7, 0, 2, 7, 9, 7, 3, 4, 7, 6, 4,\n",
            "        3, 3, 0, 4, 7, 9, 5, 3, 3, 8, 2, 2, 8, 0, 4, 4, 0, 9, 9, 9, 6, 2, 0, 0,\n",
            "        0, 7, 3, 2, 1, 8, 8, 9, 8, 5, 5, 0, 0, 4, 4, 2, 3, 0, 7, 3, 7, 3, 6, 2,\n",
            "        3, 8, 2, 6, 2, 2, 5, 6, 0, 3, 9, 3, 4, 4, 5, 6, 4, 1, 0, 8, 0, 4, 3, 6,\n",
            "        5, 8, 3, 1, 4, 9, 2, 2])\n",
            "<class 'torch.Tensor'> torch.Size([128, 1, 28, 28]) tensor([7, 6, 7, 5, 8, 8, 5, 3, 0, 0, 8, 3, 8, 1, 1, 1, 5, 1, 9, 8, 6, 4, 2, 6,\n",
            "        0, 2, 0, 1, 8, 8, 4, 0, 9, 6, 1, 2, 2, 3, 0, 9, 0, 0, 9, 8, 3, 4, 6, 7,\n",
            "        7, 8, 7, 0, 1, 9, 7, 6, 6, 0, 1, 8, 9, 5, 9, 1, 8, 9, 1, 9, 2, 9, 3, 7,\n",
            "        9, 8, 7, 2, 3, 6, 5, 1, 5, 0, 4, 7, 2, 4, 8, 1, 6, 8, 5, 7, 5, 1, 5, 0,\n",
            "        5, 1, 5, 9, 0, 7, 6, 6, 8, 2, 3, 2, 3, 1, 4, 0, 3, 8, 9, 5, 6, 5, 4, 2,\n",
            "        7, 6, 8, 9, 1, 7, 6, 8])\n",
            "<class 'torch.Tensor'> torch.Size([128, 1, 28, 28]) tensor([3, 7, 0, 7, 7, 7, 4, 4, 7, 1, 2, 0, 2, 2, 4, 4, 2, 8, 3, 2, 3, 9, 3, 2,\n",
            "        7, 3, 7, 9, 6, 4, 7, 2, 3, 8, 3, 9, 6, 2, 6, 9, 1, 6, 3, 8, 0, 0, 9, 4,\n",
            "        0, 5, 9, 1, 9, 0, 3, 7, 1, 3, 6, 2, 1, 1, 3, 0, 6, 0, 4, 4, 3, 3, 7, 3,\n",
            "        2, 5, 7, 9, 0, 4, 8, 8, 3, 7, 3, 7, 0, 8, 0, 5, 7, 7, 3, 2, 5, 6, 3, 5,\n",
            "        2, 5, 9, 7, 3, 6, 3, 8, 2, 6, 4, 8, 4, 6, 9, 2, 0, 2, 5, 9, 1, 6, 6, 9,\n",
            "        2, 1, 7, 8, 7, 4, 1, 1])\n",
            "<class 'torch.Tensor'> torch.Size([128, 1, 28, 28]) tensor([6, 0, 6, 7, 3, 1, 9, 6, 8, 2, 2, 6, 7, 0, 8, 3, 8, 3, 0, 4, 9, 4, 2, 8,\n",
            "        9, 9, 5, 5, 8, 8, 7, 1, 6, 8, 6, 8, 6, 5, 3, 1, 6, 5, 6, 4, 8, 6, 5, 5,\n",
            "        4, 4, 2, 8, 3, 8, 4, 3, 8, 8, 6, 9, 1, 6, 5, 3, 0, 6, 7, 4, 8, 7, 2, 0,\n",
            "        1, 9, 4, 7, 1, 8, 6, 6, 4, 0, 7, 6, 1, 3, 7, 1, 1, 2, 0, 7, 4, 5, 1, 4,\n",
            "        4, 7, 3, 1, 0, 7, 2, 3, 4, 8, 2, 2, 6, 6, 0, 5, 2, 0, 1, 6, 5, 2, 9, 2,\n",
            "        1, 1, 4, 7, 7, 9, 9, 4])\n",
            "<class 'torch.Tensor'> torch.Size([128, 1, 28, 28]) tensor([9, 0, 6, 3, 7, 6, 6, 5, 6, 1, 5, 2, 0, 8, 7, 7, 8, 1, 5, 7, 7, 5, 3, 7,\n",
            "        3, 8, 7, 4, 8, 3, 5, 9, 4, 8, 6, 5, 3, 8, 0, 1, 4, 4, 5, 3, 6, 3, 4, 7,\n",
            "        8, 5, 3, 2, 0, 6, 6, 8, 1, 6, 8, 1, 1, 8, 4, 2, 0, 8, 6, 9, 2, 9, 3, 1,\n",
            "        6, 8, 8, 5, 8, 3, 8, 3, 6, 9, 8, 1, 8, 7, 7, 3, 4, 9, 4, 4, 5, 8, 3, 6,\n",
            "        1, 4, 3, 2, 4, 4, 0, 6, 3, 5, 7, 2, 0, 3, 8, 4, 9, 2, 0, 7, 9, 1, 8, 1,\n",
            "        7, 3, 9, 3, 5, 0, 6, 5])\n",
            "<class 'torch.Tensor'> torch.Size([128, 1, 28, 28]) tensor([7, 6, 3, 6, 6, 1, 2, 1, 6, 0, 5, 5, 2, 5, 6, 2, 2, 4, 5, 8, 6, 8, 7, 7,\n",
            "        5, 0, 9, 7, 2, 8, 3, 9, 1, 5, 0, 2, 3, 8, 7, 0, 4, 4, 1, 4, 4, 8, 1, 5,\n",
            "        9, 8, 3, 2, 8, 2, 8, 9, 2, 1, 0, 6, 7, 7, 6, 9, 3, 7, 7, 3, 5, 9, 7, 1,\n",
            "        0, 6, 9, 5, 9, 9, 3, 2, 3, 7, 8, 0, 9, 2, 1, 3, 0, 2, 2, 0, 7, 4, 3, 2,\n",
            "        3, 7, 0, 1, 1, 6, 3, 1, 4, 8, 4, 8, 0, 6, 0, 0, 9, 7, 7, 4, 3, 8, 6, 9,\n",
            "        9, 5, 4, 0, 4, 4, 1, 3])\n",
            "<class 'torch.Tensor'> torch.Size([128, 1, 28, 28]) tensor([0, 9, 9, 1, 4, 0, 0, 9, 1, 6, 3, 8, 3, 2, 2, 1, 2, 6, 7, 9, 7, 1, 6, 1,\n",
            "        6, 0, 1, 9, 2, 4, 1, 4, 2, 8, 3, 4, 7, 5, 5, 5, 3, 4, 8, 5, 7, 3, 0, 6,\n",
            "        3, 7, 4, 3, 8, 9, 7, 0, 3, 9, 0, 8, 4, 6, 5, 2, 1, 9, 2, 5, 3, 1, 9, 1,\n",
            "        9, 2, 1, 5, 2, 5, 4, 0, 4, 1, 7, 1, 5, 1, 4, 0, 7, 6, 2, 8, 3, 6, 9, 4,\n",
            "        6, 0, 8, 2, 5, 9, 7, 7, 2, 1, 7, 3, 2, 9, 6, 9, 4, 3, 0, 1, 5, 7, 1, 8,\n",
            "        3, 1, 8, 1, 0, 4, 3, 9])\n",
            "<class 'torch.Tensor'> torch.Size([128, 1, 28, 28]) tensor([7, 2, 5, 1, 8, 7, 4, 0, 5, 6, 0, 9, 2, 3, 2, 3, 0, 9, 2, 0, 0, 6, 6, 8,\n",
            "        1, 4, 5, 2, 8, 4, 7, 5, 9, 9, 7, 4, 6, 7, 2, 0, 3, 7, 0, 0, 2, 1, 3, 1,\n",
            "        3, 4, 1, 3, 8, 3, 5, 5, 0, 7, 2, 7, 0, 0, 4, 4, 4, 0, 0, 9, 8, 9, 0, 1,\n",
            "        2, 1, 2, 3, 2, 0, 1, 6, 1, 7, 0, 3, 4, 2, 2, 5, 7, 3, 0, 6, 0, 1, 9, 0,\n",
            "        9, 5, 1, 0, 1, 4, 7, 8, 5, 2, 3, 9, 5, 2, 9, 9, 4, 7, 6, 1, 5, 4, 0, 2,\n",
            "        6, 4, 3, 3, 7, 2, 3, 6])\n",
            "<class 'torch.Tensor'> torch.Size([128, 1, 28, 28]) tensor([0, 7, 5, 1, 2, 2, 0, 1, 4, 4, 9, 8, 8, 2, 8, 7, 9, 3, 0, 4, 9, 3, 4, 6,\n",
            "        1, 9, 8, 9, 0, 1, 3, 9, 8, 6, 2, 4, 1, 7, 2, 5, 9, 7, 7, 8, 8, 6, 0, 4,\n",
            "        3, 0, 0, 0, 4, 8, 3, 5, 7, 3, 8, 0, 0, 9, 4, 4, 6, 9, 3, 1, 2, 3, 2, 3,\n",
            "        8, 7, 4, 3, 3, 9, 5, 3, 4, 6, 1, 5, 0, 6, 2, 9, 4, 0, 2, 9, 0, 0, 4, 8,\n",
            "        7, 3, 1, 8, 3, 0, 0, 7, 8, 5, 8, 7, 2, 1, 6, 2, 4, 6, 4, 9, 4, 1, 6, 8,\n",
            "        7, 3, 4, 6, 4, 9, 1, 9])\n",
            "<class 'torch.Tensor'> torch.Size([128, 1, 28, 28]) tensor([6, 6, 3, 1, 0, 5, 0, 0, 8, 6, 2, 9, 2, 7, 7, 7, 3, 3, 4, 1, 0, 7, 2, 1,\n",
            "        4, 6, 0, 5, 9, 3, 1, 0, 7, 2, 9, 5, 3, 5, 2, 1, 1, 9, 8, 3, 1, 9, 6, 8,\n",
            "        2, 6, 7, 8, 6, 6, 4, 8, 8, 0, 2, 3, 7, 6, 0, 7, 1, 9, 8, 1, 0, 9, 9, 8,\n",
            "        1, 4, 4, 0, 7, 7, 8, 3, 5, 4, 8, 5, 0, 6, 2, 3, 8, 2, 0, 2, 0, 4, 7, 8,\n",
            "        1, 1, 3, 8, 3, 2, 4, 1, 5, 7, 4, 7, 5, 5, 8, 5, 6, 0, 0, 6, 1, 7, 2, 2,\n",
            "        1, 3, 4, 5, 7, 3, 1, 1])\n",
            "<class 'torch.Tensor'> torch.Size([128, 1, 28, 28]) tensor([7, 8, 6, 1, 1, 2, 2, 4, 3, 9, 7, 3, 8, 3, 1, 8, 0, 0, 6, 5, 9, 2, 7, 0,\n",
            "        8, 5, 4, 0, 8, 7, 8, 0, 7, 8, 9, 7, 8, 7, 9, 9, 9, 6, 9, 5, 5, 7, 1, 1,\n",
            "        5, 1, 1, 5, 5, 1, 5, 4, 0, 9, 7, 7, 0, 0, 6, 0, 3, 8, 7, 5, 8, 7, 2, 1,\n",
            "        0, 7, 2, 4, 6, 1, 9, 0, 6, 3, 5, 3, 5, 6, 4, 2, 5, 4, 0, 5, 4, 7, 3, 1,\n",
            "        4, 2, 0, 4, 9, 8, 9, 7, 3, 4, 5, 5, 0, 4, 3, 0, 5, 6, 4, 1, 7, 9, 2, 2,\n",
            "        5, 1, 5, 3, 1, 4, 6, 7])\n",
            "<class 'torch.Tensor'> torch.Size([128, 1, 28, 28]) tensor([8, 8, 9, 9, 6, 7, 8, 9, 3, 7, 5, 1, 1, 8, 1, 2, 5, 4, 1, 8, 3, 1, 0, 1,\n",
            "        1, 5, 6, 0, 7, 4, 9, 8, 3, 1, 3, 8, 2, 5, 8, 5, 7, 5, 4, 3, 9, 5, 7, 0,\n",
            "        8, 7, 6, 3, 4, 4, 4, 6, 5, 0, 5, 3, 2, 1, 0, 7, 1, 0, 1, 4, 1, 6, 1, 1,\n",
            "        0, 9, 0, 1, 8, 9, 9, 8, 7, 7, 0, 6, 4, 8, 2, 4, 2, 2, 6, 3, 8, 1, 1, 8,\n",
            "        3, 0, 8, 3, 7, 3, 7, 8, 8, 7, 5, 6, 1, 9, 3, 7, 1, 9, 4, 3, 7, 7, 7, 4,\n",
            "        6, 6, 4, 0, 9, 2, 2, 4])\n",
            "<class 'torch.Tensor'> torch.Size([128, 1, 28, 28]) tensor([5, 5, 7, 2, 0, 1, 1, 6, 0, 5, 4, 4, 4, 3, 4, 0, 2, 6, 3, 9, 0, 1, 5, 7,\n",
            "        3, 3, 2, 0, 7, 5, 9, 9, 5, 7, 3, 2, 2, 7, 9, 9, 7, 3, 3, 6, 0, 8, 4, 2,\n",
            "        9, 7, 8, 5, 7, 8, 6, 5, 9, 7, 0, 8, 0, 2, 8, 9, 6, 6, 0, 3, 6, 5, 9, 9,\n",
            "        7, 5, 0, 7, 7, 5, 7, 0, 0, 0, 3, 5, 6, 3, 4, 5, 5, 6, 5, 1, 8, 4, 1, 6,\n",
            "        6, 3, 8, 2, 4, 2, 3, 6, 8, 8, 2, 2, 3, 8, 4, 1, 3, 4, 7, 0, 5, 0, 7, 8,\n",
            "        9, 8, 3, 8, 1, 8, 9, 1])\n",
            "<class 'torch.Tensor'> torch.Size([128, 1, 28, 28]) tensor([8, 2, 7, 2, 7, 7, 1, 6, 1, 0, 9, 2, 6, 1, 2, 1, 4, 5, 4, 9, 8, 9, 7, 1,\n",
            "        7, 2, 7, 3, 0, 0, 1, 9, 4, 6, 7, 2, 9, 5, 5, 5, 4, 1, 4, 7, 7, 2, 2, 3,\n",
            "        8, 9, 5, 8, 3, 3, 0, 0, 5, 5, 8, 2, 6, 2, 9, 1, 2, 5, 2, 9, 3, 2, 9, 3,\n",
            "        7, 6, 4, 6, 1, 7, 6, 9, 5, 0, 5, 5, 7, 2, 3, 2, 1, 3, 3, 7, 1, 8, 6, 0,\n",
            "        9, 8, 3, 0, 0, 6, 4, 6, 6, 3, 1, 5, 4, 7, 8, 8, 2, 7, 2, 2, 0, 1, 5, 8,\n",
            "        6, 3, 7, 0, 4, 9, 5, 0])\n",
            "<class 'torch.Tensor'> torch.Size([128, 1, 28, 28]) tensor([7, 5, 7, 8, 5, 9, 9, 6, 8, 0, 5, 8, 7, 2, 8, 0, 8, 3, 9, 1, 6, 8, 8, 3,\n",
            "        4, 0, 7, 7, 6, 0, 0, 5, 8, 7, 1, 0, 0, 8, 3, 6, 2, 1, 7, 0, 9, 7, 5, 1,\n",
            "        7, 7, 6, 4, 2, 3, 8, 4, 1, 3, 0, 3, 6, 8, 2, 0, 8, 9, 5, 3, 0, 5, 1, 7,\n",
            "        7, 8, 9, 3, 9, 4, 9, 2, 1, 8, 2, 4, 0, 3, 0, 9, 2, 0, 1, 3, 5, 0, 7, 1,\n",
            "        5, 8, 7, 1, 6, 9, 5, 0, 3, 7, 1, 7, 0, 0, 5, 0, 6, 5, 8, 6, 5, 7, 4, 3,\n",
            "        5, 4, 9, 2, 2, 9, 7, 8])\n",
            "<class 'torch.Tensor'> torch.Size([128, 1, 28, 28]) tensor([6, 6, 1, 0, 7, 6, 9, 1, 7, 4, 6, 5, 5, 0, 3, 3, 0, 4, 2, 0, 8, 8, 0, 9,\n",
            "        8, 4, 4, 3, 3, 9, 7, 8, 9, 7, 2, 7, 5, 5, 1, 8, 6, 1, 3, 7, 5, 3, 3, 2,\n",
            "        4, 0, 3, 7, 6, 0, 8, 2, 9, 5, 5, 4, 1, 7, 8, 9, 3, 9, 7, 6, 1, 1, 0, 9,\n",
            "        4, 7, 8, 7, 4, 6, 7, 2, 1, 0, 9, 6, 5, 1, 2, 1, 0, 2, 1, 0, 1, 1, 5, 2,\n",
            "        3, 9, 0, 6, 7, 5, 9, 0, 1, 3, 9, 1, 7, 7, 2, 4, 2, 0, 7, 9, 5, 4, 0, 6,\n",
            "        1, 3, 9, 9, 5, 0, 2, 2])\n",
            "<class 'torch.Tensor'> torch.Size([128, 1, 28, 28]) tensor([5, 1, 0, 5, 6, 2, 3, 1, 4, 8, 7, 7, 8, 6, 0, 7, 7, 0, 4, 2, 3, 9, 1, 4,\n",
            "        1, 3, 9, 3, 0, 6, 2, 0, 5, 1, 1, 6, 8, 6, 8, 7, 1, 6, 5, 7, 9, 5, 8, 8,\n",
            "        8, 5, 9, 7, 7, 0, 2, 6, 2, 2, 8, 6, 4, 0, 2, 2, 1, 5, 1, 3, 1, 4, 6, 1,\n",
            "        6, 9, 2, 4, 1, 8, 8, 6, 5, 6, 4, 1, 5, 3, 2, 2, 9, 1, 7, 4, 4, 2, 1, 7,\n",
            "        3, 7, 5, 0, 0, 5, 7, 6, 0, 1, 9, 9, 0, 7, 6, 7, 2, 9, 6, 9, 4, 9, 1, 6,\n",
            "        2, 6, 8, 9, 7, 5, 2, 1])\n",
            "<class 'torch.Tensor'> torch.Size([128, 1, 28, 28]) tensor([1, 1, 6, 7, 2, 8, 3, 1, 0, 9, 0, 0, 9, 9, 8, 0, 3, 2, 0, 8, 9, 5, 1, 3,\n",
            "        3, 6, 1, 3, 1, 6, 6, 6, 3, 1, 2, 4, 2, 7, 8, 6, 9, 7, 5, 0, 2, 4, 5, 4,\n",
            "        2, 6, 6, 6, 7, 6, 8, 6, 9, 2, 7, 8, 4, 6, 0, 1, 5, 9, 6, 6, 1, 3, 6, 3,\n",
            "        7, 0, 4, 4, 6, 2, 4, 7, 3, 9, 8, 6, 7, 5, 5, 7, 6, 1, 6, 0, 7, 8, 5, 0,\n",
            "        8, 9, 2, 1, 1, 5, 6, 7, 6, 1, 5, 2, 9, 8, 2, 9, 0, 1, 1, 2, 9, 7, 6, 6,\n",
            "        8, 7, 4, 0, 9, 2, 0, 1])\n",
            "<class 'torch.Tensor'> torch.Size([128, 1, 28, 28]) tensor([0, 5, 7, 4, 3, 4, 0, 1, 4, 2, 9, 4, 2, 5, 7, 4, 3, 0, 8, 0, 1, 2, 8, 0,\n",
            "        5, 3, 5, 3, 1, 7, 6, 8, 2, 6, 3, 9, 0, 7, 8, 4, 9, 8, 4, 3, 9, 0, 6, 1,\n",
            "        1, 3, 4, 1, 8, 5, 9, 5, 9, 2, 8, 7, 8, 3, 6, 6, 0, 4, 9, 2, 4, 3, 3, 6,\n",
            "        6, 0, 6, 7, 6, 3, 0, 9, 0, 3, 2, 2, 5, 3, 0, 7, 6, 6, 5, 2, 1, 6, 2, 6,\n",
            "        5, 0, 5, 1, 6, 5, 0, 7, 4, 5, 2, 6, 3, 0, 7, 9, 2, 0, 0, 9, 7, 0, 4, 9,\n",
            "        3, 7, 9, 5, 0, 0, 1, 1])\n",
            "<class 'torch.Tensor'> torch.Size([128, 1, 28, 28]) tensor([9, 8, 5, 9, 1, 8, 5, 5, 9, 2, 9, 2, 1, 8, 8, 1, 8, 4, 1, 7, 8, 1, 3, 3,\n",
            "        1, 8, 1, 1, 5, 5, 7, 0, 7, 6, 8, 9, 4, 9, 9, 3, 2, 2, 3, 4, 6, 3, 2, 8,\n",
            "        2, 7, 3, 3, 3, 3, 2, 5, 3, 7, 9, 2, 7, 0, 8, 7, 8, 7, 5, 7, 3, 5, 1, 0,\n",
            "        3, 4, 3, 7, 5, 5, 1, 6, 2, 9, 0, 4, 9, 4, 7, 9, 6, 5, 4, 4, 8, 9, 0, 5,\n",
            "        0, 7, 1, 0, 5, 0, 3, 9, 0, 2, 8, 2, 3, 1, 6, 9, 2, 5, 3, 4, 5, 0, 3, 4,\n",
            "        2, 7, 9, 0, 6, 4, 7, 2])\n",
            "<class 'torch.Tensor'> torch.Size([128, 1, 28, 28]) tensor([9, 3, 8, 0, 1, 6, 8, 9, 7, 5, 0, 4, 7, 7, 9, 7, 5, 6, 6, 1, 5, 1, 0, 6,\n",
            "        4, 6, 9, 0, 7, 8, 3, 1, 0, 2, 6, 8, 4, 3, 3, 6, 5, 8, 3, 1, 0, 7, 0, 1,\n",
            "        6, 0, 2, 4, 7, 7, 9, 9, 2, 2, 3, 4, 7, 0, 1, 5, 5, 3, 6, 0, 4, 1, 8, 6,\n",
            "        0, 4, 9, 4, 8, 6, 5, 8, 1, 2, 0, 8, 1, 7, 6, 5, 7, 9, 5, 2, 2, 7, 4, 4,\n",
            "        7, 2, 1, 2, 0, 6, 6, 5, 1, 3, 5, 0, 8, 4, 5, 8, 5, 9, 5, 3, 3, 8, 6, 2,\n",
            "        5, 3, 1, 7, 4, 3, 0, 5])\n",
            "<class 'torch.Tensor'> torch.Size([128, 1, 28, 28]) tensor([4, 7, 3, 0, 0, 3, 1, 9, 6, 6, 5, 6, 8, 3, 6, 2, 9, 5, 3, 0, 2, 9, 7, 1,\n",
            "        7, 6, 3, 0, 0, 6, 0, 2, 0, 1, 8, 2, 1, 8, 5, 6, 8, 1, 2, 7, 4, 8, 3, 1,\n",
            "        2, 3, 5, 3, 1, 3, 4, 3, 7, 5, 0, 0, 8, 7, 7, 3, 8, 7, 5, 7, 7, 0, 2, 3,\n",
            "        2, 7, 6, 4, 8, 5, 8, 9, 3, 9, 0, 2, 2, 0, 8, 9, 6, 9, 6, 1, 0, 3, 5, 1,\n",
            "        7, 8, 1, 1, 7, 7, 8, 7, 8, 4, 2, 7, 2, 5, 7, 8, 4, 3, 9, 9, 8, 4, 4, 3,\n",
            "        5, 3, 1, 3, 1, 1, 6, 8])\n",
            "<class 'torch.Tensor'> torch.Size([128, 1, 28, 28]) tensor([1, 3, 7, 9, 8, 6, 3, 9, 0, 1, 7, 8, 3, 8, 7, 1, 4, 5, 2, 5, 7, 0, 5, 7,\n",
            "        9, 7, 6, 7, 1, 5, 8, 9, 2, 6, 7, 5, 5, 6, 4, 4, 5, 2, 8, 7, 3, 0, 8, 7,\n",
            "        2, 9, 3, 6, 4, 9, 7, 3, 0, 6, 6, 6, 5, 7, 4, 7, 4, 4, 1, 7, 9, 5, 3, 7,\n",
            "        2, 2, 9, 6, 1, 2, 7, 2, 7, 0, 2, 6, 3, 6, 9, 8, 8, 9, 8, 8, 8, 4, 6, 1,\n",
            "        5, 6, 8, 3, 0, 6, 7, 5, 4, 2, 9, 2, 2, 8, 7, 7, 0, 5, 8, 7, 6, 0, 9, 1,\n",
            "        8, 9, 4, 6, 4, 1, 7, 3])\n",
            "<class 'torch.Tensor'> torch.Size([128, 1, 28, 28]) tensor([6, 3, 5, 4, 1, 3, 0, 3, 7, 6, 6, 6, 3, 5, 9, 9, 8, 9, 4, 6, 0, 5, 2, 6,\n",
            "        2, 3, 4, 2, 5, 6, 8, 4, 2, 2, 3, 0, 3, 1, 2, 3, 5, 8, 4, 5, 4, 3, 1, 8,\n",
            "        8, 4, 4, 7, 5, 0, 3, 8, 1, 7, 8, 5, 0, 0, 8, 0, 4, 0, 3, 5, 0, 3, 2, 5,\n",
            "        2, 5, 8, 7, 4, 3, 2, 9, 9, 6, 7, 8, 3, 9, 3, 9, 7, 8, 1, 5, 1, 1, 5, 6,\n",
            "        4, 5, 1, 1, 3, 1, 9, 6, 9, 4, 7, 2, 9, 7, 9, 3, 0, 4, 8, 2, 7, 4, 7, 6,\n",
            "        4, 0, 7, 8, 0, 6, 8, 6])\n",
            "<class 'torch.Tensor'> torch.Size([128, 1, 28, 28]) tensor([5, 4, 6, 0, 2, 1, 7, 7, 4, 7, 3, 5, 2, 7, 7, 9, 9, 2, 0, 2, 5, 8, 0, 6,\n",
            "        9, 7, 4, 8, 3, 1, 1, 0, 8, 6, 5, 6, 4, 4, 7, 7, 5, 2, 9, 2, 2, 7, 2, 1,\n",
            "        8, 6, 3, 9, 0, 9, 7, 6, 8, 7, 0, 4, 9, 2, 9, 5, 7, 4, 4, 8, 6, 4, 8, 1,\n",
            "        4, 5, 0, 4, 6, 8, 5, 0, 5, 0, 3, 1, 0, 0, 8, 4, 5, 8, 4, 2, 5, 0, 6, 4,\n",
            "        7, 7, 1, 3, 6, 2, 2, 9, 4, 1, 4, 6, 4, 7, 6, 6, 7, 6, 6, 8, 3, 1, 4, 7,\n",
            "        3, 3, 5, 0, 7, 2, 4, 9])\n",
            "<class 'torch.Tensor'> torch.Size([128, 1, 28, 28]) tensor([7, 3, 7, 4, 6, 0, 4, 9, 0, 2, 9, 4, 3, 9, 8, 0, 3, 3, 0, 9, 3, 8, 1, 9,\n",
            "        9, 9, 2, 8, 1, 0, 2, 6, 1, 5, 2, 0, 3, 3, 1, 6, 1, 4, 8, 3, 1, 6, 1, 8,\n",
            "        1, 2, 9, 1, 1, 1, 8, 8, 7, 3, 9, 8, 2, 7, 9, 7, 5, 0, 0, 9, 3, 4, 4, 6,\n",
            "        8, 7, 6, 3, 5, 4, 7, 9, 0, 9, 8, 0, 2, 4, 5, 6, 7, 8, 2, 8, 0, 7, 6, 4,\n",
            "        0, 6, 6, 9, 8, 5, 0, 9, 5, 3, 7, 6, 2, 9, 6, 0, 1, 2, 9, 5, 3, 4, 3, 4,\n",
            "        9, 4, 7, 6, 7, 0, 9, 3])\n",
            "<class 'torch.Tensor'> torch.Size([128, 1, 28, 28]) tensor([9, 3, 3, 4, 1, 1, 7, 5, 7, 6, 9, 5, 4, 6, 6, 4, 3, 5, 7, 1, 0, 0, 5, 9,\n",
            "        3, 7, 5, 5, 4, 3, 8, 8, 0, 9, 9, 4, 2, 2, 8, 8, 2, 4, 9, 6, 7, 1, 0, 6,\n",
            "        2, 0, 5, 8, 0, 0, 5, 8, 4, 1, 3, 0, 1, 0, 9, 5, 3, 2, 9, 0, 8, 9, 2, 7,\n",
            "        9, 8, 3, 1, 6, 5, 8, 7, 4, 8, 3, 9, 7, 5, 0, 1, 5, 0, 7, 2, 9, 8, 0, 7,\n",
            "        6, 7, 5, 3, 3, 1, 5, 1, 7, 5, 6, 2, 7, 1, 1, 3, 4, 5, 3, 8, 2, 9, 9, 2,\n",
            "        0, 2, 3, 4, 3, 8, 4, 4])\n",
            "<class 'torch.Tensor'> torch.Size([128, 1, 28, 28]) tensor([8, 7, 5, 4, 1, 5, 0, 4, 9, 2, 1, 0, 7, 8, 3, 2, 0, 4, 2, 6, 5, 0, 6, 3,\n",
            "        3, 8, 0, 9, 1, 2, 9, 3, 1, 4, 4, 8, 3, 1, 1, 3, 5, 5, 4, 3, 1, 3, 5, 1,\n",
            "        7, 9, 3, 4, 8, 2, 6, 8, 4, 8, 6, 7, 9, 0, 7, 0, 1, 7, 3, 0, 2, 2, 9, 7,\n",
            "        4, 9, 4, 1, 1, 1, 3, 1, 8, 0, 2, 8, 7, 6, 7, 4, 4, 4, 4, 6, 0, 9, 4, 1,\n",
            "        7, 6, 3, 1, 9, 2, 8, 1, 2, 2, 3, 6, 9, 2, 0, 5, 6, 8, 4, 3, 8, 2, 4, 5,\n",
            "        9, 2, 6, 4, 4, 9, 9, 7])\n",
            "<class 'torch.Tensor'> torch.Size([128, 1, 28, 28]) tensor([4, 2, 9, 0, 0, 7, 7, 7, 5, 0, 4, 7, 6, 4, 5, 8, 7, 0, 1, 5, 6, 1, 4, 6,\n",
            "        4, 8, 2, 9, 5, 8, 5, 7, 3, 2, 7, 6, 9, 2, 6, 3, 3, 9, 4, 4, 0, 9, 8, 5,\n",
            "        3, 9, 6, 4, 2, 9, 0, 2, 4, 6, 2, 0, 6, 9, 5, 1, 9, 7, 8, 6, 4, 1, 3, 0,\n",
            "        1, 6, 1, 8, 2, 9, 8, 9, 8, 7, 2, 2, 1, 5, 6, 4, 5, 3, 2, 4, 9, 4, 2, 1,\n",
            "        7, 2, 2, 2, 2, 1, 5, 4, 6, 6, 5, 1, 7, 7, 0, 4, 8, 1, 6, 8, 2, 4, 1, 4,\n",
            "        7, 6, 4, 0, 1, 8, 1, 7])\n",
            "<class 'torch.Tensor'> torch.Size([128, 1, 28, 28]) tensor([4, 6, 9, 4, 9, 5, 4, 6, 0, 3, 8, 1, 1, 0, 4, 6, 9, 3, 6, 9, 8, 3, 5, 9,\n",
            "        1, 6, 2, 4, 6, 7, 4, 8, 8, 0, 0, 9, 3, 3, 6, 6, 1, 4, 6, 2, 4, 3, 3, 9,\n",
            "        2, 7, 9, 3, 4, 4, 5, 7, 1, 5, 9, 3, 7, 9, 2, 5, 5, 3, 5, 4, 0, 9, 6, 0,\n",
            "        7, 2, 0, 5, 1, 2, 3, 2, 7, 0, 4, 5, 2, 1, 7, 1, 9, 9, 9, 1, 6, 6, 5, 6,\n",
            "        6, 6, 6, 0, 9, 5, 3, 0, 8, 1, 4, 1, 9, 7, 0, 7, 4, 2, 0, 4, 0, 2, 2, 8,\n",
            "        1, 8, 6, 9, 4, 1, 8, 8])\n",
            "<class 'torch.Tensor'> torch.Size([128, 1, 28, 28]) tensor([0, 8, 6, 2, 4, 4, 0, 1, 2, 3, 3, 2, 4, 1, 1, 5, 8, 0, 6, 2, 1, 1, 2, 6,\n",
            "        6, 6, 3, 9, 6, 4, 8, 6, 2, 5, 7, 4, 1, 6, 7, 4, 4, 6, 8, 6, 4, 8, 5, 1,\n",
            "        9, 4, 1, 8, 2, 5, 9, 9, 1, 3, 4, 2, 2, 9, 6, 1, 9, 8, 3, 3, 5, 2, 1, 7,\n",
            "        2, 8, 7, 2, 7, 9, 0, 2, 6, 3, 1, 6, 6, 5, 7, 3, 4, 5, 4, 1, 7, 3, 4, 8,\n",
            "        4, 9, 7, 9, 6, 7, 9, 1, 1, 7, 7, 9, 6, 6, 7, 9, 8, 4, 0, 9, 9, 0, 1, 0,\n",
            "        1, 1, 5, 7, 2, 4, 9, 1])\n",
            "<class 'torch.Tensor'> torch.Size([128, 1, 28, 28]) tensor([5, 2, 4, 0, 3, 2, 6, 6, 0, 6, 4, 8, 4, 1, 1, 1, 8, 7, 2, 4, 3, 7, 1, 7,\n",
            "        0, 4, 0, 2, 7, 1, 2, 6, 7, 3, 3, 3, 5, 7, 3, 9, 4, 7, 7, 2, 8, 4, 6, 0,\n",
            "        6, 8, 6, 7, 4, 0, 5, 0, 3, 0, 3, 7, 9, 3, 3, 7, 2, 4, 6, 2, 9, 8, 3, 3,\n",
            "        7, 9, 8, 4, 3, 1, 9, 4, 6, 2, 3, 6, 2, 1, 2, 8, 7, 6, 0, 8, 5, 8, 8, 7,\n",
            "        6, 8, 0, 1, 5, 3, 7, 6, 5, 0, 9, 7, 6, 4, 5, 9, 3, 5, 0, 9, 3, 8, 1, 0,\n",
            "        1, 0, 9, 7, 8, 4, 6, 9])\n",
            "<class 'torch.Tensor'> torch.Size([128, 1, 28, 28]) tensor([0, 4, 7, 1, 1, 8, 5, 3, 6, 6, 3, 2, 1, 9, 6, 3, 7, 6, 5, 1, 0, 0, 5, 8,\n",
            "        8, 5, 5, 0, 1, 0, 0, 2, 4, 3, 2, 0, 3, 3, 5, 1, 8, 9, 6, 1, 5, 6, 4, 5,\n",
            "        0, 9, 7, 9, 8, 8, 6, 4, 7, 2, 7, 4, 7, 0, 1, 7, 7, 3, 3, 6, 7, 7, 7, 3,\n",
            "        6, 5, 0, 8, 6, 3, 0, 8, 5, 4, 2, 9, 1, 2, 9, 4, 6, 3, 3, 6, 3, 7, 5, 7,\n",
            "        6, 5, 8, 1, 4, 8, 5, 2, 0, 2, 6, 2, 3, 1, 5, 1, 0, 7, 1, 3, 0, 0, 1, 5,\n",
            "        1, 7, 4, 9, 3, 9, 0, 3])\n",
            "<class 'torch.Tensor'> torch.Size([128, 1, 28, 28]) tensor([4, 0, 0, 2, 1, 8, 7, 1, 3, 2, 5, 2, 8, 7, 0, 5, 0, 0, 9, 5, 6, 4, 3, 4,\n",
            "        9, 8, 6, 3, 2, 1, 7, 9, 3, 6, 7, 9, 7, 7, 0, 7, 4, 6, 4, 3, 2, 9, 1, 3,\n",
            "        6, 1, 7, 1, 9, 6, 0, 9, 5, 2, 5, 7, 5, 7, 1, 8, 1, 2, 0, 6, 9, 4, 8, 6,\n",
            "        5, 1, 7, 8, 0, 2, 1, 4, 6, 1, 8, 7, 1, 0, 3, 3, 2, 4, 8, 0, 9, 8, 2, 2,\n",
            "        9, 5, 4, 6, 1, 8, 5, 5, 6, 1, 4, 6, 9, 2, 1, 5, 0, 7, 2, 6, 8, 7, 2, 0,\n",
            "        8, 0, 2, 5, 2, 5, 1, 7])\n",
            "<class 'torch.Tensor'> torch.Size([128, 1, 28, 28]) tensor([7, 6, 0, 8, 1, 4, 1, 8, 2, 8, 6, 4, 0, 0, 0, 2, 4, 6, 1, 1, 3, 0, 9, 7,\n",
            "        7, 1, 3, 5, 0, 4, 6, 4, 3, 4, 1, 5, 4, 5, 6, 4, 8, 2, 3, 4, 1, 1, 0, 4,\n",
            "        5, 0, 2, 7, 9, 3, 6, 2, 2, 9, 6, 7, 7, 3, 4, 1, 5, 0, 3, 1, 9, 9, 0, 2,\n",
            "        4, 7, 3, 8, 1, 3, 3, 0, 3, 3, 0, 9, 2, 3, 8, 2, 4, 4, 9, 6, 5, 6, 7, 5,\n",
            "        2, 8, 4, 3, 1, 1, 7, 3, 1, 9, 5, 7, 4, 0, 7, 3, 8, 5, 5, 6, 8, 2, 5, 1,\n",
            "        1, 7, 4, 2, 0, 4, 4, 4])\n",
            "<class 'torch.Tensor'> torch.Size([128, 1, 28, 28]) tensor([9, 9, 7, 2, 6, 4, 0, 7, 3, 0, 8, 2, 5, 8, 1, 9, 5, 8, 7, 4, 9, 5, 2, 1,\n",
            "        2, 7, 5, 6, 1, 0, 7, 0, 9, 3, 9, 8, 6, 1, 7, 8, 4, 7, 0, 6, 9, 8, 3, 6,\n",
            "        4, 0, 6, 6, 9, 5, 6, 7, 4, 2, 8, 9, 1, 5, 0, 9, 0, 4, 2, 7, 9, 3, 1, 2,\n",
            "        5, 2, 4, 5, 5, 8, 8, 3, 2, 7, 3, 6, 1, 0, 1, 7, 0, 8, 1, 6, 7, 9, 2, 4,\n",
            "        6, 7, 8, 9, 5, 6, 6, 9, 6, 6, 3, 7, 7, 2, 6, 3, 4, 5, 2, 4, 4, 8, 0, 8,\n",
            "        9, 8, 9, 3, 5, 6, 5, 0])\n",
            "<class 'torch.Tensor'> torch.Size([128, 1, 28, 28]) tensor([8, 3, 6, 9, 4, 3, 4, 8, 6, 4, 8, 5, 4, 4, 6, 2, 4, 9, 7, 2, 3, 2, 3, 1,\n",
            "        8, 9, 9, 4, 3, 1, 5, 4, 8, 9, 9, 4, 0, 9, 7, 2, 3, 2, 1, 8, 0, 1, 1, 1,\n",
            "        1, 3, 9, 5, 7, 6, 9, 7, 6, 7, 2, 4, 0, 0, 5, 2, 8, 4, 3, 2, 7, 2, 2, 9,\n",
            "        1, 7, 3, 4, 8, 5, 4, 7, 1, 2, 9, 2, 7, 4, 6, 8, 9, 7, 4, 4, 7, 1, 2, 3,\n",
            "        2, 1, 5, 2, 3, 6, 7, 1, 0, 3, 2, 7, 0, 0, 5, 3, 7, 1, 7, 1, 8, 0, 1, 9,\n",
            "        8, 9, 1, 7, 6, 3, 3, 9])\n",
            "<class 'torch.Tensor'> torch.Size([128, 1, 28, 28]) tensor([7, 4, 2, 6, 2, 9, 3, 4, 7, 6, 7, 0, 0, 0, 3, 5, 1, 9, 9, 2, 5, 2, 0, 7,\n",
            "        1, 9, 4, 4, 0, 0, 6, 8, 4, 4, 3, 1, 3, 9, 9, 2, 6, 2, 3, 8, 9, 2, 2, 3,\n",
            "        0, 5, 5, 3, 0, 0, 8, 9, 0, 7, 0, 6, 5, 9, 7, 6, 7, 8, 4, 4, 5, 9, 3, 6,\n",
            "        4, 2, 6, 7, 5, 3, 9, 2, 8, 3, 7, 1, 1, 0, 0, 0, 8, 1, 5, 4, 2, 1, 6, 9,\n",
            "        6, 5, 2, 6, 7, 9, 0, 2, 1, 4, 3, 7, 8, 5, 7, 7, 0, 6, 5, 3, 4, 1, 3, 6,\n",
            "        2, 7, 3, 4, 1, 5, 1, 7])\n",
            "<class 'torch.Tensor'> torch.Size([128, 1, 28, 28]) tensor([2, 3, 8, 1, 3, 7, 2, 8, 0, 8, 1, 2, 8, 7, 8, 2, 7, 1, 0, 8, 3, 6, 3, 2,\n",
            "        4, 4, 2, 4, 3, 1, 7, 9, 4, 4, 7, 3, 7, 3, 5, 4, 6, 0, 6, 2, 6, 2, 4, 0,\n",
            "        6, 2, 3, 1, 2, 5, 5, 4, 6, 6, 4, 1, 3, 4, 1, 1, 9, 6, 5, 2, 1, 7, 1, 3,\n",
            "        3, 6, 9, 5, 8, 0, 7, 2, 5, 7, 4, 9, 3, 6, 6, 3, 0, 3, 5, 8, 5, 8, 6, 2,\n",
            "        7, 3, 6, 3, 6, 4, 5, 5, 2, 1, 8, 7, 4, 1, 5, 6, 2, 0, 2, 8, 0, 8, 7, 1,\n",
            "        1, 8, 2, 6, 8, 5, 4, 3])\n",
            "<class 'torch.Tensor'> torch.Size([128, 1, 28, 28]) tensor([2, 3, 8, 6, 2, 5, 3, 9, 6, 9, 2, 0, 0, 5, 0, 3, 9, 6, 2, 1, 7, 2, 6, 4,\n",
            "        5, 3, 0, 5, 8, 2, 6, 3, 0, 4, 1, 8, 7, 8, 2, 6, 9, 4, 3, 1, 9, 1, 5, 9,\n",
            "        8, 1, 1, 4, 6, 8, 1, 3, 1, 2, 9, 9, 3, 2, 3, 6, 9, 0, 6, 0, 9, 1, 7, 9,\n",
            "        4, 1, 7, 6, 5, 4, 3, 3, 4, 2, 0, 4, 7, 1, 8, 3, 6, 4, 3, 4, 0, 5, 6, 3,\n",
            "        1, 2, 9, 1, 6, 8, 2, 6, 3, 8, 8, 3, 3, 7, 8, 2, 3, 8, 2, 1, 9, 8, 6, 3,\n",
            "        6, 2, 1, 9, 0, 2, 3, 0])\n",
            "<class 'torch.Tensor'> torch.Size([128, 1, 28, 28]) tensor([0, 7, 1, 0, 6, 9, 0, 3, 6, 4, 7, 0, 3, 0, 7, 1, 6, 5, 9, 8, 4, 9, 2, 2,\n",
            "        2, 7, 6, 9, 5, 6, 3, 4, 3, 5, 3, 2, 7, 2, 3, 7, 3, 3, 2, 8, 0, 6, 2, 6,\n",
            "        9, 8, 0, 4, 8, 4, 2, 1, 5, 4, 9, 3, 9, 5, 1, 8, 6, 9, 1, 4, 6, 4, 0, 3,\n",
            "        3, 5, 9, 0, 0, 0, 8, 2, 8, 5, 8, 4, 5, 1, 5, 3, 0, 3, 3, 5, 4, 4, 4, 0,\n",
            "        6, 9, 9, 9, 6, 4, 0, 1, 8, 2, 1, 1, 0, 4, 0, 3, 7, 6, 1, 0, 7, 8, 8, 1,\n",
            "        5, 7, 3, 9, 9, 9, 9, 7])\n",
            "<class 'torch.Tensor'> torch.Size([128, 1, 28, 28]) tensor([9, 2, 0, 3, 7, 7, 2, 0, 8, 9, 6, 5, 0, 6, 3, 0, 8, 6, 7, 1, 2, 3, 9, 3,\n",
            "        6, 1, 0, 6, 1, 0, 4, 9, 2, 9, 8, 6, 0, 3, 7, 4, 2, 1, 3, 4, 7, 0, 5, 5,\n",
            "        3, 2, 8, 1, 0, 3, 0, 7, 5, 9, 4, 5, 0, 1, 0, 9, 0, 2, 6, 8, 6, 8, 5, 9,\n",
            "        1, 7, 5, 7, 8, 8, 0, 2, 2, 2, 2, 4, 4, 4, 3, 2, 3, 9, 3, 7, 0, 5, 0, 8,\n",
            "        0, 4, 3, 3, 1, 3, 7, 4, 3, 0, 7, 7, 1, 0, 9, 9, 1, 8, 4, 0, 4, 6, 3, 2,\n",
            "        2, 8, 1, 3, 7, 7, 9, 1])\n",
            "<class 'torch.Tensor'> torch.Size([128, 1, 28, 28]) tensor([9, 2, 1, 8, 7, 5, 7, 7, 3, 3, 2, 0, 0, 5, 6, 6, 3, 1, 9, 5, 5, 8, 1, 3,\n",
            "        6, 3, 0, 6, 3, 7, 4, 7, 7, 8, 0, 1, 0, 6, 0, 8, 7, 5, 7, 1, 3, 0, 3, 7,\n",
            "        8, 4, 8, 6, 1, 9, 9, 9, 6, 1, 9, 2, 3, 5, 3, 8, 7, 0, 5, 5, 3, 7, 8, 8,\n",
            "        2, 0, 8, 9, 5, 3, 6, 0, 1, 8, 8, 5, 2, 1, 3, 9, 6, 4, 0, 7, 1, 2, 9, 0,\n",
            "        4, 9, 8, 3, 7, 4, 0, 2, 6, 1, 2, 9, 0, 5, 1, 7, 7, 0, 3, 1, 8, 8, 9, 0,\n",
            "        0, 3, 0, 6, 1, 5, 6, 2])\n",
            "<class 'torch.Tensor'> torch.Size([128, 1, 28, 28]) tensor([9, 5, 2, 8, 6, 6, 0, 9, 9, 7, 4, 6, 6, 4, 7, 2, 2, 3, 4, 5, 7, 5, 3, 4,\n",
            "        3, 9, 6, 5, 3, 6, 9, 0, 5, 2, 8, 0, 5, 5, 1, 7, 8, 6, 6, 0, 0, 1, 7, 1,\n",
            "        9, 8, 6, 6, 4, 6, 8, 6, 5, 5, 4, 1, 4, 0, 9, 4, 4, 3, 1, 5, 0, 3, 4, 9,\n",
            "        1, 7, 1, 8, 3, 0, 2, 5, 7, 4, 2, 5, 7, 1, 9, 0, 8, 1, 6, 2, 7, 5, 6, 1,\n",
            "        7, 2, 4, 5, 4, 5, 6, 5, 1, 0, 3, 1, 4, 2, 8, 3, 0, 2, 6, 2, 9, 1, 9, 6,\n",
            "        8, 9, 7, 8, 0, 6, 2, 5])\n",
            "<class 'torch.Tensor'> torch.Size([128, 1, 28, 28]) tensor([5, 9, 8, 1, 7, 1, 8, 1, 0, 8, 3, 1, 7, 7, 5, 1, 5, 0, 9, 0, 4, 4, 9, 1,\n",
            "        3, 4, 2, 7, 5, 0, 7, 7, 3, 5, 8, 2, 1, 7, 7, 9, 7, 1, 4, 0, 9, 6, 8, 4,\n",
            "        3, 4, 7, 9, 7, 7, 7, 7, 4, 6, 4, 0, 7, 7, 3, 9, 1, 8, 1, 4, 3, 6, 6, 0,\n",
            "        3, 4, 8, 1, 9, 0, 3, 3, 8, 1, 8, 3, 5, 6, 8, 1, 6, 7, 3, 0, 5, 9, 5, 3,\n",
            "        1, 8, 5, 5, 5, 8, 0, 6, 7, 5, 2, 4, 5, 5, 7, 3, 5, 2, 9, 5, 7, 7, 1, 3,\n",
            "        4, 1, 5, 8, 0, 1, 7, 8])\n",
            "<class 'torch.Tensor'> torch.Size([128, 1, 28, 28]) tensor([6, 3, 0, 2, 1, 1, 5, 6, 7, 2, 1, 7, 2, 5, 1, 6, 6, 8, 0, 7, 5, 1, 5, 6,\n",
            "        7, 7, 2, 9, 1, 1, 7, 6, 0, 4, 0, 1, 1, 0, 6, 8, 0, 6, 3, 6, 0, 0, 6, 6,\n",
            "        2, 3, 5, 3, 5, 6, 0, 3, 3, 5, 5, 3, 0, 4, 9, 3, 9, 7, 8, 1, 9, 1, 6, 9,\n",
            "        5, 7, 9, 1, 8, 4, 3, 0, 1, 8, 8, 2, 4, 8, 0, 2, 7, 8, 4, 4, 4, 4, 9, 3,\n",
            "        3, 2, 8, 8, 0, 5, 7, 3, 6, 5, 2, 4, 7, 4, 9, 7, 2, 6, 9, 4, 7, 1, 8, 0,\n",
            "        8, 7, 9, 3, 6, 6, 5, 2])\n",
            "<class 'torch.Tensor'> torch.Size([128, 1, 28, 28]) tensor([1, 6, 8, 7, 5, 9, 9, 7, 4, 7, 9, 9, 8, 7, 6, 4, 0, 9, 8, 8, 1, 4, 9, 9,\n",
            "        1, 3, 9, 7, 3, 6, 7, 0, 3, 8, 2, 5, 2, 9, 8, 5, 8, 1, 8, 5, 8, 3, 1, 1,\n",
            "        8, 5, 4, 5, 7, 1, 8, 2, 8, 1, 9, 4, 0, 2, 8, 7, 0, 1, 7, 5, 6, 5, 9, 6,\n",
            "        8, 2, 4, 1, 7, 3, 9, 0, 0, 9, 0, 0, 9, 5, 1, 7, 2, 4, 5, 8, 3, 2, 2, 9,\n",
            "        0, 6, 6, 6, 1, 1, 7, 1, 2, 6, 0, 1, 4, 8, 2, 8, 1, 9, 0, 8, 0, 8, 2, 1,\n",
            "        5, 9, 7, 8, 6, 7, 7, 2])\n",
            "<class 'torch.Tensor'> torch.Size([128, 1, 28, 28]) tensor([7, 4, 3, 8, 8, 5, 4, 9, 1, 5, 7, 3, 7, 3, 8, 5, 9, 8, 5, 2, 6, 7, 8, 5,\n",
            "        4, 2, 2, 3, 4, 5, 9, 8, 4, 6, 8, 6, 6, 1, 2, 8, 5, 4, 9, 1, 3, 9, 3, 4,\n",
            "        3, 0, 9, 6, 9, 3, 4, 3, 7, 7, 6, 0, 0, 3, 5, 6, 6, 2, 0, 9, 3, 5, 7, 7,\n",
            "        7, 6, 6, 3, 0, 1, 0, 0, 7, 5, 0, 3, 8, 9, 1, 9, 7, 5, 4, 7, 4, 4, 6, 6,\n",
            "        9, 0, 7, 1, 5, 6, 7, 3, 0, 6, 3, 4, 8, 1, 5, 1, 9, 8, 1, 6, 6, 8, 0, 4,\n",
            "        8, 4, 7, 7, 6, 6, 6, 3])\n",
            "<class 'torch.Tensor'> torch.Size([128, 1, 28, 28]) tensor([5, 8, 2, 9, 7, 7, 9, 1, 5, 1, 6, 1, 5, 3, 1, 5, 1, 6, 6, 7, 2, 3, 2, 9,\n",
            "        7, 3, 6, 1, 2, 4, 0, 6, 1, 2, 5, 0, 7, 7, 8, 1, 9, 5, 2, 2, 5, 3, 1, 2,\n",
            "        2, 0, 1, 4, 3, 1, 6, 7, 3, 3, 3, 0, 7, 9, 6, 5, 6, 2, 0, 0, 6, 4, 6, 3,\n",
            "        8, 8, 5, 8, 9, 9, 1, 5, 2, 3, 3, 2, 2, 1, 5, 3, 2, 5, 8, 7, 7, 0, 7, 1,\n",
            "        6, 1, 2, 2, 1, 5, 9, 3, 2, 9, 9, 0, 3, 4, 1, 5, 8, 8, 0, 6, 0, 8, 3, 1,\n",
            "        5, 9, 5, 1, 1, 4, 8, 2])\n",
            "<class 'torch.Tensor'> torch.Size([128, 1, 28, 28]) tensor([7, 0, 6, 7, 4, 1, 8, 5, 9, 1, 4, 6, 8, 3, 3, 6, 6, 3, 5, 6, 5, 3, 7, 8,\n",
            "        8, 2, 3, 5, 8, 7, 6, 9, 3, 5, 1, 1, 1, 0, 8, 9, 4, 4, 3, 1, 0, 9, 5, 9,\n",
            "        0, 3, 6, 1, 2, 7, 6, 6, 2, 3, 1, 8, 4, 7, 0, 7, 5, 5, 0, 7, 9, 2, 2, 1,\n",
            "        4, 1, 7, 5, 8, 5, 2, 4, 2, 7, 8, 7, 5, 3, 1, 4, 9, 4, 7, 6, 6, 6, 9, 1,\n",
            "        4, 8, 9, 3, 4, 0, 8, 7, 3, 7, 7, 2, 1, 6, 0, 7, 3, 8, 8, 6, 1, 2, 9, 9,\n",
            "        7, 1, 0, 9, 7, 9, 3, 3])\n",
            "<class 'torch.Tensor'> torch.Size([128, 1, 28, 28]) tensor([6, 0, 7, 8, 5, 6, 4, 7, 6, 7, 2, 0, 5, 2, 7, 2, 0, 4, 6, 1, 9, 9, 3, 2,\n",
            "        2, 0, 0, 1, 2, 8, 7, 3, 1, 9, 2, 0, 2, 2, 4, 7, 2, 8, 0, 1, 8, 2, 8, 3,\n",
            "        6, 9, 7, 5, 7, 6, 1, 2, 7, 2, 5, 8, 6, 9, 5, 1, 8, 1, 0, 4, 6, 1, 5, 1,\n",
            "        5, 7, 1, 6, 1, 9, 0, 7, 8, 3, 7, 4, 0, 0, 0, 0, 8, 0, 3, 9, 4, 4, 6, 5,\n",
            "        9, 7, 7, 5, 3, 6, 0, 7, 8, 9, 7, 8, 8, 2, 3, 7, 4, 0, 2, 4, 9, 8, 7, 6,\n",
            "        3, 5, 4, 4, 1, 2, 6, 5])\n",
            "<class 'torch.Tensor'> torch.Size([128, 1, 28, 28]) tensor([8, 0, 7, 4, 5, 9, 2, 7, 3, 3, 4, 9, 2, 1, 9, 7, 9, 2, 2, 1, 7, 4, 8, 6,\n",
            "        6, 1, 6, 0, 6, 2, 3, 6, 2, 5, 7, 5, 2, 9, 0, 9, 3, 5, 0, 1, 1, 6, 1, 9,\n",
            "        3, 2, 2, 8, 1, 7, 9, 6, 3, 4, 4, 3, 6, 4, 5, 0, 3, 1, 4, 4, 8, 9, 4, 9,\n",
            "        3, 2, 4, 9, 8, 5, 8, 3, 0, 7, 6, 3, 9, 0, 8, 1, 0, 8, 2, 2, 8, 5, 2, 4,\n",
            "        4, 1, 2, 2, 9, 2, 2, 6, 5, 3, 8, 6, 6, 8, 9, 1, 8, 6, 0, 3, 2, 7, 9, 1,\n",
            "        5, 6, 1, 3, 9, 9, 9, 6])\n",
            "<class 'torch.Tensor'> torch.Size([128, 1, 28, 28]) tensor([9, 7, 9, 3, 2, 3, 9, 3, 8, 5, 5, 0, 0, 9, 3, 4, 8, 8, 1, 1, 7, 1, 3, 6,\n",
            "        2, 4, 3, 0, 3, 6, 0, 0, 9, 8, 8, 3, 1, 7, 5, 0, 9, 8, 6, 9, 8, 6, 9, 4,\n",
            "        6, 1, 8, 2, 5, 0, 6, 3, 9, 0, 6, 4, 7, 0, 6, 8, 5, 2, 7, 0, 6, 9, 9, 6,\n",
            "        5, 3, 4, 6, 6, 5, 5, 0, 8, 4, 4, 0, 2, 6, 2, 4, 7, 8, 5, 1, 1, 1, 3, 0,\n",
            "        2, 4, 5, 7, 3, 5, 4, 4, 7, 5, 9, 5, 1, 5, 4, 4, 1, 3, 1, 9, 4, 1, 3, 3,\n",
            "        4, 6, 0, 5, 5, 7, 0, 2])\n",
            "<class 'torch.Tensor'> torch.Size([128, 1, 28, 28]) tensor([6, 0, 7, 2, 3, 6, 1, 2, 5, 9, 0, 8, 8, 5, 7, 4, 5, 8, 2, 7, 8, 5, 3, 6,\n",
            "        3, 6, 0, 9, 4, 4, 0, 0, 6, 9, 8, 0, 6, 9, 4, 5, 1, 7, 9, 9, 9, 2, 2, 9,\n",
            "        4, 0, 7, 4, 0, 8, 5, 4, 3, 9, 8, 1, 4, 1, 6, 4, 7, 2, 1, 7, 9, 6, 4, 2,\n",
            "        1, 4, 1, 8, 2, 3, 6, 0, 6, 8, 3, 9, 4, 2, 4, 5, 3, 1, 6, 1, 6, 0, 6, 1,\n",
            "        3, 5, 8, 6, 1, 0, 2, 4, 3, 8, 1, 7, 9, 4, 5, 2, 4, 3, 5, 1, 3, 3, 4, 2,\n",
            "        3, 6, 1, 7, 8, 3, 1, 3])\n",
            "<class 'torch.Tensor'> torch.Size([128, 1, 28, 28]) tensor([5, 7, 6, 2, 6, 7, 3, 1, 7, 3, 0, 9, 4, 3, 1, 3, 7, 4, 0, 8, 2, 8, 2, 4,\n",
            "        7, 6, 9, 5, 7, 9, 0, 6, 3, 3, 3, 0, 9, 6, 5, 4, 3, 4, 6, 2, 5, 2, 3, 4,\n",
            "        3, 6, 0, 0, 2, 6, 7, 1, 1, 6, 9, 1, 4, 5, 4, 1, 2, 5, 4, 2, 6, 8, 6, 1,\n",
            "        7, 6, 6, 6, 0, 2, 6, 5, 8, 6, 8, 6, 9, 3, 7, 6, 7, 0, 7, 7, 0, 6, 1, 1,\n",
            "        6, 1, 4, 2, 8, 4, 3, 2, 3, 6, 3, 2, 6, 5, 0, 7, 3, 5, 1, 8, 3, 9, 9, 8,\n",
            "        8, 0, 6, 1, 4, 2, 7, 6])\n",
            "<class 'torch.Tensor'> torch.Size([128, 1, 28, 28]) tensor([9, 6, 6, 9, 1, 1, 7, 3, 6, 3, 4, 6, 5, 5, 8, 2, 5, 1, 1, 6, 9, 6, 4, 3,\n",
            "        7, 6, 7, 1, 0, 8, 1, 3, 2, 2, 0, 0, 3, 7, 8, 1, 4, 3, 1, 2, 6, 7, 4, 4,\n",
            "        9, 6, 4, 9, 1, 8, 5, 0, 4, 6, 4, 8, 1, 5, 6, 2, 5, 1, 7, 3, 7, 7, 1, 0,\n",
            "        8, 8, 5, 4, 3, 2, 0, 2, 0, 8, 8, 6, 7, 4, 6, 6, 3, 3, 8, 8, 0, 6, 5, 6,\n",
            "        7, 3, 5, 6, 5, 7, 3, 0, 0, 5, 7, 6, 8, 9, 8, 7, 6, 3, 8, 0, 0, 5, 4, 5,\n",
            "        3, 0, 9, 1, 1, 8, 1, 4])\n",
            "<class 'torch.Tensor'> torch.Size([128, 1, 28, 28]) tensor([4, 3, 2, 5, 1, 5, 9, 9, 8, 5, 6, 1, 3, 0, 8, 4, 7, 5, 4, 1, 4, 5, 8, 1,\n",
            "        2, 3, 6, 2, 6, 6, 6, 4, 0, 9, 6, 0, 5, 1, 2, 9, 7, 1, 7, 5, 3, 9, 1, 6,\n",
            "        5, 9, 3, 7, 4, 5, 9, 8, 2, 9, 2, 7, 2, 5, 3, 6, 7, 8, 4, 5, 6, 1, 0, 7,\n",
            "        6, 9, 1, 5, 4, 8, 3, 8, 1, 7, 2, 8, 2, 0, 2, 1, 3, 1, 4, 7, 9, 8, 1, 9,\n",
            "        8, 0, 1, 4, 6, 5, 9, 2, 0, 5, 5, 5, 2, 4, 3, 0, 1, 4, 0, 3, 1, 0, 5, 2,\n",
            "        0, 7, 5, 1, 5, 1, 7, 6])\n",
            "<class 'torch.Tensor'> torch.Size([128, 1, 28, 28]) tensor([1, 8, 3, 4, 1, 1, 5, 6, 8, 8, 4, 7, 0, 7, 1, 9, 8, 9, 9, 9, 7, 3, 1, 2,\n",
            "        7, 0, 3, 4, 0, 2, 7, 0, 9, 4, 0, 2, 4, 9, 6, 0, 4, 7, 3, 1, 5, 1, 1, 5,\n",
            "        1, 4, 4, 7, 5, 7, 0, 1, 5, 9, 9, 7, 5, 2, 1, 0, 7, 7, 8, 5, 8, 5, 2, 9,\n",
            "        1, 8, 3, 8, 3, 0, 5, 5, 0, 1, 9, 7, 5, 1, 2, 0, 3, 9, 0, 1, 0, 4, 1, 2,\n",
            "        3, 8, 4, 0, 8, 4, 1, 5, 1, 9, 6, 9, 4, 1, 2, 8, 7, 9, 2, 3, 3, 1, 8, 4,\n",
            "        5, 9, 8, 9, 9, 6, 0, 4])\n",
            "<class 'torch.Tensor'> torch.Size([128, 1, 28, 28]) tensor([5, 9, 3, 0, 6, 3, 1, 7, 8, 5, 6, 5, 0, 4, 6, 8, 8, 9, 8, 6, 7, 0, 5, 6,\n",
            "        9, 8, 3, 8, 2, 8, 9, 6, 8, 8, 7, 5, 9, 4, 8, 3, 2, 2, 4, 6, 9, 9, 2, 5,\n",
            "        6, 2, 6, 0, 3, 2, 0, 9, 9, 1, 0, 4, 9, 5, 0, 5, 3, 3, 2, 2, 8, 3, 9, 0,\n",
            "        4, 4, 1, 9, 3, 1, 7, 3, 2, 8, 7, 2, 7, 3, 8, 0, 7, 7, 8, 3, 3, 8, 9, 6,\n",
            "        5, 2, 2, 8, 4, 6, 1, 0, 2, 1, 1, 4, 9, 4, 5, 8, 2, 2, 1, 1, 9, 4, 4, 2,\n",
            "        0, 7, 8, 6, 7, 0, 2, 2])\n",
            "<class 'torch.Tensor'> torch.Size([128, 1, 28, 28]) tensor([0, 0, 2, 7, 9, 7, 4, 6, 7, 2, 4, 5, 7, 1, 3, 2, 9, 5, 8, 3, 9, 3, 5, 1,\n",
            "        7, 6, 0, 7, 8, 4, 2, 5, 9, 0, 6, 0, 0, 4, 5, 0, 2, 8, 0, 1, 1, 3, 5, 9,\n",
            "        0, 8, 5, 0, 8, 9, 3, 9, 6, 6, 7, 0, 0, 7, 3, 0, 2, 2, 2, 2, 8, 8, 1, 0,\n",
            "        7, 8, 8, 9, 2, 2, 4, 1, 4, 3, 5, 9, 1, 2, 9, 6, 2, 5, 3, 8, 4, 4, 1, 3,\n",
            "        2, 9, 5, 8, 5, 3, 1, 4, 1, 4, 0, 2, 8, 0, 2, 1, 7, 1, 2, 9, 2, 8, 8, 3,\n",
            "        5, 0, 1, 5, 6, 9, 8, 1])\n",
            "<class 'torch.Tensor'> torch.Size([128, 1, 28, 28]) tensor([7, 0, 1, 3, 5, 7, 7, 3, 3, 4, 5, 5, 4, 7, 7, 6, 1, 1, 8, 5, 7, 6, 5, 5,\n",
            "        8, 6, 3, 6, 9, 0, 8, 7, 3, 7, 8, 3, 2, 1, 4, 3, 6, 1, 2, 0, 7, 8, 7, 5,\n",
            "        6, 1, 8, 3, 9, 1, 8, 8, 7, 5, 5, 1, 0, 3, 5, 1, 8, 6, 9, 7, 8, 1, 3, 4,\n",
            "        4, 4, 3, 8, 0, 1, 6, 9, 7, 1, 1, 0, 5, 0, 2, 1, 5, 3, 2, 0, 1, 4, 7, 0,\n",
            "        3, 7, 8, 7, 9, 3, 7, 3, 8, 7, 2, 1, 0, 7, 2, 7, 1, 2, 1, 8, 2, 2, 0, 7,\n",
            "        4, 6, 6, 8, 1, 5, 1, 4])\n",
            "<class 'torch.Tensor'> torch.Size([128, 1, 28, 28]) tensor([1, 5, 1, 8, 5, 5, 9, 3, 3, 7, 4, 4, 5, 2, 0, 2, 9, 2, 2, 4, 8, 6, 9, 7,\n",
            "        9, 3, 4, 7, 8, 4, 1, 4, 6, 4, 0, 5, 4, 9, 1, 9, 6, 4, 2, 8, 4, 1, 0, 0,\n",
            "        0, 2, 5, 8, 6, 0, 6, 2, 6, 4, 8, 7, 2, 4, 0, 2, 7, 9, 4, 1, 2, 9, 5, 8,\n",
            "        1, 1, 5, 4, 8, 2, 4, 9, 8, 8, 8, 8, 6, 9, 8, 8, 9, 2, 4, 1, 6, 8, 7, 5,\n",
            "        3, 2, 2, 2, 6, 1, 1, 3, 3, 6, 0, 0, 9, 3, 0, 4, 1, 1, 7, 4, 5, 5, 9, 5,\n",
            "        0, 3, 6, 9, 7, 6, 7, 0])\n",
            "<class 'torch.Tensor'> torch.Size([128, 1, 28, 28]) tensor([4, 4, 9, 2, 8, 4, 5, 4, 3, 0, 8, 4, 8, 3, 9, 0, 9, 1, 8, 2, 3, 5, 3, 9,\n",
            "        3, 3, 5, 5, 4, 3, 8, 4, 2, 2, 7, 9, 2, 4, 0, 8, 4, 6, 3, 6, 4, 2, 6, 4,\n",
            "        6, 8, 7, 0, 0, 4, 4, 4, 0, 8, 2, 1, 0, 8, 6, 4, 3, 6, 7, 9, 7, 1, 6, 1,\n",
            "        1, 1, 0, 4, 3, 7, 9, 9, 8, 7, 6, 0, 1, 3, 8, 7, 4, 5, 3, 3, 6, 4, 3, 3,\n",
            "        1, 5, 3, 3, 0, 3, 7, 8, 5, 1, 9, 4, 7, 0, 6, 5, 4, 5, 3, 6, 9, 9, 4, 7,\n",
            "        6, 0, 0, 5, 6, 8, 0, 9])\n",
            "<class 'torch.Tensor'> torch.Size([128, 1, 28, 28]) tensor([7, 6, 0, 4, 5, 9, 3, 0, 8, 6, 3, 9, 2, 6, 0, 6, 6, 6, 3, 8, 6, 1, 5, 5,\n",
            "        0, 6, 3, 3, 5, 2, 2, 1, 7, 8, 6, 4, 0, 9, 7, 4, 0, 1, 3, 1, 1, 9, 3, 1,\n",
            "        0, 1, 1, 6, 2, 4, 5, 7, 8, 6, 9, 3, 0, 2, 1, 4, 5, 8, 3, 0, 1, 2, 2, 0,\n",
            "        7, 1, 0, 9, 5, 7, 8, 0, 0, 2, 9, 9, 1, 2, 1, 1, 5, 5, 2, 3, 9, 4, 4, 0,\n",
            "        3, 5, 0, 0, 4, 6, 2, 7, 5, 5, 1, 8, 2, 4, 3, 6, 2, 6, 7, 9, 6, 7, 4, 4,\n",
            "        8, 7, 6, 2, 5, 2, 6, 8])\n",
            "<class 'torch.Tensor'> torch.Size([128, 1, 28, 28]) tensor([1, 1, 1, 4, 9, 1, 6, 8, 1, 0, 0, 4, 3, 2, 2, 9, 5, 1, 3, 0, 9, 8, 0, 4,\n",
            "        4, 4, 2, 9, 4, 7, 7, 4, 1, 0, 5, 8, 3, 1, 9, 9, 3, 7, 9, 4, 3, 7, 7, 6,\n",
            "        9, 3, 6, 9, 2, 8, 8, 2, 5, 5, 4, 6, 6, 0, 3, 7, 6, 1, 5, 3, 3, 9, 1, 9,\n",
            "        3, 8, 7, 7, 2, 3, 3, 3, 2, 5, 1, 0, 2, 3, 7, 2, 2, 8, 8, 4, 8, 7, 6, 2,\n",
            "        0, 1, 6, 7, 7, 3, 1, 5, 7, 4, 0, 1, 5, 8, 3, 7, 6, 4, 4, 5, 4, 4, 5, 3,\n",
            "        3, 9, 5, 0, 8, 1, 2, 5])\n",
            "<class 'torch.Tensor'> torch.Size([128, 1, 28, 28]) tensor([7, 9, 6, 1, 6, 4, 9, 0, 9, 1, 5, 9, 0, 7, 5, 7, 8, 5, 2, 1, 2, 0, 6, 1,\n",
            "        8, 5, 1, 3, 5, 8, 5, 4, 4, 8, 9, 7, 2, 5, 9, 1, 1, 3, 4, 0, 7, 8, 4, 3,\n",
            "        8, 3, 7, 0, 0, 2, 8, 6, 6, 2, 5, 4, 6, 7, 1, 2, 4, 4, 6, 4, 6, 5, 5, 6,\n",
            "        1, 6, 6, 9, 2, 3, 7, 8, 6, 2, 5, 9, 3, 8, 1, 3, 0, 7, 8, 9, 9, 7, 2, 6,\n",
            "        3, 5, 2, 7, 5, 6, 9, 9, 3, 1, 3, 4, 2, 8, 0, 6, 1, 4, 1, 8, 6, 9, 0, 5,\n",
            "        2, 4, 4, 8, 4, 7, 8, 1])\n",
            "<class 'torch.Tensor'> torch.Size([128, 1, 28, 28]) tensor([5, 2, 8, 9, 7, 7, 4, 4, 7, 4, 8, 8, 3, 6, 3, 7, 2, 4, 3, 1, 2, 7, 6, 0,\n",
            "        2, 0, 1, 4, 5, 8, 7, 5, 0, 8, 5, 7, 4, 0, 8, 1, 3, 2, 9, 1, 9, 8, 2, 1,\n",
            "        4, 2, 8, 1, 0, 5, 1, 5, 4, 5, 5, 5, 9, 6, 8, 1, 7, 5, 9, 5, 6, 7, 2, 0,\n",
            "        8, 2, 7, 5, 2, 1, 9, 7, 2, 7, 9, 0, 2, 2, 3, 9, 5, 7, 6, 2, 6, 7, 9, 1,\n",
            "        3, 6, 2, 5, 2, 3, 9, 5, 4, 2, 2, 6, 7, 8, 0, 8, 1, 6, 2, 4, 1, 5, 9, 8,\n",
            "        7, 8, 5, 2, 8, 2, 3, 3])\n",
            "<class 'torch.Tensor'> torch.Size([128, 1, 28, 28]) tensor([9, 7, 1, 9, 3, 4, 6, 2, 9, 8, 4, 9, 6, 7, 1, 8, 7, 1, 3, 9, 1, 0, 2, 8,\n",
            "        9, 3, 8, 9, 4, 4, 1, 0, 5, 2, 3, 2, 1, 5, 3, 5, 1, 9, 4, 2, 1, 3, 0, 8,\n",
            "        7, 6, 5, 1, 7, 2, 0, 1, 3, 2, 7, 7, 5, 9, 1, 8, 8, 7, 9, 1, 0, 1, 5, 5,\n",
            "        6, 1, 9, 3, 5, 3, 5, 5, 9, 2, 1, 6, 1, 9, 8, 4, 7, 3, 9, 7, 2, 6, 3, 8,\n",
            "        5, 3, 4, 7, 8, 5, 7, 8, 6, 4, 6, 1, 7, 4, 2, 0, 1, 0, 3, 2, 5, 4, 6, 2,\n",
            "        3, 5, 5, 7, 7, 4, 4, 5])\n",
            "<class 'torch.Tensor'> torch.Size([128, 1, 28, 28]) tensor([6, 4, 6, 0, 1, 1, 1, 9, 2, 2, 7, 2, 5, 2, 1, 1, 9, 9, 9, 0, 8, 6, 4, 8,\n",
            "        7, 9, 5, 1, 8, 2, 6, 9, 1, 8, 7, 7, 5, 9, 6, 3, 3, 4, 7, 9, 5, 5, 2, 6,\n",
            "        8, 5, 8, 6, 0, 9, 7, 2, 5, 8, 3, 8, 5, 1, 8, 1, 5, 3, 1, 3, 0, 2, 2, 6,\n",
            "        3, 6, 3, 5, 7, 5, 6, 1, 1, 8, 4, 7, 0, 8, 5, 9, 0, 4, 3, 1, 0, 6, 2, 9,\n",
            "        9, 1, 5, 9, 0, 4, 5, 7, 5, 2, 7, 2, 4, 0, 7, 9, 0, 9, 0, 6, 6, 7, 3, 2,\n",
            "        0, 5, 9, 2, 8, 0, 7, 5])\n",
            "<class 'torch.Tensor'> torch.Size([128, 1, 28, 28]) tensor([4, 5, 7, 9, 1, 9, 1, 6, 5, 5, 8, 9, 7, 3, 5, 3, 7, 8, 4, 5, 4, 4, 2, 6,\n",
            "        4, 7, 7, 6, 3, 3, 4, 7, 3, 8, 2, 3, 1, 1, 7, 5, 9, 7, 5, 8, 6, 8, 0, 3,\n",
            "        3, 4, 4, 9, 0, 6, 6, 4, 1, 5, 3, 9, 7, 8, 6, 5, 5, 9, 5, 6, 9, 7, 2, 9,\n",
            "        3, 5, 8, 5, 0, 3, 0, 3, 4, 6, 4, 9, 0, 4, 3, 4, 1, 3, 4, 7, 1, 0, 0, 0,\n",
            "        4, 1, 7, 3, 0, 6, 4, 2, 6, 0, 7, 0, 0, 9, 7, 7, 5, 7, 4, 8, 5, 0, 7, 8,\n",
            "        7, 6, 8, 8, 5, 6, 6, 8])\n",
            "<class 'torch.Tensor'> torch.Size([128, 1, 28, 28]) tensor([5, 5, 4, 9, 5, 8, 1, 3, 9, 6, 0, 4, 5, 3, 7, 6, 0, 9, 3, 1, 6, 2, 8, 1,\n",
            "        9, 7, 7, 7, 2, 8, 2, 9, 1, 9, 4, 8, 4, 7, 9, 0, 5, 1, 7, 8, 7, 0, 2, 8,\n",
            "        3, 1, 8, 2, 0, 2, 4, 1, 8, 3, 8, 8, 5, 7, 4, 0, 8, 4, 0, 2, 0, 0, 4, 9,\n",
            "        7, 9, 6, 4, 2, 2, 0, 4, 7, 2, 0, 2, 8, 2, 0, 1, 7, 2, 9, 3, 7, 1, 6, 2,\n",
            "        1, 7, 8, 3, 4, 3, 4, 4, 6, 5, 9, 6, 8, 2, 3, 6, 5, 3, 3, 7, 7, 7, 2, 0,\n",
            "        5, 3, 1, 6, 1, 1, 5, 4])\n",
            "<class 'torch.Tensor'> torch.Size([128, 1, 28, 28]) tensor([1, 5, 8, 0, 2, 3, 8, 7, 7, 3, 5, 1, 7, 0, 1, 9, 5, 0, 6, 6, 7, 1, 8, 4,\n",
            "        2, 2, 9, 7, 1, 1, 4, 5, 7, 1, 2, 9, 1, 3, 3, 3, 5, 9, 1, 9, 2, 3, 6, 4,\n",
            "        9, 2, 9, 2, 5, 8, 8, 1, 6, 2, 6, 2, 2, 0, 7, 8, 2, 3, 7, 9, 7, 5, 2, 1,\n",
            "        0, 3, 4, 6, 6, 7, 1, 0, 2, 1, 0, 2, 5, 1, 6, 3, 9, 1, 5, 8, 3, 2, 3, 1,\n",
            "        1, 7, 6, 8, 5, 8, 0, 5, 2, 3, 9, 7, 4, 1, 9, 3, 4, 5, 0, 1, 1, 7, 4, 8,\n",
            "        4, 6, 2, 8, 9, 0, 4, 6])\n",
            "<class 'torch.Tensor'> torch.Size([128, 1, 28, 28]) tensor([2, 4, 0, 7, 5, 4, 1, 3, 8, 2, 3, 9, 7, 1, 6, 0, 8, 4, 8, 6, 2, 8, 0, 5,\n",
            "        5, 1, 4, 8, 3, 9, 8, 2, 2, 1, 2, 5, 5, 2, 0, 4, 6, 5, 8, 8, 4, 2, 1, 0,\n",
            "        1, 0, 0, 8, 9, 6, 5, 6, 3, 8, 0, 7, 0, 0, 7, 3, 1, 7, 7, 3, 3, 2, 6, 3,\n",
            "        4, 7, 9, 8, 1, 6, 6, 8, 1, 4, 0, 1, 8, 1, 3, 9, 8, 8, 8, 5, 6, 8, 3, 8,\n",
            "        2, 6, 1, 0, 9, 6, 4, 0, 8, 0, 9, 4, 2, 0, 7, 4, 0, 8, 1, 4, 9, 7, 0, 9,\n",
            "        1, 7, 2, 3, 0, 6, 2, 5])\n",
            "<class 'torch.Tensor'> torch.Size([128, 1, 28, 28]) tensor([6, 1, 9, 2, 1, 1, 5, 1, 1, 2, 4, 1, 7, 2, 6, 5, 0, 9, 6, 6, 4, 1, 9, 8,\n",
            "        6, 2, 7, 1, 9, 7, 9, 0, 8, 5, 5, 4, 1, 7, 3, 2, 7, 4, 5, 6, 8, 0, 9, 2,\n",
            "        2, 1, 5, 4, 0, 4, 9, 7, 2, 9, 8, 2, 9, 5, 1, 3, 3, 3, 1, 3, 0, 9, 6, 4,\n",
            "        6, 1, 0, 5, 8, 8, 0, 2, 7, 5, 5, 8, 7, 3, 7, 3, 8, 2, 0, 6, 9, 9, 8, 4,\n",
            "        0, 0, 6, 5, 2, 3, 2, 8, 0, 8, 6, 8, 7, 1, 9, 2, 5, 3, 3, 3, 7, 3, 1, 0,\n",
            "        7, 7, 8, 5, 3, 1, 6, 0])\n",
            "<class 'torch.Tensor'> torch.Size([128, 1, 28, 28]) tensor([3, 6, 8, 0, 3, 3, 1, 3, 2, 4, 5, 2, 3, 3, 3, 3, 8, 4, 9, 1, 4, 9, 5, 5,\n",
            "        3, 0, 6, 8, 6, 6, 8, 7, 7, 1, 7, 5, 4, 5, 2, 4, 1, 2, 1, 5, 0, 3, 2, 7,\n",
            "        0, 8, 0, 4, 3, 8, 2, 2, 6, 0, 7, 7, 1, 0, 3, 5, 4, 8, 2, 5, 8, 0, 0, 2,\n",
            "        0, 6, 9, 0, 7, 9, 2, 9, 2, 4, 5, 7, 3, 6, 9, 4, 8, 8, 7, 3, 7, 9, 9, 1,\n",
            "        3, 9, 5, 2, 6, 1, 7, 6, 8, 7, 9, 2, 3, 8, 1, 9, 9, 3, 1, 9, 7, 1, 2, 3,\n",
            "        3, 8, 6, 1, 3, 6, 9, 0])\n",
            "<class 'torch.Tensor'> torch.Size([128, 1, 28, 28]) tensor([7, 2, 9, 5, 9, 1, 0, 9, 2, 2, 5, 6, 4, 2, 6, 3, 2, 2, 6, 5, 3, 3, 6, 2,\n",
            "        6, 8, 0, 8, 9, 7, 5, 3, 1, 6, 2, 8, 0, 6, 8, 9, 0, 3, 0, 1, 9, 5, 9, 1,\n",
            "        5, 5, 5, 2, 5, 3, 2, 1, 3, 1, 9, 2, 2, 1, 7, 4, 7, 3, 7, 1, 6, 6, 5, 9,\n",
            "        6, 8, 4, 6, 4, 4, 6, 3, 1, 7, 0, 4, 1, 0, 2, 4, 9, 7, 5, 3, 0, 8, 9, 5,\n",
            "        4, 8, 6, 0, 0, 8, 8, 4, 2, 0, 4, 9, 5, 3, 4, 1, 8, 4, 3, 9, 5, 7, 2, 2,\n",
            "        9, 2, 9, 8, 1, 8, 5, 9])\n",
            "<class 'torch.Tensor'> torch.Size([128, 1, 28, 28]) tensor([0, 0, 4, 4, 1, 9, 7, 3, 0, 1, 4, 0, 7, 7, 6, 1, 5, 5, 9, 2, 1, 5, 7, 3,\n",
            "        8, 4, 2, 0, 6, 8, 8, 7, 3, 9, 7, 0, 9, 8, 3, 1, 3, 5, 5, 8, 2, 3, 7, 0,\n",
            "        2, 2, 6, 1, 2, 5, 7, 7, 4, 8, 9, 7, 1, 4, 9, 4, 2, 5, 1, 0, 2, 5, 0, 4,\n",
            "        3, 1, 0, 7, 4, 0, 6, 3, 8, 8, 8, 2, 5, 5, 4, 5, 5, 1, 7, 4, 8, 9, 5, 3,\n",
            "        4, 4, 0, 7, 5, 2, 9, 5, 5, 4, 4, 3, 5, 8, 8, 4, 7, 3, 1, 7, 8, 7, 1, 5,\n",
            "        5, 3, 1, 8, 2, 0, 7, 5])\n",
            "<class 'torch.Tensor'> torch.Size([128, 1, 28, 28]) tensor([2, 3, 8, 1, 0, 9, 5, 7, 0, 4, 2, 5, 2, 8, 0, 7, 5, 6, 5, 5, 8, 7, 9, 5,\n",
            "        9, 2, 7, 9, 4, 8, 5, 5, 5, 2, 3, 7, 8, 0, 1, 9, 7, 7, 9, 2, 0, 6, 9, 8,\n",
            "        5, 5, 3, 3, 1, 1, 4, 9, 3, 8, 2, 2, 1, 0, 2, 0, 0, 5, 6, 9, 4, 8, 5, 9,\n",
            "        4, 5, 0, 1, 1, 2, 8, 1, 4, 4, 6, 9, 7, 6, 8, 0, 3, 9, 9, 9, 8, 5, 9, 7,\n",
            "        6, 3, 9, 9, 6, 9, 1, 2, 3, 6, 3, 8, 2, 0, 0, 0, 5, 9, 4, 4, 8, 3, 9, 4,\n",
            "        7, 4, 8, 2, 8, 8, 0, 7])\n",
            "<class 'torch.Tensor'> torch.Size([128, 1, 28, 28]) tensor([3, 2, 1, 1, 3, 5, 7, 1, 1, 0, 1, 5, 3, 4, 3, 1, 5, 2, 3, 4, 3, 3, 4, 1,\n",
            "        9, 8, 4, 7, 5, 9, 6, 6, 3, 0, 4, 0, 0, 7, 3, 7, 3, 8, 8, 6, 4, 9, 0, 6,\n",
            "        9, 0, 1, 1, 1, 2, 0, 8, 2, 7, 7, 5, 0, 5, 3, 8, 4, 1, 0, 5, 9, 5, 9, 9,\n",
            "        7, 8, 1, 6, 9, 9, 7, 8, 0, 8, 8, 9, 3, 1, 4, 6, 0, 7, 0, 1, 3, 2, 5, 0,\n",
            "        2, 2, 1, 0, 0, 7, 4, 7, 8, 8, 1, 9, 1, 3, 1, 3, 2, 7, 8, 2, 0, 3, 8, 8,\n",
            "        1, 6, 7, 2, 5, 2, 9, 9])\n",
            "<class 'torch.Tensor'> torch.Size([128, 1, 28, 28]) tensor([3, 2, 9, 7, 7, 3, 9, 1, 5, 8, 4, 8, 1, 9, 8, 6, 6, 4, 2, 2, 4, 8, 7, 5,\n",
            "        2, 3, 6, 8, 8, 4, 0, 1, 1, 0, 5, 5, 2, 9, 9, 5, 1, 7, 0, 8, 2, 9, 5, 4,\n",
            "        9, 0, 1, 1, 6, 4, 3, 2, 6, 3, 3, 4, 8, 2, 9, 9, 3, 5, 4, 7, 1, 1, 8, 4,\n",
            "        5, 8, 3, 4, 4, 4, 1, 9, 1, 5, 8, 2, 7, 2, 4, 8, 7, 3, 0, 9, 5, 3, 7, 4,\n",
            "        3, 8, 7, 9, 1, 2, 6, 1, 2, 4, 4, 3, 8, 5, 2, 1, 2, 0, 0, 3, 0, 2, 9, 4,\n",
            "        9, 5, 6, 6, 4, 5, 0, 3])\n",
            "<class 'torch.Tensor'> torch.Size([128, 1, 28, 28]) tensor([2, 6, 6, 4, 5, 5, 4, 3, 2, 2, 5, 7, 6, 9, 7, 8, 1, 0, 8, 1, 7, 6, 6, 2,\n",
            "        7, 0, 0, 2, 4, 4, 7, 2, 6, 8, 1, 8, 3, 4, 8, 8, 1, 5, 9, 7, 5, 5, 2, 7,\n",
            "        0, 3, 8, 3, 5, 0, 6, 7, 3, 6, 5, 7, 8, 4, 6, 1, 3, 7, 0, 2, 0, 1, 9, 1,\n",
            "        8, 6, 1, 0, 3, 6, 8, 0, 1, 7, 0, 6, 1, 0, 1, 9, 6, 4, 1, 6, 4, 5, 3, 1,\n",
            "        8, 4, 9, 3, 8, 6, 0, 9, 7, 5, 9, 9, 7, 1, 3, 1, 7, 6, 3, 6, 3, 2, 0, 2,\n",
            "        0, 7, 1, 5, 3, 3, 1, 3])\n",
            "<class 'torch.Tensor'> torch.Size([128, 1, 28, 28]) tensor([2, 5, 2, 5, 7, 2, 7, 6, 8, 8, 0, 8, 6, 1, 1, 8, 8, 7, 4, 8, 2, 6, 5, 7,\n",
            "        9, 4, 0, 4, 9, 9, 9, 2, 0, 1, 2, 1, 4, 5, 4, 4, 3, 0, 7, 4, 4, 4, 7, 0,\n",
            "        4, 6, 9, 7, 4, 3, 9, 2, 7, 4, 4, 9, 2, 0, 7, 8, 4, 1, 4, 6, 5, 1, 0, 2,\n",
            "        1, 7, 2, 1, 5, 1, 0, 2, 4, 7, 9, 8, 4, 6, 6, 1, 1, 7, 8, 9, 7, 8, 6, 8,\n",
            "        5, 2, 4, 6, 3, 0, 0, 0, 2, 5, 6, 1, 5, 4, 0, 3, 3, 7, 8, 0, 6, 9, 6, 4,\n",
            "        0, 8, 7, 3, 3, 9, 8, 0])\n",
            "<class 'torch.Tensor'> torch.Size([128, 1, 28, 28]) tensor([8, 9, 1, 6, 1, 2, 6, 3, 8, 7, 3, 8, 7, 0, 6, 4, 5, 6, 9, 8, 5, 3, 9, 2,\n",
            "        4, 9, 1, 8, 4, 5, 3, 3, 0, 3, 4, 9, 3, 5, 8, 8, 0, 0, 9, 2, 5, 3, 5, 1,\n",
            "        1, 7, 7, 5, 6, 6, 8, 2, 8, 5, 3, 7, 9, 5, 4, 2, 9, 7, 3, 6, 3, 0, 1, 1,\n",
            "        2, 2, 8, 9, 9, 0, 3, 1, 0, 1, 7, 7, 0, 0, 0, 1, 3, 0, 8, 1, 5, 8, 8, 5,\n",
            "        9, 6, 3, 5, 3, 9, 9, 9, 0, 7, 5, 0, 2, 2, 4, 0, 7, 9, 0, 1, 5, 5, 1, 2,\n",
            "        0, 1, 2, 0, 9, 4, 8, 7])\n",
            "<class 'torch.Tensor'> torch.Size([128, 1, 28, 28]) tensor([1, 0, 0, 8, 9, 2, 6, 2, 5, 7, 8, 1, 0, 4, 4, 0, 5, 6, 8, 5, 2, 9, 2, 1,\n",
            "        6, 6, 2, 6, 9, 1, 0, 0, 0, 5, 6, 6, 2, 3, 7, 0, 6, 5, 7, 8, 6, 3, 9, 0,\n",
            "        2, 2, 5, 2, 1, 2, 7, 3, 0, 5, 3, 0, 5, 2, 0, 7, 6, 1, 9, 9, 6, 8, 1, 2,\n",
            "        8, 7, 9, 7, 0, 3, 5, 4, 7, 8, 4, 3, 3, 9, 5, 7, 9, 3, 3, 4, 6, 9, 5, 4,\n",
            "        3, 1, 3, 8, 4, 9, 5, 3, 9, 9, 1, 0, 2, 7, 5, 7, 6, 5, 5, 2, 2, 1, 6, 0,\n",
            "        0, 3, 6, 2, 8, 8, 8, 2])\n",
            "<class 'torch.Tensor'> torch.Size([128, 1, 28, 28]) tensor([9, 2, 4, 6, 0, 8, 2, 5, 8, 0, 0, 7, 0, 3, 5, 9, 7, 5, 5, 1, 2, 7, 0, 8,\n",
            "        9, 7, 7, 7, 4, 7, 8, 5, 0, 7, 1, 8, 3, 5, 1, 2, 1, 4, 3, 6, 6, 7, 4, 0,\n",
            "        5, 6, 4, 4, 2, 8, 3, 9, 4, 1, 7, 4, 2, 5, 9, 0, 3, 8, 4, 1, 3, 4, 9, 3,\n",
            "        6, 1, 2, 4, 2, 3, 9, 8, 3, 7, 1, 1, 7, 7, 2, 9, 1, 3, 8, 5, 8, 8, 1, 2,\n",
            "        8, 1, 7, 7, 0, 8, 5, 9, 4, 7, 6, 3, 2, 8, 1, 7, 6, 9, 5, 1, 1, 7, 6, 1,\n",
            "        4, 3, 5, 1, 8, 2, 4, 0])\n",
            "<class 'torch.Tensor'> torch.Size([128, 1, 28, 28]) tensor([6, 2, 6, 8, 6, 2, 4, 9, 4, 2, 8, 8, 2, 0, 1, 3, 2, 2, 4, 4, 1, 1, 7, 5,\n",
            "        4, 6, 7, 1, 9, 6, 1, 4, 7, 7, 1, 1, 3, 4, 3, 2, 6, 8, 5, 5, 0, 8, 2, 2,\n",
            "        4, 8, 4, 8, 9, 0, 3, 7, 2, 2, 4, 9, 6, 5, 9, 2, 5, 4, 4, 3, 9, 9, 9, 1,\n",
            "        9, 1, 0, 1, 0, 8, 1, 6, 3, 9, 5, 8, 5, 1, 1, 5, 6, 3, 1, 3, 1, 3, 8, 9,\n",
            "        5, 5, 0, 7, 6, 6, 8, 4, 6, 5, 1, 4, 5, 6, 5, 8, 3, 7, 0, 9, 3, 9, 1, 8,\n",
            "        2, 7, 6, 6, 1, 2, 8, 9])\n",
            "<class 'torch.Tensor'> torch.Size([128, 1, 28, 28]) tensor([0, 5, 9, 5, 9, 2, 0, 9, 2, 7, 1, 3, 7, 3, 7, 8, 4, 6, 3, 5, 9, 7, 6, 4,\n",
            "        6, 4, 6, 3, 3, 8, 1, 0, 9, 9, 8, 6, 1, 7, 6, 4, 5, 1, 0, 4, 3, 7, 7, 3,\n",
            "        0, 8, 6, 4, 8, 9, 4, 6, 5, 3, 7, 3, 8, 6, 7, 2, 7, 6, 5, 6, 7, 1, 6, 3,\n",
            "        8, 7, 7, 8, 9, 1, 2, 2, 5, 9, 6, 2, 4, 7, 8, 0, 2, 7, 8, 2, 6, 3, 1, 2,\n",
            "        1, 2, 7, 8, 2, 8, 1, 9, 7, 2, 9, 9, 6, 6, 4, 1, 7, 6, 3, 4, 1, 8, 9, 5,\n",
            "        9, 7, 6, 5, 2, 5, 7, 8])\n",
            "<class 'torch.Tensor'> torch.Size([128, 1, 28, 28]) tensor([8, 6, 3, 0, 6, 5, 0, 9, 2, 1, 0, 7, 4, 1, 5, 1, 8, 9, 5, 5, 0, 5, 2, 5,\n",
            "        3, 0, 8, 1, 2, 7, 9, 6, 6, 3, 6, 7, 1, 9, 4, 5, 3, 4, 6, 3, 1, 0, 2, 2,\n",
            "        8, 6, 1, 2, 4, 2, 2, 1, 3, 4, 7, 6, 8, 3, 1, 8, 0, 1, 5, 8, 4, 2, 4, 7,\n",
            "        1, 4, 0, 3, 4, 9, 1, 8, 3, 4, 8, 0, 9, 0, 0, 2, 1, 3, 9, 6, 1, 3, 7, 6,\n",
            "        8, 9, 2, 0, 1, 4, 1, 9, 3, 4, 0, 1, 6, 5, 5, 0, 7, 2, 6, 2, 2, 4, 9, 6,\n",
            "        5, 8, 4, 0, 1, 3, 2, 4])\n",
            "<class 'torch.Tensor'> torch.Size([128, 1, 28, 28]) tensor([0, 0, 1, 2, 2, 8, 4, 6, 1, 2, 4, 7, 5, 9, 5, 9, 6, 6, 3, 2, 8, 9, 2, 6,\n",
            "        3, 2, 6, 2, 0, 9, 2, 4, 5, 0, 9, 0, 8, 4, 1, 9, 6, 2, 7, 7, 8, 2, 4, 8,\n",
            "        8, 7, 9, 4, 1, 6, 8, 7, 6, 7, 8, 8, 4, 8, 4, 7, 1, 1, 8, 0, 7, 2, 0, 5,\n",
            "        5, 9, 3, 1, 8, 2, 1, 4, 2, 2, 3, 4, 6, 3, 3, 3, 5, 1, 0, 0, 8, 3, 3, 2,\n",
            "        0, 0, 1, 8, 2, 0, 0, 3, 0, 7, 0, 1, 1, 4, 6, 3, 5, 7, 0, 2, 3, 9, 7, 7,\n",
            "        7, 3, 5, 1, 6, 7, 5, 7])\n",
            "<class 'torch.Tensor'> torch.Size([128, 1, 28, 28]) tensor([7, 6, 2, 7, 7, 7, 4, 8, 3, 7, 6, 3, 1, 6, 2, 3, 6, 5, 6, 1, 6, 9, 4, 5,\n",
            "        7, 9, 8, 6, 9, 5, 2, 8, 4, 1, 4, 9, 1, 4, 6, 7, 9, 1, 7, 8, 2, 2, 4, 8,\n",
            "        5, 2, 2, 6, 6, 9, 3, 9, 1, 2, 9, 2, 0, 6, 9, 1, 9, 6, 6, 4, 4, 5, 5, 2,\n",
            "        2, 4, 6, 7, 1, 9, 7, 7, 2, 9, 5, 5, 2, 9, 3, 6, 7, 0, 8, 5, 1, 3, 4, 5,\n",
            "        1, 2, 9, 2, 1, 0, 1, 3, 0, 6, 5, 2, 2, 3, 2, 0, 1, 6, 4, 4, 8, 4, 9, 2,\n",
            "        0, 3, 5, 1, 7, 1, 8, 8])\n",
            "<class 'torch.Tensor'> torch.Size([128, 1, 28, 28]) tensor([0, 1, 8, 2, 9, 5, 0, 5, 1, 6, 7, 5, 1, 6, 9, 8, 2, 7, 4, 8, 1, 7, 3, 6,\n",
            "        3, 1, 7, 3, 3, 9, 6, 8, 1, 1, 4, 1, 3, 9, 7, 8, 0, 1, 1, 4, 2, 9, 7, 9,\n",
            "        7, 2, 8, 4, 1, 9, 2, 5, 9, 6, 1, 6, 9, 4, 6, 3, 1, 4, 3, 8, 0, 4, 3, 0,\n",
            "        8, 0, 0, 6, 7, 3, 9, 2, 5, 5, 1, 7, 6, 4, 0, 5, 9, 2, 4, 8, 2, 6, 6, 4,\n",
            "        5, 9, 1, 2, 5, 1, 3, 8, 0, 2, 6, 6, 3, 6, 8, 7, 9, 1, 0, 8, 1, 7, 4, 1,\n",
            "        1, 5, 4, 3, 5, 3, 9, 0])\n",
            "<class 'torch.Tensor'> torch.Size([128, 1, 28, 28]) tensor([3, 8, 3, 3, 7, 1, 6, 1, 3, 3, 4, 2, 6, 3, 3, 1, 0, 2, 5, 8, 3, 8, 3, 5,\n",
            "        1, 9, 2, 3, 8, 9, 8, 0, 8, 4, 7, 3, 3, 5, 6, 1, 4, 1, 4, 8, 1, 6, 0, 1,\n",
            "        8, 6, 4, 9, 9, 4, 5, 8, 3, 9, 6, 5, 8, 0, 6, 0, 0, 4, 9, 6, 2, 2, 1, 8,\n",
            "        1, 3, 7, 2, 4, 9, 7, 9, 1, 2, 0, 8, 9, 1, 9, 7, 6, 8, 9, 4, 5, 7, 8, 3,\n",
            "        7, 3, 4, 1, 6, 4, 4, 7, 5, 4, 1, 2, 0, 9, 3, 5, 6, 9, 0, 9, 9, 7, 0, 7,\n",
            "        1, 8, 7, 6, 9, 1, 8, 3])\n",
            "<class 'torch.Tensor'> torch.Size([128, 1, 28, 28]) tensor([6, 7, 3, 3, 1, 2, 2, 9, 9, 5, 0, 7, 7, 6, 7, 3, 8, 9, 1, 5, 6, 2, 5, 0,\n",
            "        9, 0, 4, 3, 4, 9, 2, 1, 5, 2, 4, 4, 6, 5, 3, 8, 7, 0, 2, 1, 9, 4, 4, 5,\n",
            "        8, 0, 0, 2, 7, 6, 9, 2, 8, 4, 0, 4, 8, 0, 9, 6, 7, 2, 4, 8, 3, 0, 0, 2,\n",
            "        3, 2, 5, 6, 6, 7, 6, 7, 3, 8, 0, 3, 3, 9, 1, 0, 3, 3, 8, 1, 2, 2, 7, 6,\n",
            "        6, 5, 8, 8, 6, 2, 3, 0, 5, 1, 8, 1, 0, 0, 1, 5, 9, 5, 9, 4, 2, 7, 9, 9,\n",
            "        7, 2, 8, 1, 5, 6, 8, 6])\n",
            "<class 'torch.Tensor'> torch.Size([128, 1, 28, 28]) tensor([6, 5, 1, 2, 8, 8, 4, 2, 4, 8, 9, 8, 6, 1, 7, 6, 5, 7, 8, 9, 8, 9, 9, 8,\n",
            "        5, 7, 8, 8, 4, 5, 4, 4, 4, 8, 7, 9, 8, 4, 4, 5, 1, 8, 9, 9, 8, 3, 0, 2,\n",
            "        5, 5, 6, 6, 7, 3, 8, 6, 7, 1, 5, 9, 0, 3, 6, 7, 5, 4, 9, 4, 7, 1, 1, 2,\n",
            "        0, 0, 1, 5, 6, 7, 7, 3, 7, 7, 3, 3, 8, 8, 7, 7, 0, 4, 4, 3, 3, 1, 0, 4,\n",
            "        4, 2, 4, 6, 2, 1, 5, 6, 3, 6, 2, 8, 3, 1, 2, 8, 7, 8, 9, 7, 6, 3, 9, 0,\n",
            "        6, 4, 5, 4, 6, 9, 0, 5])\n",
            "<class 'torch.Tensor'> torch.Size([128, 1, 28, 28]) tensor([3, 4, 8, 9, 6, 4, 0, 6, 1, 7, 6, 3, 4, 2, 0, 2, 0, 8, 2, 4, 7, 1, 6, 5,\n",
            "        3, 0, 0, 4, 9, 9, 0, 4, 5, 8, 0, 7, 2, 1, 3, 2, 6, 8, 7, 4, 7, 7, 5, 6,\n",
            "        5, 3, 9, 3, 0, 4, 3, 1, 4, 5, 3, 0, 8, 4, 8, 1, 3, 7, 2, 5, 0, 2, 2, 1,\n",
            "        0, 2, 9, 9, 3, 0, 1, 7, 9, 0, 3, 6, 2, 4, 7, 1, 6, 3, 6, 4, 2, 9, 2, 7,\n",
            "        8, 1, 5, 0, 3, 6, 1, 4, 0, 6, 7, 1, 3, 4, 9, 1, 1, 8, 0, 5, 4, 2, 2, 1,\n",
            "        5, 2, 9, 6, 0, 4, 0, 4])\n",
            "<class 'torch.Tensor'> torch.Size([128, 1, 28, 28]) tensor([0, 0, 3, 3, 6, 2, 5, 0, 5, 6, 3, 3, 1, 8, 9, 9, 6, 0, 2, 8, 1, 6, 8, 6,\n",
            "        0, 0, 7, 7, 1, 7, 5, 5, 3, 1, 2, 1, 7, 2, 4, 7, 1, 1, 2, 6, 8, 6, 8, 8,\n",
            "        5, 1, 1, 1, 1, 1, 3, 1, 3, 4, 0, 4, 0, 2, 7, 5, 6, 3, 6, 1, 6, 1, 8, 4,\n",
            "        2, 8, 3, 9, 4, 6, 7, 8, 0, 5, 9, 2, 3, 5, 4, 7, 6, 0, 0, 9, 0, 8, 9, 2,\n",
            "        6, 7, 9, 0, 1, 2, 9, 8, 9, 0, 6, 2, 6, 0, 2, 2, 7, 8, 6, 5, 9, 5, 7, 7,\n",
            "        6, 0, 5, 1, 7, 2, 9, 3])\n",
            "<class 'torch.Tensor'> torch.Size([128, 1, 28, 28]) tensor([1, 0, 4, 1, 9, 7, 7, 3, 0, 3, 1, 6, 6, 1, 2, 8, 7, 7, 7, 6, 2, 2, 2, 5,\n",
            "        0, 5, 1, 4, 8, 8, 1, 2, 2, 4, 6, 8, 9, 6, 0, 1, 6, 0, 3, 0, 6, 5, 4, 0,\n",
            "        5, 5, 8, 1, 7, 8, 2, 6, 6, 0, 0, 0, 0, 7, 1, 3, 8, 2, 7, 6, 4, 1, 2, 4,\n",
            "        4, 7, 1, 1, 9, 3, 8, 3, 9, 3, 8, 4, 0, 5, 9, 6, 1, 2, 1, 7, 0, 1, 6, 9,\n",
            "        7, 9, 0, 1, 9, 0, 5, 4, 8, 1, 2, 8, 7, 6, 6, 2, 3, 0, 2, 5, 5, 4, 7, 6,\n",
            "        8, 9, 0, 2, 2, 1, 2, 1])\n",
            "<class 'torch.Tensor'> torch.Size([128, 1, 28, 28]) tensor([9, 4, 1, 3, 5, 0, 7, 9, 4, 0, 2, 2, 8, 9, 7, 7, 3, 6, 1, 3, 1, 7, 2, 9,\n",
            "        7, 0, 0, 1, 0, 2, 5, 2, 7, 0, 6, 0, 1, 5, 7, 6, 5, 9, 8, 4, 6, 3, 6, 1,\n",
            "        1, 1, 9, 8, 7, 0, 0, 2, 3, 3, 9, 5, 0, 2, 2, 8, 8, 7, 5, 7, 9, 4, 9, 5,\n",
            "        8, 5, 2, 0, 6, 4, 8, 6, 9, 2, 9, 3, 7, 3, 6, 5, 7, 2, 7, 6, 3, 7, 0, 3,\n",
            "        8, 3, 7, 2, 8, 2, 8, 7, 7, 6, 6, 0, 9, 8, 3, 1, 0, 0, 1, 3, 4, 4, 7, 1,\n",
            "        4, 0, 1, 8, 5, 0, 8, 2])\n",
            "<class 'torch.Tensor'> torch.Size([128, 1, 28, 28]) tensor([2, 7, 4, 1, 5, 4, 5, 7, 2, 6, 7, 1, 7, 5, 1, 6, 2, 7, 3, 1, 7, 9, 0, 1,\n",
            "        7, 6, 9, 4, 4, 7, 8, 0, 7, 1, 3, 7, 5, 1, 0, 9, 7, 9, 6, 8, 9, 2, 5, 9,\n",
            "        2, 8, 2, 2, 4, 5, 6, 3, 7, 7, 4, 1, 4, 6, 2, 0, 7, 8, 6, 1, 1, 9, 4, 6,\n",
            "        8, 6, 0, 5, 9, 2, 1, 7, 5, 5, 5, 7, 5, 5, 5, 9, 6, 1, 4, 6, 4, 4, 8, 5,\n",
            "        1, 7, 4, 4, 2, 1, 9, 9, 4, 3, 2, 1, 4, 8, 8, 4, 9, 2, 8, 1, 7, 5, 7, 0,\n",
            "        9, 5, 1, 2, 2, 6, 3, 3])\n",
            "<class 'torch.Tensor'> torch.Size([128, 1, 28, 28]) tensor([3, 7, 6, 7, 9, 3, 8, 7, 1, 9, 7, 1, 2, 8, 5, 3, 8, 0, 5, 0, 1, 6, 3, 9,\n",
            "        6, 7, 6, 6, 0, 1, 5, 5, 8, 3, 9, 9, 8, 7, 7, 4, 2, 6, 3, 5, 5, 3, 3, 5,\n",
            "        7, 9, 9, 5, 1, 6, 8, 2, 9, 0, 1, 2, 8, 3, 6, 0, 0, 9, 8, 7, 2, 6, 8, 2,\n",
            "        2, 7, 3, 2, 0, 6, 9, 5, 7, 8, 0, 8, 3, 7, 3, 4, 5, 6, 7, 4, 6, 4, 1, 3,\n",
            "        6, 7, 5, 4, 9, 7, 3, 0, 3, 8, 9, 5, 4, 7, 6, 7, 1, 4, 9, 5, 9, 2, 0, 1,\n",
            "        2, 9, 6, 7, 0, 9, 2, 2])\n",
            "<class 'torch.Tensor'> torch.Size([128, 1, 28, 28]) tensor([1, 6, 4, 0, 0, 7, 6, 9, 2, 6, 8, 7, 9, 0, 9, 3, 0, 6, 3, 5, 6, 8, 2, 7,\n",
            "        1, 7, 1, 7, 8, 9, 5, 8, 4, 2, 4, 3, 1, 3, 0, 2, 1, 6, 0, 2, 0, 8, 9, 6,\n",
            "        4, 1, 7, 4, 2, 6, 4, 7, 8, 4, 9, 7, 6, 6, 9, 8, 3, 1, 7, 2, 1, 8, 1, 7,\n",
            "        9, 7, 2, 3, 5, 1, 6, 1, 3, 6, 2, 5, 4, 9, 0, 0, 2, 2, 5, 3, 9, 0, 9, 6,\n",
            "        7, 2, 1, 6, 7, 8, 1, 6, 6, 2, 3, 3, 9, 6, 3, 5, 5, 2, 2, 2, 7, 7, 9, 7,\n",
            "        8, 8, 8, 9, 0, 1, 0, 0])\n",
            "<class 'torch.Tensor'> torch.Size([128, 1, 28, 28]) tensor([1, 3, 9, 8, 0, 5, 7, 5, 8, 4, 2, 0, 2, 9, 1, 7, 4, 9, 1, 4, 6, 1, 2, 5,\n",
            "        6, 0, 0, 3, 3, 7, 2, 4, 0, 6, 0, 5, 5, 9, 4, 3, 2, 8, 3, 4, 9, 2, 7, 6,\n",
            "        4, 7, 6, 0, 0, 5, 5, 8, 1, 2, 5, 2, 9, 1, 4, 2, 9, 4, 3, 3, 0, 0, 7, 1,\n",
            "        7, 1, 1, 4, 6, 5, 6, 3, 6, 0, 6, 1, 0, 3, 8, 3, 9, 4, 9, 8, 6, 3, 7, 8,\n",
            "        2, 2, 0, 2, 0, 5, 1, 0, 7, 0, 4, 6, 1, 7, 8, 8, 6, 8, 4, 5, 3, 9, 1, 9,\n",
            "        8, 3, 8, 7, 7, 8, 4, 1])\n",
            "<class 'torch.Tensor'> torch.Size([128, 1, 28, 28]) tensor([3, 0, 8, 5, 0, 8, 7, 9, 8, 8, 5, 3, 1, 9, 3, 7, 2, 2, 9, 6, 5, 5, 3, 1,\n",
            "        6, 5, 5, 6, 1, 1, 7, 5, 0, 5, 5, 5, 0, 2, 5, 6, 8, 6, 2, 6, 3, 8, 8, 9,\n",
            "        1, 9, 2, 4, 1, 8, 6, 7, 8, 5, 9, 6, 3, 1, 0, 9, 8, 6, 4, 7, 1, 3, 2, 3,\n",
            "        6, 3, 3, 8, 5, 8, 2, 6, 4, 4, 2, 8, 1, 0, 0, 2, 3, 5, 2, 0, 0, 3, 7, 8,\n",
            "        7, 1, 2, 4, 1, 0, 5, 8, 7, 5, 4, 3, 7, 3, 0, 4, 0, 1, 9, 0, 9, 8, 0, 2,\n",
            "        1, 4, 8, 9, 2, 4, 5, 0])\n",
            "<class 'torch.Tensor'> torch.Size([128, 1, 28, 28]) tensor([2, 6, 3, 3, 4, 6, 7, 7, 8, 6, 9, 1, 2, 0, 1, 6, 5, 6, 7, 6, 9, 9, 1, 3,\n",
            "        1, 9, 8, 2, 4, 6, 3, 2, 5, 7, 8, 8, 2, 4, 4, 2, 1, 8, 1, 0, 5, 8, 0, 7,\n",
            "        1, 5, 5, 1, 3, 0, 6, 8, 4, 6, 9, 1, 8, 3, 5, 5, 1, 8, 1, 0, 6, 1, 6, 7,\n",
            "        4, 1, 3, 7, 7, 5, 8, 6, 5, 9, 5, 9, 8, 8, 2, 3, 1, 3, 2, 3, 6, 2, 2, 6,\n",
            "        1, 7, 7, 3, 1, 7, 5, 0, 5, 9, 2, 6, 2, 2, 7, 7, 8, 9, 6, 7, 9, 5, 4, 6,\n",
            "        4, 5, 6, 3, 5, 9, 6, 9])\n",
            "<class 'torch.Tensor'> torch.Size([128, 1, 28, 28]) tensor([2, 8, 2, 9, 1, 2, 9, 2, 0, 1, 7, 2, 1, 0, 2, 5, 6, 6, 6, 5, 4, 4, 4, 2,\n",
            "        6, 3, 9, 8, 1, 1, 1, 9, 0, 2, 7, 4, 7, 7, 9, 6, 4, 8, 6, 2, 7, 1, 4, 3,\n",
            "        9, 0, 3, 9, 1, 0, 2, 2, 6, 7, 0, 2, 3, 6, 6, 9, 0, 4, 9, 3, 8, 1, 6, 5,\n",
            "        6, 2, 4, 1, 1, 1, 2, 8, 3, 8, 0, 1, 5, 2, 6, 1, 1, 2, 8, 6, 0, 8, 0, 7,\n",
            "        9, 5, 6, 1, 6, 8, 2, 9, 2, 2, 2, 0, 7, 1, 1, 5, 9, 6, 2, 4, 4, 6, 4, 5,\n",
            "        3, 8, 3, 8, 3, 9, 6, 3])\n",
            "<class 'torch.Tensor'> torch.Size([128, 1, 28, 28]) tensor([8, 3, 6, 4, 5, 8, 2, 0, 8, 3, 2, 7, 4, 1, 5, 4, 7, 6, 6, 8, 1, 2, 5, 1,\n",
            "        3, 5, 8, 3, 0, 9, 2, 9, 9, 8, 1, 5, 9, 4, 2, 1, 6, 6, 0, 8, 0, 9, 1, 2,\n",
            "        2, 4, 9, 8, 9, 3, 6, 3, 1, 6, 1, 3, 7, 1, 4, 7, 0, 3, 6, 6, 2, 0, 9, 6,\n",
            "        3, 6, 8, 5, 3, 1, 6, 9, 6, 1, 8, 4, 6, 5, 1, 2, 3, 9, 7, 9, 9, 1, 1, 2,\n",
            "        1, 4, 6, 9, 6, 1, 4, 2, 9, 3, 0, 1, 5, 8, 5, 2, 4, 5, 9, 0, 7, 7, 1, 9,\n",
            "        7, 2, 9, 6, 8, 4, 7, 7])\n",
            "<class 'torch.Tensor'> torch.Size([128, 1, 28, 28]) tensor([8, 4, 0, 9, 8, 6, 2, 4, 7, 7, 2, 7, 5, 9, 0, 2, 4, 7, 4, 1, 4, 8, 7, 7,\n",
            "        2, 0, 8, 1, 6, 7, 9, 8, 8, 7, 1, 5, 2, 0, 6, 9, 5, 8, 2, 8, 3, 8, 1, 1,\n",
            "        4, 1, 5, 5, 7, 2, 8, 1, 1, 9, 7, 1, 3, 7, 7, 8, 1, 0, 3, 4, 5, 2, 8, 5,\n",
            "        7, 3, 8, 7, 7, 2, 7, 2, 7, 5, 4, 4, 1, 5, 9, 0, 8, 2, 0, 3, 4, 1, 7, 5,\n",
            "        7, 0, 8, 9, 6, 3, 7, 7, 7, 5, 0, 9, 0, 4, 0, 2, 7, 1, 0, 1, 0, 4, 8, 9,\n",
            "        4, 6, 0, 3, 9, 6, 8, 0])\n",
            "<class 'torch.Tensor'> torch.Size([128, 1, 28, 28]) tensor([3, 6, 3, 0, 8, 4, 3, 3, 0, 3, 4, 0, 7, 4, 8, 4, 8, 0, 1, 9, 2, 9, 2, 7,\n",
            "        4, 5, 6, 4, 6, 8, 3, 9, 8, 4, 8, 3, 7, 8, 5, 8, 5, 1, 1, 5, 4, 4, 4, 9,\n",
            "        4, 5, 5, 8, 3, 3, 5, 4, 1, 0, 1, 0, 6, 7, 7, 9, 6, 8, 1, 8, 8, 5, 8, 7,\n",
            "        1, 6, 4, 0, 3, 4, 9, 0, 5, 2, 2, 5, 3, 6, 7, 2, 6, 1, 7, 7, 4, 4, 0, 1,\n",
            "        8, 3, 1, 0, 3, 1, 6, 3, 4, 2, 8, 7, 6, 6, 1, 0, 4, 4, 0, 0, 7, 2, 0, 1,\n",
            "        7, 4, 2, 0, 6, 1, 7, 9])\n",
            "<class 'torch.Tensor'> torch.Size([128, 1, 28, 28]) tensor([4, 8, 2, 0, 6, 0, 7, 7, 7, 7, 3, 2, 1, 7, 6, 7, 4, 5, 7, 7, 1, 2, 7, 1,\n",
            "        0, 7, 7, 0, 1, 0, 0, 9, 9, 4, 9, 3, 1, 1, 2, 6, 7, 1, 0, 0, 0, 4, 2, 0,\n",
            "        9, 5, 3, 2, 4, 2, 4, 9, 3, 2, 9, 8, 1, 8, 0, 3, 1, 0, 4, 5, 3, 6, 9, 7,\n",
            "        0, 1, 9, 1, 8, 5, 7, 1, 4, 1, 3, 8, 9, 2, 1, 0, 9, 8, 9, 0, 4, 7, 3, 2,\n",
            "        1, 2, 4, 4, 2, 3, 0, 9, 3, 0, 4, 2, 8, 6, 5, 4, 2, 3, 8, 9, 2, 5, 9, 7,\n",
            "        6, 5, 6, 9, 2, 9, 4, 6])\n",
            "<class 'torch.Tensor'> torch.Size([128, 1, 28, 28]) tensor([8, 5, 7, 4, 3, 3, 9, 4, 8, 8, 6, 3, 3, 8, 7, 0, 3, 1, 6, 4, 7, 8, 9, 5,\n",
            "        8, 1, 0, 9, 9, 3, 4, 6, 2, 2, 0, 3, 3, 3, 0, 7, 8, 1, 6, 0, 6, 3, 3, 2,\n",
            "        0, 0, 1, 2, 3, 6, 9, 6, 7, 8, 6, 9, 0, 1, 3, 4, 9, 8, 0, 6, 7, 7, 2, 2,\n",
            "        5, 0, 7, 0, 6, 1, 6, 5, 9, 9, 4, 3, 8, 7, 6, 9, 7, 2, 3, 7, 2, 7, 3, 0,\n",
            "        5, 8, 6, 1, 4, 5, 5, 2, 7, 7, 6, 6, 9, 0, 2, 2, 7, 4, 8, 7, 8, 3, 5, 1,\n",
            "        0, 2, 2, 3, 0, 4, 6, 2])\n",
            "<class 'torch.Tensor'> torch.Size([128, 1, 28, 28]) tensor([2, 7, 5, 9, 2, 2, 4, 8, 4, 0, 0, 7, 3, 2, 4, 5, 8, 5, 8, 2, 3, 2, 2, 6,\n",
            "        8, 4, 9, 9, 0, 1, 3, 3, 9, 5, 4, 2, 5, 4, 8, 5, 9, 9, 6, 9, 4, 7, 6, 5,\n",
            "        7, 4, 0, 6, 2, 5, 9, 8, 1, 9, 1, 5, 4, 1, 3, 0, 2, 6, 4, 1, 2, 6, 6, 9,\n",
            "        8, 7, 9, 2, 9, 4, 7, 1, 2, 6, 7, 7, 1, 9, 4, 3, 1, 6, 0, 2, 0, 1, 7, 4,\n",
            "        3, 9, 9, 1, 6, 2, 0, 3, 3, 9, 8, 4, 0, 2, 8, 6, 2, 8, 3, 3, 7, 5, 0, 3,\n",
            "        2, 8, 3, 2, 8, 6, 9, 4])\n",
            "<class 'torch.Tensor'> torch.Size([128, 1, 28, 28]) tensor([2, 1, 3, 9, 1, 7, 3, 1, 2, 1, 9, 4, 7, 0, 1, 2, 5, 2, 3, 1, 1, 7, 6, 6,\n",
            "        2, 6, 1, 8, 6, 3, 0, 7, 6, 8, 7, 9, 2, 6, 6, 0, 3, 0, 1, 2, 2, 0, 1, 4,\n",
            "        6, 6, 9, 4, 0, 8, 1, 1, 1, 1, 7, 6, 3, 5, 1, 4, 7, 7, 9, 8, 7, 7, 4, 8,\n",
            "        7, 9, 7, 9, 6, 9, 0, 4, 2, 8, 1, 5, 4, 3, 4, 6, 3, 3, 8, 5, 8, 6, 4, 3,\n",
            "        8, 8, 5, 4, 8, 4, 3, 9, 4, 2, 4, 6, 5, 2, 4, 0, 5, 0, 9, 2, 4, 1, 2, 8,\n",
            "        2, 8, 8, 9, 7, 3, 1, 4])\n",
            "<class 'torch.Tensor'> torch.Size([128, 1, 28, 28]) tensor([1, 2, 0, 0, 6, 6, 4, 9, 9, 5, 8, 4, 5, 4, 9, 6, 0, 5, 1, 6, 4, 1, 7, 6,\n",
            "        1, 5, 3, 7, 1, 8, 9, 4, 5, 0, 3, 2, 1, 9, 1, 8, 7, 8, 5, 5, 1, 3, 7, 5,\n",
            "        7, 4, 7, 5, 3, 3, 8, 3, 1, 7, 9, 0, 8, 8, 8, 4, 5, 5, 6, 5, 0, 3, 3, 7,\n",
            "        6, 1, 3, 0, 3, 3, 8, 2, 6, 2, 3, 1, 2, 2, 0, 4, 5, 3, 1, 2, 1, 9, 1, 0,\n",
            "        5, 1, 5, 4, 8, 2, 7, 8, 4, 3, 4, 7, 1, 7, 4, 4, 5, 6, 6, 9, 0, 0, 7, 0,\n",
            "        1, 5, 7, 5, 0, 0, 0, 0])\n",
            "<class 'torch.Tensor'> torch.Size([128, 1, 28, 28]) tensor([4, 8, 7, 8, 1, 0, 9, 0, 2, 0, 4, 2, 0, 7, 6, 9, 5, 7, 6, 5, 0, 6, 6, 5,\n",
            "        0, 1, 9, 7, 4, 1, 7, 8, 3, 2, 4, 7, 1, 3, 2, 2, 2, 7, 7, 1, 0, 7, 2, 4,\n",
            "        6, 3, 4, 6, 8, 2, 3, 9, 2, 9, 9, 4, 2, 1, 9, 4, 6, 6, 5, 1, 0, 2, 3, 1,\n",
            "        4, 4, 0, 2, 1, 1, 9, 5, 0, 2, 1, 4, 9, 4, 3, 4, 9, 8, 9, 4, 4, 3, 9, 3,\n",
            "        7, 4, 8, 5, 5, 0, 7, 8, 7, 2, 0, 2, 1, 0, 5, 8, 9, 8, 5, 1, 7, 8, 5, 6,\n",
            "        0, 5, 2, 4, 4, 1, 2, 9])\n",
            "<class 'torch.Tensor'> torch.Size([128, 1, 28, 28]) tensor([2, 6, 2, 3, 7, 6, 8, 1, 5, 2, 3, 6, 1, 6, 2, 1, 3, 7, 0, 4, 7, 2, 9, 9,\n",
            "        6, 3, 5, 8, 3, 9, 1, 2, 3, 0, 0, 1, 7, 4, 8, 3, 0, 9, 9, 1, 6, 6, 6, 8,\n",
            "        4, 0, 7, 3, 1, 0, 9, 1, 5, 3, 6, 1, 9, 3, 0, 1, 0, 6, 1, 1, 6, 2, 2, 0,\n",
            "        1, 2, 8, 1, 6, 8, 9, 7, 2, 7, 9, 0, 1, 9, 2, 1, 8, 1, 2, 8, 3, 8, 1, 1,\n",
            "        3, 7, 3, 3, 8, 2, 3, 8, 6, 8, 4, 6, 0, 0, 5, 8, 3, 2, 5, 9, 2, 5, 3, 6,\n",
            "        7, 0, 2, 9, 8, 9, 4, 8])\n",
            "<class 'torch.Tensor'> torch.Size([128, 1, 28, 28]) tensor([5, 4, 6, 4, 3, 6, 8, 7, 1, 5, 4, 4, 6, 8, 5, 4, 9, 0, 3, 0, 1, 3, 8, 8,\n",
            "        4, 3, 1, 8, 9, 3, 5, 2, 3, 5, 2, 9, 7, 2, 2, 6, 8, 4, 6, 8, 7, 2, 6, 8,\n",
            "        4, 6, 0, 2, 0, 1, 1, 4, 2, 3, 4, 4, 5, 5, 5, 3, 1, 7, 7, 9, 1, 1, 2, 0,\n",
            "        6, 0, 0, 6, 7, 3, 1, 4, 7, 8, 4, 3, 5, 3, 1, 7, 2, 8, 0, 8, 0, 1, 2, 2,\n",
            "        6, 6, 7, 9, 4, 2, 8, 7, 2, 6, 3, 7, 1, 0, 7, 9, 9, 6, 7, 4, 8, 3, 5, 0,\n",
            "        3, 8, 2, 6, 0, 3, 4, 6])\n",
            "<class 'torch.Tensor'> torch.Size([128, 1, 28, 28]) tensor([6, 0, 3, 1, 1, 0, 4, 5, 2, 8, 9, 6, 9, 5, 9, 5, 9, 8, 4, 4, 4, 5, 4, 8,\n",
            "        2, 5, 4, 6, 0, 0, 1, 4, 2, 1, 9, 1, 8, 0, 4, 5, 2, 6, 4, 0, 7, 9, 6, 2,\n",
            "        8, 5, 0, 2, 5, 7, 2, 9, 8, 1, 0, 8, 8, 4, 9, 6, 2, 3, 8, 9, 0, 8, 0, 8,\n",
            "        7, 0, 6, 1, 9, 5, 9, 6, 8, 2, 1, 8, 4, 6, 8, 1, 0, 8, 2, 7, 5, 3, 9, 3,\n",
            "        5, 4, 4, 0, 9, 6, 6, 2, 5, 3, 5, 9, 5, 2, 3, 2, 3, 7, 7, 4, 8, 2, 5, 7,\n",
            "        3, 5, 4, 0, 8, 9, 1, 0])\n",
            "<class 'torch.Tensor'> torch.Size([128, 1, 28, 28]) tensor([9, 4, 1, 3, 0, 5, 4, 3, 4, 7, 8, 3, 6, 8, 1, 2, 1, 4, 6, 5, 4, 0, 7, 1,\n",
            "        6, 6, 6, 8, 8, 1, 3, 7, 6, 3, 5, 9, 6, 8, 2, 0, 2, 3, 6, 8, 5, 9, 7, 1,\n",
            "        1, 6, 8, 3, 8, 7, 6, 9, 1, 4, 5, 6, 2, 1, 3, 5, 5, 1, 9, 8, 7, 9, 0, 3,\n",
            "        8, 8, 3, 7, 9, 5, 5, 2, 6, 7, 7, 2, 9, 4, 2, 5, 4, 2, 8, 2, 2, 2, 2, 8,\n",
            "        8, 4, 4, 8, 0, 4, 7, 6, 6, 2, 0, 2, 4, 9, 6, 9, 7, 5, 5, 2, 4, 2, 5, 8,\n",
            "        7, 0, 5, 6, 7, 2, 3, 2])\n",
            "<class 'torch.Tensor'> torch.Size([128, 1, 28, 28]) tensor([9, 0, 1, 5, 0, 0, 0, 6, 8, 3, 6, 6, 8, 7, 9, 6, 8, 7, 7, 7, 7, 9, 7, 9,\n",
            "        2, 3, 1, 5, 8, 2, 0, 3, 4, 6, 2, 2, 5, 6, 4, 3, 0, 9, 3, 6, 1, 8, 8, 3,\n",
            "        2, 3, 4, 0, 2, 6, 2, 4, 2, 6, 7, 3, 1, 8, 4, 0, 6, 3, 5, 9, 9, 3, 6, 4,\n",
            "        9, 9, 8, 2, 9, 9, 4, 7, 8, 0, 7, 4, 3, 1, 9, 5, 5, 2, 0, 0, 6, 2, 9, 7,\n",
            "        5, 0, 2, 2, 1, 8, 6, 5, 9, 3, 1, 2, 0, 2, 1, 6, 0, 9, 3, 4, 4, 0, 3, 8,\n",
            "        5, 2, 6, 0, 1, 8, 5, 5])\n",
            "<class 'torch.Tensor'> torch.Size([128, 1, 28, 28]) tensor([6, 1, 8, 1, 1, 6, 3, 6, 0, 8, 1, 3, 9, 7, 5, 6, 0, 6, 5, 6, 8, 6, 5, 9,\n",
            "        0, 6, 2, 6, 8, 8, 1, 9, 2, 4, 6, 0, 9, 7, 7, 4, 9, 2, 8, 9, 9, 6, 3, 6,\n",
            "        7, 7, 3, 2, 2, 3, 0, 1, 9, 5, 6, 4, 6, 2, 1, 5, 0, 0, 6, 4, 0, 3, 8, 9,\n",
            "        7, 9, 9, 9, 8, 1, 9, 0, 9, 7, 0, 2, 1, 7, 7, 4, 1, 8, 6, 8, 6, 3, 9, 6,\n",
            "        9, 3, 4, 3, 1, 9, 1, 5, 6, 0, 4, 8, 1, 7, 3, 9, 7, 7, 2, 5, 9, 4, 7, 0,\n",
            "        3, 1, 4, 5, 0, 1, 0, 9])\n",
            "<class 'torch.Tensor'> torch.Size([128, 1, 28, 28]) tensor([0, 0, 9, 3, 3, 7, 9, 2, 8, 9, 0, 5, 3, 2, 2, 8, 5, 0, 7, 2, 6, 0, 1, 0,\n",
            "        7, 8, 1, 2, 0, 2, 2, 4, 2, 9, 3, 1, 1, 0, 5, 7, 3, 1, 1, 2, 4, 3, 7, 9,\n",
            "        8, 6, 5, 7, 3, 4, 6, 6, 4, 9, 5, 4, 9, 4, 7, 8, 5, 5, 4, 1, 8, 7, 5, 1,\n",
            "        9, 0, 4, 9, 8, 9, 9, 6, 4, 2, 3, 2, 8, 4, 9, 9, 1, 4, 1, 7, 0, 1, 1, 6,\n",
            "        7, 3, 2, 9, 4, 9, 3, 1, 7, 0, 6, 2, 5, 5, 4, 1, 9, 0, 9, 9, 3, 9, 1, 3,\n",
            "        6, 2, 5, 3, 3, 2, 1, 7])\n",
            "<class 'torch.Tensor'> torch.Size([128, 1, 28, 28]) tensor([7, 1, 4, 9, 0, 6, 1, 7, 1, 9, 6, 5, 2, 0, 2, 3, 1, 8, 7, 3, 2, 8, 6, 8,\n",
            "        6, 3, 2, 4, 8, 7, 8, 7, 2, 7, 0, 2, 6, 2, 0, 2, 1, 1, 0, 5, 6, 5, 0, 6,\n",
            "        6, 2, 2, 9, 7, 1, 3, 4, 1, 1, 1, 9, 3, 6, 7, 6, 0, 9, 4, 8, 7, 6, 7, 5,\n",
            "        4, 1, 4, 9, 3, 0, 1, 6, 9, 4, 8, 0, 7, 2, 0, 0, 1, 7, 3, 2, 5, 5, 3, 0,\n",
            "        5, 7, 7, 7, 0, 6, 7, 8, 3, 6, 1, 8, 0, 3, 4, 2, 1, 7, 9, 7, 5, 8, 9, 7,\n",
            "        2, 9, 9, 9, 1, 5, 3, 8])\n",
            "<class 'torch.Tensor'> torch.Size([128, 1, 28, 28]) tensor([0, 8, 4, 9, 8, 4, 0, 2, 9, 3, 0, 3, 1, 4, 8, 7, 2, 5, 3, 1, 3, 6, 6, 1,\n",
            "        3, 7, 6, 9, 8, 2, 5, 3, 4, 5, 3, 4, 5, 9, 9, 4, 2, 1, 7, 9, 2, 3, 1, 0,\n",
            "        3, 6, 7, 1, 5, 8, 7, 0, 1, 4, 6, 1, 3, 4, 4, 8, 4, 2, 8, 3, 5, 6, 4, 7,\n",
            "        4, 9, 2, 6, 5, 4, 4, 2, 0, 7, 1, 6, 1, 3, 6, 5, 3, 1, 1, 4, 6, 7, 6, 6,\n",
            "        5, 8, 0, 7, 3, 4, 6, 9, 7, 4, 5, 9, 7, 1, 5, 9, 9, 8, 3, 0, 2, 8, 2, 0,\n",
            "        8, 4, 5, 0, 8, 6, 8, 9])\n",
            "<class 'torch.Tensor'> torch.Size([128, 1, 28, 28]) tensor([9, 2, 2, 5, 0, 5, 0, 2, 1, 0, 2, 8, 7, 4, 6, 3, 8, 7, 5, 1, 3, 9, 7, 0,\n",
            "        8, 8, 7, 3, 8, 0, 0, 9, 6, 7, 5, 2, 2, 7, 7, 8, 8, 2, 9, 5, 8, 1, 0, 6,\n",
            "        1, 5, 3, 0, 7, 7, 9, 6, 9, 3, 9, 8, 6, 5, 8, 3, 3, 5, 6, 5, 7, 8, 5, 1,\n",
            "        5, 9, 4, 4, 5, 9, 0, 4, 0, 0, 9, 4, 3, 7, 0, 9, 8, 2, 5, 4, 9, 9, 8, 8,\n",
            "        5, 0, 1, 6, 2, 9, 3, 9, 7, 0, 9, 0, 6, 8, 1, 7, 8, 6, 1, 8, 4, 1, 6, 7,\n",
            "        6, 1, 3, 2, 0, 4, 7, 8])\n",
            "<class 'torch.Tensor'> torch.Size([128, 1, 28, 28]) tensor([0, 1, 5, 9, 6, 2, 7, 3, 9, 5, 9, 5, 8, 9, 7, 5, 2, 3, 6, 6, 2, 5, 2, 4,\n",
            "        8, 1, 4, 1, 2, 5, 9, 8, 4, 3, 1, 4, 1, 4, 3, 1, 2, 8, 1, 1, 4, 1, 8, 2,\n",
            "        3, 3, 4, 0, 9, 6, 8, 8, 1, 5, 2, 2, 9, 3, 0, 1, 5, 2, 5, 4, 3, 0, 8, 3,\n",
            "        1, 1, 0, 4, 9, 8, 6, 3, 1, 4, 7, 9, 2, 3, 8, 7, 5, 4, 6, 6, 1, 0, 8, 4,\n",
            "        7, 3, 7, 7, 5, 0, 5, 0, 9, 8, 8, 2, 6, 0, 3, 2, 8, 1, 9, 0, 9, 0, 1, 2,\n",
            "        7, 7, 2, 8, 2, 4, 1, 8])\n",
            "<class 'torch.Tensor'> torch.Size([128, 1, 28, 28]) tensor([7, 9, 0, 3, 4, 8, 1, 2, 8, 9, 2, 4, 4, 6, 7, 1, 8, 9, 0, 5, 5, 9, 3, 6,\n",
            "        7, 4, 1, 0, 3, 5, 3, 5, 4, 2, 5, 9, 4, 1, 2, 9, 6, 3, 2, 6, 1, 0, 1, 3,\n",
            "        7, 4, 7, 5, 7, 3, 6, 6, 8, 1, 7, 2, 5, 9, 0, 9, 1, 2, 9, 1, 4, 1, 1, 1,\n",
            "        0, 4, 0, 7, 2, 4, 6, 3, 8, 4, 0, 5, 1, 3, 7, 1, 4, 9, 4, 6, 5, 6, 1, 6,\n",
            "        5, 1, 6, 8, 9, 9, 9, 7, 1, 7, 0, 2, 4, 9, 5, 6, 9, 6, 4, 7, 8, 3, 6, 1,\n",
            "        4, 0, 2, 3, 2, 6, 4, 0])\n",
            "<class 'torch.Tensor'> torch.Size([128, 1, 28, 28]) tensor([8, 1, 1, 5, 1, 6, 3, 4, 0, 3, 4, 3, 1, 8, 3, 3, 4, 1, 0, 9, 8, 7, 6, 2,\n",
            "        2, 0, 6, 9, 3, 2, 3, 9, 5, 8, 2, 8, 0, 9, 2, 8, 3, 0, 1, 8, 9, 7, 5, 5,\n",
            "        2, 7, 1, 0, 9, 0, 5, 8, 7, 5, 6, 7, 3, 3, 4, 1, 9, 1, 8, 1, 0, 9, 0, 7,\n",
            "        6, 3, 5, 4, 1, 3, 1, 1, 6, 1, 0, 9, 0, 8, 6, 6, 4, 1, 9, 1, 6, 7, 9, 0,\n",
            "        1, 1, 8, 0, 7, 5, 6, 0, 7, 8, 3, 4, 3, 2, 5, 0, 5, 1, 7, 9, 8, 7, 2, 2,\n",
            "        6, 9, 9, 7, 2, 6, 1, 2])\n",
            "<class 'torch.Tensor'> torch.Size([128, 1, 28, 28]) tensor([2, 6, 2, 4, 2, 7, 5, 1, 6, 0, 2, 2, 7, 7, 0, 9, 2, 2, 4, 7, 7, 6, 2, 7,\n",
            "        8, 1, 2, 3, 9, 1, 0, 4, 8, 1, 8, 9, 0, 9, 2, 9, 3, 6, 2, 6, 4, 8, 3, 6,\n",
            "        5, 8, 2, 6, 4, 4, 1, 2, 6, 7, 9, 1, 0, 2, 4, 6, 6, 1, 3, 9, 7, 2, 6, 4,\n",
            "        8, 3, 5, 8, 5, 6, 1, 7, 0, 8, 1, 5, 3, 8, 8, 5, 4, 2, 6, 3, 5, 5, 6, 1,\n",
            "        5, 7, 1, 6, 3, 4, 6, 6, 7, 4, 7, 6, 7, 3, 1, 6, 1, 0, 7, 4, 6, 4, 9, 0,\n",
            "        4, 6, 4, 9, 4, 6, 2, 6])\n",
            "<class 'torch.Tensor'> torch.Size([128, 1, 28, 28]) tensor([2, 3, 5, 4, 9, 8, 4, 6, 2, 9, 6, 0, 9, 4, 1, 9, 4, 0, 1, 1, 9, 3, 8, 8,\n",
            "        6, 3, 0, 3, 4, 5, 8, 4, 6, 6, 5, 9, 5, 9, 7, 2, 9, 2, 7, 3, 5, 0, 1, 6,\n",
            "        3, 2, 2, 1, 3, 8, 5, 4, 0, 7, 7, 3, 6, 1, 6, 1, 5, 7, 8, 6, 2, 7, 8, 9,\n",
            "        3, 7, 4, 9, 9, 8, 5, 3, 8, 7, 7, 3, 4, 9, 4, 5, 8, 3, 0, 2, 4, 3, 0, 9,\n",
            "        2, 5, 6, 6, 0, 1, 0, 7, 4, 4, 6, 2, 2, 2, 9, 5, 9, 9, 0, 1, 4, 4, 4, 1,\n",
            "        0, 0, 1, 8, 4, 2, 2, 9])\n",
            "<class 'torch.Tensor'> torch.Size([128, 1, 28, 28]) tensor([4, 2, 4, 7, 9, 5, 5, 5, 6, 8, 5, 0, 2, 9, 9, 3, 8, 9, 9, 4, 1, 1, 7, 9,\n",
            "        9, 4, 1, 3, 7, 4, 6, 4, 3, 2, 9, 5, 5, 8, 7, 8, 1, 2, 8, 1, 7, 8, 9, 2,\n",
            "        3, 4, 6, 7, 3, 7, 6, 9, 8, 1, 4, 6, 3, 2, 3, 3, 0, 9, 3, 2, 6, 5, 6, 5,\n",
            "        1, 0, 7, 9, 7, 3, 5, 8, 9, 6, 6, 0, 2, 1, 4, 0, 1, 0, 7, 3, 0, 4, 1, 4,\n",
            "        5, 9, 2, 5, 2, 5, 6, 1, 0, 8, 1, 5, 6, 4, 8, 2, 9, 0, 1, 4, 6, 2, 2, 9,\n",
            "        8, 5, 0, 0, 7, 0, 1, 0])\n",
            "<class 'torch.Tensor'> torch.Size([128, 1, 28, 28]) tensor([6, 9, 8, 8, 9, 1, 3, 1, 1, 6, 0, 1, 6, 9, 8, 4, 4, 3, 1, 1, 0, 5, 8, 9,\n",
            "        3, 2, 2, 7, 6, 7, 6, 3, 4, 0, 8, 1, 4, 4, 6, 2, 2, 8, 8, 5, 4, 4, 4, 6,\n",
            "        4, 4, 7, 4, 9, 1, 6, 6, 8, 4, 7, 3, 3, 7, 8, 1, 3, 2, 3, 3, 2, 0, 4, 0,\n",
            "        9, 0, 3, 6, 7, 0, 6, 4, 4, 3, 5, 8, 0, 4, 6, 8, 6, 5, 3, 5, 1, 5, 1, 1,\n",
            "        5, 3, 6, 3, 4, 8, 4, 1, 7, 0, 3, 7, 0, 0, 6, 3, 0, 6, 3, 3, 4, 5, 3, 3,\n",
            "        1, 9, 2, 1, 1, 2, 5, 0])\n",
            "<class 'torch.Tensor'> torch.Size([128, 1, 28, 28]) tensor([1, 6, 5, 6, 3, 1, 0, 4, 1, 0, 7, 0, 5, 3, 2, 6, 1, 1, 0, 6, 8, 9, 7, 6,\n",
            "        0, 6, 2, 5, 9, 0, 6, 3, 1, 0, 3, 5, 6, 6, 0, 8, 9, 0, 7, 9, 0, 0, 0, 0,\n",
            "        2, 6, 8, 5, 6, 7, 3, 4, 9, 6, 0, 0, 8, 7, 9, 4, 2, 2, 9, 0, 1, 1, 8, 8,\n",
            "        8, 0, 7, 2, 8, 3, 4, 1, 1, 0, 5, 9, 5, 1, 0, 1, 8, 7, 0, 3, 3, 1, 3, 0,\n",
            "        6, 7, 3, 0, 6, 5, 4, 7, 4, 9, 1, 6, 1, 1, 9, 8, 5, 8, 8, 8, 6, 7, 5, 1,\n",
            "        7, 3, 9, 5, 1, 4, 3, 3])\n",
            "<class 'torch.Tensor'> torch.Size([128, 1, 28, 28]) tensor([4, 8, 9, 3, 2, 9, 6, 0, 0, 1, 3, 7, 9, 1, 1, 2, 9, 2, 3, 7, 3, 4, 8, 6,\n",
            "        1, 9, 5, 3, 9, 4, 2, 3, 6, 2, 0, 9, 8, 9, 3, 1, 1, 5, 4, 5, 8, 6, 2, 3,\n",
            "        5, 5, 7, 9, 2, 5, 4, 2, 6, 4, 0, 9, 5, 6, 8, 1, 2, 9, 2, 3, 4, 0, 0, 4,\n",
            "        7, 6, 4, 1, 0, 5, 3, 0, 1, 6, 2, 2, 6, 1, 2, 6, 6, 1, 6, 4, 5, 1, 5, 6,\n",
            "        7, 6, 9, 0, 8, 1, 0, 8, 4, 3, 1, 2, 9, 5, 8, 8, 7, 9, 0, 5, 5, 9, 8, 5,\n",
            "        6, 8, 8, 6, 2, 8, 3, 4])\n",
            "<class 'torch.Tensor'> torch.Size([128, 1, 28, 28]) tensor([6, 0, 0, 2, 1, 0, 1, 8, 8, 7, 8, 0, 6, 1, 5, 0, 9, 2, 1, 4, 0, 0, 0, 6,\n",
            "        1, 5, 2, 3, 7, 1, 8, 9, 3, 3, 1, 7, 4, 6, 1, 4, 7, 9, 1, 9, 5, 6, 6, 9,\n",
            "        8, 7, 4, 7, 5, 4, 9, 7, 7, 5, 6, 3, 4, 0, 4, 3, 1, 5, 1, 5, 3, 6, 6, 9,\n",
            "        7, 4, 6, 2, 2, 6, 2, 6, 1, 6, 0, 5, 7, 2, 4, 7, 2, 8, 4, 1, 5, 8, 9, 6,\n",
            "        4, 7, 8, 6, 4, 2, 6, 7, 3, 2, 1, 0, 0, 1, 1, 5, 5, 6, 9, 7, 0, 6, 0, 4,\n",
            "        0, 1, 5, 5, 0, 0, 8, 7])\n",
            "<class 'torch.Tensor'> torch.Size([128, 1, 28, 28]) tensor([5, 9, 2, 6, 0, 8, 2, 7, 9, 5, 0, 3, 3, 8, 2, 5, 4, 3, 8, 6, 3, 0, 9, 6,\n",
            "        3, 5, 3, 6, 6, 4, 0, 2, 1, 8, 7, 1, 0, 2, 3, 8, 3, 7, 8, 8, 7, 1, 1, 9,\n",
            "        3, 7, 4, 1, 7, 1, 8, 3, 0, 3, 7, 9, 4, 1, 3, 7, 5, 0, 9, 6, 4, 8, 3, 0,\n",
            "        2, 5, 0, 9, 9, 1, 3, 1, 9, 6, 0, 5, 7, 3, 9, 2, 5, 8, 4, 9, 9, 9, 1, 2,\n",
            "        9, 6, 2, 6, 0, 4, 5, 7, 9, 7, 7, 0, 1, 7, 2, 1, 5, 7, 2, 8, 8, 1, 0, 6,\n",
            "        8, 7, 5, 9, 2, 2, 5, 0])\n",
            "<class 'torch.Tensor'> torch.Size([128, 1, 28, 28]) tensor([6, 0, 8, 7, 4, 0, 6, 4, 8, 7, 1, 6, 8, 2, 8, 8, 1, 3, 9, 2, 1, 8, 6, 4,\n",
            "        5, 1, 0, 1, 1, 5, 7, 6, 4, 7, 7, 9, 3, 7, 6, 7, 1, 0, 2, 2, 1, 8, 6, 8,\n",
            "        6, 9, 9, 6, 0, 1, 5, 6, 7, 4, 6, 2, 4, 7, 3, 4, 0, 8, 1, 5, 9, 7, 3, 0,\n",
            "        3, 2, 9, 2, 9, 9, 7, 9, 4, 2, 1, 7, 2, 4, 8, 5, 0, 0, 7, 4, 0, 4, 1, 3,\n",
            "        8, 9, 4, 1, 6, 2, 5, 2, 8, 4, 4, 1, 6, 8, 1, 0, 2, 1, 4, 8, 4, 0, 5, 7,\n",
            "        3, 4, 1, 8, 8, 6, 1, 3])\n",
            "<class 'torch.Tensor'> torch.Size([128, 1, 28, 28]) tensor([9, 7, 8, 5, 0, 6, 6, 8, 3, 9, 6, 5, 0, 5, 1, 3, 2, 6, 9, 5, 6, 7, 9, 5,\n",
            "        7, 5, 5, 3, 4, 8, 0, 2, 0, 6, 0, 9, 2, 7, 6, 6, 4, 2, 8, 2, 8, 4, 2, 7,\n",
            "        1, 1, 6, 3, 3, 3, 7, 5, 3, 9, 5, 1, 2, 4, 2, 3, 7, 6, 0, 5, 2, 9, 4, 2,\n",
            "        7, 5, 8, 6, 2, 3, 7, 6, 6, 8, 1, 3, 4, 3, 2, 1, 9, 1, 2, 6, 4, 8, 8, 2,\n",
            "        1, 7, 8, 0, 2, 2, 8, 9, 1, 9, 1, 9, 7, 6, 7, 0, 0, 4, 3, 2, 5, 7, 8, 0,\n",
            "        9, 2, 1, 9, 5, 2, 4, 6])\n",
            "<class 'torch.Tensor'> torch.Size([128, 1, 28, 28]) tensor([2, 9, 9, 0, 2, 8, 6, 9, 3, 6, 8, 8, 7, 1, 6, 0, 4, 1, 9, 2, 4, 6, 0, 3,\n",
            "        0, 9, 0, 6, 2, 0, 4, 1, 5, 9, 5, 5, 5, 0, 2, 3, 8, 4, 5, 6, 4, 5, 0, 2,\n",
            "        1, 4, 1, 8, 1, 9, 1, 3, 9, 9, 5, 1, 9, 7, 3, 9, 9, 3, 9, 1, 4, 6, 9, 3,\n",
            "        1, 0, 5, 1, 8, 8, 8, 5, 0, 3, 7, 9, 0, 7, 0, 3, 7, 7, 4, 1, 8, 1, 8, 8,\n",
            "        3, 3, 0, 1, 4, 0, 1, 5, 4, 0, 9, 0, 8, 5, 8, 9, 7, 1, 3, 7, 5, 9, 3, 3,\n",
            "        1, 5, 8, 5, 0, 7, 7, 5])\n",
            "<class 'torch.Tensor'> torch.Size([128, 1, 28, 28]) tensor([5, 8, 0, 6, 6, 6, 0, 0, 1, 5, 9, 0, 4, 4, 1, 3, 4, 0, 4, 4, 3, 1, 9, 4,\n",
            "        5, 2, 8, 0, 5, 4, 0, 8, 6, 1, 2, 7, 4, 1, 9, 0, 3, 3, 9, 0, 3, 9, 0, 4,\n",
            "        7, 9, 4, 7, 3, 2, 0, 2, 6, 2, 5, 9, 6, 9, 3, 7, 4, 1, 3, 1, 0, 9, 5, 3,\n",
            "        7, 0, 3, 6, 2, 6, 2, 6, 3, 3, 3, 2, 1, 3, 4, 7, 1, 9, 3, 5, 8, 6, 3, 5,\n",
            "        6, 2, 1, 3, 1, 5, 0, 1, 3, 2, 6, 8, 9, 1, 7, 8, 0, 2, 5, 2, 0, 6, 7, 5,\n",
            "        1, 8, 9, 5, 1, 1, 3, 7])\n",
            "<class 'torch.Tensor'> torch.Size([128, 1, 28, 28]) tensor([9, 8, 9, 7, 4, 0, 9, 9, 7, 2, 1, 8, 8, 1, 6, 1, 9, 7, 3, 5, 7, 1, 0, 8,\n",
            "        8, 2, 8, 0, 7, 3, 0, 5, 9, 3, 9, 0, 1, 2, 4, 9, 3, 7, 5, 2, 9, 5, 7, 7,\n",
            "        2, 7, 8, 6, 3, 8, 4, 7, 7, 6, 6, 6, 5, 1, 6, 0, 5, 5, 2, 6, 5, 6, 0, 7,\n",
            "        7, 0, 8, 4, 6, 5, 3, 2, 6, 5, 8, 3, 1, 7, 5, 2, 8, 0, 8, 6, 1, 6, 3, 6,\n",
            "        4, 9, 0, 8, 5, 7, 8, 0, 5, 7, 2, 2, 7, 5, 2, 2, 5, 7, 3, 2, 9, 1, 9, 9,\n",
            "        0, 2, 4, 7, 4, 1, 1, 4])\n",
            "<class 'torch.Tensor'> torch.Size([128, 1, 28, 28]) tensor([1, 7, 4, 8, 9, 6, 1, 1, 1, 3, 3, 4, 8, 6, 6, 8, 9, 1, 5, 4, 9, 4, 1, 9,\n",
            "        1, 7, 9, 0, 6, 0, 0, 2, 5, 1, 7, 0, 8, 3, 9, 9, 6, 3, 4, 3, 6, 2, 7, 6,\n",
            "        8, 4, 7, 5, 0, 7, 2, 5, 9, 9, 7, 0, 7, 7, 1, 7, 1, 2, 1, 2, 5, 2, 6, 1,\n",
            "        1, 1, 6, 1, 0, 8, 1, 3, 5, 5, 4, 2, 4, 1, 0, 2, 8, 6, 8, 6, 2, 0, 4, 7,\n",
            "        9, 1, 3, 8, 6, 1, 6, 4, 1, 7, 1, 0, 7, 3, 4, 8, 1, 4, 9, 1, 8, 0, 8, 7,\n",
            "        7, 1, 6, 0, 3, 3, 1, 3])\n",
            "<class 'torch.Tensor'> torch.Size([128, 1, 28, 28]) tensor([8, 2, 2, 1, 2, 2, 0, 1, 7, 4, 2, 0, 4, 6, 0, 5, 2, 5, 9, 2, 4, 2, 6, 5,\n",
            "        6, 4, 6, 8, 7, 6, 1, 7, 2, 8, 4, 7, 1, 8, 3, 9, 2, 8, 3, 9, 9, 6, 6, 3,\n",
            "        3, 9, 2, 8, 8, 9, 3, 6, 0, 0, 6, 8, 1, 8, 0, 4, 3, 2, 1, 6, 4, 1, 3, 3,\n",
            "        6, 0, 0, 5, 5, 5, 6, 2, 1, 9, 0, 2, 0, 9, 5, 0, 3, 6, 6, 7, 8, 9, 7, 7,\n",
            "        3, 4, 0, 2, 0, 3, 6, 3, 6, 6, 2, 9, 0, 0, 1, 9, 3, 9, 8, 7, 0, 9, 4, 8,\n",
            "        1, 4, 6, 7, 5, 5, 9, 3])\n",
            "<class 'torch.Tensor'> torch.Size([128, 1, 28, 28]) tensor([9, 1, 3, 1, 4, 2, 7, 8, 7, 8, 4, 2, 9, 4, 9, 0, 6, 1, 1, 9, 7, 8, 7, 7,\n",
            "        2, 4, 6, 6, 0, 7, 0, 3, 2, 6, 4, 1, 8, 6, 7, 9, 3, 6, 4, 9, 9, 5, 7, 9,\n",
            "        2, 8, 7, 4, 7, 8, 6, 6, 5, 4, 1, 6, 2, 4, 3, 8, 7, 9, 8, 6, 9, 8, 0, 9,\n",
            "        6, 6, 0, 4, 3, 0, 4, 1, 8, 3, 8, 5, 4, 7, 6, 2, 1, 3, 2, 3, 9, 0, 4, 2,\n",
            "        6, 9, 4, 6, 4, 5, 8, 9, 2, 8, 8, 0, 8, 2, 7, 7, 1, 0, 1, 9, 3, 3, 2, 6,\n",
            "        2, 2, 7, 1, 1, 1, 0, 5])\n",
            "<class 'torch.Tensor'> torch.Size([128, 1, 28, 28]) tensor([2, 9, 9, 7, 5, 9, 7, 3, 0, 4, 2, 0, 3, 8, 0, 5, 9, 5, 0, 8, 6, 3, 9, 4,\n",
            "        5, 2, 7, 3, 0, 7, 6, 1, 4, 7, 4, 6, 0, 9, 9, 9, 7, 2, 8, 8, 3, 8, 1, 5,\n",
            "        3, 5, 8, 7, 5, 4, 0, 9, 7, 1, 7, 8, 8, 3, 5, 3, 5, 6, 0, 2, 6, 6, 9, 0,\n",
            "        8, 9, 1, 3, 9, 0, 4, 8, 1, 8, 2, 6, 0, 3, 0, 6, 2, 7, 5, 8, 4, 7, 3, 2,\n",
            "        9, 8, 5, 7, 8, 1, 1, 1, 3, 6, 1, 0, 2, 5, 6, 1, 4, 1, 0, 2, 7, 2, 5, 3,\n",
            "        4, 7, 6, 7, 7, 8, 9, 3])\n",
            "<class 'torch.Tensor'> torch.Size([128, 1, 28, 28]) tensor([8, 4, 1, 6, 6, 8, 4, 5, 6, 0, 3, 8, 8, 2, 7, 6, 3, 8, 3, 9, 6, 6, 2, 3,\n",
            "        0, 1, 2, 4, 8, 5, 7, 7, 7, 6, 9, 1, 1, 0, 1, 2, 7, 5, 5, 0, 6, 7, 5, 1,\n",
            "        7, 5, 8, 9, 1, 3, 1, 5, 2, 9, 9, 6, 6, 6, 7, 1, 2, 2, 3, 2, 1, 1, 3, 3,\n",
            "        1, 8, 3, 1, 8, 3, 3, 3, 1, 6, 2, 2, 6, 6, 3, 8, 4, 3, 0, 6, 8, 0, 2, 9,\n",
            "        6, 6, 4, 8, 2, 4, 3, 9, 4, 6, 2, 1, 1, 0, 7, 7, 2, 2, 3, 2, 2, 0, 2, 2,\n",
            "        2, 7, 6, 1, 4, 7, 8, 6])\n",
            "<class 'torch.Tensor'> torch.Size([128, 1, 28, 28]) tensor([6, 1, 8, 2, 1, 3, 9, 3, 4, 2, 9, 3, 3, 7, 4, 6, 1, 8, 5, 4, 0, 7, 4, 0,\n",
            "        1, 7, 7, 0, 2, 9, 9, 8, 9, 3, 7, 2, 4, 9, 8, 1, 2, 5, 4, 9, 1, 0, 5, 7,\n",
            "        2, 7, 6, 3, 7, 2, 7, 0, 2, 0, 3, 4, 9, 4, 5, 2, 4, 3, 7, 9, 0, 5, 4, 6,\n",
            "        9, 3, 3, 2, 0, 0, 5, 9, 3, 9, 9, 2, 2, 2, 6, 9, 6, 4, 6, 0, 9, 5, 5, 6,\n",
            "        2, 9, 3, 4, 2, 8, 3, 8, 9, 8, 7, 8, 6, 2, 3, 9, 2, 2, 9, 4, 6, 5, 8, 2,\n",
            "        1, 6, 1, 4, 0, 6, 2, 5])\n",
            "<class 'torch.Tensor'> torch.Size([128, 1, 28, 28]) tensor([2, 5, 2, 0, 4, 8, 5, 6, 7, 9, 5, 7, 6, 2, 6, 6, 2, 2, 8, 7, 5, 7, 5, 9,\n",
            "        9, 7, 6, 9, 9, 1, 6, 4, 0, 3, 7, 0, 1, 7, 2, 5, 3, 9, 5, 8, 3, 8, 1, 8,\n",
            "        7, 8, 0, 9, 6, 1, 0, 1, 6, 9, 5, 7, 0, 6, 8, 6, 5, 2, 8, 8, 4, 4, 1, 8,\n",
            "        2, 1, 4, 3, 4, 5, 5, 7, 1, 5, 9, 4, 1, 7, 2, 3, 5, 9, 0, 0, 0, 7, 1, 1,\n",
            "        4, 5, 6, 1, 3, 9, 2, 3, 7, 6, 7, 6, 0, 0, 5, 9, 6, 8, 6, 5, 5, 6, 2, 8,\n",
            "        0, 6, 0, 2, 7, 9, 1, 7])\n",
            "<class 'torch.Tensor'> torch.Size([128, 1, 28, 28]) tensor([7, 9, 8, 5, 9, 7, 0, 2, 5, 5, 4, 3, 5, 1, 4, 3, 7, 6, 0, 4, 4, 2, 9, 1,\n",
            "        2, 7, 8, 1, 4, 5, 1, 2, 4, 0, 8, 3, 4, 6, 1, 8, 1, 3, 7, 1, 2, 5, 1, 7,\n",
            "        9, 9, 7, 0, 9, 6, 7, 0, 8, 6, 7, 7, 2, 9, 0, 5, 7, 5, 3, 5, 3, 1, 8, 3,\n",
            "        5, 4, 1, 3, 6, 0, 6, 6, 1, 9, 2, 1, 4, 1, 2, 6, 5, 4, 0, 6, 6, 5, 3, 9,\n",
            "        6, 0, 4, 0, 6, 4, 4, 8, 8, 7, 1, 5, 3, 8, 4, 7, 8, 9, 9, 2, 8, 6, 9, 7,\n",
            "        6, 5, 9, 5, 8, 9, 4, 0])\n",
            "<class 'torch.Tensor'> torch.Size([128, 1, 28, 28]) tensor([9, 5, 2, 0, 5, 5, 1, 3, 0, 1, 2, 9, 9, 6, 9, 0, 5, 0, 3, 9, 2, 2, 5, 1,\n",
            "        9, 9, 9, 1, 7, 5, 8, 1, 1, 3, 3, 6, 6, 0, 9, 7, 8, 3, 6, 3, 0, 5, 1, 3,\n",
            "        7, 7, 7, 3, 3, 7, 9, 9, 4, 9, 4, 2, 8, 3, 6, 1, 4, 6, 8, 0, 3, 2, 4, 9,\n",
            "        6, 4, 4, 7, 0, 8, 9, 1, 8, 9, 6, 0, 8, 7, 6, 9, 4, 1, 9, 6, 2, 0, 5, 9,\n",
            "        1, 5, 4, 6, 5, 9, 5, 7, 0, 9, 4, 6, 0, 6, 4, 0, 8, 3, 7, 5, 4, 7, 1, 6,\n",
            "        8, 6, 1, 1, 8, 2, 6, 8])\n",
            "<class 'torch.Tensor'> torch.Size([128, 1, 28, 28]) tensor([1, 3, 2, 7, 3, 5, 2, 4, 1, 3, 6, 0, 1, 6, 0, 4, 4, 4, 0, 3, 4, 3, 2, 6,\n",
            "        8, 4, 2, 9, 1, 8, 0, 2, 6, 6, 7, 1, 8, 6, 8, 8, 4, 6, 0, 4, 4, 2, 2, 5,\n",
            "        1, 0, 2, 2, 2, 5, 6, 7, 2, 1, 6, 3, 3, 9, 6, 8, 9, 2, 2, 7, 2, 9, 6, 9,\n",
            "        2, 2, 1, 0, 7, 3, 1, 3, 6, 1, 4, 7, 9, 8, 2, 5, 0, 2, 7, 7, 3, 1, 4, 0,\n",
            "        1, 0, 1, 0, 3, 4, 0, 2, 3, 9, 9, 6, 3, 9, 2, 9, 3, 7, 6, 2, 4, 1, 0, 4,\n",
            "        4, 9, 7, 4, 0, 8, 6, 4])\n",
            "<class 'torch.Tensor'> torch.Size([128, 1, 28, 28]) tensor([3, 1, 4, 6, 1, 6, 6, 8, 5, 8, 1, 2, 8, 9, 1, 4, 3, 6, 0, 1, 9, 2, 9, 4,\n",
            "        1, 0, 8, 4, 9, 4, 0, 8, 1, 8, 7, 1, 7, 1, 3, 5, 4, 8, 7, 0, 5, 6, 9, 5,\n",
            "        9, 2, 8, 3, 8, 0, 4, 0, 2, 4, 1, 1, 7, 1, 7, 1, 8, 4, 7, 3, 3, 9, 0, 8,\n",
            "        6, 5, 3, 0, 4, 4, 9, 2, 1, 1, 5, 6, 0, 1, 3, 3, 1, 9, 8, 2, 1, 3, 6, 1,\n",
            "        7, 2, 5, 6, 5, 9, 6, 1, 8, 1, 0, 0, 5, 9, 1, 2, 8, 7, 7, 9, 5, 3, 4, 0,\n",
            "        3, 1, 7, 6, 3, 8, 4, 9])\n",
            "<class 'torch.Tensor'> torch.Size([128, 1, 28, 28]) tensor([6, 4, 2, 2, 0, 6, 2, 5, 5, 7, 3, 4, 6, 9, 1, 8, 9, 6, 2, 8, 5, 2, 5, 7,\n",
            "        3, 7, 8, 1, 1, 1, 0, 2, 5, 0, 3, 2, 1, 3, 9, 5, 4, 3, 2, 6, 7, 1, 9, 9,\n",
            "        9, 0, 4, 6, 9, 9, 3, 9, 6, 8, 9, 2, 2, 3, 3, 1, 0, 1, 1, 8, 4, 6, 9, 3,\n",
            "        6, 4, 3, 2, 8, 3, 9, 1, 1, 5, 8, 1, 0, 8, 1, 8, 9, 3, 0, 1, 3, 2, 0, 1,\n",
            "        6, 7, 7, 6, 9, 2, 2, 0, 1, 8, 2, 5, 8, 0, 4, 1, 6, 1, 8, 2, 5, 4, 7, 9,\n",
            "        2, 8, 6, 9, 8, 2, 4, 7])\n",
            "<class 'torch.Tensor'> torch.Size([128, 1, 28, 28]) tensor([1, 9, 5, 2, 8, 0, 0, 6, 5, 9, 5, 1, 6, 4, 9, 3, 4, 0, 9, 7, 5, 0, 2, 1,\n",
            "        6, 6, 1, 8, 0, 1, 5, 5, 8, 2, 7, 7, 3, 6, 2, 7, 8, 8, 1, 3, 0, 5, 6, 3,\n",
            "        4, 4, 5, 1, 6, 4, 1, 0, 1, 9, 4, 8, 3, 1, 0, 0, 7, 4, 9, 7, 2, 3, 6, 4,\n",
            "        4, 0, 8, 9, 1, 7, 2, 0, 4, 1, 7, 8, 3, 9, 9, 9, 5, 4, 3, 0, 3, 3, 8, 8,\n",
            "        1, 7, 1, 8, 7, 3, 5, 7, 6, 2, 0, 2, 6, 8, 1, 2, 6, 5, 3, 1, 4, 8, 1, 6,\n",
            "        0, 1, 8, 5, 4, 2, 6, 3])\n",
            "<class 'torch.Tensor'> torch.Size([128, 1, 28, 28]) tensor([1, 3, 5, 2, 2, 1, 3, 8, 8, 2, 6, 0, 4, 7, 9, 4, 1, 1, 2, 5, 5, 7, 3, 2,\n",
            "        5, 6, 1, 5, 9, 9, 7, 3, 8, 3, 0, 2, 7, 7, 8, 7, 9, 4, 6, 4, 4, 9, 9, 8,\n",
            "        0, 3, 2, 0, 3, 7, 4, 0, 0, 4, 2, 6, 9, 8, 7, 1, 8, 1, 5, 0, 6, 5, 9, 1,\n",
            "        8, 3, 4, 7, 4, 0, 4, 8, 8, 7, 5, 4, 9, 7, 8, 9, 4, 8, 2, 8, 9, 9, 3, 4,\n",
            "        7, 0, 5, 5, 7, 3, 6, 3, 6, 6, 5, 2, 0, 2, 8, 2, 4, 3, 4, 0, 9, 8, 2, 5,\n",
            "        3, 3, 5, 3, 5, 0, 7, 4])\n",
            "<class 'torch.Tensor'> torch.Size([128, 1, 28, 28]) tensor([2, 4, 0, 8, 5, 9, 1, 3, 0, 9, 6, 1, 5, 4, 9, 3, 6, 8, 6, 1, 8, 3, 4, 1,\n",
            "        7, 5, 1, 1, 9, 9, 0, 0, 3, 5, 5, 6, 8, 8, 6, 6, 0, 1, 8, 3, 2, 4, 7, 5,\n",
            "        8, 1, 0, 5, 9, 7, 8, 1, 7, 4, 8, 6, 2, 2, 5, 1, 9, 1, 9, 9, 7, 3, 0, 6,\n",
            "        3, 9, 3, 2, 9, 1, 2, 3, 1, 7, 9, 0, 3, 0, 5, 6, 6, 8, 8, 1, 8, 5, 3, 8,\n",
            "        1, 7, 8, 1, 6, 8, 0, 1, 7, 7, 8, 0, 6, 8, 1, 0, 7, 0, 0, 8, 3, 4, 3, 3,\n",
            "        6, 4, 7, 2, 5, 0, 5, 2])\n",
            "<class 'torch.Tensor'> torch.Size([128, 1, 28, 28]) tensor([7, 3, 9, 1, 2, 7, 0, 9, 3, 5, 7, 2, 9, 3, 4, 5, 2, 8, 4, 0, 5, 1, 1, 3,\n",
            "        7, 7, 1, 0, 3, 1, 2, 1, 8, 7, 1, 8, 0, 8, 7, 4, 1, 2, 3, 9, 0, 7, 0, 6,\n",
            "        0, 3, 9, 5, 2, 5, 9, 3, 3, 0, 7, 6, 3, 9, 0, 8, 3, 1, 5, 8, 3, 1, 6, 4,\n",
            "        1, 5, 9, 5, 2, 7, 7, 4, 4, 1, 8, 5, 3, 8, 6, 1, 3, 1, 1, 2, 7, 3, 1, 4,\n",
            "        9, 9, 0, 1, 2, 6, 8, 1, 3, 6, 4, 5, 2, 8, 1, 9, 2, 9, 7, 9, 7, 7, 3, 0,\n",
            "        3, 9, 4, 1, 4, 9, 6, 8])\n",
            "<class 'torch.Tensor'> torch.Size([128, 1, 28, 28]) tensor([1, 3, 8, 9, 1, 5, 5, 7, 9, 1, 8, 4, 1, 3, 9, 8, 8, 9, 3, 6, 3, 3, 3, 5,\n",
            "        0, 9, 8, 3, 9, 8, 9, 8, 2, 7, 4, 1, 7, 3, 1, 7, 4, 9, 2, 8, 8, 0, 0, 1,\n",
            "        0, 0, 3, 4, 2, 6, 8, 2, 6, 2, 1, 3, 7, 5, 3, 4, 1, 4, 1, 7, 0, 4, 8, 9,\n",
            "        8, 1, 9, 4, 5, 9, 7, 1, 1, 3, 8, 8, 0, 4, 9, 7, 0, 5, 9, 7, 0, 4, 9, 8,\n",
            "        6, 5, 8, 6, 1, 1, 1, 9, 6, 9, 1, 9, 9, 7, 4, 7, 8, 6, 8, 4, 2, 0, 5, 1,\n",
            "        5, 4, 4, 2, 1, 6, 4, 4])\n",
            "<class 'torch.Tensor'> torch.Size([128, 1, 28, 28]) tensor([2, 8, 6, 2, 9, 2, 2, 6, 2, 7, 0, 8, 2, 7, 4, 8, 8, 1, 5, 5, 4, 3, 1, 8,\n",
            "        0, 7, 8, 3, 7, 1, 1, 3, 0, 4, 0, 5, 1, 4, 4, 6, 0, 5, 0, 4, 6, 2, 0, 8,\n",
            "        5, 9, 3, 5, 7, 3, 9, 7, 5, 1, 7, 1, 9, 3, 3, 2, 5, 0, 0, 7, 3, 8, 4, 0,\n",
            "        2, 3, 8, 0, 0, 5, 2, 4, 1, 9, 9, 7, 9, 6, 4, 8, 1, 0, 0, 5, 9, 3, 0, 8,\n",
            "        7, 2, 6, 1, 4, 0, 6, 0, 6, 0, 6, 5, 8, 7, 0, 6, 6, 4, 8, 0, 0, 2, 4, 3,\n",
            "        1, 2, 7, 7, 9, 9, 5, 0])\n",
            "<class 'torch.Tensor'> torch.Size([128, 1, 28, 28]) tensor([3, 7, 3, 2, 6, 2, 8, 8, 4, 1, 3, 8, 9, 1, 0, 5, 1, 5, 4, 3, 9, 6, 4, 6,\n",
            "        3, 0, 6, 3, 3, 8, 0, 4, 7, 3, 6, 1, 0, 7, 9, 1, 7, 8, 7, 9, 1, 1, 2, 5,\n",
            "        2, 2, 9, 7, 7, 3, 4, 6, 9, 8, 1, 4, 6, 5, 6, 2, 4, 4, 5, 5, 2, 0, 9, 6,\n",
            "        8, 8, 0, 7, 6, 2, 5, 7, 8, 6, 1, 7, 8, 2, 3, 9, 4, 9, 4, 7, 7, 1, 3, 4,\n",
            "        8, 6, 4, 2, 8, 1, 8, 1, 3, 7, 9, 0, 9, 9, 4, 2, 0, 4, 3, 6, 1, 0, 1, 3,\n",
            "        1, 0, 7, 9, 9, 3, 2, 8])\n",
            "<class 'torch.Tensor'> torch.Size([128, 1, 28, 28]) tensor([1, 6, 3, 2, 3, 2, 9, 7, 8, 0, 5, 9, 3, 4, 5, 8, 5, 6, 5, 1, 1, 1, 1, 0,\n",
            "        8, 3, 3, 9, 3, 5, 8, 5, 2, 2, 0, 8, 3, 4, 1, 8, 3, 3, 3, 3, 1, 1, 7, 7,\n",
            "        1, 5, 1, 0, 4, 7, 5, 0, 5, 4, 9, 1, 7, 1, 0, 6, 3, 1, 6, 1, 5, 8, 2, 8,\n",
            "        5, 2, 2, 3, 9, 1, 3, 2, 9, 6, 0, 1, 0, 1, 3, 2, 5, 0, 0, 4, 1, 5, 5, 1,\n",
            "        8, 9, 7, 3, 4, 8, 0, 8, 4, 7, 9, 5, 8, 1, 1, 8, 8, 9, 1, 9, 4, 2, 3, 3,\n",
            "        1, 3, 4, 5, 6, 6, 0, 9])\n",
            "<class 'torch.Tensor'> torch.Size([128, 1, 28, 28]) tensor([1, 8, 3, 2, 9, 3, 5, 0, 1, 3, 7, 1, 3, 6, 0, 1, 3, 5, 5, 4, 1, 0, 5, 1,\n",
            "        8, 2, 0, 9, 3, 9, 2, 4, 9, 2, 8, 8, 4, 9, 9, 8, 1, 2, 8, 5, 4, 8, 0, 1,\n",
            "        4, 1, 3, 5, 1, 3, 1, 0, 0, 1, 1, 9, 0, 3, 8, 4, 4, 1, 4, 9, 0, 1, 7, 9,\n",
            "        7, 6, 9, 0, 9, 0, 8, 1, 0, 5, 9, 3, 5, 3, 5, 8, 1, 9, 1, 3, 8, 1, 4, 1,\n",
            "        2, 6, 4, 1, 6, 7, 2, 7, 6, 1, 6, 4, 2, 5, 1, 5, 4, 8, 1, 5, 3, 1, 1, 0,\n",
            "        1, 9, 8, 3, 7, 6, 4, 9])\n",
            "<class 'torch.Tensor'> torch.Size([128, 1, 28, 28]) tensor([3, 1, 5, 1, 9, 3, 6, 7, 3, 4, 3, 3, 1, 7, 4, 2, 6, 1, 9, 5, 6, 4, 2, 0,\n",
            "        5, 7, 0, 7, 7, 4, 4, 8, 2, 6, 3, 7, 6, 6, 8, 4, 9, 9, 9, 8, 6, 7, 9, 2,\n",
            "        7, 6, 1, 7, 7, 9, 5, 1, 8, 4, 1, 5, 3, 0, 5, 3, 0, 2, 8, 2, 9, 2, 5, 2,\n",
            "        8, 3, 9, 1, 4, 1, 7, 9, 0, 1, 7, 2, 5, 2, 7, 6, 2, 4, 5, 3, 6, 1, 6, 6,\n",
            "        8, 1, 5, 1, 3, 1, 5, 7, 7, 5, 4, 7, 2, 9, 1, 5, 8, 0, 1, 2, 9, 6, 0, 6,\n",
            "        7, 8, 3, 6, 2, 6, 8, 4])\n",
            "<class 'torch.Tensor'> torch.Size([128, 1, 28, 28]) tensor([1, 4, 2, 1, 1, 2, 7, 5, 7, 9, 1, 0, 7, 2, 3, 3, 8, 9, 4, 9, 2, 8, 1, 0,\n",
            "        0, 2, 2, 1, 4, 7, 3, 6, 7, 3, 0, 0, 2, 8, 6, 7, 0, 4, 7, 8, 8, 1, 5, 1,\n",
            "        9, 9, 9, 7, 5, 4, 2, 2, 1, 5, 1, 1, 2, 0, 0, 1, 9, 7, 6, 4, 5, 0, 5, 7,\n",
            "        6, 5, 9, 7, 4, 5, 5, 8, 0, 2, 9, 7, 7, 0, 8, 7, 9, 8, 3, 8, 1, 5, 1, 4,\n",
            "        1, 9, 8, 1, 5, 2, 9, 9, 0, 7, 0, 3, 7, 3, 9, 3, 0, 7, 8, 7, 9, 8, 3, 3,\n",
            "        8, 6, 0, 8, 3, 2, 5, 9])\n",
            "<class 'torch.Tensor'> torch.Size([128, 1, 28, 28]) tensor([4, 0, 5, 2, 8, 9, 0, 1, 1, 4, 6, 3, 3, 4, 8, 8, 4, 0, 6, 9, 1, 8, 0, 9,\n",
            "        7, 9, 4, 2, 2, 3, 1, 8, 7, 2, 2, 6, 5, 1, 7, 1, 6, 3, 6, 1, 4, 6, 6, 6,\n",
            "        0, 9, 9, 0, 0, 1, 3, 5, 7, 1, 4, 1, 1, 7, 8, 7, 7, 9, 8, 5, 8, 4, 1, 0,\n",
            "        0, 1, 4, 1, 0, 5, 7, 1, 4, 1, 0, 9, 2, 5, 8, 7, 5, 1, 2, 6, 9, 1, 4, 8,\n",
            "        4, 4, 1, 0, 2, 9, 0, 2, 6, 4, 4, 4, 4, 2, 4, 5, 8, 1, 3, 6, 9, 7, 6, 2,\n",
            "        7, 0, 7, 4, 5, 2, 6, 7])\n",
            "<class 'torch.Tensor'> torch.Size([128, 1, 28, 28]) tensor([3, 5, 0, 6, 4, 3, 1, 0, 4, 0, 6, 7, 5, 9, 7, 0, 9, 3, 1, 7, 6, 3, 8, 9,\n",
            "        5, 1, 2, 8, 4, 2, 6, 6, 4, 2, 7, 6, 5, 1, 7, 0, 9, 8, 1, 4, 3, 3, 1, 8,\n",
            "        8, 7, 0, 4, 7, 2, 8, 3, 7, 4, 2, 2, 7, 5, 1, 3, 4, 0, 1, 9, 5, 0, 6, 2,\n",
            "        9, 7, 9, 9, 1, 3, 1, 0, 5, 6, 3, 3, 4, 0, 2, 0, 9, 0, 2, 9, 2, 5, 2, 5,\n",
            "        9, 2, 4, 1, 4, 1, 4, 2, 9, 5, 6, 8, 4, 5, 6, 1, 6, 1, 6, 1, 7, 5, 6, 9,\n",
            "        9, 5, 4, 9, 5, 9, 2, 6])\n",
            "<class 'torch.Tensor'> torch.Size([128, 1, 28, 28]) tensor([5, 5, 1, 5, 5, 3, 7, 8, 9, 9, 8, 5, 1, 5, 5, 1, 0, 8, 5, 0, 5, 0, 9, 3,\n",
            "        7, 5, 7, 9, 9, 8, 0, 1, 3, 6, 7, 9, 2, 0, 9, 0, 6, 1, 8, 4, 9, 3, 1, 9,\n",
            "        8, 2, 0, 0, 0, 0, 7, 0, 1, 4, 2, 0, 4, 4, 0, 7, 4, 7, 9, 2, 8, 0, 6, 0,\n",
            "        2, 7, 0, 1, 9, 1, 5, 7, 9, 6, 4, 3, 2, 9, 6, 9, 0, 4, 9, 3, 7, 5, 2, 4,\n",
            "        5, 1, 7, 0, 7, 8, 0, 8, 3, 3, 4, 6, 2, 2, 4, 6, 9, 0, 6, 9, 1, 1, 2, 2,\n",
            "        9, 0, 9, 8, 7, 0, 7, 6])\n",
            "<class 'torch.Tensor'> torch.Size([128, 1, 28, 28]) tensor([4, 1, 6, 8, 0, 8, 3, 9, 7, 6, 1, 1, 0, 4, 1, 2, 2, 1, 4, 6, 5, 5, 0, 1,\n",
            "        3, 2, 2, 1, 0, 4, 5, 6, 5, 0, 3, 5, 8, 5, 3, 7, 7, 7, 7, 9, 5, 0, 0, 2,\n",
            "        9, 7, 3, 0, 2, 5, 9, 9, 6, 2, 3, 3, 0, 1, 5, 6, 4, 6, 0, 5, 9, 2, 9, 4,\n",
            "        1, 8, 7, 8, 5, 3, 6, 1, 6, 3, 9, 7, 7, 2, 9, 2, 2, 1, 9, 1, 5, 2, 3, 9,\n",
            "        7, 8, 6, 9, 6, 9, 4, 4, 0, 0, 3, 4, 3, 8, 4, 2, 4, 0, 7, 4, 7, 7, 1, 7,\n",
            "        5, 7, 1, 9, 7, 0, 5, 7])\n",
            "<class 'torch.Tensor'> torch.Size([128, 1, 28, 28]) tensor([1, 9, 6, 3, 2, 4, 1, 3, 1, 2, 6, 3, 5, 6, 8, 2, 4, 4, 7, 0, 2, 3, 0, 8,\n",
            "        8, 2, 2, 0, 1, 9, 8, 9, 1, 3, 0, 5, 9, 4, 3, 6, 8, 5, 4, 6, 3, 1, 8, 0,\n",
            "        4, 2, 3, 2, 9, 0, 1, 4, 5, 5, 3, 3, 1, 7, 1, 5, 9, 4, 1, 7, 4, 7, 7, 3,\n",
            "        3, 2, 3, 4, 8, 9, 8, 2, 6, 2, 9, 4, 4, 1, 4, 4, 5, 7, 4, 0, 1, 2, 6, 0,\n",
            "        3, 9, 1, 5, 2, 5, 9, 2, 7, 4, 0, 6, 5, 3, 6, 8, 0, 0, 5, 7, 0, 0, 4, 9,\n",
            "        0, 4, 9, 6, 1, 0, 4, 8])\n",
            "<class 'torch.Tensor'> torch.Size([128, 1, 28, 28]) tensor([7, 5, 3, 1, 8, 4, 8, 0, 8, 1, 7, 9, 0, 7, 5, 1, 4, 8, 4, 1, 7, 2, 1, 9,\n",
            "        5, 0, 9, 8, 3, 6, 3, 5, 9, 0, 7, 0, 8, 6, 1, 7, 6, 6, 3, 2, 7, 0, 8, 7,\n",
            "        3, 2, 7, 7, 0, 6, 1, 6, 8, 9, 1, 3, 2, 9, 2, 0, 5, 5, 7, 9, 3, 6, 0, 6,\n",
            "        9, 7, 7, 7, 6, 6, 7, 2, 4, 8, 2, 3, 2, 1, 1, 1, 5, 6, 2, 5, 2, 3, 1, 5,\n",
            "        4, 3, 3, 8, 6, 5, 4, 0, 8, 1, 4, 6, 7, 0, 3, 5, 9, 3, 5, 2, 9, 2, 1, 7,\n",
            "        3, 6, 6, 8, 6, 1, 8, 4])\n",
            "<class 'torch.Tensor'> torch.Size([128, 1, 28, 28]) tensor([1, 8, 8, 9, 6, 1, 7, 1, 8, 2, 9, 1, 3, 0, 3, 2, 0, 5, 7, 0, 8, 3, 6, 2,\n",
            "        3, 6, 6, 5, 2, 7, 5, 4, 2, 2, 0, 0, 3, 3, 4, 0, 8, 7, 7, 6, 4, 0, 3, 8,\n",
            "        4, 9, 7, 7, 1, 5, 1, 5, 5, 4, 8, 0, 9, 0, 5, 6, 6, 0, 3, 2, 7, 8, 9, 2,\n",
            "        7, 8, 4, 1, 1, 7, 2, 4, 8, 5, 4, 6, 8, 3, 7, 5, 0, 0, 6, 2, 4, 1, 5, 8,\n",
            "        4, 9, 6, 0, 6, 4, 6, 0, 3, 4, 1, 7, 0, 9, 6, 9, 1, 2, 4, 4, 4, 2, 2, 3,\n",
            "        2, 3, 5, 1, 3, 5, 5, 3])\n",
            "<class 'torch.Tensor'> torch.Size([128, 1, 28, 28]) tensor([4, 4, 4, 5, 2, 8, 8, 7, 3, 1, 5, 8, 8, 1, 6, 7, 3, 2, 2, 7, 1, 9, 0, 5,\n",
            "        0, 0, 2, 3, 9, 3, 9, 6, 0, 4, 9, 5, 4, 6, 0, 2, 4, 1, 0, 9, 0, 2, 1, 9,\n",
            "        7, 0, 3, 4, 5, 4, 2, 8, 2, 2, 0, 7, 8, 3, 8, 3, 5, 0, 3, 9, 5, 0, 7, 7,\n",
            "        5, 6, 3, 4, 5, 3, 8, 7, 9, 8, 2, 4, 3, 6, 2, 3, 5, 9, 3, 7, 7, 7, 6, 4,\n",
            "        1, 0, 0, 9, 4, 9, 8, 7, 1, 9, 7, 9, 0, 9, 4, 0, 0, 6, 2, 9, 5, 1, 1, 7,\n",
            "        0, 4, 6, 4, 8, 8, 0, 1])\n",
            "<class 'torch.Tensor'> torch.Size([128, 1, 28, 28]) tensor([4, 1, 9, 6, 9, 8, 2, 5, 6, 8, 4, 1, 4, 2, 9, 9, 0, 9, 7, 1, 3, 0, 3, 9,\n",
            "        2, 0, 3, 5, 8, 7, 5, 9, 4, 8, 8, 8, 1, 6, 0, 9, 2, 4, 8, 5, 1, 7, 5, 3,\n",
            "        4, 5, 4, 8, 3, 1, 5, 4, 9, 0, 7, 5, 7, 3, 8, 8, 0, 0, 4, 2, 2, 9, 0, 5,\n",
            "        9, 8, 9, 5, 5, 2, 8, 9, 8, 3, 5, 9, 7, 6, 3, 6, 4, 9, 3, 3, 0, 9, 4, 2,\n",
            "        6, 1, 7, 8, 2, 7, 3, 4, 7, 7, 7, 0, 3, 7, 6, 4, 0, 9, 2, 3, 7, 3, 8, 0,\n",
            "        2, 0, 1, 8, 4, 6, 6, 2])\n",
            "<class 'torch.Tensor'> torch.Size([128, 1, 28, 28]) tensor([5, 1, 1, 4, 1, 0, 2, 2, 2, 4, 0, 9, 9, 2, 2, 0, 9, 0, 7, 5, 4, 7, 4, 6,\n",
            "        8, 5, 5, 7, 2, 6, 7, 0, 4, 8, 3, 6, 8, 9, 4, 1, 0, 5, 5, 5, 3, 9, 9, 1,\n",
            "        2, 6, 0, 1, 1, 9, 7, 0, 6, 2, 2, 2, 3, 9, 9, 6, 9, 1, 1, 9, 1, 4, 6, 8,\n",
            "        8, 7, 4, 6, 9, 0, 3, 2, 1, 2, 5, 1, 2, 9, 2, 9, 7, 0, 7, 5, 7, 3, 6, 6,\n",
            "        5, 8, 0, 9, 6, 6, 8, 0, 7, 3, 7, 7, 6, 0, 9, 1, 5, 1, 3, 6, 7, 2, 9, 4,\n",
            "        8, 0, 6, 9, 9, 4, 8, 9])\n",
            "<class 'torch.Tensor'> torch.Size([128, 1, 28, 28]) tensor([1, 2, 7, 1, 4, 2, 0, 8, 5, 9, 7, 8, 3, 3, 6, 9, 5, 0, 4, 9, 9, 3, 8, 0,\n",
            "        3, 8, 7, 0, 3, 5, 1, 2, 8, 1, 3, 1, 6, 0, 7, 6, 8, 5, 7, 6, 4, 7, 4, 6,\n",
            "        5, 0, 1, 8, 4, 0, 6, 2, 2, 1, 7, 9, 1, 7, 8, 0, 5, 9, 5, 3, 3, 0, 3, 0,\n",
            "        0, 6, 1, 8, 0, 1, 4, 0, 2, 4, 0, 8, 6, 3, 0, 6, 0, 0, 2, 9, 3, 2, 2, 3,\n",
            "        0, 6, 4, 2, 5, 6, 2, 2, 1, 9, 0, 1, 2, 9, 7, 1, 1, 8, 8, 8, 0, 3, 8, 0,\n",
            "        2, 2, 5, 2, 5, 2, 3, 9])\n",
            "<class 'torch.Tensor'> torch.Size([128, 1, 28, 28]) tensor([1, 4, 9, 5, 6, 2, 9, 9, 5, 1, 2, 4, 4, 4, 9, 1, 7, 0, 8, 5, 0, 8, 3, 5,\n",
            "        6, 2, 7, 1, 3, 2, 0, 7, 1, 5, 1, 4, 1, 2, 4, 9, 8, 0, 6, 3, 9, 6, 2, 4,\n",
            "        2, 4, 7, 3, 6, 6, 4, 4, 2, 9, 1, 3, 5, 9, 7, 7, 7, 8, 1, 8, 0, 8, 5, 4,\n",
            "        1, 4, 5, 3, 8, 7, 0, 2, 8, 8, 9, 6, 6, 1, 0, 5, 1, 4, 7, 1, 5, 6, 2, 4,\n",
            "        9, 0, 3, 3, 2, 3, 2, 4, 0, 3, 3, 4, 7, 4, 1, 6, 6, 4, 6, 7, 7, 8, 1, 8,\n",
            "        4, 7, 7, 8, 7, 4, 1, 7])\n",
            "<class 'torch.Tensor'> torch.Size([128, 1, 28, 28]) tensor([3, 9, 2, 0, 7, 2, 5, 7, 7, 5, 5, 8, 4, 5, 5, 1, 9, 3, 9, 6, 3, 2, 5, 3,\n",
            "        2, 8, 3, 4, 2, 4, 0, 6, 9, 4, 3, 1, 3, 2, 7, 9, 8, 8, 7, 7, 0, 2, 9, 7,\n",
            "        7, 5, 2, 1, 2, 5, 0, 4, 3, 7, 6, 4, 3, 0, 6, 5, 4, 3, 4, 9, 8, 9, 0, 9,\n",
            "        4, 1, 8, 1, 1, 6, 2, 7, 4, 3, 9, 0, 8, 7, 8, 4, 7, 1, 6, 8, 1, 8, 8, 3,\n",
            "        3, 0, 2, 7, 9, 0, 9, 1, 7, 9, 6, 8, 2, 3, 1, 2, 7, 1, 7, 9, 3, 0, 7, 5,\n",
            "        1, 6, 5, 0, 1, 1, 0, 4])\n",
            "<class 'torch.Tensor'> torch.Size([128, 1, 28, 28]) tensor([3, 3, 7, 9, 1, 5, 8, 2, 1, 9, 0, 5, 3, 7, 1, 2, 4, 3, 1, 9, 8, 2, 8, 6,\n",
            "        3, 0, 3, 2, 8, 5, 0, 7, 9, 7, 8, 5, 3, 7, 2, 2, 1, 1, 3, 2, 8, 3, 6, 1,\n",
            "        8, 0, 1, 5, 7, 6, 9, 1, 9, 3, 1, 2, 4, 4, 1, 8, 1, 6, 1, 6, 9, 2, 1, 2,\n",
            "        7, 6, 4, 8, 4, 0, 6, 1, 1, 1, 8, 0, 8, 8, 8, 3, 4, 0, 2, 0, 5, 1, 0, 3,\n",
            "        6, 1, 1, 8, 4, 0, 7, 5, 3, 4, 1, 8, 8, 6, 8, 0, 0, 8, 4, 6, 3, 3, 1, 6,\n",
            "        9, 1, 0, 9, 8, 3, 0, 5])\n",
            "<class 'torch.Tensor'> torch.Size([128, 1, 28, 28]) tensor([0, 3, 2, 7, 4, 8, 1, 8, 5, 0, 0, 0, 0, 0, 7, 0, 9, 9, 9, 7, 1, 7, 1, 8,\n",
            "        1, 1, 8, 9, 0, 2, 1, 4, 7, 3, 3, 0, 2, 3, 3, 8, 9, 5, 1, 1, 6, 8, 1, 7,\n",
            "        4, 2, 1, 9, 8, 8, 1, 0, 9, 8, 4, 7, 5, 2, 3, 4, 8, 7, 6, 3, 0, 9, 1, 5,\n",
            "        6, 3, 9, 9, 0, 2, 6, 8, 0, 0, 9, 8, 5, 6, 7, 1, 6, 1, 6, 5, 7, 1, 6, 0,\n",
            "        8, 6, 0, 9, 0, 6, 4, 7, 7, 1, 3, 3, 5, 1, 8, 9, 0, 8, 4, 0, 0, 9, 8, 8,\n",
            "        1, 9, 4, 1, 5, 5, 6, 0])\n",
            "<class 'torch.Tensor'> torch.Size([128, 1, 28, 28]) tensor([1, 8, 7, 1, 0, 6, 3, 4, 3, 1, 7, 5, 8, 7, 6, 3, 1, 1, 8, 4, 0, 0, 4, 5,\n",
            "        7, 7, 1, 3, 8, 6, 6, 0, 9, 1, 7, 6, 6, 4, 7, 8, 3, 3, 6, 8, 5, 8, 3, 7,\n",
            "        2, 4, 0, 1, 1, 6, 1, 2, 1, 3, 9, 5, 8, 6, 7, 2, 8, 6, 5, 9, 5, 9, 2, 3,\n",
            "        9, 1, 2, 7, 5, 5, 9, 4, 2, 5, 6, 5, 9, 5, 9, 8, 4, 7, 1, 2, 2, 3, 6, 4,\n",
            "        1, 9, 7, 4, 8, 1, 3, 5, 2, 7, 2, 7, 4, 2, 3, 5, 2, 7, 8, 3, 4, 2, 0, 6,\n",
            "        7, 4, 9, 6, 0, 4, 2, 3])\n",
            "<class 'torch.Tensor'> torch.Size([128, 1, 28, 28]) tensor([0, 0, 7, 5, 1, 3, 8, 7, 9, 7, 8, 4, 1, 9, 0, 7, 1, 8, 3, 8, 1, 5, 2, 6,\n",
            "        1, 0, 6, 3, 5, 4, 0, 2, 9, 3, 3, 5, 2, 1, 6, 3, 2, 5, 7, 1, 8, 1, 0, 2,\n",
            "        9, 4, 7, 9, 1, 4, 7, 4, 8, 2, 3, 0, 0, 5, 5, 8, 0, 4, 4, 2, 5, 4, 5, 6,\n",
            "        5, 4, 2, 7, 2, 9, 1, 9, 9, 1, 0, 6, 6, 8, 0, 6, 4, 7, 8, 2, 3, 4, 2, 5,\n",
            "        7, 4, 7, 5, 3, 1, 3, 6, 9, 4, 2, 0, 8, 5, 9, 8, 0, 4, 2, 4, 2, 0, 7, 3,\n",
            "        4, 3, 3, 6, 0, 4, 8, 2])\n",
            "<class 'torch.Tensor'> torch.Size([128, 1, 28, 28]) tensor([0, 5, 5, 8, 4, 5, 6, 6, 7, 2, 0, 8, 7, 5, 2, 3, 2, 3, 5, 6, 8, 5, 6, 3,\n",
            "        5, 5, 4, 0, 6, 1, 5, 0, 0, 3, 0, 6, 3, 5, 0, 9, 8, 8, 0, 2, 2, 5, 0, 2,\n",
            "        6, 4, 5, 4, 8, 6, 3, 2, 4, 0, 2, 3, 5, 3, 6, 7, 7, 4, 6, 6, 6, 7, 3, 8,\n",
            "        4, 2, 4, 1, 6, 8, 3, 8, 5, 3, 9, 6, 8, 3, 1, 9, 7, 9, 4, 8, 2, 8, 6, 6,\n",
            "        5, 9, 9, 1, 7, 1, 9, 6, 8, 1, 1, 7, 0, 1, 1, 2, 7, 7, 9, 4, 4, 7, 4, 9,\n",
            "        8, 5, 8, 5, 0, 6, 9, 4])\n",
            "<class 'torch.Tensor'> torch.Size([128, 1, 28, 28]) tensor([5, 2, 7, 4, 8, 4, 8, 3, 3, 7, 5, 0, 1, 3, 5, 4, 2, 9, 3, 5, 1, 5, 1, 9,\n",
            "        4, 4, 3, 6, 7, 1, 0, 6, 0, 1, 9, 6, 7, 9, 7, 4, 9, 6, 8, 1, 0, 3, 0, 1,\n",
            "        0, 3, 3, 0, 7, 6, 1, 8, 2, 8, 9, 7, 7, 6, 9, 0, 6, 5, 4, 5, 4, 9, 2, 9,\n",
            "        7, 1, 0, 3, 6, 9, 6, 9, 1, 7, 4, 6, 5, 9, 3, 2, 4, 6, 9, 8, 0, 9, 4, 4,\n",
            "        7, 4, 1, 0, 0, 0, 3, 8, 4, 2, 5, 0, 6, 6, 7, 0, 2, 0, 4, 5, 0, 9, 0, 8,\n",
            "        1, 8, 7, 7, 3, 0, 4, 0])\n",
            "<class 'torch.Tensor'> torch.Size([128, 1, 28, 28]) tensor([5, 2, 2, 4, 8, 7, 8, 7, 6, 7, 4, 5, 9, 6, 1, 7, 5, 2, 5, 2, 1, 1, 5, 8,\n",
            "        3, 0, 2, 4, 7, 4, 5, 2, 4, 4, 3, 8, 3, 7, 0, 1, 1, 4, 2, 2, 9, 7, 4, 8,\n",
            "        1, 1, 4, 3, 9, 5, 2, 6, 2, 9, 8, 7, 9, 5, 7, 3, 3, 3, 8, 1, 6, 9, 0, 5,\n",
            "        2, 5, 8, 3, 9, 3, 4, 0, 1, 8, 8, 1, 4, 7, 7, 3, 3, 5, 7, 0, 5, 2, 9, 9,\n",
            "        0, 6, 2, 9, 3, 3, 9, 7, 5, 9, 9, 4, 1, 2, 1, 6, 0, 1, 9, 7, 5, 5, 9, 7,\n",
            "        3, 5, 1, 4, 7, 2, 2, 0])\n",
            "<class 'torch.Tensor'> torch.Size([128, 1, 28, 28]) tensor([3, 0, 5, 6, 9, 7, 0, 7, 5, 0, 6, 0, 3, 7, 5, 9, 7, 9, 4, 9, 5, 5, 5, 1,\n",
            "        9, 1, 9, 2, 6, 5, 8, 8, 2, 3, 0, 2, 5, 8, 9, 7, 4, 4, 3, 6, 7, 3, 2, 2,\n",
            "        2, 7, 5, 4, 3, 5, 3, 7, 8, 6, 2, 1, 3, 1, 0, 3, 8, 8, 9, 7, 7, 4, 2, 8,\n",
            "        7, 4, 8, 0, 4, 1, 1, 6, 9, 7, 9, 7, 9, 5, 8, 7, 5, 7, 8, 9, 9, 6, 1, 0,\n",
            "        3, 9, 9, 0, 8, 7, 8, 3, 6, 7, 3, 7, 4, 5, 9, 6, 3, 7, 9, 8, 8, 9, 9, 2,\n",
            "        8, 9, 3, 7, 2, 3, 9, 9])\n",
            "<class 'torch.Tensor'> torch.Size([128, 1, 28, 28]) tensor([2, 2, 0, 2, 2, 7, 6, 3, 6, 5, 2, 8, 1, 3, 3, 1, 7, 0, 1, 1, 2, 5, 0, 2,\n",
            "        8, 7, 5, 2, 6, 3, 0, 2, 6, 8, 8, 2, 9, 5, 7, 2, 3, 9, 2, 4, 3, 9, 7, 5,\n",
            "        3, 9, 9, 5, 1, 0, 5, 3, 8, 7, 9, 3, 3, 8, 9, 6, 6, 0, 5, 1, 0, 1, 9, 2,\n",
            "        2, 6, 0, 9, 3, 4, 8, 1, 4, 6, 2, 2, 5, 4, 7, 0, 2, 0, 4, 7, 4, 2, 4, 7,\n",
            "        1, 9, 8, 8, 1, 1, 2, 5, 6, 8, 4, 9, 5, 4, 5, 2, 2, 0, 4, 4, 3, 7, 3, 3,\n",
            "        8, 7, 5, 2, 5, 0, 7, 0])\n",
            "<class 'torch.Tensor'> torch.Size([128, 1, 28, 28]) tensor([4, 0, 2, 9, 7, 0, 9, 8, 7, 1, 0, 6, 0, 6, 3, 9, 3, 1, 2, 8, 6, 4, 1, 4,\n",
            "        1, 3, 1, 5, 9, 1, 4, 2, 1, 7, 8, 9, 4, 9, 2, 2, 6, 3, 9, 7, 9, 1, 8, 1,\n",
            "        6, 1, 5, 0, 7, 2, 5, 5, 1, 6, 6, 5, 7, 5, 4, 3, 8, 0, 5, 7, 5, 1, 9, 6,\n",
            "        4, 3, 9, 6, 9, 6, 4, 9, 5, 5, 7, 4, 0, 4, 7, 3, 1, 1, 4, 6, 6, 7, 1, 7,\n",
            "        8, 6, 6, 0, 3, 0, 9, 7, 1, 2, 5, 7, 1, 7, 9, 3, 1, 7, 6, 6, 6, 7, 2, 5,\n",
            "        2, 2, 7, 4, 8, 1, 6, 5])\n",
            "<class 'torch.Tensor'> torch.Size([128, 1, 28, 28]) tensor([9, 0, 0, 9, 0, 3, 3, 3, 2, 1, 2, 1, 2, 2, 3, 5, 4, 7, 0, 7, 7, 0, 6, 5,\n",
            "        7, 2, 0, 3, 4, 5, 8, 2, 1, 2, 6, 1, 2, 8, 8, 9, 1, 7, 6, 0, 1, 1, 9, 4,\n",
            "        4, 9, 6, 7, 1, 4, 0, 0, 2, 9, 1, 6, 8, 9, 7, 2, 2, 3, 0, 2, 3, 2, 6, 9,\n",
            "        4, 7, 8, 0, 0, 0, 7, 1, 8, 2, 5, 8, 1, 1, 5, 5, 8, 9, 3, 1, 0, 9, 1, 5,\n",
            "        1, 7, 5, 5, 2, 2, 1, 5, 9, 5, 4, 1, 1, 1, 9, 5, 0, 2, 0, 4, 1, 6, 1, 3,\n",
            "        3, 0, 8, 8, 0, 9, 0, 9])\n",
            "<class 'torch.Tensor'> torch.Size([128, 1, 28, 28]) tensor([3, 8, 0, 0, 8, 9, 9, 2, 7, 1, 9, 8, 7, 0, 5, 4, 6, 9, 5, 5, 8, 5, 7, 2,\n",
            "        2, 3, 7, 3, 2, 8, 1, 8, 6, 5, 2, 5, 1, 0, 1, 5, 8, 4, 1, 6, 4, 9, 6, 0,\n",
            "        1, 9, 2, 0, 5, 9, 0, 7, 5, 2, 3, 5, 9, 0, 2, 6, 2, 6, 1, 0, 5, 2, 1, 4,\n",
            "        8, 9, 9, 3, 4, 0, 5, 4, 4, 9, 5, 6, 7, 5, 4, 7, 4, 3, 8, 1, 4, 2, 6, 8,\n",
            "        3, 7, 3, 7, 8, 8, 0, 3, 3, 7, 0, 6, 2, 8, 7, 9, 4, 7, 2, 4, 3, 5, 0, 3,\n",
            "        7, 1, 2, 3, 9, 1, 0, 3])\n",
            "<class 'torch.Tensor'> torch.Size([128, 1, 28, 28]) tensor([6, 3, 7, 6, 5, 1, 6, 2, 5, 8, 9, 3, 2, 4, 8, 2, 6, 2, 1, 7, 5, 3, 3, 3,\n",
            "        2, 5, 6, 7, 1, 4, 6, 8, 9, 2, 1, 2, 4, 4, 1, 3, 8, 0, 7, 7, 3, 4, 5, 8,\n",
            "        1, 4, 7, 3, 1, 2, 1, 8, 4, 7, 0, 6, 2, 9, 1, 4, 1, 8, 1, 9, 0, 2, 7, 1,\n",
            "        6, 8, 9, 7, 1, 9, 4, 8, 3, 7, 7, 4, 5, 5, 8, 4, 1, 1, 7, 7, 1, 9, 4, 9,\n",
            "        4, 1, 9, 7, 9, 0, 5, 2, 5, 2, 2, 9, 8, 3, 8, 2, 8, 3, 4, 7, 9, 8, 3, 7,\n",
            "        8, 1, 3, 6, 0, 4, 9, 1])\n",
            "<class 'torch.Tensor'> torch.Size([128, 1, 28, 28]) tensor([8, 3, 6, 8, 4, 5, 3, 2, 3, 8, 7, 6, 7, 0, 0, 2, 1, 0, 2, 8, 3, 8, 9, 7,\n",
            "        7, 0, 7, 4, 1, 8, 8, 7, 9, 8, 3, 4, 0, 2, 9, 6, 8, 2, 4, 7, 4, 4, 1, 1,\n",
            "        9, 6, 3, 1, 8, 3, 9, 6, 4, 1, 7, 9, 4, 0, 7, 5, 1, 8, 2, 8, 9, 4, 3, 0,\n",
            "        4, 3, 1, 8, 8, 8, 8, 1, 4, 6, 7, 2, 2, 8, 8, 1, 8, 5, 5, 9, 4, 3, 4, 4,\n",
            "        2, 8, 2, 3, 4, 1, 7, 7, 1, 3, 9, 1, 3, 4, 2, 4, 9, 4, 5, 1, 1, 5, 3, 4,\n",
            "        3, 4, 0, 2, 1, 3, 0, 7])\n",
            "<class 'torch.Tensor'> torch.Size([128, 1, 28, 28]) tensor([7, 1, 7, 9, 3, 0, 8, 4, 2, 8, 7, 4, 6, 1, 3, 6, 3, 7, 8, 7, 0, 9, 1, 0,\n",
            "        3, 2, 3, 7, 6, 3, 4, 8, 5, 3, 7, 4, 6, 7, 3, 7, 8, 6, 6, 8, 8, 3, 5, 5,\n",
            "        7, 5, 6, 4, 0, 7, 5, 3, 9, 2, 3, 2, 3, 5, 0, 8, 4, 6, 6, 2, 3, 7, 7, 7,\n",
            "        7, 3, 1, 0, 5, 4, 8, 8, 7, 8, 9, 4, 0, 0, 3, 5, 3, 7, 0, 0, 0, 9, 4, 6,\n",
            "        0, 8, 9, 3, 5, 7, 7, 7, 5, 7, 9, 9, 5, 8, 9, 1, 3, 3, 4, 1, 8, 5, 4, 8,\n",
            "        2, 6, 5, 0, 9, 4, 2, 4])\n",
            "<class 'torch.Tensor'> torch.Size([128, 1, 28, 28]) tensor([3, 1, 4, 6, 1, 2, 0, 7, 1, 0, 7, 7, 1, 7, 1, 6, 7, 9, 6, 3, 0, 8, 8, 0,\n",
            "        2, 4, 4, 5, 6, 9, 0, 9, 2, 1, 8, 4, 0, 6, 8, 7, 6, 7, 4, 5, 9, 4, 3, 7,\n",
            "        3, 4, 5, 3, 1, 7, 2, 1, 8, 1, 0, 1, 4, 1, 2, 9, 6, 1, 1, 7, 2, 0, 8, 8,\n",
            "        7, 4, 9, 6, 4, 3, 3, 2, 6, 8, 1, 5, 2, 2, 9, 5, 6, 7, 1, 3, 8, 9, 5, 1,\n",
            "        9, 2, 0, 3, 3, 6, 6, 1, 6, 6, 5, 7, 9, 5, 2, 0, 6, 0, 0, 3, 5, 0, 4, 8,\n",
            "        4, 6, 4, 9, 1, 4, 7, 4])\n",
            "<class 'torch.Tensor'> torch.Size([128, 1, 28, 28]) tensor([4, 9, 4, 7, 6, 4, 2, 1, 6, 9, 9, 5, 4, 9, 6, 6, 5, 5, 2, 5, 0, 9, 0, 5,\n",
            "        1, 6, 9, 5, 3, 3, 8, 4, 6, 5, 2, 6, 6, 7, 5, 6, 3, 2, 2, 0, 8, 5, 1, 2,\n",
            "        6, 0, 4, 6, 7, 2, 5, 0, 7, 0, 1, 1, 8, 4, 5, 7, 2, 5, 9, 9, 9, 1, 7, 7,\n",
            "        5, 7, 3, 2, 5, 0, 3, 5, 8, 1, 5, 7, 4, 7, 5, 9, 2, 8, 6, 3, 6, 0, 5, 8,\n",
            "        2, 0, 6, 2, 0, 4, 2, 7, 9, 9, 7, 1, 6, 0, 7, 7, 3, 8, 0, 7, 5, 6, 6, 0,\n",
            "        8, 6, 6, 3, 3, 6, 4, 7])\n",
            "<class 'torch.Tensor'> torch.Size([128, 1, 28, 28]) tensor([9, 3, 5, 6, 3, 5, 9, 5, 2, 0, 7, 6, 0, 9, 3, 7, 5, 2, 6, 8, 4, 9, 5, 7,\n",
            "        9, 2, 7, 2, 2, 0, 5, 5, 3, 4, 8, 8, 5, 2, 8, 6, 1, 0, 7, 1, 7, 7, 5, 7,\n",
            "        9, 0, 6, 2, 4, 3, 4, 1, 1, 2, 1, 5, 7, 7, 8, 3, 0, 1, 3, 6, 2, 4, 2, 7,\n",
            "        9, 3, 5, 8, 6, 0, 1, 9, 0, 2, 6, 5, 0, 1, 0, 1, 9, 0, 1, 1, 3, 8, 1, 6,\n",
            "        0, 6, 6, 1, 3, 5, 9, 3, 4, 0, 0, 0, 3, 1, 1, 8, 3, 6, 0, 4, 2, 7, 2, 0,\n",
            "        8, 6, 3, 6, 2, 6, 1, 7])\n",
            "<class 'torch.Tensor'> torch.Size([128, 1, 28, 28]) tensor([0, 7, 6, 5, 2, 7, 8, 3, 9, 4, 8, 0, 0, 8, 3, 0, 3, 3, 3, 5, 5, 1, 7, 8,\n",
            "        1, 5, 8, 5, 1, 1, 8, 6, 3, 2, 4, 6, 9, 7, 1, 6, 4, 6, 7, 3, 2, 8, 0, 0,\n",
            "        9, 1, 5, 9, 8, 2, 3, 5, 2, 8, 9, 7, 5, 7, 2, 4, 6, 4, 5, 1, 6, 3, 9, 8,\n",
            "        0, 1, 7, 1, 7, 5, 5, 1, 5, 5, 7, 1, 0, 5, 1, 3, 4, 1, 7, 9, 3, 8, 5, 7,\n",
            "        9, 1, 1, 4, 1, 5, 6, 3, 4, 7, 2, 6, 9, 5, 4, 9, 3, 2, 9, 2, 6, 9, 5, 8,\n",
            "        3, 7, 8, 5, 8, 2, 6, 6])\n",
            "<class 'torch.Tensor'> torch.Size([128, 1, 28, 28]) tensor([5, 5, 0, 3, 7, 8, 0, 5, 3, 7, 6, 6, 9, 3, 3, 6, 2, 5, 2, 1, 4, 9, 1, 7,\n",
            "        9, 7, 0, 0, 8, 6, 5, 2, 5, 2, 9, 6, 8, 6, 0, 7, 2, 5, 7, 0, 1, 1, 3, 6,\n",
            "        3, 2, 8, 0, 4, 3, 3, 5, 9, 8, 8, 5, 4, 6, 6, 7, 1, 9, 1, 7, 5, 0, 9, 8,\n",
            "        7, 6, 4, 2, 0, 0, 2, 1, 8, 6, 8, 7, 5, 3, 3, 1, 8, 4, 5, 8, 8, 8, 1, 0,\n",
            "        5, 5, 3, 3, 4, 2, 1, 0, 0, 2, 6, 0, 7, 2, 2, 3, 7, 1, 8, 3, 9, 7, 6, 3,\n",
            "        9, 6, 0, 8, 9, 4, 1, 4])\n",
            "<class 'torch.Tensor'> torch.Size([128, 1, 28, 28]) tensor([0, 3, 8, 9, 5, 1, 9, 4, 7, 2, 4, 0, 5, 1, 0, 9, 6, 3, 9, 0, 8, 6, 1, 3,\n",
            "        2, 1, 3, 7, 1, 0, 7, 0, 3, 0, 9, 4, 7, 4, 7, 4, 8, 1, 0, 0, 6, 1, 8, 9,\n",
            "        0, 8, 1, 3, 2, 4, 1, 9, 8, 1, 4, 4, 9, 2, 3, 8, 4, 0, 4, 1, 7, 5, 6, 8,\n",
            "        4, 0, 2, 2, 4, 2, 8, 0, 2, 3, 7, 7, 6, 0, 5, 2, 5, 0, 8, 3, 9, 0, 6, 6,\n",
            "        8, 8, 8, 0, 4, 3, 1, 9, 3, 1, 3, 2, 6, 4, 6, 6, 4, 7, 1, 1, 4, 0, 6, 0,\n",
            "        7, 0, 4, 8, 4, 8, 7, 0])\n",
            "<class 'torch.Tensor'> torch.Size([128, 1, 28, 28]) tensor([8, 7, 7, 2, 5, 6, 1, 2, 3, 4, 7, 7, 5, 5, 9, 7, 9, 3, 4, 4, 0, 7, 0, 4,\n",
            "        6, 0, 9, 4, 4, 0, 2, 2, 5, 9, 9, 3, 6, 0, 3, 3, 7, 5, 9, 1, 1, 4, 7, 0,\n",
            "        9, 6, 9, 7, 6, 3, 4, 8, 3, 1, 6, 0, 2, 9, 5, 4, 6, 8, 9, 0, 4, 4, 0, 1,\n",
            "        5, 3, 9, 8, 3, 9, 7, 9, 2, 8, 4, 9, 3, 6, 2, 7, 3, 6, 2, 7, 3, 9, 1, 6,\n",
            "        6, 4, 6, 7, 1, 9, 2, 8, 9, 3, 4, 0, 3, 0, 2, 0, 6, 0, 6, 7, 0, 2, 0, 8,\n",
            "        4, 6, 1, 3, 3, 4, 5, 5])\n",
            "<class 'torch.Tensor'> torch.Size([128, 1, 28, 28]) tensor([4, 9, 4, 2, 8, 9, 3, 0, 8, 2, 4, 1, 0, 0, 8, 2, 3, 3, 0, 4, 9, 5, 7, 0,\n",
            "        8, 7, 9, 3, 8, 1, 9, 1, 9, 1, 0, 1, 8, 6, 3, 4, 4, 1, 2, 0, 8, 8, 2, 3,\n",
            "        3, 3, 5, 1, 9, 4, 2, 8, 8, 9, 3, 1, 4, 6, 3, 3, 4, 0, 5, 1, 0, 5, 2, 7,\n",
            "        0, 6, 1, 3, 8, 8, 5, 9, 9, 9, 6, 0, 6, 0, 1, 7, 0, 1, 5, 6, 1, 2, 9, 1,\n",
            "        3, 7, 8, 6, 3, 0, 7, 8, 6, 6, 1, 4, 3, 5, 0, 9, 4, 7, 8, 8, 0, 5, 9, 1,\n",
            "        3, 6, 5, 7, 3, 4, 0, 0])\n",
            "<class 'torch.Tensor'> torch.Size([128, 1, 28, 28]) tensor([1, 5, 0, 3, 1, 9, 6, 8, 4, 7, 6, 5, 4, 7, 4, 8, 7, 0, 9, 7, 8, 5, 8, 4,\n",
            "        7, 0, 6, 5, 8, 4, 3, 5, 4, 7, 7, 1, 3, 4, 9, 4, 1, 7, 2, 9, 0, 0, 6, 2,\n",
            "        1, 2, 2, 5, 7, 2, 6, 9, 2, 3, 3, 6, 8, 5, 2, 4, 4, 2, 4, 4, 0, 2, 3, 3,\n",
            "        9, 1, 5, 1, 1, 4, 2, 1, 5, 3, 6, 7, 6, 6, 2, 7, 9, 8, 7, 7, 7, 3, 7, 4,\n",
            "        6, 4, 6, 9, 8, 0, 7, 3, 1, 4, 8, 7, 0, 1, 0, 7, 0, 0, 6, 0, 9, 7, 0, 8,\n",
            "        7, 8, 1, 1, 4, 9, 7, 4])\n",
            "<class 'torch.Tensor'> torch.Size([128, 1, 28, 28]) tensor([7, 1, 7, 8, 5, 6, 3, 1, 3, 2, 0, 3, 8, 4, 5, 3, 9, 2, 9, 6, 6, 9, 7, 6,\n",
            "        6, 2, 6, 5, 4, 0, 1, 9, 7, 5, 1, 1, 8, 3, 3, 5, 9, 7, 1, 9, 7, 5, 3, 7,\n",
            "        1, 5, 5, 6, 3, 0, 2, 6, 1, 6, 9, 9, 3, 9, 8, 6, 9, 0, 1, 6, 5, 1, 3, 8,\n",
            "        5, 4, 9, 6, 3, 2, 7, 0, 0, 0, 8, 5, 4, 2, 9, 3, 8, 2, 9, 1, 2, 7, 0, 5,\n",
            "        0, 3, 7, 2, 7, 1, 1, 4, 1, 4, 1, 0, 4, 9, 0, 2, 2, 8, 7, 9, 4, 7, 4, 8,\n",
            "        5, 6, 9, 7, 5, 8, 2, 3])\n",
            "<class 'torch.Tensor'> torch.Size([128, 1, 28, 28]) tensor([7, 1, 8, 8, 3, 2, 3, 9, 0, 2, 6, 6, 9, 2, 0, 4, 5, 6, 7, 7, 4, 2, 0, 2,\n",
            "        0, 8, 3, 9, 3, 8, 0, 1, 6, 5, 2, 6, 3, 6, 0, 3, 5, 9, 7, 3, 6, 1, 0, 5,\n",
            "        8, 7, 2, 1, 9, 4, 5, 0, 5, 3, 8, 1, 5, 3, 6, 0, 1, 7, 5, 9, 1, 6, 1, 3,\n",
            "        8, 3, 1, 0, 5, 0, 7, 6, 5, 9, 8, 3, 2, 7, 0, 7, 7, 2, 0, 5, 8, 6, 7, 5,\n",
            "        1, 1, 3, 6, 5, 7, 4, 9, 7, 8, 0, 1, 9, 9, 1, 5, 2, 6, 1, 2, 8, 7, 8, 2,\n",
            "        6, 6, 1, 4, 4, 7, 1, 3])\n",
            "<class 'torch.Tensor'> torch.Size([128, 1, 28, 28]) tensor([2, 9, 9, 1, 4, 8, 6, 9, 4, 2, 2, 3, 9, 0, 0, 1, 2, 3, 6, 5, 6, 6, 1, 2,\n",
            "        0, 7, 4, 2, 8, 3, 3, 8, 7, 4, 8, 5, 3, 3, 5, 6, 1, 0, 8, 0, 1, 3, 0, 9,\n",
            "        1, 1, 9, 3, 0, 9, 5, 0, 2, 9, 9, 8, 2, 8, 6, 4, 7, 4, 7, 0, 9, 1, 6, 7,\n",
            "        9, 8, 7, 9, 4, 7, 8, 2, 3, 4, 4, 3, 3, 1, 1, 2, 0, 0, 4, 2, 1, 9, 0, 3,\n",
            "        5, 8, 0, 0, 9, 2, 3, 9, 2, 9, 1, 3, 5, 1, 7, 6, 4, 3, 5, 1, 5, 5, 1, 3,\n",
            "        9, 4, 1, 9, 3, 5, 3, 5])\n",
            "<class 'torch.Tensor'> torch.Size([128, 1, 28, 28]) tensor([2, 2, 0, 7, 8, 2, 1, 0, 5, 5, 9, 4, 5, 3, 7, 3, 5, 4, 7, 7, 3, 2, 6, 0,\n",
            "        9, 0, 6, 1, 9, 8, 9, 0, 6, 3, 5, 6, 1, 3, 0, 2, 3, 6, 7, 6, 5, 8, 0, 1,\n",
            "        0, 2, 1, 1, 2, 2, 5, 3, 5, 1, 8, 8, 6, 9, 7, 3, 0, 8, 3, 4, 9, 0, 4, 7,\n",
            "        8, 9, 3, 0, 8, 9, 2, 9, 5, 0, 0, 9, 2, 9, 7, 9, 0, 4, 1, 6, 9, 7, 6, 7,\n",
            "        9, 8, 0, 4, 1, 6, 1, 6, 7, 1, 7, 0, 9, 2, 8, 6, 6, 8, 6, 2, 0, 3, 7, 4,\n",
            "        1, 0, 4, 3, 9, 7, 4, 7])\n",
            "<class 'torch.Tensor'> torch.Size([128, 1, 28, 28]) tensor([2, 0, 6, 6, 3, 0, 6, 7, 0, 0, 4, 1, 0, 3, 6, 3, 1, 8, 2, 3, 4, 5, 0, 0,\n",
            "        7, 5, 5, 9, 6, 8, 7, 1, 7, 3, 5, 2, 6, 1, 6, 7, 3, 2, 7, 9, 4, 0, 5, 9,\n",
            "        1, 2, 0, 6, 4, 6, 8, 0, 0, 8, 2, 1, 2, 4, 9, 5, 9, 1, 6, 6, 5, 9, 2, 2,\n",
            "        5, 7, 5, 7, 6, 5, 0, 2, 4, 2, 2, 3, 9, 7, 6, 0, 2, 9, 5, 7, 4, 8, 7, 6,\n",
            "        3, 4, 6, 6, 3, 6, 0, 8, 7, 2, 9, 6, 0, 3, 8, 1, 2, 7, 3, 2, 4, 6, 7, 0,\n",
            "        8, 3, 0, 4, 6, 8, 5, 1])\n",
            "<class 'torch.Tensor'> torch.Size([128, 1, 28, 28]) tensor([0, 3, 0, 1, 6, 8, 0, 9, 0, 7, 4, 6, 1, 8, 7, 2, 8, 6, 4, 7, 5, 7, 3, 1,\n",
            "        9, 4, 0, 6, 6, 7, 1, 1, 6, 5, 6, 4, 7, 1, 7, 9, 3, 6, 0, 3, 3, 3, 0, 1,\n",
            "        8, 1, 1, 6, 5, 4, 4, 2, 4, 5, 8, 0, 6, 2, 8, 5, 2, 7, 9, 7, 0, 0, 1, 1,\n",
            "        2, 6, 8, 3, 9, 8, 4, 6, 1, 3, 5, 7, 1, 8, 7, 3, 7, 2, 4, 1, 2, 1, 9, 3,\n",
            "        6, 1, 5, 4, 1, 7, 3, 9, 8, 3, 2, 6, 0, 3, 8, 1, 1, 7, 6, 9, 4, 3, 4, 0,\n",
            "        5, 4, 8, 8, 7, 8, 8, 0])\n",
            "<class 'torch.Tensor'> torch.Size([128, 1, 28, 28]) tensor([2, 9, 0, 1, 0, 2, 8, 8, 1, 7, 6, 3, 9, 1, 3, 2, 8, 0, 6, 9, 6, 2, 7, 1,\n",
            "        5, 8, 6, 0, 6, 8, 0, 6, 3, 1, 4, 9, 4, 1, 2, 5, 3, 3, 8, 4, 1, 3, 9, 4,\n",
            "        6, 1, 9, 2, 0, 1, 3, 7, 5, 8, 5, 8, 4, 1, 2, 0, 3, 2, 6, 8, 6, 3, 9, 3,\n",
            "        6, 1, 1, 5, 1, 8, 2, 7, 4, 0, 2, 8, 2, 2, 7, 3, 0, 2, 1, 6, 1, 7, 4, 4,\n",
            "        7, 9, 8, 9, 2, 6, 9, 7, 3, 9, 5, 6, 3, 2, 1, 3, 5, 0, 8, 5, 7, 8, 2, 8,\n",
            "        5, 6, 7, 5, 7, 3, 6, 9])\n",
            "<class 'torch.Tensor'> torch.Size([128, 1, 28, 28]) tensor([7, 5, 2, 1, 3, 7, 3, 4, 1, 3, 5, 5, 6, 2, 3, 3, 4, 3, 1, 1, 5, 3, 0, 4,\n",
            "        5, 5, 3, 3, 8, 3, 8, 8, 6, 9, 1, 9, 1, 0, 6, 5, 1, 7, 8, 4, 3, 4, 3, 0,\n",
            "        4, 7, 5, 9, 3, 6, 1, 1, 3, 0, 6, 4, 9, 7, 5, 1, 7, 9, 8, 1, 4, 3, 7, 8,\n",
            "        6, 5, 9, 8, 1, 0, 8, 2, 9, 9, 4, 3, 7, 8, 4, 6, 0, 5, 5, 5, 1, 1, 3, 6,\n",
            "        5, 3, 8, 1, 7, 5, 4, 3, 1, 3, 2, 0, 2, 9, 6, 5, 2, 7, 7, 2, 1, 4, 6, 2,\n",
            "        7, 9, 8, 7, 4, 3, 8, 9])\n",
            "<class 'torch.Tensor'> torch.Size([128, 1, 28, 28]) tensor([6, 6, 7, 8, 7, 0, 0, 7, 2, 7, 3, 4, 0, 1, 7, 8, 3, 1, 3, 7, 9, 2, 7, 8,\n",
            "        1, 7, 4, 1, 8, 6, 8, 3, 9, 7, 0, 6, 8, 6, 4, 4, 4, 4, 4, 7, 3, 6, 3, 2,\n",
            "        3, 9, 7, 9, 6, 7, 4, 6, 8, 7, 3, 9, 7, 3, 0, 5, 3, 4, 1, 2, 7, 9, 1, 3,\n",
            "        7, 6, 5, 4, 6, 6, 5, 7, 4, 8, 1, 1, 7, 4, 3, 3, 8, 4, 2, 6, 9, 2, 7, 0,\n",
            "        7, 2, 3, 0, 7, 5, 7, 7, 1, 0, 9, 9, 0, 8, 7, 1, 2, 3, 1, 7, 1, 0, 8, 1,\n",
            "        6, 1, 1, 8, 3, 3, 7, 2])\n",
            "<class 'torch.Tensor'> torch.Size([128, 1, 28, 28]) tensor([2, 1, 2, 5, 9, 1, 5, 7, 8, 7, 9, 3, 6, 9, 7, 9, 1, 8, 8, 1, 6, 4, 0, 4,\n",
            "        6, 7, 2, 1, 7, 7, 9, 2, 5, 4, 7, 6, 8, 1, 0, 4, 5, 2, 6, 7, 2, 9, 2, 6,\n",
            "        6, 2, 2, 2, 3, 6, 1, 4, 0, 1, 5, 2, 5, 1, 5, 2, 9, 5, 3, 4, 9, 5, 2, 7,\n",
            "        0, 8, 8, 1, 0, 3, 0, 1, 9, 2, 5, 7, 6, 7, 1, 4, 3, 7, 6, 0, 4, 6, 7, 7,\n",
            "        6, 5, 3, 5, 5, 5, 8, 5, 1, 7, 5, 4, 6, 0, 3, 2, 7, 3, 6, 0, 1, 2, 0, 2,\n",
            "        1, 5, 5, 1, 8, 3, 5, 3])\n",
            "<class 'torch.Tensor'> torch.Size([128, 1, 28, 28]) tensor([9, 1, 3, 9, 2, 4, 9, 6, 8, 8, 3, 2, 1, 4, 1, 6, 1, 2, 3, 0, 9, 3, 0, 7,\n",
            "        9, 0, 4, 5, 6, 0, 0, 2, 1, 2, 7, 7, 6, 5, 2, 2, 5, 9, 2, 0, 9, 3, 5, 4,\n",
            "        4, 7, 5, 8, 0, 8, 1, 4, 1, 6, 9, 6, 2, 1, 1, 9, 0, 3, 4, 3, 4, 7, 8, 0,\n",
            "        7, 8, 5, 6, 8, 1, 7, 9, 1, 7, 4, 7, 6, 5, 2, 1, 3, 9, 4, 4, 7, 2, 9, 0,\n",
            "        2, 8, 9, 6, 3, 3, 7, 4, 0, 2, 7, 9, 1, 8, 7, 0, 9, 2, 7, 1, 5, 4, 4, 1,\n",
            "        5, 3, 1, 2, 3, 0, 6, 3])\n",
            "<class 'torch.Tensor'> torch.Size([128, 1, 28, 28]) tensor([5, 3, 4, 3, 7, 6, 1, 4, 1, 0, 4, 1, 6, 9, 8, 7, 7, 1, 0, 6, 5, 3, 8, 7,\n",
            "        5, 9, 3, 7, 9, 9, 3, 8, 5, 4, 7, 2, 2, 0, 1, 0, 0, 3, 8, 9, 2, 7, 3, 7,\n",
            "        3, 0, 5, 6, 6, 6, 1, 1, 5, 2, 7, 8, 0, 0, 4, 6, 7, 2, 9, 5, 9, 8, 2, 0,\n",
            "        2, 7, 7, 7, 7, 2, 5, 5, 5, 4, 3, 1, 4, 4, 8, 4, 4, 5, 6, 6, 9, 3, 0, 2,\n",
            "        7, 1, 7, 7, 9, 7, 5, 2, 7, 8, 0, 1, 6, 9, 9, 8, 2, 3, 8, 0, 5, 2, 5, 5,\n",
            "        4, 4, 2, 3, 4, 9, 0, 6])\n",
            "<class 'torch.Tensor'> torch.Size([128, 1, 28, 28]) tensor([1, 9, 7, 6, 7, 0, 3, 6, 3, 7, 7, 0, 3, 4, 8, 6, 7, 3, 5, 7, 3, 2, 0, 3,\n",
            "        1, 5, 5, 5, 5, 8, 5, 3, 9, 7, 4, 4, 7, 8, 6, 2, 2, 1, 7, 6, 3, 6, 6, 5,\n",
            "        5, 3, 0, 4, 2, 3, 2, 2, 4, 7, 6, 3, 8, 1, 7, 2, 1, 8, 0, 5, 4, 1, 0, 4,\n",
            "        3, 7, 1, 8, 8, 8, 8, 9, 3, 4, 4, 5, 9, 7, 4, 6, 2, 6, 7, 6, 6, 5, 2, 5,\n",
            "        6, 3, 3, 2, 0, 8, 0, 0, 3, 1, 6, 3, 9, 3, 8, 6, 0, 5, 6, 1, 8, 8, 1, 8,\n",
            "        1, 0, 3, 8, 2, 2, 2, 9])\n",
            "<class 'torch.Tensor'> torch.Size([128, 1, 28, 28]) tensor([3, 9, 3, 6, 4, 2, 3, 3, 5, 9, 0, 8, 9, 7, 2, 0, 7, 1, 7, 0, 9, 5, 3, 1,\n",
            "        4, 2, 6, 7, 8, 5, 2, 8, 9, 4, 9, 5, 8, 9, 3, 2, 5, 4, 9, 9, 7, 7, 3, 3,\n",
            "        4, 3, 7, 2, 5, 5, 8, 6, 6, 8, 0, 6, 5, 3, 9, 6, 1, 8, 2, 7, 7, 3, 1, 3,\n",
            "        6, 6, 3, 9, 1, 5, 1, 3, 9, 0, 6, 4, 1, 2, 2, 5, 4, 9, 2, 7, 6, 9, 7, 3,\n",
            "        4, 0, 8, 6, 3, 7, 6, 5, 9, 1, 1, 0, 7, 5, 2, 8, 9, 7, 9, 6, 3, 3, 8, 4,\n",
            "        2, 7, 7, 2, 0, 7, 0, 7])\n",
            "<class 'torch.Tensor'> torch.Size([128, 1, 28, 28]) tensor([0, 7, 6, 2, 4, 9, 0, 7, 5, 4, 2, 2, 1, 9, 7, 7, 5, 8, 1, 5, 1, 3, 1, 2,\n",
            "        2, 9, 4, 2, 4, 3, 5, 3, 8, 2, 9, 4, 1, 7, 0, 4, 3, 1, 6, 0, 1, 2, 2, 1,\n",
            "        8, 4, 7, 6, 8, 1, 5, 5, 9, 1, 9, 4, 9, 3, 2, 3, 2, 6, 3, 9, 1, 8, 4, 5,\n",
            "        7, 6, 3, 7, 9, 3, 5, 8, 7, 8, 1, 2, 7, 2, 1, 1, 1, 9, 3, 8, 9, 8, 8, 4,\n",
            "        8, 4, 1, 8, 1, 4, 6, 0, 4, 3, 9, 2, 8, 9, 5, 2, 4, 9, 5, 2, 6, 0, 2, 1,\n",
            "        0, 3, 4, 1, 2, 9, 1, 8])\n",
            "<class 'torch.Tensor'> torch.Size([128, 1, 28, 28]) tensor([2, 1, 3, 8, 3, 8, 5, 5, 9, 3, 0, 3, 6, 3, 7, 0, 1, 7, 8, 3, 6, 2, 7, 2,\n",
            "        9, 0, 0, 0, 3, 7, 4, 4, 9, 5, 6, 9, 9, 5, 1, 0, 5, 1, 9, 5, 5, 7, 6, 2,\n",
            "        5, 2, 8, 4, 7, 9, 9, 7, 5, 1, 1, 8, 5, 8, 1, 4, 4, 3, 9, 8, 8, 2, 1, 7,\n",
            "        2, 4, 6, 3, 3, 1, 3, 3, 3, 1, 6, 9, 7, 2, 9, 9, 6, 2, 8, 1, 7, 4, 9, 1,\n",
            "        5, 0, 3, 1, 3, 4, 9, 2, 5, 2, 9, 8, 4, 0, 3, 0, 7, 5, 8, 9, 2, 7, 8, 0,\n",
            "        1, 4, 0, 8, 0, 3, 4, 4])\n",
            "<class 'torch.Tensor'> torch.Size([128, 1, 28, 28]) tensor([8, 1, 9, 3, 3, 1, 1, 1, 0, 6, 0, 6, 6, 7, 7, 5, 6, 8, 9, 1, 8, 0, 0, 8,\n",
            "        4, 0, 3, 2, 0, 0, 7, 1, 5, 3, 1, 2, 7, 0, 2, 7, 9, 3, 0, 5, 4, 6, 8, 1,\n",
            "        0, 5, 4, 1, 2, 1, 8, 7, 7, 6, 8, 1, 9, 2, 8, 3, 8, 5, 4, 2, 1, 1, 9, 1,\n",
            "        7, 0, 8, 5, 2, 9, 7, 3, 9, 4, 1, 3, 4, 6, 6, 2, 9, 6, 1, 3, 8, 2, 9, 5,\n",
            "        4, 8, 3, 5, 3, 2, 9, 9, 4, 3, 9, 2, 0, 0, 5, 7, 3, 9, 8, 3, 1, 3, 6, 4,\n",
            "        4, 1, 1, 5, 1, 6, 0, 7])\n",
            "<class 'torch.Tensor'> torch.Size([128, 1, 28, 28]) tensor([1, 9, 6, 7, 9, 3, 5, 2, 8, 0, 0, 6, 9, 2, 2, 8, 1, 7, 6, 8, 6, 3, 8, 3,\n",
            "        6, 3, 2, 3, 9, 2, 9, 2, 2, 6, 7, 9, 8, 8, 7, 3, 6, 7, 2, 6, 8, 6, 4, 8,\n",
            "        6, 3, 8, 8, 2, 2, 8, 0, 2, 4, 9, 1, 2, 8, 9, 9, 5, 6, 3, 9, 8, 4, 4, 4,\n",
            "        2, 7, 9, 2, 6, 7, 8, 4, 1, 8, 2, 7, 5, 1, 3, 4, 4, 6, 1, 5, 3, 2, 0, 9,\n",
            "        4, 1, 0, 3, 0, 3, 8, 2, 5, 9, 4, 5, 8, 3, 8, 3, 7, 6, 6, 0, 2, 1, 6, 1,\n",
            "        7, 3, 5, 8, 9, 9, 3, 9])\n",
            "<class 'torch.Tensor'> torch.Size([128, 1, 28, 28]) tensor([7, 1, 8, 7, 7, 5, 8, 6, 3, 3, 9, 5, 6, 3, 9, 8, 8, 6, 0, 9, 6, 4, 7, 8,\n",
            "        5, 7, 9, 2, 1, 3, 7, 7, 4, 5, 2, 8, 4, 1, 0, 7, 8, 2, 1, 7, 4, 3, 9, 3,\n",
            "        3, 9, 1, 9, 4, 9, 9, 7, 4, 7, 3, 0, 8, 2, 1, 7, 5, 2, 0, 4, 7, 9, 5, 2,\n",
            "        2, 5, 8, 2, 8, 5, 3, 7, 8, 4, 3, 9, 0, 1, 7, 1, 7, 8, 2, 2, 1, 6, 0, 1,\n",
            "        6, 4, 4, 4, 8, 6, 3, 0, 4, 4, 9, 6, 4, 4, 4, 1, 9, 7, 2, 8, 0, 7, 1, 9,\n",
            "        7, 5, 7, 1, 1, 3, 8, 4])\n",
            "<class 'torch.Tensor'> torch.Size([128, 1, 28, 28]) tensor([0, 7, 6, 3, 3, 6, 7, 0, 1, 5, 5, 7, 5, 8, 0, 9, 9, 2, 7, 1, 2, 2, 2, 2,\n",
            "        5, 6, 8, 4, 9, 7, 4, 7, 0, 9, 4, 5, 6, 1, 5, 9, 4, 9, 7, 1, 4, 5, 9, 1,\n",
            "        7, 6, 5, 5, 4, 7, 8, 6, 7, 2, 5, 0, 0, 9, 4, 4, 2, 6, 5, 1, 8, 1, 9, 9,\n",
            "        3, 3, 0, 7, 2, 6, 2, 0, 5, 2, 0, 1, 1, 6, 6, 5, 1, 6, 0, 8, 6, 8, 5, 4,\n",
            "        8, 8, 0, 3, 6, 1, 2, 2, 4, 2, 5, 9, 7, 3, 3, 0, 6, 5, 0, 2, 0, 1, 3, 1,\n",
            "        2, 6, 6, 7, 3, 5, 6, 0])\n",
            "<class 'torch.Tensor'> torch.Size([128, 1, 28, 28]) tensor([7, 9, 3, 1, 1, 4, 7, 7, 8, 1, 3, 9, 0, 7, 8, 3, 5, 0, 3, 5, 3, 4, 6, 9,\n",
            "        2, 2, 4, 3, 3, 2, 8, 2, 3, 6, 9, 5, 7, 7, 6, 4, 3, 8, 0, 4, 1, 7, 3, 8,\n",
            "        9, 8, 8, 6, 6, 1, 6, 5, 3, 9, 0, 2, 1, 2, 1, 6, 2, 1, 6, 4, 7, 6, 5, 9,\n",
            "        8, 9, 4, 4, 3, 2, 9, 7, 0, 1, 6, 9, 5, 6, 2, 4, 6, 4, 9, 3, 5, 3, 7, 3,\n",
            "        2, 7, 7, 2, 4, 0, 2, 5, 2, 1, 7, 9, 3, 5, 5, 3, 2, 3, 1, 8, 1, 0, 5, 9,\n",
            "        7, 3, 5, 9, 6, 0, 9, 2])\n",
            "<class 'torch.Tensor'> torch.Size([128, 1, 28, 28]) tensor([9, 3, 8, 5, 7, 9, 1, 0, 9, 0, 2, 3, 6, 5, 9, 9, 4, 6, 2, 9, 6, 4, 7, 7,\n",
            "        0, 1, 1, 2, 9, 8, 7, 7, 6, 4, 4, 1, 5, 4, 1, 1, 9, 3, 1, 3, 2, 3, 0, 3,\n",
            "        1, 1, 2, 1, 1, 7, 2, 6, 1, 7, 4, 7, 3, 7, 9, 6, 9, 2, 5, 8, 6, 5, 7, 3,\n",
            "        9, 4, 0, 0, 6, 8, 0, 7, 3, 4, 6, 2, 3, 9, 2, 5, 9, 4, 5, 1, 4, 4, 7, 1,\n",
            "        5, 5, 4, 9, 3, 2, 1, 2, 4, 9, 5, 5, 7, 5, 9, 7, 2, 0, 0, 0, 9, 5, 0, 2,\n",
            "        3, 0, 5, 3, 2, 1, 8, 0])\n",
            "<class 'torch.Tensor'> torch.Size([128, 1, 28, 28]) tensor([6, 7, 0, 4, 5, 6, 4, 4, 8, 0, 0, 4, 0, 2, 6, 9, 4, 6, 9, 5, 0, 4, 2, 8,\n",
            "        4, 9, 5, 3, 0, 7, 6, 9, 8, 7, 5, 1, 8, 3, 0, 9, 6, 8, 6, 2, 1, 1, 6, 9,\n",
            "        7, 9, 7, 2, 2, 6, 3, 8, 1, 7, 0, 4, 3, 2, 1, 5, 2, 1, 2, 4, 0, 5, 9, 6,\n",
            "        0, 9, 8, 5, 3, 1, 2, 0, 6, 8, 9, 6, 4, 0, 3, 1, 3, 7, 2, 5, 8, 2, 2, 9,\n",
            "        2, 7, 8, 6, 1, 6, 3, 6, 3, 2, 6, 6, 7, 3, 0, 6, 9, 7, 0, 0, 9, 9, 6, 8,\n",
            "        6, 8, 6, 2, 4, 8, 7, 3])\n",
            "<class 'torch.Tensor'> torch.Size([128, 1, 28, 28]) tensor([7, 8, 3, 0, 6, 2, 9, 1, 6, 4, 6, 2, 1, 6, 2, 9, 5, 7, 7, 5, 8, 2, 6, 7,\n",
            "        7, 4, 6, 8, 7, 5, 8, 5, 5, 3, 5, 6, 8, 1, 0, 3, 6, 3, 6, 4, 2, 5, 5, 8,\n",
            "        9, 4, 8, 0, 8, 5, 4, 7, 0, 4, 0, 2, 6, 5, 8, 4, 9, 1, 8, 6, 7, 3, 7, 1,\n",
            "        9, 8, 7, 2, 5, 6, 4, 2, 5, 3, 5, 2, 9, 5, 7, 9, 7, 5, 5, 9, 3, 4, 4, 6,\n",
            "        6, 4, 3, 7, 6, 6, 8, 2, 9, 2, 7, 4, 7, 6, 0, 9, 7, 6, 7, 3, 6, 5, 6, 5,\n",
            "        8, 6, 8, 8, 7, 4, 5, 8])\n",
            "<class 'torch.Tensor'> torch.Size([128, 1, 28, 28]) tensor([1, 1, 9, 1, 9, 6, 3, 8, 4, 6, 6, 3, 1, 2, 8, 2, 4, 6, 5, 9, 4, 3, 6, 9,\n",
            "        2, 8, 8, 6, 8, 0, 3, 3, 7, 7, 6, 9, 8, 4, 2, 1, 7, 7, 1, 9, 6, 3, 1, 1,\n",
            "        9, 3, 3, 0, 3, 5, 0, 6, 4, 3, 8, 4, 1, 5, 3, 5, 3, 8, 6, 3, 8, 2, 8, 7,\n",
            "        3, 0, 9, 3, 3, 1, 5, 5, 7, 5, 1, 5, 8, 8, 3, 6, 5, 3, 2, 1, 8, 9, 5, 1,\n",
            "        4, 3, 5, 3, 1, 1, 2, 9, 3, 8, 9, 7, 8, 1, 8, 7, 0, 1, 5, 9, 8, 0, 5, 6,\n",
            "        2, 1, 7, 8, 2, 2, 0, 9])\n",
            "<class 'torch.Tensor'> torch.Size([128, 1, 28, 28]) tensor([7, 7, 5, 6, 9, 1, 6, 8, 1, 9, 4, 0, 0, 4, 1, 4, 8, 1, 8, 0, 7, 0, 3, 9,\n",
            "        1, 8, 4, 6, 5, 9, 2, 5, 1, 2, 1, 7, 5, 3, 0, 5, 9, 8, 5, 4, 9, 1, 1, 2,\n",
            "        7, 3, 1, 1, 2, 4, 6, 7, 4, 2, 6, 7, 9, 1, 8, 9, 9, 6, 7, 8, 5, 5, 8, 9,\n",
            "        6, 1, 2, 1, 9, 8, 5, 7, 4, 1, 2, 3, 4, 3, 7, 8, 2, 5, 8, 4, 6, 6, 6, 1,\n",
            "        0, 0, 3, 4, 2, 4, 7, 4, 0, 8, 4, 2, 6, 1, 6, 5, 2, 5, 4, 1, 4, 7, 3, 9,\n",
            "        2, 7, 6, 8, 7, 7, 8, 6])\n",
            "<class 'torch.Tensor'> torch.Size([128, 1, 28, 28]) tensor([9, 4, 9, 1, 0, 2, 0, 0, 0, 0, 7, 1, 1, 0, 3, 7, 9, 1, 4, 2, 1, 9, 5, 1,\n",
            "        0, 2, 4, 1, 6, 0, 2, 7, 7, 3, 3, 4, 4, 5, 5, 7, 7, 8, 1, 4, 1, 1, 3, 6,\n",
            "        2, 1, 7, 4, 5, 4, 4, 7, 6, 9, 0, 7, 8, 8, 7, 0, 7, 0, 8, 7, 8, 4, 4, 7,\n",
            "        9, 4, 8, 5, 4, 6, 2, 8, 4, 1, 7, 2, 5, 3, 6, 5, 8, 3, 8, 0, 5, 3, 9, 8,\n",
            "        3, 6, 1, 0, 5, 4, 9, 0, 0, 8, 8, 2, 3, 5, 4, 0, 8, 8, 1, 4, 7, 4, 5, 6,\n",
            "        7, 3, 3, 9, 6, 9, 4, 6])\n",
            "<class 'torch.Tensor'> torch.Size([128, 1, 28, 28]) tensor([9, 1, 4, 2, 0, 5, 8, 5, 6, 9, 4, 8, 6, 0, 7, 2, 7, 2, 0, 8, 2, 9, 2, 8,\n",
            "        1, 4, 4, 6, 2, 3, 3, 6, 1, 7, 5, 6, 8, 2, 6, 6, 7, 1, 9, 2, 3, 7, 5, 5,\n",
            "        9, 8, 3, 1, 2, 4, 7, 5, 1, 1, 0, 0, 3, 7, 8, 3, 7, 7, 3, 5, 2, 8, 2, 8,\n",
            "        8, 1, 9, 9, 4, 1, 2, 0, 7, 9, 0, 1, 2, 8, 6, 1, 6, 7, 7, 7, 4, 9, 6, 6,\n",
            "        0, 4, 9, 3, 3, 5, 2, 0, 5, 6, 6, 3, 1, 7, 5, 6, 2, 4, 7, 7, 6, 9, 6, 2,\n",
            "        4, 8, 6, 8, 6, 9, 7, 0])\n",
            "<class 'torch.Tensor'> torch.Size([128, 1, 28, 28]) tensor([3, 1, 8, 2, 5, 0, 1, 6, 7, 5, 4, 9, 0, 9, 9, 9, 8, 2, 9, 3, 5, 5, 2, 1,\n",
            "        0, 2, 5, 1, 6, 1, 7, 6, 4, 1, 2, 1, 6, 8, 5, 1, 0, 2, 3, 0, 1, 5, 0, 7,\n",
            "        0, 6, 2, 3, 6, 5, 5, 6, 9, 3, 4, 6, 0, 1, 6, 4, 0, 7, 3, 4, 9, 7, 2, 5,\n",
            "        9, 9, 8, 5, 2, 6, 9, 1, 0, 9, 8, 6, 4, 7, 7, 3, 3, 6, 5, 3, 2, 6, 1, 7,\n",
            "        3, 3, 3, 3, 7, 7, 6, 1, 4, 1, 6, 5, 5, 2, 8, 2, 9, 3, 5, 4, 5, 3, 3, 1,\n",
            "        3, 5, 6, 2, 8, 4, 1, 9])\n",
            "<class 'torch.Tensor'> torch.Size([128, 1, 28, 28]) tensor([1, 8, 3, 4, 5, 5, 4, 8, 1, 7, 6, 0, 9, 1, 8, 7, 4, 3, 1, 1, 4, 0, 0, 2,\n",
            "        6, 4, 3, 3, 6, 2, 3, 1, 9, 4, 3, 1, 3, 6, 4, 1, 1, 2, 8, 1, 1, 9, 8, 2,\n",
            "        0, 5, 9, 9, 9, 6, 5, 0, 7, 2, 8, 7, 4, 2, 5, 1, 3, 2, 3, 6, 2, 1, 7, 6,\n",
            "        0, 4, 6, 4, 7, 5, 1, 1, 1, 6, 8, 3, 0, 7, 1, 1, 5, 8, 3, 6, 6, 3, 8, 4,\n",
            "        2, 1, 7, 0, 9, 5, 9, 6, 8, 2, 4, 5, 9, 7, 4, 0, 2, 5, 6, 1, 7, 2, 2, 2,\n",
            "        2, 5, 8, 3, 2, 1, 0, 9])\n",
            "<class 'torch.Tensor'> torch.Size([128, 1, 28, 28]) tensor([9, 0, 1, 0, 1, 7, 2, 0, 3, 8, 4, 9, 7, 2, 5, 7, 3, 0, 1, 0, 2, 5, 8, 4,\n",
            "        1, 0, 4, 9, 0, 3, 5, 1, 3, 8, 5, 0, 2, 4, 3, 3, 7, 8, 5, 3, 3, 8, 5, 0,\n",
            "        0, 8, 3, 8, 9, 7, 6, 1, 4, 9, 6, 6, 7, 7, 1, 1, 3, 9, 6, 8, 4, 6, 7, 6,\n",
            "        9, 9, 3, 3, 3, 8, 5, 1, 5, 8, 1, 1, 3, 7, 4, 0, 8, 5, 7, 6, 8, 9, 5, 2,\n",
            "        2, 6, 5, 4, 7, 9, 6, 6, 8, 5, 5, 2, 1, 5, 4, 5, 6, 8, 0, 6, 7, 6, 2, 3,\n",
            "        2, 6, 0, 6, 7, 0, 9, 1])\n",
            "<class 'torch.Tensor'> torch.Size([128, 1, 28, 28]) tensor([2, 1, 3, 1, 4, 1, 9, 5, 1, 6, 7, 0, 1, 4, 7, 2, 1, 4, 9, 3, 1, 4, 2, 1,\n",
            "        7, 6, 4, 1, 5, 4, 3, 9, 1, 0, 1, 8, 7, 3, 1, 6, 7, 0, 4, 1, 7, 0, 7, 7,\n",
            "        1, 0, 5, 0, 7, 0, 9, 3, 9, 0, 4, 8, 4, 5, 8, 9, 5, 1, 1, 2, 5, 9, 0, 5,\n",
            "        5, 2, 8, 2, 3, 3, 5, 9, 6, 5, 9, 6, 8, 3, 3, 4, 7, 8, 4, 7, 8, 2, 1, 0,\n",
            "        8, 0, 7, 2, 6, 6, 6, 4, 1, 5, 1, 9, 1, 7, 1, 3, 4, 5, 9, 7, 1, 1, 2, 5,\n",
            "        0, 0, 3, 5, 6, 2, 2, 2])\n",
            "<class 'torch.Tensor'> torch.Size([128, 1, 28, 28]) tensor([5, 9, 8, 3, 7, 5, 9, 7, 1, 9, 2, 3, 4, 0, 7, 2, 7, 1, 2, 9, 9, 1, 9, 7,\n",
            "        7, 8, 6, 1, 1, 0, 9, 0, 8, 2, 5, 0, 2, 0, 6, 6, 1, 0, 8, 5, 2, 4, 2, 4,\n",
            "        1, 9, 2, 3, 0, 2, 1, 6, 2, 2, 3, 3, 5, 4, 9, 6, 1, 4, 1, 0, 3, 9, 7, 4,\n",
            "        3, 7, 6, 0, 3, 1, 0, 0, 1, 6, 4, 7, 2, 9, 4, 9, 6, 9, 5, 4, 2, 4, 9, 2,\n",
            "        5, 2, 6, 6, 9, 9, 6, 8, 7, 4, 7, 9, 2, 2, 6, 7, 7, 9, 6, 4, 7, 6, 5, 0,\n",
            "        7, 9, 3, 7, 0, 9, 7, 0])\n",
            "<class 'torch.Tensor'> torch.Size([128, 1, 28, 28]) tensor([9, 0, 2, 4, 1, 1, 8, 4, 7, 7, 6, 5, 8, 1, 2, 4, 2, 6, 7, 4, 8, 7, 7, 1,\n",
            "        5, 4, 1, 3, 1, 3, 6, 8, 3, 0, 5, 9, 3, 2, 7, 0, 5, 1, 2, 3, 5, 9, 9, 9,\n",
            "        3, 1, 3, 2, 0, 8, 9, 9, 3, 6, 0, 4, 7, 0, 0, 9, 6, 2, 3, 5, 1, 9, 3, 8,\n",
            "        9, 1, 0, 1, 9, 6, 0, 8, 2, 1, 9, 2, 8, 0, 4, 7, 2, 9, 3, 6, 7, 5, 3, 8,\n",
            "        4, 4, 2, 6, 3, 7, 1, 9, 1, 6, 7, 4, 8, 4, 3, 6, 7, 1, 3, 3, 8, 0, 5, 3,\n",
            "        1, 8, 6, 8, 0, 1, 6, 3])\n",
            "<class 'torch.Tensor'> torch.Size([128, 1, 28, 28]) tensor([9, 6, 5, 9, 2, 4, 7, 1, 1, 1, 3, 2, 1, 1, 2, 0, 9, 3, 4, 6, 1, 2, 4, 4,\n",
            "        4, 8, 0, 6, 0, 8, 5, 3, 9, 2, 9, 3, 0, 9, 4, 4, 3, 7, 1, 1, 8, 9, 2, 3,\n",
            "        5, 7, 2, 0, 1, 2, 2, 4, 1, 2, 9, 9, 7, 4, 3, 9, 7, 3, 7, 5, 9, 1, 6, 6,\n",
            "        2, 5, 5, 3, 8, 7, 7, 2, 6, 9, 2, 3, 7, 6, 5, 1, 4, 8, 6, 8, 9, 5, 0, 4,\n",
            "        0, 9, 0, 3, 2, 4, 8, 3, 0, 1, 8, 8, 6, 4, 0, 7, 4, 2, 5, 0, 7, 1, 3, 8,\n",
            "        9, 6, 6, 7, 1, 3, 4, 3])\n",
            "<class 'torch.Tensor'> torch.Size([128, 1, 28, 28]) tensor([0, 2, 9, 7, 7, 2, 7, 8, 9, 4, 1, 5, 7, 1, 1, 1, 9, 2, 5, 7, 4, 9, 3, 9,\n",
            "        4, 9, 1, 1, 4, 0, 7, 3, 6, 1, 6, 5, 4, 1, 5, 3, 6, 9, 3, 9, 3, 2, 1, 3,\n",
            "        7, 0, 9, 7, 8, 5, 7, 2, 2, 2, 2, 6, 3, 9, 8, 9, 9, 0, 9, 3, 4, 8, 6, 6,\n",
            "        7, 6, 0, 5, 8, 4, 0, 9, 1, 7, 1, 1, 0, 1, 9, 2, 0, 6, 0, 9, 6, 3, 6, 8,\n",
            "        9, 4, 5, 8, 5, 8, 0, 5, 9, 8, 9, 4, 0, 1, 9, 1, 1, 8, 6, 2, 9, 2, 4, 8,\n",
            "        9, 0, 5, 7, 1, 9, 3, 1])\n",
            "<class 'torch.Tensor'> torch.Size([128, 1, 28, 28]) tensor([8, 5, 1, 1, 1, 1, 5, 9, 1, 0, 4, 1, 9, 1, 5, 3, 7, 4, 8, 2, 0, 4, 4, 1,\n",
            "        4, 4, 2, 8, 9, 4, 8, 3, 7, 5, 4, 0, 6, 5, 1, 8, 9, 3, 9, 6, 3, 3, 0, 6,\n",
            "        8, 6, 8, 6, 9, 3, 1, 4, 0, 5, 9, 3, 3, 4, 9, 6, 2, 8, 6, 7, 9, 1, 6, 8,\n",
            "        1, 9, 3, 9, 8, 7, 7, 7, 7, 0, 6, 5, 0, 2, 2, 0, 1, 9, 2, 2, 1, 0, 3, 8,\n",
            "        4, 1, 3, 9, 4, 4, 7, 2, 2, 2, 4, 8, 8, 4, 7, 1, 5, 2, 1, 5, 5, 6, 7, 3,\n",
            "        9, 0, 8, 3, 3, 5, 5, 0])\n",
            "<class 'torch.Tensor'> torch.Size([128, 1, 28, 28]) tensor([2, 5, 2, 5, 1, 3, 5, 2, 1, 7, 5, 7, 9, 1, 3, 7, 4, 5, 7, 3, 9, 0, 1, 6,\n",
            "        6, 4, 2, 3, 3, 4, 2, 7, 8, 5, 1, 3, 0, 4, 1, 2, 0, 6, 7, 8, 7, 4, 5, 4,\n",
            "        6, 5, 0, 9, 0, 8, 5, 0, 4, 0, 8, 8, 6, 0, 0, 5, 7, 6, 8, 9, 4, 6, 0, 4,\n",
            "        6, 2, 1, 9, 5, 1, 7, 1, 3, 7, 9, 1, 6, 9, 1, 3, 6, 9, 3, 5, 0, 4, 6, 2,\n",
            "        8, 9, 4, 6, 2, 2, 0, 1, 9, 7, 6, 5, 5, 4, 6, 6, 8, 9, 4, 1, 8, 4, 9, 2,\n",
            "        1, 3, 3, 4, 3, 0, 5, 6])\n",
            "<class 'torch.Tensor'> torch.Size([128, 1, 28, 28]) tensor([9, 4, 3, 8, 6, 3, 3, 4, 4, 5, 8, 0, 5, 5, 1, 2, 2, 6, 3, 8, 1, 3, 0, 0,\n",
            "        9, 8, 1, 2, 0, 2, 2, 7, 6, 6, 4, 9, 3, 4, 5, 9, 5, 4, 5, 2, 7, 4, 3, 5,\n",
            "        8, 3, 5, 6, 3, 3, 2, 9, 2, 0, 5, 2, 7, 8, 4, 1, 4, 2, 5, 0, 8, 7, 6, 6,\n",
            "        1, 1, 2, 5, 2, 9, 0, 4, 0, 0, 5, 1, 4, 4, 6, 2, 7, 7, 6, 6, 5, 4, 7, 0,\n",
            "        1, 7, 1, 8, 0, 3, 0, 0, 5, 4, 1, 1, 5, 9, 1, 0, 2, 9, 1, 4, 2, 8, 7, 5,\n",
            "        9, 1, 0, 8, 1, 8, 6, 3])\n",
            "<class 'torch.Tensor'> torch.Size([128, 1, 28, 28]) tensor([7, 2, 0, 4, 0, 9, 0, 3, 2, 6, 6, 3, 2, 2, 6, 7, 0, 7, 4, 0, 9, 9, 2, 3,\n",
            "        9, 3, 8, 7, 7, 3, 1, 7, 4, 3, 1, 8, 0, 2, 2, 4, 9, 8, 1, 7, 0, 1, 1, 8,\n",
            "        1, 5, 0, 7, 0, 0, 5, 0, 9, 2, 1, 8, 8, 7, 9, 1, 4, 3, 1, 9, 4, 3, 8, 4,\n",
            "        1, 2, 9, 7, 3, 7, 2, 4, 9, 0, 8, 9, 1, 4, 6, 9, 1, 4, 2, 7, 8, 3, 4, 3,\n",
            "        3, 6, 6, 5, 3, 3, 8, 9, 6, 5, 8, 5, 6, 9, 8, 6, 1, 8, 0, 5, 9, 9, 1, 9,\n",
            "        5, 7, 6, 1, 7, 9, 9, 4])\n",
            "<class 'torch.Tensor'> torch.Size([128, 1, 28, 28]) tensor([5, 6, 9, 8, 6, 2, 0, 2, 5, 2, 8, 2, 0, 8, 0, 6, 8, 8, 0, 6, 8, 8, 7, 2,\n",
            "        5, 3, 0, 8, 0, 0, 1, 1, 5, 5, 4, 1, 4, 0, 0, 4, 3, 8, 2, 3, 4, 6, 9, 6,\n",
            "        9, 5, 5, 5, 7, 2, 3, 1, 0, 8, 9, 0, 9, 3, 3, 6, 8, 7, 2, 3, 4, 4, 5, 9,\n",
            "        5, 2, 0, 6, 3, 6, 8, 9, 5, 9, 0, 6, 2, 6, 7, 8, 5, 7, 4, 1, 4, 7, 2, 1,\n",
            "        5, 4, 5, 8, 3, 3, 2, 6, 5, 8, 0, 0, 7, 5, 6, 0, 9, 0, 6, 3, 8, 4, 4, 6,\n",
            "        8, 7, 7, 1, 8, 1, 2, 9])\n",
            "<class 'torch.Tensor'> torch.Size([128, 1, 28, 28]) tensor([7, 2, 9, 2, 0, 6, 4, 6, 2, 8, 7, 4, 8, 3, 4, 7, 9, 1, 7, 6, 7, 4, 3, 3,\n",
            "        1, 9, 9, 6, 7, 7, 5, 8, 8, 8, 8, 8, 5, 7, 0, 0, 6, 7, 3, 8, 2, 4, 4, 3,\n",
            "        4, 9, 0, 0, 1, 3, 8, 3, 2, 4, 1, 6, 7, 8, 1, 6, 7, 6, 4, 2, 5, 0, 4, 5,\n",
            "        7, 6, 2, 8, 5, 3, 8, 4, 1, 5, 7, 7, 6, 1, 5, 1, 9, 1, 3, 7, 9, 0, 4, 2,\n",
            "        8, 4, 8, 1, 2, 4, 4, 7, 6, 1, 6, 2, 9, 1, 3, 5, 3, 6, 3, 1, 7, 8, 5, 1,\n",
            "        9, 0, 9, 6, 5, 1, 1, 3])\n",
            "<class 'torch.Tensor'> torch.Size([128, 1, 28, 28]) tensor([8, 0, 3, 4, 7, 1, 5, 5, 6, 8, 0, 1, 3, 3, 4, 8, 7, 1, 7, 9, 1, 8, 8, 1,\n",
            "        1, 6, 8, 2, 3, 7, 0, 8, 6, 6, 4, 8, 8, 1, 2, 4, 6, 5, 3, 7, 4, 2, 9, 1,\n",
            "        6, 1, 6, 6, 2, 8, 9, 2, 5, 6, 4, 6, 2, 5, 2, 4, 6, 4, 2, 3, 7, 1, 8, 2,\n",
            "        9, 2, 5, 2, 4, 5, 7, 8, 0, 1, 5, 5, 3, 5, 0, 4, 1, 9, 1, 1, 0, 4, 7, 4,\n",
            "        6, 6, 6, 2, 4, 3, 3, 7, 1, 2, 4, 8, 0, 0, 7, 4, 3, 4, 9, 2, 6, 3, 2, 8,\n",
            "        3, 6, 4, 7, 1, 0, 2, 4])\n",
            "<class 'torch.Tensor'> torch.Size([128, 1, 28, 28]) tensor([0, 7, 1, 2, 4, 6, 4, 8, 5, 6, 0, 8, 7, 9, 3, 3, 1, 0, 8, 1, 7, 6, 0, 1,\n",
            "        8, 5, 2, 3, 0, 4, 0, 9, 7, 3, 2, 4, 6, 1, 9, 7, 5, 5, 8, 3, 2, 1, 3, 1,\n",
            "        1, 8, 7, 3, 9, 0, 2, 4, 3, 4, 2, 3, 9, 9, 6, 6, 4, 9, 2, 7, 6, 2, 8, 5,\n",
            "        3, 5, 4, 2, 1, 0, 4, 6, 0, 8, 0, 7, 4, 8, 1, 2, 6, 4, 7, 8, 0, 1, 9, 7,\n",
            "        4, 6, 2, 3, 5, 6, 7, 6, 3, 8, 4, 7, 6, 3, 7, 2, 1, 6, 2, 6, 6, 6, 1, 1,\n",
            "        4, 7, 4, 6, 9, 5, 7, 7])\n",
            "<class 'torch.Tensor'> torch.Size([128, 1, 28, 28]) tensor([3, 0, 9, 2, 7, 3, 2, 0, 8, 8, 9, 5, 8, 6, 0, 5, 4, 4, 0, 8, 4, 5, 3, 4,\n",
            "        6, 0, 2, 2, 0, 9, 1, 7, 0, 2, 9, 5, 8, 7, 2, 0, 8, 0, 4, 7, 3, 4, 3, 0,\n",
            "        2, 1, 8, 4, 3, 7, 1, 2, 4, 7, 3, 1, 9, 7, 2, 5, 4, 5, 0, 6, 4, 2, 2, 5,\n",
            "        2, 4, 5, 1, 7, 4, 9, 9, 4, 8, 1, 0, 2, 3, 2, 5, 3, 6, 6, 4, 0, 6, 7, 2,\n",
            "        9, 4, 1, 7, 5, 7, 4, 2, 0, 3, 4, 9, 7, 8, 0, 1, 8, 6, 9, 9, 1, 7, 3, 7,\n",
            "        0, 6, 1, 8, 4, 7, 2, 1])\n",
            "<class 'torch.Tensor'> torch.Size([128, 1, 28, 28]) tensor([7, 1, 6, 4, 3, 9, 6, 1, 6, 0, 1, 3, 4, 6, 4, 9, 7, 5, 6, 9, 9, 9, 8, 4,\n",
            "        5, 8, 0, 3, 6, 0, 2, 7, 6, 0, 0, 6, 2, 4, 4, 1, 6, 4, 8, 6, 6, 5, 1, 1,\n",
            "        8, 0, 2, 1, 2, 3, 8, 0, 8, 9, 6, 1, 6, 3, 1, 0, 3, 1, 8, 2, 6, 1, 7, 7,\n",
            "        9, 3, 3, 4, 0, 4, 5, 6, 7, 3, 3, 8, 8, 8, 9, 7, 8, 2, 1, 3, 9, 0, 5, 7,\n",
            "        0, 0, 6, 9, 0, 4, 6, 1, 8, 5, 1, 3, 7, 3, 5, 7, 3, 6, 9, 2, 0, 4, 6, 7,\n",
            "        0, 2, 5, 9, 7, 2, 0, 6])\n",
            "<class 'torch.Tensor'> torch.Size([128, 1, 28, 28]) tensor([6, 3, 6, 6, 1, 8, 0, 3, 7, 1, 5, 1, 3, 8, 9, 9, 9, 0, 3, 0, 6, 8, 5, 4,\n",
            "        1, 0, 6, 5, 9, 2, 5, 3, 5, 6, 3, 5, 6, 0, 8, 7, 4, 0, 4, 0, 1, 8, 7, 4,\n",
            "        8, 3, 5, 0, 6, 1, 1, 9, 6, 7, 8, 8, 0, 7, 7, 5, 0, 2, 1, 1, 6, 8, 0, 8,\n",
            "        1, 4, 7, 8, 4, 2, 8, 4, 9, 6, 9, 1, 8, 3, 4, 1, 7, 7, 0, 6, 1, 9, 8, 2,\n",
            "        6, 7, 3, 9, 3, 2, 2, 1, 0, 1, 8, 0, 9, 6, 3, 9, 2, 7, 9, 5, 6, 2, 9, 6,\n",
            "        4, 8, 6, 1, 5, 8, 7, 3])\n",
            "<class 'torch.Tensor'> torch.Size([128, 1, 28, 28]) tensor([8, 6, 8, 0, 9, 0, 8, 1, 9, 7, 8, 3, 9, 2, 7, 8, 3, 4, 4, 2, 5, 7, 0, 4,\n",
            "        8, 8, 3, 5, 4, 8, 8, 4, 2, 3, 9, 4, 5, 9, 8, 9, 4, 7, 8, 5, 7, 7, 3, 4,\n",
            "        6, 4, 2, 4, 7, 1, 4, 6, 2, 8, 8, 1, 5, 6, 8, 7, 2, 1, 0, 6, 8, 6, 1, 8,\n",
            "        9, 5, 9, 1, 2, 2, 8, 5, 2, 4, 8, 4, 1, 0, 4, 9, 1, 5, 0, 1, 0, 2, 1, 0,\n",
            "        4, 4, 0, 2, 5, 8, 4, 0, 1, 4, 0, 3, 5, 0, 6, 9, 0, 0, 4, 1, 7, 5, 9, 7,\n",
            "        0, 1, 2, 7, 6, 6, 9, 1])\n",
            "<class 'torch.Tensor'> torch.Size([128, 1, 28, 28]) tensor([7, 9, 9, 7, 3, 1, 1, 4, 3, 7, 3, 5, 3, 5, 2, 2, 3, 8, 5, 4, 0, 2, 7, 4,\n",
            "        0, 4, 2, 8, 0, 9, 4, 2, 7, 4, 2, 4, 1, 4, 4, 2, 0, 1, 3, 8, 1, 5, 3, 0,\n",
            "        6, 4, 4, 7, 0, 3, 9, 1, 5, 4, 0, 4, 7, 4, 3, 8, 1, 1, 2, 4, 0, 4, 6, 1,\n",
            "        8, 0, 5, 5, 6, 4, 2, 3, 9, 7, 3, 6, 9, 1, 7, 4, 0, 2, 9, 0, 0, 1, 8, 6,\n",
            "        4, 5, 7, 2, 2, 2, 1, 6, 6, 1, 0, 7, 6, 4, 7, 9, 3, 6, 8, 3, 4, 2, 0, 0,\n",
            "        2, 5, 0, 0, 0, 0, 0, 6])\n",
            "<class 'torch.Tensor'> torch.Size([128, 1, 28, 28]) tensor([4, 9, 5, 1, 2, 7, 5, 9, 3, 0, 7, 7, 7, 3, 7, 1, 6, 7, 5, 9, 5, 9, 4, 3,\n",
            "        8, 2, 6, 2, 7, 5, 1, 5, 9, 8, 5, 1, 3, 8, 6, 3, 2, 7, 0, 7, 0, 8, 9, 9,\n",
            "        6, 0, 1, 4, 7, 6, 5, 0, 0, 5, 9, 9, 7, 9, 8, 5, 8, 0, 6, 8, 1, 5, 4, 1,\n",
            "        8, 5, 4, 6, 9, 8, 1, 6, 5, 4, 4, 3, 1, 3, 3, 1, 0, 3, 5, 3, 3, 7, 2, 7,\n",
            "        1, 6, 7, 8, 3, 7, 3, 2, 8, 4, 2, 7, 1, 1, 9, 2, 3, 8, 8, 2, 3, 0, 2, 6,\n",
            "        0, 7, 3, 8, 2, 3, 6, 0])\n",
            "<class 'torch.Tensor'> torch.Size([128, 1, 28, 28]) tensor([2, 6, 7, 6, 4, 7, 7, 8, 6, 5, 9, 4, 9, 2, 7, 1, 1, 2, 3, 4, 4, 0, 8, 9,\n",
            "        2, 3, 6, 9, 2, 1, 3, 4, 8, 6, 2, 7, 8, 7, 9, 1, 4, 4, 8, 7, 3, 0, 8, 1,\n",
            "        0, 4, 0, 6, 3, 0, 7, 8, 9, 1, 8, 7, 7, 7, 4, 1, 8, 7, 7, 4, 5, 0, 3, 1,\n",
            "        5, 7, 1, 3, 0, 4, 5, 1, 9, 7, 2, 9, 2, 8, 7, 2, 0, 2, 2, 9, 5, 4, 4, 7,\n",
            "        1, 9, 5, 4, 1, 7, 4, 6, 9, 2, 5, 9, 7, 0, 3, 1, 3, 8, 1, 1, 4, 0, 3, 6,\n",
            "        4, 2, 0, 1, 2, 3, 5, 5])\n",
            "<class 'torch.Tensor'> torch.Size([128, 1, 28, 28]) tensor([4, 0, 1, 0, 7, 7, 0, 1, 2, 7, 5, 8, 7, 1, 2, 9, 8, 8, 3, 4, 1, 6, 4, 6,\n",
            "        0, 4, 0, 9, 4, 9, 1, 6, 9, 6, 9, 2, 0, 5, 1, 4, 3, 4, 7, 6, 7, 9, 6, 5,\n",
            "        0, 1, 5, 8, 4, 3, 5, 3, 6, 9, 4, 3, 9, 4, 0, 7, 9, 1, 6, 3, 0, 4, 5, 5,\n",
            "        2, 7, 1, 5, 7, 4, 0, 8, 3, 1, 5, 7, 3, 5, 2, 6, 9, 3, 6, 9, 4, 3, 2, 7,\n",
            "        4, 7, 5, 0, 9, 3, 6, 3, 0, 8, 2, 8, 3, 1, 4, 0, 9, 0, 6, 4, 3, 6, 4, 2,\n",
            "        2, 2, 6, 7, 2, 3, 2, 0])\n",
            "<class 'torch.Tensor'> torch.Size([128, 1, 28, 28]) tensor([3, 8, 9, 3, 2, 6, 8, 1, 8, 2, 5, 6, 2, 3, 8, 3, 7, 9, 1, 8, 7, 7, 7, 9,\n",
            "        8, 7, 1, 3, 2, 9, 9, 3, 9, 1, 7, 3, 6, 2, 9, 2, 4, 4, 6, 3, 2, 2, 4, 5,\n",
            "        3, 9, 7, 1, 5, 1, 6, 8, 2, 5, 3, 4, 7, 9, 3, 9, 0, 7, 0, 0, 1, 0, 0, 0,\n",
            "        7, 9, 1, 0, 2, 0, 8, 3, 3, 2, 7, 1, 8, 7, 3, 6, 1, 9, 9, 4, 7, 1, 8, 9,\n",
            "        6, 4, 3, 9, 4, 1, 2, 3, 4, 0, 0, 5, 3, 3, 8, 8, 4, 0, 7, 3, 5, 5, 9, 2,\n",
            "        8, 7, 4, 2, 3, 6, 7, 1])\n",
            "<class 'torch.Tensor'> torch.Size([128, 1, 28, 28]) tensor([0, 4, 2, 4, 7, 2, 6, 6, 1, 6, 3, 3, 4, 3, 2, 3, 1, 7, 9, 0, 6, 3, 3, 8,\n",
            "        5, 7, 0, 8, 9, 4, 0, 6, 4, 7, 7, 7, 7, 6, 6, 5, 6, 0, 2, 1, 1, 9, 6, 0,\n",
            "        9, 0, 7, 1, 4, 2, 2, 9, 6, 0, 7, 1, 5, 1, 2, 6, 3, 9, 9, 0, 4, 5, 6, 0,\n",
            "        4, 8, 8, 1, 5, 9, 7, 9, 2, 3, 2, 0, 4, 6, 9, 5, 6, 2, 7, 4, 5, 2, 6, 7,\n",
            "        7, 0, 2, 1, 8, 5, 6, 1, 3, 6, 6, 4, 7, 2, 7, 1, 3, 5, 3, 0, 5, 2, 1, 1,\n",
            "        2, 2, 6, 8, 6, 5, 2, 3])\n",
            "<class 'torch.Tensor'> torch.Size([128, 1, 28, 28]) tensor([0, 7, 5, 7, 9, 3, 1, 5, 6, 3, 3, 0, 8, 5, 3, 3, 1, 7, 1, 7, 2, 3, 9, 2,\n",
            "        3, 4, 3, 5, 4, 4, 3, 9, 6, 3, 1, 4, 3, 5, 6, 7, 1, 2, 3, 2, 3, 5, 9, 9,\n",
            "        8, 8, 6, 3, 3, 2, 2, 7, 6, 7, 4, 0, 3, 2, 2, 9, 3, 2, 3, 6, 0, 8, 3, 3,\n",
            "        6, 5, 0, 6, 9, 1, 8, 2, 3, 7, 1, 0, 9, 7, 7, 9, 4, 7, 1, 8, 6, 8, 1, 4,\n",
            "        4, 8, 9, 8, 5, 6, 2, 7, 1, 5, 1, 2, 4, 9, 7, 3, 8, 3, 2, 1, 4, 9, 5, 7,\n",
            "        7, 3, 0, 4, 4, 0, 9, 5])\n",
            "<class 'torch.Tensor'> torch.Size([128, 1, 28, 28]) tensor([4, 8, 3, 1, 7, 5, 4, 9, 7, 7, 8, 2, 6, 1, 9, 1, 3, 6, 9, 6, 0, 3, 5, 2,\n",
            "        2, 5, 1, 4, 3, 5, 3, 9, 8, 5, 6, 7, 4, 9, 9, 0, 0, 9, 8, 1, 7, 1, 8, 5,\n",
            "        3, 5, 4, 8, 1, 9, 3, 0, 7, 6, 5, 4, 1, 3, 7, 0, 5, 1, 7, 2, 5, 1, 7, 1,\n",
            "        4, 3, 0, 2, 2, 8, 3, 7, 3, 0, 4, 9, 7, 7, 3, 7, 8, 0, 8, 8, 9, 2, 1, 2,\n",
            "        2, 3, 9, 9, 8, 0, 4, 2, 1, 4, 7, 1, 1, 1, 0, 5, 8, 6, 7, 1, 7, 1, 5, 5,\n",
            "        8, 2, 4, 5, 6, 7, 1, 2])\n",
            "<class 'torch.Tensor'> torch.Size([128, 1, 28, 28]) tensor([1, 7, 4, 8, 2, 1, 5, 9, 6, 9, 7, 9, 7, 8, 5, 1, 0, 5, 0, 9, 1, 9, 3, 1,\n",
            "        5, 7, 0, 4, 7, 3, 3, 4, 1, 5, 8, 4, 8, 7, 5, 2, 9, 4, 4, 1, 2, 8, 0, 5,\n",
            "        9, 2, 3, 9, 8, 0, 4, 1, 2, 2, 9, 8, 4, 8, 6, 7, 9, 2, 9, 5, 4, 6, 0, 2,\n",
            "        2, 2, 2, 6, 6, 9, 7, 2, 2, 5, 8, 7, 7, 0, 9, 5, 0, 9, 4, 5, 8, 5, 6, 7,\n",
            "        0, 7, 2, 3, 9, 2, 2, 1, 8, 6, 1, 6, 8, 3, 1, 7, 2, 5, 5, 3, 1, 2, 8, 1,\n",
            "        8, 6, 1, 3, 7, 0, 1, 9])\n",
            "<class 'torch.Tensor'> torch.Size([128, 1, 28, 28]) tensor([8, 0, 0, 3, 0, 8, 1, 9, 8, 9, 0, 3, 7, 2, 2, 5, 4, 8, 8, 4, 6, 2, 7, 1,\n",
            "        3, 3, 4, 3, 9, 3, 8, 9, 4, 6, 9, 6, 2, 1, 7, 7, 0, 4, 4, 1, 9, 2, 9, 0,\n",
            "        7, 7, 1, 7, 6, 9, 9, 8, 5, 0, 1, 5, 4, 5, 0, 2, 0, 5, 6, 0, 4, 2, 2, 2,\n",
            "        4, 7, 9, 4, 1, 1, 4, 4, 2, 9, 6, 8, 9, 3, 1, 8, 6, 5, 8, 4, 8, 6, 1, 4,\n",
            "        5, 0, 4, 1, 9, 3, 6, 8, 2, 3, 1, 8, 7, 4, 9, 3, 2, 1, 1, 0, 8, 8, 1, 0,\n",
            "        8, 3, 3, 9, 7, 8, 2, 4])\n",
            "<class 'torch.Tensor'> torch.Size([128, 1, 28, 28]) tensor([2, 1, 7, 6, 7, 1, 5, 1, 9, 9, 5, 2, 0, 5, 5, 5, 2, 4, 6, 2, 4, 9, 7, 8,\n",
            "        4, 8, 0, 3, 0, 3, 8, 4, 2, 0, 0, 8, 2, 0, 4, 2, 4, 7, 8, 7, 1, 4, 3, 2,\n",
            "        1, 3, 9, 8, 7, 1, 4, 5, 5, 2, 8, 4, 1, 8, 6, 0, 9, 8, 0, 0, 8, 5, 9, 7,\n",
            "        8, 6, 1, 3, 3, 6, 6, 1, 5, 1, 5, 6, 1, 2, 6, 8, 6, 8, 3, 1, 4, 5, 2, 0,\n",
            "        0, 1, 5, 1, 7, 2, 1, 3, 4, 8, 8, 4, 4, 1, 9, 2, 4, 3, 3, 4, 2, 9, 3, 5,\n",
            "        5, 7, 9, 5, 2, 4, 2, 6])\n",
            "<class 'torch.Tensor'> torch.Size([128, 1, 28, 28]) tensor([8, 6, 5, 8, 1, 6, 9, 0, 3, 8, 2, 0, 4, 8, 2, 4, 2, 8, 1, 2, 3, 9, 0, 1,\n",
            "        5, 7, 4, 0, 3, 1, 0, 7, 5, 3, 4, 7, 3, 3, 0, 6, 6, 9, 7, 1, 2, 1, 2, 8,\n",
            "        8, 7, 5, 3, 7, 5, 2, 7, 4, 6, 3, 4, 3, 6, 9, 7, 5, 3, 6, 7, 0, 7, 3, 7,\n",
            "        3, 8, 3, 6, 0, 7, 6, 1, 3, 7, 8, 0, 2, 0, 7, 8, 2, 0, 6, 9, 0, 3, 3, 7,\n",
            "        7, 8, 6, 5, 6, 0, 6, 9, 4, 4, 5, 7, 6, 7, 9, 8, 7, 6, 4, 5, 7, 6, 4, 1,\n",
            "        8, 1, 2, 4, 8, 6, 7, 8])\n",
            "<class 'torch.Tensor'> torch.Size([128, 1, 28, 28]) tensor([1, 5, 7, 1, 8, 8, 9, 0, 3, 3, 7, 8, 0, 1, 0, 7, 3, 3, 5, 3, 4, 3, 7, 2,\n",
            "        4, 6, 8, 9, 7, 7, 0, 4, 6, 5, 5, 9, 3, 0, 9, 3, 8, 4, 4, 3, 6, 2, 4, 9,\n",
            "        8, 1, 1, 9, 5, 7, 1, 7, 9, 5, 1, 3, 0, 1, 7, 2, 8, 1, 1, 4, 4, 9, 3, 6,\n",
            "        7, 1, 2, 6, 7, 5, 0, 3, 3, 3, 3, 2, 9, 6, 4, 3, 6, 6, 2, 1, 4, 3, 3, 1,\n",
            "        5, 5, 2, 0, 6, 9, 6, 7, 4, 3, 8, 5, 4, 4, 4, 1, 1, 1, 4, 2, 4, 8, 6, 9,\n",
            "        0, 3, 6, 5, 7, 4, 5, 6])\n",
            "<class 'torch.Tensor'> torch.Size([128, 1, 28, 28]) tensor([6, 2, 9, 1, 1, 0, 3, 9, 6, 6, 2, 8, 2, 3, 8, 1, 2, 8, 0, 6, 2, 1, 4, 0,\n",
            "        2, 4, 5, 9, 0, 8, 8, 0, 7, 5, 6, 1, 2, 6, 3, 4, 9, 5, 4, 2, 6, 2, 7, 8,\n",
            "        8, 6, 5, 9, 5, 7, 1, 9, 7, 0, 5, 7, 7, 7, 2, 2, 2, 3, 4, 6, 2, 4, 3, 0,\n",
            "        0, 8, 8, 6, 3, 9, 1, 7, 3, 7, 1, 9, 3, 5, 3, 3, 9, 8, 9, 4, 2, 2, 1, 9,\n",
            "        4, 0, 2, 0, 9, 7, 2, 3, 9, 8, 4, 8, 1, 6, 1, 4, 4, 0, 0, 1, 9, 6, 2, 0,\n",
            "        5, 7, 0, 0, 2, 2, 6, 8])\n",
            "<class 'torch.Tensor'> torch.Size([128, 1, 28, 28]) tensor([8, 1, 4, 0, 7, 5, 2, 4, 0, 0, 9, 9, 4, 1, 2, 0, 5, 5, 3, 2, 4, 7, 6, 8,\n",
            "        6, 2, 3, 6, 6, 8, 3, 6, 5, 0, 8, 7, 1, 5, 2, 1, 1, 1, 1, 4, 6, 7, 9, 5,\n",
            "        8, 0, 7, 9, 3, 1, 3, 8, 6, 9, 0, 1, 5, 4, 6, 2, 8, 6, 1, 3, 4, 1, 8, 0,\n",
            "        1, 3, 8, 0, 9, 7, 1, 3, 8, 9, 3, 5, 0, 3, 4, 2, 7, 8, 4, 1, 3, 2, 9, 2,\n",
            "        2, 8, 8, 6, 8, 3, 2, 1, 2, 8, 5, 1, 8, 3, 7, 4, 1, 2, 5, 1, 9, 3, 4, 5,\n",
            "        2, 9, 6, 8, 6, 3, 0, 8])\n",
            "<class 'torch.Tensor'> torch.Size([128, 1, 28, 28]) tensor([6, 0, 5, 2, 2, 3, 7, 6, 1, 6, 3, 3, 6, 5, 0, 6, 4, 6, 0, 3, 6, 8, 1, 1,\n",
            "        4, 7, 1, 0, 4, 1, 6, 3, 6, 7, 8, 3, 1, 6, 9, 7, 2, 7, 3, 5, 9, 2, 6, 5,\n",
            "        4, 9, 1, 6, 6, 7, 4, 2, 4, 9, 9, 4, 5, 5, 0, 1, 1, 2, 5, 6, 6, 7, 4, 8,\n",
            "        7, 6, 4, 9, 8, 0, 0, 6, 3, 5, 0, 3, 3, 7, 1, 6, 3, 6, 9, 7, 5, 1, 3, 7,\n",
            "        5, 2, 6, 3, 4, 6, 0, 6, 8, 7, 1, 0, 6, 9, 3, 0, 9, 1, 6, 9, 5, 4, 4, 9,\n",
            "        7, 6, 8, 9, 8, 1, 4, 2])\n",
            "<class 'torch.Tensor'> torch.Size([128, 1, 28, 28]) tensor([8, 3, 9, 2, 3, 0, 7, 8, 4, 9, 6, 2, 2, 5, 6, 4, 7, 8, 4, 8, 0, 8, 0, 7,\n",
            "        5, 3, 3, 1, 7, 9, 5, 6, 7, 4, 4, 6, 1, 2, 9, 0, 6, 6, 7, 1, 0, 3, 9, 1,\n",
            "        9, 3, 4, 3, 2, 5, 6, 9, 7, 8, 7, 8, 3, 1, 3, 7, 4, 1, 0, 2, 9, 3, 2, 4,\n",
            "        7, 3, 2, 7, 4, 7, 1, 1, 1, 2, 7, 0, 4, 8, 5, 7, 6, 0, 8, 3, 0, 7, 1, 0,\n",
            "        8, 6, 3, 7, 2, 2, 4, 1, 7, 5, 5, 2, 4, 3, 3, 7, 3, 8, 3, 3, 2, 3, 0, 4,\n",
            "        9, 9, 8, 7, 2, 5, 5, 9])\n",
            "<class 'torch.Tensor'> torch.Size([128, 1, 28, 28]) tensor([0, 2, 0, 0, 3, 6, 0, 3, 8, 0, 9, 8, 6, 3, 9, 8, 3, 6, 1, 4, 3, 9, 5, 8,\n",
            "        5, 9, 1, 8, 3, 6, 4, 1, 9, 3, 9, 0, 7, 4, 7, 7, 4, 8, 9, 2, 9, 9, 6, 9,\n",
            "        0, 3, 5, 8, 4, 4, 3, 0, 4, 0, 8, 3, 3, 3, 9, 6, 0, 3, 9, 5, 1, 9, 8, 5,\n",
            "        3, 7, 8, 5, 4, 8, 9, 3, 8, 7, 5, 8, 5, 1, 3, 5, 0, 7, 9, 4, 6, 5, 8, 7,\n",
            "        0, 5, 0, 9, 6, 1, 6, 6, 2, 6, 4, 5, 3, 3, 5, 3, 6, 1, 3, 1, 8, 4, 2, 8,\n",
            "        3, 0, 3, 1, 4, 7, 0, 2])\n",
            "<class 'torch.Tensor'> torch.Size([128, 1, 28, 28]) tensor([4, 9, 8, 6, 4, 9, 5, 9, 5, 8, 6, 5, 1, 6, 2, 5, 0, 3, 8, 3, 6, 7, 3, 4,\n",
            "        9, 3, 2, 8, 4, 1, 9, 1, 6, 4, 4, 8, 3, 1, 0, 4, 4, 7, 5, 3, 2, 7, 3, 7,\n",
            "        9, 7, 4, 5, 4, 9, 1, 9, 9, 3, 4, 9, 8, 1, 0, 8, 2, 9, 4, 6, 6, 0, 7, 6,\n",
            "        5, 5, 9, 9, 4, 0, 1, 8, 1, 0, 7, 7, 0, 4, 1, 2, 6, 9, 3, 8, 4, 4, 6, 6,\n",
            "        2, 6, 8, 1, 0, 9, 2, 2, 5, 0, 1, 3, 7, 7, 3, 1, 6, 0, 5, 8, 1, 6, 4, 1,\n",
            "        1, 5, 3, 9, 5, 5, 4, 4])\n",
            "<class 'torch.Tensor'> torch.Size([128, 1, 28, 28]) tensor([0, 9, 8, 2, 9, 1, 5, 9, 0, 0, 6, 6, 3, 7, 7, 2, 9, 7, 6, 4, 5, 3, 3, 9,\n",
            "        9, 3, 7, 6, 7, 0, 4, 8, 7, 1, 2, 6, 1, 3, 7, 3, 5, 3, 2, 7, 9, 2, 7, 5,\n",
            "        6, 6, 8, 9, 7, 5, 3, 3, 5, 9, 5, 1, 5, 6, 3, 9, 9, 3, 9, 6, 0, 0, 7, 2,\n",
            "        3, 2, 5, 3, 9, 5, 9, 3, 1, 7, 6, 3, 9, 1, 2, 7, 4, 4, 5, 1, 8, 5, 4, 1,\n",
            "        4, 4, 0, 9, 8, 1, 5, 9, 0, 4, 4, 6, 1, 4, 0, 7, 7, 0, 8, 9, 6, 6, 8, 9,\n",
            "        9, 2, 0, 7, 2, 2, 1, 8])\n",
            "<class 'torch.Tensor'> torch.Size([128, 1, 28, 28]) tensor([9, 7, 1, 3, 8, 7, 2, 4, 5, 7, 2, 7, 7, 5, 7, 1, 5, 7, 6, 4, 3, 4, 3, 1,\n",
            "        7, 3, 4, 1, 7, 0, 5, 9, 6, 8, 8, 4, 3, 9, 9, 9, 0, 2, 9, 4, 1, 2, 3, 6,\n",
            "        2, 9, 6, 2, 7, 7, 2, 4, 2, 5, 4, 6, 9, 1, 8, 6, 0, 7, 2, 6, 0, 3, 9, 3,\n",
            "        2, 1, 0, 7, 7, 4, 1, 4, 8, 3, 7, 6, 3, 0, 8, 2, 2, 9, 1, 4, 1, 0, 5, 3,\n",
            "        2, 0, 7, 5, 3, 6, 3, 8, 8, 8, 7, 1, 8, 2, 8, 8, 3, 4, 0, 4, 1, 5, 2, 6,\n",
            "        2, 3, 4, 2, 7, 1, 4, 8])\n",
            "<class 'torch.Tensor'> torch.Size([128, 1, 28, 28]) tensor([3, 0, 9, 7, 3, 6, 0, 9, 8, 6, 9, 3, 8, 8, 8, 4, 1, 0, 2, 5, 7, 8, 4, 5,\n",
            "        4, 0, 0, 5, 5, 6, 2, 8, 1, 3, 7, 2, 0, 7, 5, 1, 2, 0, 1, 3, 7, 6, 1, 3,\n",
            "        6, 8, 5, 6, 8, 3, 3, 4, 0, 0, 1, 6, 9, 5, 2, 4, 3, 1, 2, 1, 3, 3, 8, 9,\n",
            "        7, 7, 2, 1, 5, 0, 1, 2, 3, 7, 5, 3, 3, 1, 6, 9, 8, 1, 8, 1, 9, 9, 0, 9,\n",
            "        7, 7, 0, 6, 2, 0, 8, 0, 4, 2, 8, 6, 7, 3, 1, 9, 8, 1, 2, 5, 9, 6, 8, 8,\n",
            "        1, 6, 2, 7, 2, 4, 8, 6])\n",
            "<class 'torch.Tensor'> torch.Size([128, 1, 28, 28]) tensor([5, 7, 5, 8, 9, 6, 1, 8, 6, 1, 0, 0, 0, 0, 8, 9, 3, 5, 6, 6, 1, 7, 2, 9,\n",
            "        8, 8, 4, 8, 9, 2, 0, 0, 3, 8, 1, 4, 8, 5, 0, 4, 7, 4, 0, 0, 2, 1, 1, 8,\n",
            "        1, 0, 0, 4, 8, 6, 4, 9, 9, 8, 3, 6, 5, 1, 3, 0, 0, 7, 0, 6, 7, 5, 3, 2,\n",
            "        3, 9, 6, 1, 7, 1, 4, 4, 0, 3, 6, 3, 0, 4, 1, 2, 7, 6, 3, 7, 8, 6, 9, 8,\n",
            "        0, 0, 1, 4, 0, 2, 0, 5, 9, 3, 1, 7, 1, 1, 8, 7, 4, 3, 0, 6, 6, 5, 7, 2,\n",
            "        7, 1, 6, 3, 9, 6, 3, 8])\n",
            "<class 'torch.Tensor'> torch.Size([128, 1, 28, 28]) tensor([3, 0, 1, 3, 1, 3, 5, 9, 3, 1, 0, 5, 7, 3, 8, 6, 8, 6, 1, 0, 7, 8, 9, 1,\n",
            "        7, 4, 0, 8, 4, 0, 4, 0, 4, 4, 0, 6, 3, 0, 5, 0, 5, 9, 1, 9, 6, 8, 7, 0,\n",
            "        2, 6, 0, 8, 2, 7, 1, 9, 7, 7, 4, 9, 8, 4, 8, 9, 5, 2, 4, 9, 2, 4, 0, 6,\n",
            "        4, 2, 9, 0, 6, 3, 7, 6, 4, 8, 5, 5, 9, 8, 1, 9, 0, 3, 8, 7, 3, 4, 4, 9,\n",
            "        6, 8, 1, 8, 7, 0, 3, 5, 9, 8, 1, 1, 9, 9, 8, 9, 4, 2, 4, 8, 0, 1, 8, 6,\n",
            "        3, 9, 3, 3, 3, 1, 5, 7])\n",
            "<class 'torch.Tensor'> torch.Size([128, 1, 28, 28]) tensor([9, 3, 4, 1, 6, 0, 5, 3, 5, 2, 6, 9, 7, 9, 0, 1, 3, 1, 4, 0, 0, 4, 4, 3,\n",
            "        2, 1, 7, 0, 4, 1, 8, 4, 1, 4, 3, 7, 3, 3, 6, 9, 5, 1, 1, 0, 6, 4, 0, 6,\n",
            "        2, 9, 1, 5, 1, 1, 1, 2, 9, 1, 7, 4, 5, 0, 8, 3, 0, 9, 6, 2, 5, 0, 6, 3,\n",
            "        1, 6, 3, 2, 8, 9, 1, 8, 2, 2, 1, 9, 3, 0, 8, 7, 8, 1, 0, 5, 8, 6, 3, 3,\n",
            "        6, 4, 8, 6, 3, 3, 1, 6, 8, 9, 6, 2, 5, 4, 4, 0, 4, 9, 0, 4, 1, 8, 3, 1,\n",
            "        0, 3, 1, 1, 3, 5, 0, 6])\n",
            "<class 'torch.Tensor'> torch.Size([128, 1, 28, 28]) tensor([3, 6, 8, 7, 4, 3, 6, 8, 6, 8, 8, 6, 5, 5, 1, 0, 5, 4, 3, 4, 7, 2, 2, 4,\n",
            "        2, 5, 1, 5, 0, 4, 0, 8, 2, 3, 0, 0, 1, 2, 2, 9, 1, 9, 3, 0, 3, 7, 3, 3,\n",
            "        0, 1, 3, 8, 7, 0, 0, 3, 0, 1, 8, 5, 1, 2, 9, 2, 9, 9, 0, 9, 4, 5, 7, 4,\n",
            "        0, 5, 8, 8, 5, 1, 6, 6, 1, 5, 1, 5, 9, 0, 1, 1, 7, 9, 8, 0, 9, 0, 0, 6,\n",
            "        8, 9, 7, 7, 4, 1, 6, 1, 7, 9, 7, 6, 6, 9, 8, 0, 1, 0, 8, 9, 9, 4, 2, 1,\n",
            "        6, 4, 4, 7, 7, 5, 3, 3])\n",
            "<class 'torch.Tensor'> torch.Size([128, 1, 28, 28]) tensor([0, 5, 2, 4, 4, 8, 1, 0, 7, 4, 5, 8, 7, 8, 8, 5, 0, 0, 4, 9, 7, 0, 9, 7,\n",
            "        1, 8, 8, 7, 0, 7, 6, 0, 2, 8, 4, 3, 4, 2, 3, 5, 3, 3, 0, 1, 3, 6, 1, 6,\n",
            "        0, 1, 5, 1, 9, 7, 2, 1, 3, 9, 3, 0, 5, 7, 4, 7, 1, 2, 2, 3, 4, 7, 9, 8,\n",
            "        1, 9, 3, 3, 4, 0, 2, 6, 2, 1, 6, 1, 7, 2, 0, 9, 9, 9, 2, 5, 4, 1, 1, 8,\n",
            "        9, 4, 6, 6, 5, 4, 5, 5, 3, 0, 2, 3, 1, 5, 3, 9, 2, 9, 0, 0, 9, 5, 2, 1,\n",
            "        6, 7, 6, 2, 1, 0, 9, 0])\n",
            "<class 'torch.Tensor'> torch.Size([128, 1, 28, 28]) tensor([7, 0, 1, 0, 2, 9, 8, 4, 1, 7, 6, 9, 3, 9, 0, 2, 3, 1, 9, 8, 6, 1, 4, 8,\n",
            "        0, 5, 8, 4, 9, 0, 0, 7, 8, 3, 9, 3, 0, 5, 4, 7, 5, 9, 5, 0, 8, 8, 5, 8,\n",
            "        8, 5, 4, 1, 6, 1, 4, 6, 9, 2, 5, 0, 9, 1, 7, 6, 2, 0, 0, 9, 5, 6, 8, 2,\n",
            "        2, 1, 2, 6, 6, 8, 6, 8, 4, 6, 1, 6, 4, 5, 8, 1, 1, 1, 7, 4, 5, 9, 5, 9,\n",
            "        9, 3, 3, 3, 0, 4, 8, 0, 0, 1, 1, 0, 7, 6, 2, 3, 1, 1, 3, 7, 6, 9, 4, 6,\n",
            "        0, 5, 0, 1, 2, 3, 3, 8])\n",
            "<class 'torch.Tensor'> torch.Size([128, 1, 28, 28]) tensor([5, 4, 5, 1, 4, 6, 4, 1, 9, 6, 6, 3, 3, 0, 8, 9, 1, 9, 7, 3, 0, 9, 1, 7,\n",
            "        9, 1, 3, 5, 8, 0, 1, 6, 8, 2, 3, 5, 8, 9, 3, 8, 5, 9, 4, 4, 0, 2, 2, 1,\n",
            "        7, 7, 2, 5, 6, 5, 2, 6, 3, 3, 1, 2, 3, 6, 0, 6, 2, 9, 0, 9, 7, 8, 3, 8,\n",
            "        1, 7, 1, 4, 7, 8, 0, 9, 1, 5, 3, 1, 9, 0, 0, 6, 4, 5, 8, 9, 8, 2, 7, 3,\n",
            "        3, 0, 7, 0, 3, 6, 5, 5, 8, 9, 5, 3, 0, 2, 6, 7, 0, 5, 2, 8, 6, 2, 1, 6,\n",
            "        4, 3, 4, 1, 2, 7, 1, 4])\n",
            "<class 'torch.Tensor'> torch.Size([128, 1, 28, 28]) tensor([2, 6, 1, 4, 9, 8, 6, 1, 9, 2, 4, 7, 0, 1, 7, 1, 2, 9, 0, 7, 4, 8, 1, 7,\n",
            "        2, 3, 9, 4, 1, 4, 4, 7, 4, 8, 9, 0, 1, 9, 4, 0, 6, 0, 6, 6, 6, 2, 8, 6,\n",
            "        5, 5, 8, 2, 7, 6, 1, 6, 5, 2, 0, 2, 7, 6, 7, 5, 1, 3, 8, 7, 7, 1, 8, 2,\n",
            "        6, 1, 2, 0, 1, 9, 3, 3, 1, 6, 1, 1, 1, 7, 1, 1, 5, 5, 5, 1, 7, 3, 8, 9,\n",
            "        5, 0, 5, 2, 0, 7, 5, 2, 8, 0, 1, 3, 3, 5, 7, 6, 7, 1, 3, 1, 8, 0, 3, 9,\n",
            "        2, 8, 4, 9, 7, 9, 3, 0])\n",
            "<class 'torch.Tensor'> torch.Size([128, 1, 28, 28]) tensor([6, 3, 8, 3, 6, 1, 0, 8, 6, 7, 1, 6, 5, 4, 4, 7, 4, 9, 4, 5, 2, 4, 6, 1,\n",
            "        1, 2, 9, 8, 7, 5, 6, 7, 0, 0, 1, 2, 4, 9, 4, 1, 7, 2, 2, 1, 7, 3, 1, 8,\n",
            "        0, 0, 9, 3, 8, 3, 7, 6, 5, 4, 8, 9, 1, 2, 2, 2, 6, 5, 3, 0, 7, 2, 0, 7,\n",
            "        8, 8, 5, 1, 9, 1, 4, 3, 7, 1, 5, 4, 2, 5, 1, 1, 0, 3, 1, 8, 4, 2, 6, 5,\n",
            "        8, 3, 4, 4, 0, 7, 9, 1, 9, 2, 4, 6, 7, 9, 6, 9, 9, 0, 6, 3, 1, 4, 4, 9,\n",
            "        7, 2, 2, 6, 6, 8, 6, 9])\n",
            "<class 'torch.Tensor'> torch.Size([128, 1, 28, 28]) tensor([4, 1, 1, 9, 9, 3, 8, 1, 2, 1, 0, 6, 3, 6, 4, 6, 0, 7, 4, 2, 9, 1, 7, 9,\n",
            "        1, 5, 8, 4, 7, 7, 3, 5, 5, 3, 7, 9, 4, 1, 6, 7, 0, 1, 8, 9, 8, 9, 1, 4,\n",
            "        3, 7, 7, 9, 9, 8, 0, 3, 1, 6, 8, 4, 9, 2, 4, 1, 0, 1, 5, 9, 5, 0, 0, 0,\n",
            "        0, 1, 2, 5, 1, 5, 8, 0, 1, 0, 7, 3, 3, 4, 7, 0, 5, 1, 6, 3, 8, 5, 0, 9,\n",
            "        5, 7, 7, 3, 3, 8, 1, 7, 8, 1, 2, 6, 5, 7, 5, 4, 9, 7, 0, 3, 2, 8, 2, 0,\n",
            "        6, 9, 0, 0, 5, 2, 1, 0])\n",
            "<class 'torch.Tensor'> torch.Size([128, 1, 28, 28]) tensor([1, 2, 5, 5, 2, 7, 2, 9, 6, 7, 0, 2, 7, 1, 0, 9, 6, 6, 7, 7, 2, 8, 5, 2,\n",
            "        2, 7, 4, 7, 6, 6, 0, 9, 7, 3, 1, 6, 6, 8, 3, 6, 8, 1, 7, 4, 0, 6, 5, 0,\n",
            "        6, 8, 1, 6, 3, 8, 5, 1, 3, 9, 4, 7, 8, 0, 1, 7, 7, 4, 6, 4, 1, 7, 0, 7,\n",
            "        9, 0, 3, 3, 4, 5, 9, 9, 1, 6, 3, 4, 3, 8, 0, 1, 4, 0, 7, 2, 6, 7, 4, 5,\n",
            "        7, 2, 3, 8, 7, 3, 7, 7, 5, 6, 0, 1, 2, 4, 8, 3, 1, 7, 7, 8, 9, 4, 0, 6,\n",
            "        6, 6, 8, 7, 0, 7, 5, 1])\n",
            "<class 'torch.Tensor'> torch.Size([128, 1, 28, 28]) tensor([2, 6, 0, 4, 4, 2, 6, 0, 4, 3, 3, 9, 7, 9, 1, 2, 0, 9, 5, 7, 1, 5, 2, 9,\n",
            "        6, 7, 8, 1, 3, 7, 8, 6, 6, 6, 9, 9, 4, 0, 0, 6, 3, 9, 3, 0, 8, 7, 4, 1,\n",
            "        5, 3, 9, 2, 2, 1, 4, 2, 9, 9, 5, 4, 0, 1, 9, 1, 5, 8, 4, 6, 9, 9, 5, 9,\n",
            "        5, 1, 4, 1, 3, 8, 9, 1, 3, 1, 1, 9, 3, 8, 2, 5, 9, 3, 2, 5, 3, 1, 1, 4,\n",
            "        9, 8, 5, 7, 4, 6, 3, 4, 8, 8, 1, 8, 3, 1, 4, 3, 1, 4, 6, 8, 7, 3, 8, 1,\n",
            "        1, 2, 6, 5, 1, 1, 7, 7])\n",
            "<class 'torch.Tensor'> torch.Size([128, 1, 28, 28]) tensor([3, 2, 9, 6, 4, 2, 0, 3, 3, 9, 2, 1, 0, 0, 0, 3, 0, 2, 6, 0, 8, 4, 8, 2,\n",
            "        0, 7, 0, 1, 7, 9, 0, 9, 9, 3, 3, 9, 7, 0, 6, 8, 6, 4, 1, 5, 6, 4, 1, 2,\n",
            "        1, 5, 0, 0, 7, 4, 3, 3, 3, 8, 7, 3, 7, 9, 8, 5, 7, 6, 9, 2, 4, 8, 5, 0,\n",
            "        9, 9, 7, 6, 2, 5, 2, 7, 3, 5, 8, 2, 6, 7, 0, 4, 3, 5, 0, 2, 5, 3, 7, 3,\n",
            "        3, 1, 8, 4, 1, 8, 8, 4, 6, 9, 0, 7, 9, 4, 9, 6, 2, 3, 3, 2, 2, 5, 2, 4,\n",
            "        6, 2, 2, 7, 3, 5, 2, 5])\n",
            "<class 'torch.Tensor'> torch.Size([128, 1, 28, 28]) tensor([6, 4, 6, 6, 8, 5, 9, 8, 7, 0, 5, 5, 5, 2, 1, 5, 8, 5, 8, 7, 8, 6, 2, 8,\n",
            "        4, 8, 3, 5, 1, 9, 2, 2, 2, 9, 5, 9, 6, 3, 5, 8, 9, 3, 4, 1, 0, 8, 8, 0,\n",
            "        1, 2, 2, 0, 9, 3, 5, 5, 5, 6, 4, 9, 5, 0, 5, 9, 0, 2, 3, 2, 3, 0, 7, 8,\n",
            "        7, 3, 7, 7, 6, 0, 8, 1, 6, 9, 6, 0, 1, 1, 9, 5, 2, 8, 7, 0, 2, 0, 9, 5,\n",
            "        8, 9, 1, 4, 7, 6, 7, 8, 6, 8, 1, 4, 9, 2, 3, 3, 7, 8, 5, 7, 7, 5, 7, 6,\n",
            "        3, 8, 9, 6, 0, 0, 9, 3])\n",
            "<class 'torch.Tensor'> torch.Size([128, 1, 28, 28]) tensor([0, 1, 4, 4, 7, 8, 0, 8, 7, 0, 2, 0, 4, 2, 0, 6, 9, 8, 3, 5, 2, 0, 9, 4,\n",
            "        2, 3, 9, 6, 9, 2, 3, 1, 0, 6, 2, 8, 9, 2, 6, 0, 7, 6, 7, 6, 5, 8, 2, 6,\n",
            "        1, 2, 2, 4, 9, 5, 7, 2, 4, 3, 9, 9, 4, 8, 0, 6, 3, 5, 0, 1, 6, 5, 2, 8,\n",
            "        2, 8, 6, 6, 1, 3, 2, 7, 0, 1, 4, 8, 1, 2, 8, 2, 0, 6, 2, 6, 4, 9, 9, 9,\n",
            "        3, 2, 1, 3, 5, 9, 9, 0, 9, 9, 7, 2, 3, 7, 6, 3, 6, 8, 4, 6, 9, 9, 2, 2,\n",
            "        8, 6, 0, 7, 4, 6, 0, 0])\n",
            "<class 'torch.Tensor'> torch.Size([128, 1, 28, 28]) tensor([7, 6, 1, 8, 6, 2, 9, 9, 0, 3, 9, 2, 1, 7, 5, 3, 3, 3, 3, 8, 4, 9, 6, 0,\n",
            "        2, 7, 1, 6, 7, 8, 5, 4, 1, 9, 0, 7, 3, 4, 5, 6, 7, 8, 7, 4, 5, 8, 7, 7,\n",
            "        0, 2, 3, 4, 5, 2, 5, 3, 9, 2, 7, 5, 4, 2, 4, 9, 4, 5, 2, 5, 4, 5, 2, 1,\n",
            "        1, 6, 8, 2, 0, 3, 0, 4, 1, 4, 7, 7, 8, 8, 5, 2, 8, 7, 6, 0, 1, 0, 3, 8,\n",
            "        0, 3, 5, 7, 0, 6, 8, 7, 0, 3, 9, 3, 1, 0, 6, 6, 7, 0, 7, 5, 5, 4, 8, 6,\n",
            "        1, 1, 0, 8, 4, 9, 4, 1])\n",
            "<class 'torch.Tensor'> torch.Size([128, 1, 28, 28]) tensor([2, 0, 5, 3, 5, 9, 6, 2, 8, 3, 7, 4, 9, 5, 9, 9, 0, 8, 3, 1, 6, 4, 8, 6,\n",
            "        8, 6, 3, 1, 6, 6, 3, 6, 5, 1, 7, 6, 0, 5, 1, 8, 2, 8, 7, 8, 6, 2, 5, 5,\n",
            "        6, 6, 1, 0, 0, 0, 9, 6, 3, 2, 2, 6, 2, 8, 0, 8, 3, 3, 5, 2, 9, 9, 0, 8,\n",
            "        4, 0, 7, 9, 8, 3, 1, 9, 6, 7, 2, 5, 4, 7, 2, 2, 6, 5, 7, 5, 4, 1, 7, 6,\n",
            "        0, 8, 1, 2, 6, 5, 0, 3, 4, 4, 5, 2, 0, 9, 8, 8, 7, 0, 7, 5, 4, 9, 3, 0,\n",
            "        2, 1, 6, 3, 8, 7, 1, 2])\n",
            "<class 'torch.Tensor'> torch.Size([128, 1, 28, 28]) tensor([0, 2, 4, 9, 6, 8, 6, 3, 8, 5, 2, 8, 6, 3, 9, 4, 3, 8, 6, 2, 2, 2, 2, 8,\n",
            "        1, 8, 9, 8, 5, 7, 8, 7, 2, 8, 4, 9, 0, 6, 1, 5, 3, 0, 0, 3, 6, 3, 5, 2,\n",
            "        5, 1, 8, 7, 0, 8, 1, 9, 7, 1, 8, 3, 7, 8, 1, 7, 3, 6, 2, 2, 5, 8, 2, 7,\n",
            "        1, 7, 7, 7, 7, 4, 9, 6, 8, 1, 6, 1, 8, 2, 5, 7, 1, 7, 7, 1, 2, 7, 7, 8,\n",
            "        2, 1, 2, 7, 8, 7, 0, 7, 3, 9, 0, 1, 3, 2, 4, 7, 5, 4, 6, 1, 0, 3, 9, 4,\n",
            "        3, 3, 1, 2, 7, 9, 3, 9])\n",
            "<class 'torch.Tensor'> torch.Size([128, 1, 28, 28]) tensor([3, 6, 9, 2, 3, 8, 5, 0, 1, 6, 7, 7, 2, 1, 6, 3, 0, 5, 7, 9, 2, 1, 5, 6,\n",
            "        9, 2, 1, 7, 7, 7, 7, 4, 0, 8, 2, 8, 1, 6, 8, 7, 4, 5, 3, 7, 1, 7, 5, 8,\n",
            "        7, 4, 6, 1, 1, 2, 7, 0, 6, 1, 2, 6, 9, 0, 9, 7, 0, 7, 3, 9, 6, 4, 1, 5,\n",
            "        6, 3, 2, 6, 8, 4, 4, 0, 8, 1, 3, 9, 8, 2, 0, 7, 2, 2, 4, 1, 1, 0, 7, 6,\n",
            "        2, 5, 5, 5, 7, 4, 7, 9, 6, 1, 9, 0, 8, 6, 9, 0, 6, 7, 3, 6, 3, 4, 8, 1,\n",
            "        7, 7, 0, 2, 2, 6, 8, 7])\n",
            "<class 'torch.Tensor'> torch.Size([128, 1, 28, 28]) tensor([5, 3, 5, 2, 9, 8, 0, 6, 8, 0, 0, 6, 6, 4, 2, 1, 7, 2, 8, 1, 2, 9, 4, 2,\n",
            "        3, 1, 1, 5, 5, 9, 8, 3, 5, 0, 1, 1, 8, 8, 6, 7, 0, 7, 5, 3, 0, 3, 1, 7,\n",
            "        0, 0, 0, 6, 1, 7, 1, 6, 1, 9, 0, 8, 3, 3, 8, 5, 0, 8, 2, 7, 7, 8, 7, 2,\n",
            "        0, 1, 5, 0, 3, 2, 7, 3, 9, 3, 3, 7, 5, 7, 3, 3, 8, 8, 6, 1, 2, 8, 4, 7,\n",
            "        6, 5, 5, 3, 9, 4, 0, 7, 6, 4, 4, 6, 1, 0, 2, 5, 6, 0, 0, 8, 4, 4, 8, 9,\n",
            "        1, 4, 1, 7, 8, 2, 3, 9])\n",
            "<class 'torch.Tensor'> torch.Size([96, 1, 28, 28]) tensor([7, 5, 4, 8, 4, 7, 5, 2, 9, 8, 6, 3, 1, 4, 8, 6, 2, 9, 3, 8, 3, 1, 7, 7,\n",
            "        7, 7, 1, 5, 7, 0, 6, 1, 3, 5, 5, 7, 4, 3, 3, 3, 5, 5, 5, 9, 5, 3, 3, 0,\n",
            "        1, 1, 6, 8, 1, 7, 0, 8, 8, 7, 9, 7, 0, 6, 3, 3, 4, 6, 6, 4, 2, 3, 7, 6,\n",
            "        3, 8, 3, 0, 1, 1, 1, 2, 8, 6, 5, 7, 8, 1, 6, 0, 7, 5, 6, 3, 7, 1, 5, 1])\n"
          ]
        }
      ],
      "source": [
        "for data in loader:\n",
        "    print(type(data[0]), data[0].shape, data[1])"
      ]
    },
    {
      "cell_type": "markdown",
      "metadata": {
        "id": "-vMWqm3zHLse"
      },
      "source": [
        "# 4. Building a neural network\n",
        "Now, let's implement a simple neural network (NN) by Pytorch.\n",
        "All NN models are seen as a `torch.nn.Module`. And all layers in this NN are also `torch.nn.Module`. You can refer to  https://pytorch.org/docs/stable/generated/torch.nn.Module.html for more details.\n",
        "\n",
        "The following codes implement a simple linear model. Usually, we define the model structure in the `__init__` function. And we define the forward process in the `forward` function. The backward process can be done by the Pytorch autograd as mentioned before."
      ]
    },
    {
      "cell_type": "code",
      "execution_count": 64,
      "metadata": {
        "id": "sKkpkVGeHLse"
      },
      "outputs": [],
      "source": [
        "class SimpleLinear(torch.nn.Module):\n",
        "    def __init__(self, input_dim, output_dim):\n",
        "        super(SimpleLinear, self).__init__()\n",
        "        self.linear = torch.nn.Linear(input_dim, output_dim)\n",
        "\n",
        "    def forward(self, x):\n",
        "        outputs = self.linear(x)\n",
        "        return outputs\n"
      ]
    },
    {
      "cell_type": "markdown",
      "metadata": {
        "id": "IVs-AYhjHLse"
      },
      "source": [
        "Let's instantiate the NN model. We define the input dimension as the `28*28`， which is the number of features of the mnist data sample."
      ]
    },
    {
      "cell_type": "code",
      "execution_count": 65,
      "metadata": {
        "id": "fMMLPqfwHLse"
      },
      "outputs": [],
      "source": [
        "\n",
        "simplelinear = SimpleLinear(28*28, 10)"
      ]
    },
    {
      "cell_type": "markdown",
      "metadata": {
        "id": "_H28kz0HHLse"
      },
      "source": [
        "Then, we can conduct the forward process with the mnist data and our linear model"
      ]
    },
    {
      "cell_type": "code",
      "execution_count": 66,
      "metadata": {
        "colab": {
          "base_uri": "https://localhost:8080/"
        },
        "id": "kvwNm4ahHLse",
        "outputId": "d18f4d14-9d51-416a-d54d-c572db1c8d3a"
      },
      "outputs": [
        {
          "output_type": "stream",
          "name": "stdout",
          "text": [
            "tensor([ 0.4074, -0.4852, -1.7659, -0.2129,  1.1740, -0.9588, -0.7638, -0.2424,\n",
            "         0.7538, -0.7951], grad_fn=<ViewBackward0>)\n"
          ]
        }
      ],
      "source": [
        "output = simplelinear(mnist[0][0].view(-1))\n",
        "print(output)"
      ]
    },
    {
      "cell_type": "markdown",
      "metadata": {
        "id": "0I4Oi_HvHLse"
      },
      "source": [
        "In the above code, we transpose the data from shape `(1, 28, 28)` into `(784)` by `.view(-1)`. Because the `linear` layer need to receive a 1-dimension or 2-dimension tensor.\n",
        "\n",
        "You can find details here https://pytorch.org/docs/stable/generated/torch.nn.Linear.html"
      ]
    },
    {
      "cell_type": "markdown",
      "metadata": {
        "id": "t69MXs78HLse"
      },
      "source": [
        "We can use our defined loader to conveniently load dataset:"
      ]
    },
    {
      "cell_type": "code",
      "execution_count": 67,
      "metadata": {
        "colab": {
          "base_uri": "https://localhost:8080/"
        },
        "id": "1S4BbBkZHLsf",
        "outputId": "dd7efdfd-3981-434b-840f-b58d68cf99ad"
      },
      "outputs": [
        {
          "output_type": "stream",
          "name": "stdout",
          "text": [
            "tensor([[-0.2501,  1.2880, -0.6478,  ..., -1.1126,  0.5610, -0.0667],\n",
            "        [ 0.4124,  0.1798, -0.9899,  ..., -0.0152,  0.3328, -0.3179],\n",
            "        [ 0.2843, -0.4051, -1.1507,  ..., -0.2111,  0.2038, -0.5803],\n",
            "        ...,\n",
            "        [-0.1832,  0.0562, -0.5384,  ...,  0.2721,  0.1987, -0.1403],\n",
            "        [ 0.8682,  0.2267, -0.6841,  ..., -0.5296,  0.5951, -1.0665],\n",
            "        [-0.5564,  0.6322, -0.9956,  ...,  0.9321,  0.4339, -0.2880]],\n",
            "       grad_fn=<AddmmBackward0>)\n",
            "torch.Size([128, 10])\n"
          ]
        }
      ],
      "source": [
        "for data in loader:\n",
        "    image, label = data\n",
        "    output = simplelinear(image.view(image.shape[0], -1))\n",
        "    print(output)\n",
        "    print(output.shape)\n",
        "    break # let's just look at the results in one iteration"
      ]
    },
    {
      "cell_type": "markdown",
      "metadata": {
        "id": "DJ5Fi_ZCHLsf"
      },
      "source": [
        "In the above code, we use `view(image.shape[0], -1)` instead of `view(-1)`. Because we input data as a batch-style into the model instead of a simple image. Pytorch model can automatically analyse the single-sample or the batch-ssample inputs and conduct forward."
      ]
    },
    {
      "cell_type": "markdown",
      "metadata": {
        "id": "qdyU4jpCHLsf"
      },
      "source": [
        "Then, let's implement a more complex Multi-layer perceptron (MLP) model:"
      ]
    },
    {
      "cell_type": "code",
      "execution_count": 68,
      "metadata": {
        "id": "2meAo40mHLsf"
      },
      "outputs": [],
      "source": [
        "import torch.nn.functional as F\n",
        "\n",
        "class MLP(torch.nn.Module):\n",
        "    def __init__(self, input_dim, output_dim):\n",
        "        super(MLP, self).__init__()\n",
        "        self.linear1 = torch.nn.Linear(input_dim, 512)\n",
        "        self.linear2 = torch.nn.Linear(512, output_dim)\n",
        "\n",
        "    def forward(self, x):\n",
        "        x = x.view(x.shape[0], -1)\n",
        "        x = self.linear1(x)\n",
        "        x = F.relu(x)  # applies the nonlinear activation\n",
        "        outputs = self.linear2(x)\n",
        "        return outputs\n"
      ]
    },
    {
      "cell_type": "markdown",
      "metadata": {
        "id": "3BSzdzABHLsf"
      },
      "source": [
        "In the above example, except the linear layer, we add the relu activation function after the output of the first linear layer. And we move the reshape process into the forward function for the convenience. Let's use it"
      ]
    },
    {
      "cell_type": "code",
      "execution_count": 69,
      "metadata": {
        "id": "TwIBNoeOHLsf"
      },
      "outputs": [],
      "source": [
        "mlp = MLP(784, 10)"
      ]
    },
    {
      "cell_type": "markdown",
      "metadata": {
        "id": "ItzbdijBHLsf"
      },
      "source": [
        "Use break to save running time..."
      ]
    },
    {
      "cell_type": "code",
      "execution_count": 70,
      "metadata": {
        "scrolled": true,
        "colab": {
          "base_uri": "https://localhost:8080/"
        },
        "id": "5Ae8nTYnHLsf",
        "outputId": "d21819c1-cedd-4975-a4a8-da1a9252455a"
      },
      "outputs": [
        {
          "output_type": "stream",
          "name": "stdout",
          "text": [
            "tensor([[-0.0253, -0.0618,  0.0886,  ..., -0.2114,  0.2491,  0.1929],\n",
            "        [-0.3750,  0.0550, -0.0261,  ...,  0.0319,  0.2206,  0.1285],\n",
            "        [ 0.2518,  0.1964,  0.2403,  ..., -0.0536,  0.0761,  0.0949],\n",
            "        ...,\n",
            "        [-0.0487, -0.0211, -0.1044,  ..., -0.4831,  0.1401,  0.3006],\n",
            "        [-0.4589,  0.1074, -0.1299,  ..., -0.2764,  0.1864, -0.0966],\n",
            "        [-0.0766,  0.1837,  0.0100,  ...,  0.1573, -0.0558,  0.1865]],\n",
            "       grad_fn=<AddmmBackward0>)\n"
          ]
        }
      ],
      "source": [
        "for i, data in enumerate(loader):\n",
        "    image, label = data\n",
        "    output = mlp(image.view(image.shape[0], -1))\n",
        "    print(output)\n",
        "    break"
      ]
    },
    {
      "cell_type": "code",
      "execution_count": 71,
      "metadata": {
        "colab": {
          "base_uri": "https://localhost:8080/"
        },
        "id": "mEGMoKxhHLsf",
        "outputId": "86544780-98de-4d66-f9ad-ac96ede28cb5"
      },
      "outputs": [
        {
          "output_type": "execute_result",
          "data": {
            "text/plain": [
              "tensor([8, 6, 0, 9, 9, 9, 1, 8, 6, 9, 4, 6, 1, 6, 2, 1, 6, 6, 6, 6, 9, 6, 9, 8,\n",
              "        6, 9, 9, 2, 8, 0, 6, 6, 2, 6, 9, 9, 6, 6, 1, 8, 5, 8, 9, 6, 1, 9, 1, 6,\n",
              "        6, 1, 2, 9, 9, 1, 6, 9, 6, 1, 6, 9, 6, 6, 9, 6, 9, 6, 6, 9, 9, 9, 6, 1,\n",
              "        1, 1, 9, 6, 6, 9, 0, 9, 6, 1, 6, 6, 9, 6, 1, 6, 1, 6, 6, 3, 8, 9, 9, 6,\n",
              "        9, 6, 0, 6, 1, 6, 9, 9, 6, 9, 9, 9, 1, 1, 2, 6, 6, 6, 9, 9, 1, 6, 8, 6,\n",
              "        6, 9, 6, 9, 9, 6, 8, 9])"
            ]
          },
          "metadata": {},
          "execution_count": 71
        }
      ],
      "source": [
        "# We can pick the one with highest scores as the predicted class\n",
        "output.argmax(dim=1)  # find the index of the maximum value along dimension 1 (the class dimension)"
      ]
    },
    {
      "cell_type": "markdown",
      "metadata": {
        "id": "qbc-qUHgHLsf"
      },
      "source": [
        "# 5. Train a neural network\n",
        "\n",
        "Now, let's train a NN model for predicting labels of data.\n",
        "Before training, there are some other preparing works need to do.\n",
        "We have defined the dataset and the model structure. We should define an optimizer to guide pytorch how to use gradients to update model parameters. And we should define a loss function to guide pytorch to generate the gradients.\n",
        "\n",
        "Let's define an optimizer:"
      ]
    },
    {
      "cell_type": "code",
      "execution_count": 72,
      "metadata": {
        "id": "LUsMVuanHLsf"
      },
      "outputs": [],
      "source": [
        "optimizer = torch.optim.SGD(mlp.parameters(),\n",
        "                            lr=0.1,\n",
        "                            weight_decay=0.0001,  # L2 regularization\n",
        "                            momentum=0.9)"
      ]
    },
    {
      "cell_type": "markdown",
      "metadata": {
        "id": "XsRQOEcbHLsf"
      },
      "source": [
        "The above code defines an optimizer, momentum-SGD, to optimize the `mlp`.\n",
        "\n",
        "`lr=0.1` sets the learning rate as 0.1. `weight_decay=0.0001` sets the weight decay as 0.0001, `momentum=0.9` sets the momentum as 0.9.\n",
        "\n",
        "You can find more details about thiss optimizer:\n",
        "https://en.wikipedia.org/wiki/Stochastic_gradient_descent\n",
        "\n",
        "https://pytorch.org/docs/stable/generated/torch.optim.SGD.html\n"
      ]
    },
    {
      "cell_type": "markdown",
      "metadata": {
        "id": "_CsP6migHLsf"
      },
      "source": [
        "Now, let's define the cross-entropy loss function:"
      ]
    },
    {
      "cell_type": "code",
      "execution_count": 73,
      "metadata": {
        "id": "PzbH1fX1HLsf"
      },
      "outputs": [],
      "source": [
        "loss = torch.nn.CrossEntropyLoss()"
      ]
    },
    {
      "cell_type": "markdown",
      "metadata": {
        "id": "97wTFxDwHLsg"
      },
      "source": [
        "And we can define the accuracy metric as:"
      ]
    },
    {
      "cell_type": "code",
      "execution_count": 74,
      "metadata": {
        "id": "XhKjUD0hHLsg"
      },
      "outputs": [],
      "source": [
        "def classification_metric(output, target):\n",
        "    \"\"\"Computes the precision@k for the specified values of k\"\"\"\n",
        "    topks = [1, 5]\n",
        "    maxk = 5\n",
        "    batch_size = target.size(0)\n",
        "\n",
        "    _, pred = output.topk(maxk, 1, True, True)\n",
        "    pred = pred.t()\n",
        "    correct = pred.eq(target.view(1, -1).expand_as(pred))\n",
        "\n",
        "    metric_stat = {}\n",
        "    for topk in topks:\n",
        "        correct_k = correct[:topk].view(-1).float().sum(0, keepdim=True)\n",
        "        metric_stat[\"Acc{}\".format(topk)] = correct_k.mul_(100.0 / batch_size).item()\n",
        "    return metric_stat"
      ]
    },
    {
      "cell_type": "code",
      "execution_count": 74,
      "metadata": {
        "id": "qH6-p-SfHLsg"
      },
      "outputs": [],
      "source": []
    },
    {
      "cell_type": "code",
      "execution_count": 75,
      "metadata": {
        "colab": {
          "base_uri": "https://localhost:8080/"
        },
        "id": "Ds-u7tj-HLsg",
        "outputId": "97728fc2-2ebd-4a2d-9b6c-792e7ba113f5"
      },
      "outputs": [
        {
          "output_type": "execute_result",
          "data": {
            "text/plain": [
              "tensor([False, False, False, False, False, False, False, False, False,  True,\n",
              "        False,  True, False, False, False, False, False, False, False, False,\n",
              "        False, False, False, False, False, False, False, False, False,  True,\n",
              "         True, False, False, False, False, False,  True, False, False, False,\n",
              "        False,  True, False,  True, False, False, False, False,  True, False,\n",
              "        False, False,  True, False, False, False, False, False,  True, False,\n",
              "        False, False, False, False, False, False,  True,  True, False, False,\n",
              "        False, False, False, False, False, False, False, False, False, False,\n",
              "        False, False, False,  True,  True, False,  True, False, False, False,\n",
              "        False, False, False, False,  True, False, False,  True, False, False,\n",
              "        False, False, False, False, False, False, False, False, False, False,\n",
              "        False, False, False, False, False, False, False, False, False, False,\n",
              "        False,  True, False,  True, False,  True, False, False])"
            ]
          },
          "metadata": {},
          "execution_count": 75
        }
      ],
      "source": [
        "torch.argmax(output, dim=1)==label"
      ]
    },
    {
      "cell_type": "markdown",
      "metadata": {
        "id": "rQDtTFhwHLsg"
      },
      "source": [
        "Now, we can begin to train our mlp model:"
      ]
    },
    {
      "cell_type": "code",
      "execution_count": 76,
      "metadata": {
        "colab": {
          "base_uri": "https://localhost:8080/"
        },
        "id": "2TbU_lCaHLsg",
        "outputId": "84532a90-b51e-4c1b-b450-41d789f70990"
      },
      "outputs": [
        {
          "output_type": "stream",
          "name": "stdout",
          "text": [
            "Iteration: 100, loss is : 0.22432838380336761, Acc for this batch: 0.938\n",
            "Iteration: 200, loss is : 0.1790991574525833, Acc for this batch: 0.930\n",
            "Iteration: 300, loss is : 0.09816092997789383, Acc for this batch: 0.953\n",
            "Iteration: 400, loss is : 0.1116049513220787, Acc for this batch: 0.969\n",
            "Iteration: 500, loss is : 0.10325805097818375, Acc for this batch: 0.961\n",
            "Iteration: 600, loss is : 0.10744055360555649, Acc for this batch: 0.945\n",
            "Iteration: 700, loss is : 0.1336688995361328, Acc for this batch: 0.969\n",
            "Iteration: 800, loss is : 0.04544815421104431, Acc for this batch: 0.992\n",
            "Iteration: 900, loss is : 0.07810362428426743, Acc for this batch: 0.977\n"
          ]
        }
      ],
      "source": [
        "mlp.train()  # set to training mode\n",
        "\n",
        "iters = 0   # total number of iterations\n",
        "for epoch in range(2):\n",
        "    for i, data in enumerate(loader):\n",
        "        iters += 1\n",
        "        image, label = data\n",
        "        optimizer.zero_grad()  # reset gradient of parameters to be optimzied\n",
        "\n",
        "        output = mlp(image)  # forward pass: generate prediction\n",
        "        new_loss = loss(output, label)  # forward pass: compute loss\n",
        "        new_loss.backward()  # backward pass: compute gradients\n",
        "        optimizer.step()  # update parameters\n",
        "\n",
        "        output_class = output.argmax(dim=1)\n",
        "        correct_samples = (output_class == label).sum().item()\n",
        "        acc = correct_samples / label.shape[0]\n",
        "\n",
        "        if iters % 100 == 0:\n",
        "            print(f\"Iteration: {iters}, loss is : {new_loss.item()}, Acc for this batch: {acc:.3f}\")"
      ]
    },
    {
      "cell_type": "code",
      "execution_count": 82,
      "metadata": {
        "colab": {
          "base_uri": "https://localhost:8080/"
        },
        "id": "Zemm8RcbHLsg",
        "outputId": "97b45cfd-d228-459a-8902-021170f8d68c"
      },
      "outputs": [
        {
          "output_type": "stream",
          "name": "stdout",
          "text": [
            "Iteration: 100, loss is : 0.032764408737421036, Acc for this batch: 0.992\n",
            "Iteration: 200, loss is : 0.03745558485388756, Acc for this batch: 0.992\n",
            "Iteration: 300, loss is : 0.0062540746293962, Acc for this batch: 1.000\n",
            "Iteration: 400, loss is : 0.023077357560396194, Acc for this batch: 0.992\n",
            "Iteration: 500, loss is : 0.019038042053580284, Acc for this batch: 0.992\n",
            "Iteration: 600, loss is : 0.026016101241111755, Acc for this batch: 0.984\n",
            "Iteration: 700, loss is : 0.09356296807527542, Acc for this batch: 0.977\n",
            "Iteration: 800, loss is : 0.04081892967224121, Acc for this batch: 0.977\n",
            "Iteration: 900, loss is : 0.049486007541418076, Acc for this batch: 0.992\n"
          ]
        }
      ],
      "source": [
        "# If GPU is available. If GPU is not available in your machine, this will raise error.\n",
        "\n",
        "mlp.cuda()  # move the model to GPU\n",
        "\n",
        "optimizer = torch.optim.SGD(mlp.parameters(),\n",
        "                            lr=0.1,\n",
        "                            weight_decay=0.0001,  # L2 regularization\n",
        "                            momentum=0.9)\n",
        "\n",
        "mlp.train()  # set to training mode\n",
        "\n",
        "iters = 0   # total number of iterations\n",
        "for epoch in range(2):\n",
        "    for i, data in enumerate(loader):\n",
        "        iters += 1\n",
        "        image, label = data\n",
        "\n",
        "        image = image.cuda()  # move data to GPU\n",
        "        label = label.cuda()  # move data to GPU\n",
        "\n",
        "        optimizer.zero_grad()  # reset gradient of parameters to be optimzied\n",
        "\n",
        "        output = mlp(image)  # forward pass: generate prediction\n",
        "        new_loss = loss(output, label)  # forward pass: compute loss\n",
        "        new_loss.backward()  # backward pass: compute gradients\n",
        "        optimizer.step()  # update parameters\n",
        "\n",
        "        output_class = output.argmax(dim=1)\n",
        "        correct_samples = (output_class == label).sum().item()  # .item() covers a tensor to a number\n",
        "        acc = correct_samples / label.shape[0]\n",
        "\n",
        "        if iters % 100 == 0:\n",
        "            print(f\"Iteration: {iters}, loss is : {new_loss.item()}, Acc for this batch: {acc:.3f}\")"
      ]
    },
    {
      "cell_type": "code",
      "execution_count": 82,
      "metadata": {
        "id": "gCZ4IxpKHLsg"
      },
      "outputs": [],
      "source": []
    },
    {
      "cell_type": "markdown",
      "metadata": {
        "id": "6FZ7qVZ1HLsg"
      },
      "source": [
        "Now we can make predictions for test set."
      ]
    },
    {
      "cell_type": "code",
      "execution_count": 107,
      "metadata": {
        "id": "rWJv_Rg8HLsg"
      },
      "outputs": [],
      "source": [
        "# set train=False to load the test set\n",
        "mnist_test = torchvision.datasets.MNIST('./', transform=train_transform, train=False, download=True)\n",
        "loader_test = torch.utils.data.DataLoader(mnist_test, batch_size=128, shuffle=False)  # shuffle does not matter for test"
      ]
    },
    {
      "cell_type": "code",
      "execution_count": 87,
      "metadata": {
        "colab": {
          "base_uri": "https://localhost:8080/"
        },
        "id": "nj-au9PoHLsg",
        "outputId": "5dd5853c-f40f-44a7-eae4-9f2a97163364"
      },
      "outputs": [
        {
          "output_type": "stream",
          "name": "stdout",
          "text": [
            "Acc for test set: 0.992\n"
          ]
        }
      ],
      "source": [
        "mlp.eval()  # set the model to evaluation mode\n",
        "\n",
        "correct_samples = 0\n",
        "total_samples = 0\n",
        "\n",
        "with torch.no_grad(): # no need to compute gradient in testing\n",
        "    for i, data in enumerate(loader_test):\n",
        "        image, label = data\n",
        "        image, label = image.cuda(), label.cuda()\n",
        "\n",
        "        output = mlp(image)  # generate prediction\n",
        "\n",
        "        output_class = output.argmax(dim=1)\n",
        "        correct_samples += (output_class == label).sum()\n",
        "        total_samples += label.shape[0]\n",
        "    acc = correct_samples / total_samples\n",
        "\n",
        "    print(f\"Acc for test set: {acc:.3f}\")"
      ]
    },
    {
      "cell_type": "code",
      "execution_count": null,
      "metadata": {
        "id": "WO3Mi76kHLsg"
      },
      "outputs": [],
      "source": []
    },
    {
      "cell_type": "markdown",
      "metadata": {
        "id": "fz8JdVkMHLsg"
      },
      "source": [
        "We can see the loss values decreases, the top1 and top5 accuracy increase with the training goes on."
      ]
    },
    {
      "cell_type": "markdown",
      "metadata": {
        "id": "mNAbH2TQHLsg"
      },
      "source": [
        "# 6. Exercises"
      ]
    },
    {
      "cell_type": "markdown",
      "metadata": {
        "id": "Pm3Imf9UHLsg"
      },
      "source": [
        "## Q1. Define a logistic regression for bianry classifiction using PyTorch and train it using MNIST dataset."
      ]
    },
    {
      "cell_type": "code",
      "execution_count": 96,
      "metadata": {
        "id": "pxtcufIRHLsg"
      },
      "outputs": [],
      "source": [
        "class BinaryLogisticRegression(torch.nn.Module):\n",
        "    def __init__(self, input_dim):\n",
        "        super(BinaryLogisticRegression, self).__init__()\n",
        "        self.linear = torch.nn.Linear(input_dim, 1)\n",
        "\n",
        "    def forward(self, x):\n",
        "        x = x.view(x.shape[0], -1)\n",
        "        x = self.linear(x)\n",
        "        outputs = F.sigmoid(x)  # convert to probability score between zero and one.\n",
        "        outputs = outputs.squeeze(1)\n",
        "        return outputs"
      ]
    },
    {
      "cell_type": "code",
      "execution_count": 97,
      "metadata": {
        "colab": {
          "base_uri": "https://localhost:8080/"
        },
        "id": "c-aRGPtwHLsg",
        "outputId": "04a09821-5c90-4fa2-c89c-51a4c5844cae"
      },
      "outputs": [
        {
          "output_type": "stream",
          "name": "stdout",
          "text": [
            "Iteration: 100, loss is : 0.00882663857191801, Acc for this batch: 0.992\n",
            "Iteration: 200, loss is : 0.10022996366024017, Acc for this batch: 0.992\n",
            "Iteration: 300, loss is : 0.0024551795795559883, Acc for this batch: 1.000\n",
            "Iteration: 400, loss is : 0.005655363667756319, Acc for this batch: 1.000\n",
            "Iteration: 500, loss is : 0.0016432723496109247, Acc for this batch: 1.000\n",
            "Iteration: 600, loss is : 0.07394933700561523, Acc for this batch: 0.992\n",
            "Iteration: 700, loss is : 0.07184233516454697, Acc for this batch: 0.977\n",
            "Iteration: 800, loss is : 0.09050212800502777, Acc for this batch: 0.969\n",
            "Iteration: 900, loss is : 0.06916046142578125, Acc for this batch: 0.984\n"
          ]
        }
      ],
      "source": [
        "# If GPU is available. If GPU is not available in your machine, this will raise error.\n",
        "\n",
        "lr = BinaryLogisticRegression(input_dim=784)\n",
        "lr.cuda()  # move the model to GPU\n",
        "\n",
        "loss_function = torch.nn.BCELoss()\n",
        "\n",
        "optimizer = torch.optim.SGD(lr.parameters(),\n",
        "                            lr=0.1,\n",
        "                            weight_decay=0.0001,  # L2 regularization\n",
        "                            momentum=0.9)\n",
        "\n",
        "lr.train()  # set to training mode\n",
        "\n",
        "iters = 0   # total number of iterations\n",
        "for epoch in range(2):\n",
        "    for i, data in enumerate(loader):\n",
        "        iters += 1\n",
        "        image, label = data\n",
        "\n",
        "        image = image.cuda()  # move data to GPU\n",
        "        label = label.cuda()  # move data to GPU\n",
        "        label = (label==0).float()  # in this question, we predict if the digit is 0.\n",
        "\n",
        "        optimizer.zero_grad()  # reset gradient of parameters to be optimzied\n",
        "\n",
        "        output = lr(image)  # forward pass: generate prediction\n",
        "        new_loss = loss_function(output, label)  # forward pass: compute loss\n",
        "        new_loss.backward()  # backward pass: compute gradients\n",
        "        optimizer.step()  # update parameters\n",
        "\n",
        "        output_class = (output>0.5).float()\n",
        "        correct_samples = (output_class == label).sum().item()  # .item() covers a tensor to a number\n",
        "        acc = correct_samples / label.shape[0]\n",
        "\n",
        "        if iters % 100 == 0:\n",
        "            print(f\"Iteration: {iters}, loss is : {new_loss.item()}, Acc for this batch: {acc:.3f}\")"
      ]
    },
    {
      "cell_type": "markdown",
      "metadata": {
        "id": "_MiKnHUiHLsh"
      },
      "source": [
        "## Q2. Modify the evaluation codes to also compute Recall and Precision scores."
      ]
    },
    {
      "cell_type": "code",
      "execution_count": 108,
      "metadata": {
        "id": "Uh1VW8jqHLsh"
      },
      "outputs": [],
      "source": [
        "lr.eval()  # set the model to evaluation mode\n",
        "\n",
        "predictions = []\n",
        "labels = []\n",
        "\n",
        "with torch.no_grad(): # no need to compute gradient in testing\n",
        "    for i, data in enumerate(loader_test):\n",
        "        image, label = data\n",
        "        image, label = image.cuda(), label.cuda()\n",
        "        label = (label==0).float()\n",
        "\n",
        "        output = lr(image)  # generate prediction\n",
        "        output = (output>0.5).float()\n",
        "\n",
        "        predictions.append(output)\n",
        "        labels.append(label)\n",
        "predictions = torch.cat(predictions)\n",
        "labels = torch.cat(labels)"
      ]
    },
    {
      "cell_type": "code",
      "execution_count": 109,
      "metadata": {
        "id": "vkvutwb7HLsh"
      },
      "outputs": [],
      "source": [
        "tp = ((predictions==1) & (labels==1)).sum()\n",
        "fp = ((predictions==1) & (labels==0)).sum()\n",
        "tn = ((predictions==0) & (labels==0)).sum()\n",
        "fn = ((predictions==0) & (labels==1)).sum()"
      ]
    },
    {
      "cell_type": "code",
      "source": [
        "recall = tp / (tp + fn)\n",
        "precision = tp / (tp+fp)"
      ],
      "metadata": {
        "id": "F9b_SzWLKv8P"
      },
      "execution_count": 111,
      "outputs": []
    },
    {
      "cell_type": "code",
      "source": [
        "\n",
        "print(recall, precision)"
      ],
      "metadata": {
        "colab": {
          "base_uri": "https://localhost:8080/"
        },
        "id": "4aS-mf8hL2oR",
        "outputId": "1d7a9b78-bc18-4737-eb43-817082308649"
      },
      "execution_count": 112,
      "outputs": [
        {
          "output_type": "stream",
          "name": "stdout",
          "text": [
            "tensor(0.9510, device='cuda:0') tensor(0.9648, device='cuda:0')\n"
          ]
        }
      ]
    },
    {
      "cell_type": "markdown",
      "metadata": {
        "id": "Fnptbmq4HLsh"
      },
      "source": [
        "## Q3. Train an MLP with two hidden layers (hidden size=256) using FashionMNIST dataset. Compute the Accuracy score.\n",
        "\n",
        "https://pytorch.org/vision/stable/generated/torchvision.datasets.FashionMNIST.html"
      ]
    },
    {
      "cell_type": "code",
      "execution_count": 122,
      "metadata": {
        "id": "cTxIt_ScHLsh"
      },
      "outputs": [],
      "source": [
        "mnist_train = torchvision.datasets.FashionMNIST('./', transform=train_transform, train=True, download=True)\n",
        "loader_train = torch.utils.data.DataLoader(mnist, batch_size=128, shuffle=True)\n",
        "\n",
        "mnist_test = torchvision.datasets.FashionMNIST('./', transform=train_transform, train=False, download=True)\n",
        "loader_test = torch.utils.data.DataLoader(mnist_test, batch_size=128, shuffle=False)  # shuffle does not matter for test\n",
        "\n",
        "class MLP(torch.nn.Module):\n",
        "    def __init__(self, input_dim, output_dim):\n",
        "        super(MLP, self).__init__()\n",
        "        self.linear1 = torch.nn.Linear(input_dim, 256)\n",
        "        self.linear2 = torch.nn.Linear(256, 256)\n",
        "        self.linear3 = torch.nn.Linear(256, output_dim)\n",
        "\n",
        "    def forward(self, x):\n",
        "        x = x.view(x.shape[0], -1)\n",
        "        x = self.linear1(x)\n",
        "        x = F.relu(x)  # applies the nonlinear activation\n",
        "        x = F.relu(self.linear2(x))\n",
        "        outputs = self.linear3(x)\n",
        "        return outputs"
      ]
    },
    {
      "cell_type": "code",
      "execution_count": 123,
      "metadata": {
        "colab": {
          "base_uri": "https://localhost:8080/"
        },
        "id": "1DRyDovKHLsh",
        "outputId": "34b12bd8-7339-4948-ee69-880faca87c3e"
      },
      "outputs": [
        {
          "output_type": "stream",
          "name": "stdout",
          "text": [
            "Iteration: 100, loss is : 2.306692123413086, Acc for this batch: 0.102\n",
            "Iteration: 200, loss is : 2.3001785278320312, Acc for this batch: 0.094\n",
            "Iteration: 300, loss is : 2.3085522651672363, Acc for this batch: 0.086\n",
            "Iteration: 400, loss is : 2.3081557750701904, Acc for this batch: 0.109\n",
            "Iteration: 500, loss is : 2.308980941772461, Acc for this batch: 0.125\n",
            "Iteration: 600, loss is : 2.316230535507202, Acc for this batch: 0.125\n",
            "Iteration: 700, loss is : 2.312741756439209, Acc for this batch: 0.094\n",
            "Iteration: 800, loss is : 2.3083040714263916, Acc for this batch: 0.141\n",
            "Iteration: 900, loss is : 2.317862033843994, Acc for this batch: 0.102\n"
          ]
        }
      ],
      "source": [
        "mlp = MLP(784, 10)\n",
        "loss_function = torch.nn.CrossEntropyLoss()\n",
        "\n",
        "mlp.train()  # set to training mode\n",
        "\n",
        "iters = 0   # total number of iterations\n",
        "for epoch in range(2):\n",
        "    for i, data in enumerate(loader_train):\n",
        "        iters += 1\n",
        "        image, label = data\n",
        "        optimizer.zero_grad()  # reset gradient of parameters to be optimzied\n",
        "\n",
        "        output = mlp(image)  # forward pass: generate prediction\n",
        "        new_loss = loss_function(output, label)  # forward pass: compute loss\n",
        "        new_loss.backward()  # backward pass: compute gradients\n",
        "        optimizer.step()  # update parameters\n",
        "\n",
        "        output_class = output.argmax(dim=1)\n",
        "        correct_samples = (output_class == label).sum().item()\n",
        "        acc = correct_samples / label.shape[0]\n",
        "\n",
        "        if iters % 100 == 0:\n",
        "            print(f\"Iteration: {iters}, loss is : {new_loss.item()}, Acc for this batch: {acc:.3f}\")"
      ]
    },
    {
      "cell_type": "code",
      "source": [
        "mlp.eval()  # set the model to evaluation mode\n",
        "\n",
        "correct_samples = 0\n",
        "total_samples = 0\n",
        "\n",
        "with torch.no_grad(): # no need to compute gradient in testing\n",
        "    for i, data in enumerate(loader_test):\n",
        "        image, label = data\n",
        "\n",
        "        output = mlp(image)  # generate prediction\n",
        "\n",
        "        output_class = output.argmax(dim=1)\n",
        "        correct_samples += (output_class == label).sum()\n",
        "        total_samples += label.shape[0]\n",
        "    acc = correct_samples / total_samples\n",
        "\n",
        "    print(f\"Acc for test set: {acc:.3f}\")"
      ],
      "metadata": {
        "colab": {
          "base_uri": "https://localhost:8080/"
        },
        "id": "910kHdP9NdgY",
        "outputId": "d15ab622-e078-4121-b83f-8ac6672bebfb"
      },
      "execution_count": 125,
      "outputs": [
        {
          "output_type": "stream",
          "name": "stdout",
          "text": [
            "Acc for test set: 0.061\n"
          ]
        }
      ]
    },
    {
      "cell_type": "markdown",
      "source": [
        "The accuracy is low. You can increase the number of epochs to improve the accuracy."
      ],
      "metadata": {
        "id": "Ozk1a8xWN82z"
      }
    },
    {
      "cell_type": "code",
      "source": [],
      "metadata": {
        "id": "UWkNZ7cnOGeZ"
      },
      "execution_count": null,
      "outputs": []
    }
  ],
  "metadata": {
    "kernelspec": {
      "display_name": "Python 3",
      "name": "python3"
    },
    "language_info": {
      "codemirror_mode": {
        "name": "ipython",
        "version": 3
      },
      "file_extension": ".py",
      "mimetype": "text/x-python",
      "name": "python",
      "nbconvert_exporter": "python",
      "pygments_lexer": "ipython3",
      "version": "3.9.15"
    },
    "colab": {
      "provenance": [],
      "gpuType": "T4"
    },
    "accelerator": "GPU"
  },
  "nbformat": 4,
  "nbformat_minor": 0
}