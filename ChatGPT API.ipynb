{
 "cells": [
  {
   "cell_type": "code",
   "execution_count": null,
   "id": "612faa3b",
   "metadata": {},
   "outputs": [],
   "source": [
    "import os\n",
    "import requests"
   ]
  },
  {
   "cell_type": "code",
   "execution_count": null,
   "id": "2ce80cd2",
   "metadata": {},
   "outputs": [],
   "source": [
    "apiKey = os.environ.get('hkbu_chatgpt_api_key')\n",
    "basicUrl = \"https://genai.hkbu.edu.hk/general/rest\"\n",
    "# modelName = \"gpt-35-turbo-16k\"\n",
    "modelName = \"gpt-4-o-mini\"\n",
    "apiVersion = \"2024-05-01-preview\""
   ]
  },
  {
   "cell_type": "markdown",
   "id": "5c9c6c81",
   "metadata": {},
   "source": [
    "## Request and Response of ChatGPT API"
   ]
  },
  {
   "cell_type": "code",
   "execution_count": null,
   "id": "e3164097",
   "metadata": {},
   "outputs": [],
   "source": [
    "# requests\n",
    "\n",
    "headers = {'Content-Type': 'application/json', 'api-key': apiKey}\n",
    "\n",
    "conversation = [\n",
    "    {\"role\": \"user\", \"content\": \"Hi, how are you?\"}\n",
    "]\n",
    "body = {'messages': conversation}\n",
    "\n",
    "# get response\n",
    "url = basicUrl + \"/deployments/\" + modelName + \"/chat/completions/?api-version=\" + apiVersion\n",
    "response = requests.post(url, json=body, headers=headers)"
   ]
  },
  {
   "cell_type": "code",
   "execution_count": null,
   "id": "a1ca3a08",
   "metadata": {},
   "outputs": [],
   "source": [
    "response.json()"
   ]
  },
  {
   "cell_type": "code",
   "execution_count": null,
   "id": "92405414",
   "metadata": {},
   "outputs": [],
   "source": [
    "response.json()['choices'][0]['message']['content']"
   ]
  },
  {
   "cell_type": "markdown",
   "id": "7400c494",
   "metadata": {},
   "source": [
    "## Wrap it into a function form"
   ]
  },
  {
   "cell_type": "code",
   "execution_count": null,
   "id": "5b9c2dd1",
   "metadata": {},
   "outputs": [],
   "source": [
    "def submit(message):\n",
    "    conversation = [{\"role\": \"user\", \"content\": message}]\n",
    "    url = basicUrl + \"/deployments/\" + modelName + \"/chat/completions/?api-version=\" + apiVersion\n",
    "    headers = { 'Content-Type': 'application/json', 'api-key': apiKey }\n",
    "    payload = { 'messages': conversation }\n",
    "    response = requests.post(url, json=payload, headers=headers)\n",
    "\n",
    "    if response.status_code == 200:\n",
    "        data = response.json()\n",
    "        return data['choices'][0]['message']['content']\n",
    "    else:\n",
    "        return 'Error:', response"
   ]
  },
  {
   "cell_type": "markdown",
   "id": "c239e520",
   "metadata": {},
   "source": [
    "## An app to recommend emoji"
   ]
  },
  {
   "cell_type": "code",
   "execution_count": null,
   "id": "891458b8",
   "metadata": {},
   "outputs": [],
   "source": [
    "def emojify_message(sentence):\n",
    "    prompt=\"\"\"I will give you a message following three dots. Add an emoji after the sentence according to the sentiment of the sentence.\n",
    "    ...\n",
    "    {sentence}\n",
    "    \"\"\".format(sentence=sentence)\n",
    "    response = submit(prompt)\n",
    "    print(response)"
   ]
  },
  {
   "cell_type": "code",
   "execution_count": null,
   "id": "446d91fc",
   "metadata": {},
   "outputs": [],
   "source": [
    "emojify_message('Hi, I am enjoying the day')"
   ]
  },
  {
   "cell_type": "code",
   "execution_count": null,
   "id": "d154ac1e",
   "metadata": {},
   "outputs": [],
   "source": [
    "emojify_message('So sad my favorite ice cream was sold out.')"
   ]
  },
  {
   "cell_type": "code",
   "execution_count": null,
   "id": "051bd38c",
   "metadata": {},
   "outputs": [],
   "source": [
    "def xhs_stype_post(post):\n",
    "    prompt=\"\"\"I will give you a social media post following three dots. Transform it into Xiaohongshu style.\n",
    "    Output both English and Chinese version.\n",
    "    ...\n",
    "    {post}\n",
    "    \"\"\".format(post=post)\n",
    "    response = submit(prompt)\n",
    "    print(response)"
   ]
  },
  {
   "cell_type": "code",
   "execution_count": null,
   "id": "8c25fa37",
   "metadata": {},
   "outputs": [],
   "source": [
    "post = \"\"\"My favourite hiking route: The Peak\n",
    "The distance is around 3.5km and it takes around 1 hour. It is an easy route (difficulty level: 1 out of 5).\n",
    "This route is known as family and pet-friendly. It features the epic views of Victoria Harbour and the skyline.\n",
    "\"\"\"\n",
    "xhs_stype_post(post)"
   ]
  },
  {
   "cell_type": "markdown",
   "id": "a77a09c8",
   "metadata": {},
   "source": [
    "## An app coverting Python program to Java"
   ]
  },
  {
   "cell_type": "code",
   "execution_count": null,
   "id": "220572cc",
   "metadata": {},
   "outputs": [],
   "source": [
    "def python_to_java(source_fpath, target_fpath):\n",
    "    with open(source_fpath, 'r') as f:\n",
    "        codes = os.linesep.join(f.readlines())\n",
    "    prompt = \"\"\"I will give you some source codes written in Python after three dots, translate it into Java codes.\n",
    "    ...\n",
    "    {sentence}\n",
    "    \"\"\".format(sentence=codes)\n",
    "    message = submit(prompt)\n",
    "    with open(target_fpath, 'w') as f:\n",
    "        f.write(message)\n",
    "    print('Done')"
   ]
  },
  {
   "cell_type": "code",
   "execution_count": null,
   "id": "b2a8e030",
   "metadata": {},
   "outputs": [],
   "source": [
    "python_to_java('./print_time.py', './print_time.java')"
   ]
  },
  {
   "cell_type": "markdown",
   "id": "94c86c50",
   "metadata": {},
   "source": [
    "**You can also specifying the \"role\" of the conversation**. Read more about it in the official documentations."
   ]
  },
  {
   "cell_type": "markdown",
   "id": "e894299e",
   "metadata": {},
   "source": [
    "## An app to recommend recipe"
   ]
  },
  {
   "cell_type": "code",
   "execution_count": null,
   "id": "ae596041",
   "metadata": {},
   "outputs": [],
   "source": [
    "def recipe_recommendation(user_input):\n",
    "    # Define the conversation\n",
    "    conversation = [\n",
    "        {'role': 'system', 'content': 'You are a recipe recommendation chatbot. Please provide details about your dietary preferences and any specific ingredients you want to include or exclude.'},\n",
    "        {'role': 'user', 'content': user_input},\n",
    "    ]\n",
    "\n",
    "    # Generate a response from the assistant\n",
    "    def submit_conversation(conversation):\n",
    "        url = basicUrl + \"/deployments/\" + modelName + \"/chat/completions/?api-version=\" + apiVersion\n",
    "        headers = { 'Content-Type': 'application/json', 'api-key': apiKey }\n",
    "        payload = { 'messages': conversation }\n",
    "        response = requests.post(url, json=payload, headers=headers)\n",
    "\n",
    "        if response.status_code == 200:\n",
    "            data = response.json()\n",
    "            return data['choices'][0]['message']['content']\n",
    "        else:\n",
    "            return 'Error:', response\n",
    "\n",
    "    # Extract the generated reply from the response\n",
    "    assistant_reply = submit_conversation(conversation=conversation)\n",
    "\n",
    "    # Print the assistant's reply\n",
    "    print(\"Assistant:\", assistant_reply)\n"
   ]
  },
  {
   "cell_type": "code",
   "execution_count": null,
   "id": "9ecee669",
   "metadata": {},
   "outputs": [],
   "source": [
    "recipe_recommendation('I am looking for a healthy vegetarian recipe with chickpeas.')"
   ]
  },
  {
   "cell_type": "code",
   "execution_count": null,
   "id": "dd9065fd",
   "metadata": {},
   "outputs": [],
   "source": [
    "recipe_recommendation('I am looking for a Hong Kong style desert with mango.')"
   ]
  },
  {
   "cell_type": "markdown",
   "id": "e6970006",
   "metadata": {},
   "source": [
    "## An app for translation"
   ]
  },
  {
   "cell_type": "code",
   "execution_count": null,
   "id": "e95b7e05",
   "metadata": {},
   "outputs": [],
   "source": [
    "def interpreter(user_input):\n",
    "    # Define the conversation\n",
    "    conversation = [\n",
    "        {'role': 'system', 'content': 'You are an interpreter. Translate anything given to you to Chinese without any changes.'},\n",
    "        {'role': 'user', 'content': user_input},\n",
    "    ]\n",
    "\n",
    "    # Generate a response from the assistant\n",
    "    def submit_conversation(conversation):\n",
    "        url = basicUrl + \"/deployments/\" + modelName + \"/chat/completions/?api-version=\" + apiVersion\n",
    "        headers = { 'Content-Type': 'application/json', 'api-key': apiKey }\n",
    "        payload = { 'messages': conversation }\n",
    "        response = requests.post(url, json=payload, headers=headers)\n",
    "\n",
    "        if response.status_code == 200:\n",
    "            data = response.json()\n",
    "            return data['choices'][0]['message']['content']\n",
    "        else:\n",
    "            return 'Error:', response\n",
    "\n",
    "    # Extract the generated reply from the response\n",
    "    assistant_reply = submit_conversation(conversation=conversation)\n",
    "\n",
    "    # Print the assistant's reply\n",
    "    print(\"Assistant:\", assistant_reply)\n"
   ]
  },
  {
   "cell_type": "code",
   "execution_count": null,
   "id": "e42b109c",
   "metadata": {},
   "outputs": [],
   "source": [
    "interpreter('I am looking for a recipe of Mango Pomelo Sago.')"
   ]
  },
  {
   "cell_type": "code",
   "execution_count": null,
   "id": "ecd84b38",
   "metadata": {},
   "outputs": [],
   "source": [
    "interpreter('Correct my mistake in the sentence: I am in the classroom yesterday.')"
   ]
  },
  {
   "cell_type": "code",
   "execution_count": null,
   "id": "ac08547f",
   "metadata": {},
   "outputs": [],
   "source": []
  }
 ],
 "metadata": {
  "kernelspec": {
   "display_name": "Python 3 (ipykernel)",
   "language": "python",
   "name": "python3"
  },
  "language_info": {
   "codemirror_mode": {
    "name": "ipython",
    "version": 3
   },
   "file_extension": ".py",
   "mimetype": "text/x-python",
   "name": "python",
   "nbconvert_exporter": "python",
   "pygments_lexer": "ipython3",
   "version": "3.9.15"
  }
 },
 "nbformat": 4,
 "nbformat_minor": 5
}
